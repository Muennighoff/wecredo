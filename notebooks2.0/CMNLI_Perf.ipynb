{
  "nbformat": 4,
  "nbformat_minor": 0,
  "metadata": {
    "colab": {
      "name": "Performer_CMNLI.ipynb",
      "provenance": []
    },
    "kernelspec": {
      "name": "python3",
      "display_name": "Python 3"
    },
    "widgets": {
      "application/vnd.jupyter.widget-state+json": {
        "5d4205b4ecf64755875f8a3af81e4a6f": {
          "model_module": "@jupyter-widgets/controls",
          "model_name": "HBoxModel",
          "state": {
            "_view_name": "HBoxView",
            "_dom_classes": [],
            "_model_name": "HBoxModel",
            "_view_module": "@jupyter-widgets/controls",
            "_model_module_version": "1.5.0",
            "_view_count": null,
            "_view_module_version": "1.5.0",
            "box_style": "",
            "layout": "IPY_MODEL_d4f36f1c6f73406a9ac295f86ff6bc52",
            "_model_module": "@jupyter-widgets/controls",
            "children": [
              "IPY_MODEL_ca8b9ca4a1b34d3ab75958aa8c726411",
              "IPY_MODEL_a4eae0a177e946a695a997a1627bb20d"
            ]
          }
        },
        "d4f36f1c6f73406a9ac295f86ff6bc52": {
          "model_module": "@jupyter-widgets/base",
          "model_name": "LayoutModel",
          "state": {
            "_view_name": "LayoutView",
            "grid_template_rows": null,
            "right": null,
            "justify_content": null,
            "_view_module": "@jupyter-widgets/base",
            "overflow": null,
            "_model_module_version": "1.2.0",
            "_view_count": null,
            "flex_flow": null,
            "width": null,
            "min_width": null,
            "border": null,
            "align_items": null,
            "bottom": null,
            "_model_module": "@jupyter-widgets/base",
            "top": null,
            "grid_column": null,
            "overflow_y": null,
            "overflow_x": null,
            "grid_auto_flow": null,
            "grid_area": null,
            "grid_template_columns": null,
            "flex": null,
            "_model_name": "LayoutModel",
            "justify_items": null,
            "grid_row": null,
            "max_height": null,
            "align_content": null,
            "visibility": null,
            "align_self": null,
            "height": null,
            "min_height": null,
            "padding": null,
            "grid_auto_rows": null,
            "grid_gap": null,
            "max_width": null,
            "order": null,
            "_view_module_version": "1.2.0",
            "grid_template_areas": null,
            "object_position": null,
            "object_fit": null,
            "grid_auto_columns": null,
            "margin": null,
            "display": null,
            "left": null
          }
        },
        "ca8b9ca4a1b34d3ab75958aa8c726411": {
          "model_module": "@jupyter-widgets/controls",
          "model_name": "FloatProgressModel",
          "state": {
            "_view_name": "ProgressView",
            "style": "IPY_MODEL_02ecfeffd3894efdaded9a60254a1a10",
            "_dom_classes": [],
            "description": "100%",
            "_model_name": "FloatProgressModel",
            "bar_style": "success",
            "max": 97945,
            "_view_module": "@jupyter-widgets/controls",
            "_model_module_version": "1.5.0",
            "value": 97945,
            "_view_count": null,
            "_view_module_version": "1.5.0",
            "orientation": "horizontal",
            "min": 0,
            "description_tooltip": null,
            "_model_module": "@jupyter-widgets/controls",
            "layout": "IPY_MODEL_173e4d14708b4898bd11fe509364ec23"
          }
        },
        "a4eae0a177e946a695a997a1627bb20d": {
          "model_module": "@jupyter-widgets/controls",
          "model_name": "HTMLModel",
          "state": {
            "_view_name": "HTMLView",
            "style": "IPY_MODEL_d0e6f9434ed4426b968e5e671cd618de",
            "_dom_classes": [],
            "description": "",
            "_model_name": "HTMLModel",
            "placeholder": "​",
            "_view_module": "@jupyter-widgets/controls",
            "_model_module_version": "1.5.0",
            "value": " 97945/97945 [05:48&lt;00:00, 281.21ex/s]",
            "_view_count": null,
            "_view_module_version": "1.5.0",
            "description_tooltip": null,
            "_model_module": "@jupyter-widgets/controls",
            "layout": "IPY_MODEL_cc656ba495a3493db9753b2f1d6500cf"
          }
        },
        "02ecfeffd3894efdaded9a60254a1a10": {
          "model_module": "@jupyter-widgets/controls",
          "model_name": "ProgressStyleModel",
          "state": {
            "_view_name": "StyleView",
            "_model_name": "ProgressStyleModel",
            "description_width": "initial",
            "_view_module": "@jupyter-widgets/base",
            "_model_module_version": "1.5.0",
            "_view_count": null,
            "_view_module_version": "1.2.0",
            "bar_color": null,
            "_model_module": "@jupyter-widgets/controls"
          }
        },
        "173e4d14708b4898bd11fe509364ec23": {
          "model_module": "@jupyter-widgets/base",
          "model_name": "LayoutModel",
          "state": {
            "_view_name": "LayoutView",
            "grid_template_rows": null,
            "right": null,
            "justify_content": null,
            "_view_module": "@jupyter-widgets/base",
            "overflow": null,
            "_model_module_version": "1.2.0",
            "_view_count": null,
            "flex_flow": null,
            "width": null,
            "min_width": null,
            "border": null,
            "align_items": null,
            "bottom": null,
            "_model_module": "@jupyter-widgets/base",
            "top": null,
            "grid_column": null,
            "overflow_y": null,
            "overflow_x": null,
            "grid_auto_flow": null,
            "grid_area": null,
            "grid_template_columns": null,
            "flex": null,
            "_model_name": "LayoutModel",
            "justify_items": null,
            "grid_row": null,
            "max_height": null,
            "align_content": null,
            "visibility": null,
            "align_self": null,
            "height": null,
            "min_height": null,
            "padding": null,
            "grid_auto_rows": null,
            "grid_gap": null,
            "max_width": null,
            "order": null,
            "_view_module_version": "1.2.0",
            "grid_template_areas": null,
            "object_position": null,
            "object_fit": null,
            "grid_auto_columns": null,
            "margin": null,
            "display": null,
            "left": null
          }
        },
        "d0e6f9434ed4426b968e5e671cd618de": {
          "model_module": "@jupyter-widgets/controls",
          "model_name": "DescriptionStyleModel",
          "state": {
            "_view_name": "StyleView",
            "_model_name": "DescriptionStyleModel",
            "description_width": "",
            "_view_module": "@jupyter-widgets/base",
            "_model_module_version": "1.5.0",
            "_view_count": null,
            "_view_module_version": "1.2.0",
            "_model_module": "@jupyter-widgets/controls"
          }
        },
        "cc656ba495a3493db9753b2f1d6500cf": {
          "model_module": "@jupyter-widgets/base",
          "model_name": "LayoutModel",
          "state": {
            "_view_name": "LayoutView",
            "grid_template_rows": null,
            "right": null,
            "justify_content": null,
            "_view_module": "@jupyter-widgets/base",
            "overflow": null,
            "_model_module_version": "1.2.0",
            "_view_count": null,
            "flex_flow": null,
            "width": null,
            "min_width": null,
            "border": null,
            "align_items": null,
            "bottom": null,
            "_model_module": "@jupyter-widgets/base",
            "top": null,
            "grid_column": null,
            "overflow_y": null,
            "overflow_x": null,
            "grid_auto_flow": null,
            "grid_area": null,
            "grid_template_columns": null,
            "flex": null,
            "_model_name": "LayoutModel",
            "justify_items": null,
            "grid_row": null,
            "max_height": null,
            "align_content": null,
            "visibility": null,
            "align_self": null,
            "height": null,
            "min_height": null,
            "padding": null,
            "grid_auto_rows": null,
            "grid_gap": null,
            "max_width": null,
            "order": null,
            "_view_module_version": "1.2.0",
            "grid_template_areas": null,
            "object_position": null,
            "object_fit": null,
            "grid_auto_columns": null,
            "margin": null,
            "display": null,
            "left": null
          }
        },
        "b8b8f32de55940f0bc950e4488a8328b": {
          "model_module": "@jupyter-widgets/controls",
          "model_name": "HBoxModel",
          "state": {
            "_view_name": "HBoxView",
            "_dom_classes": [],
            "_model_name": "HBoxModel",
            "_view_module": "@jupyter-widgets/controls",
            "_model_module_version": "1.5.0",
            "_view_count": null,
            "_view_module_version": "1.5.0",
            "box_style": "",
            "layout": "IPY_MODEL_76b5bcc39493422889244388d94cad69",
            "_model_module": "@jupyter-widgets/controls",
            "children": [
              "IPY_MODEL_2abb778b830f4530992ee62dd4598728",
              "IPY_MODEL_3dec2029948447a89be2ae517aa335dc"
            ]
          }
        },
        "76b5bcc39493422889244388d94cad69": {
          "model_module": "@jupyter-widgets/base",
          "model_name": "LayoutModel",
          "state": {
            "_view_name": "LayoutView",
            "grid_template_rows": null,
            "right": null,
            "justify_content": null,
            "_view_module": "@jupyter-widgets/base",
            "overflow": null,
            "_model_module_version": "1.2.0",
            "_view_count": null,
            "flex_flow": null,
            "width": null,
            "min_width": null,
            "border": null,
            "align_items": null,
            "bottom": null,
            "_model_module": "@jupyter-widgets/base",
            "top": null,
            "grid_column": null,
            "overflow_y": null,
            "overflow_x": null,
            "grid_auto_flow": null,
            "grid_area": null,
            "grid_template_columns": null,
            "flex": null,
            "_model_name": "LayoutModel",
            "justify_items": null,
            "grid_row": null,
            "max_height": null,
            "align_content": null,
            "visibility": null,
            "align_self": null,
            "height": null,
            "min_height": null,
            "padding": null,
            "grid_auto_rows": null,
            "grid_gap": null,
            "max_width": null,
            "order": null,
            "_view_module_version": "1.2.0",
            "grid_template_areas": null,
            "object_position": null,
            "object_fit": null,
            "grid_auto_columns": null,
            "margin": null,
            "display": null,
            "left": null
          }
        },
        "2abb778b830f4530992ee62dd4598728": {
          "model_module": "@jupyter-widgets/controls",
          "model_name": "FloatProgressModel",
          "state": {
            "_view_name": "ProgressView",
            "style": "IPY_MODEL_cfcaf9ab92b94b60ae7675ca8c5a003d",
            "_dom_classes": [],
            "description": "100%",
            "_model_name": "FloatProgressModel",
            "bar_style": "success",
            "max": 3106,
            "_view_module": "@jupyter-widgets/controls",
            "_model_module_version": "1.5.0",
            "value": 3106,
            "_view_count": null,
            "_view_module_version": "1.5.0",
            "orientation": "horizontal",
            "min": 0,
            "description_tooltip": null,
            "_model_module": "@jupyter-widgets/controls",
            "layout": "IPY_MODEL_ef59397fd2b849e1b50cde7909a1bdec"
          }
        },
        "3dec2029948447a89be2ae517aa335dc": {
          "model_module": "@jupyter-widgets/controls",
          "model_name": "HTMLModel",
          "state": {
            "_view_name": "HTMLView",
            "style": "IPY_MODEL_5273e1b02d6b4720a8a16a2c68ea1d3c",
            "_dom_classes": [],
            "description": "",
            "_model_name": "HTMLModel",
            "placeholder": "​",
            "_view_module": "@jupyter-widgets/controls",
            "_model_module_version": "1.5.0",
            "value": " 3106/3106 [05:01&lt;00:00, 10.30ex/s]",
            "_view_count": null,
            "_view_module_version": "1.5.0",
            "description_tooltip": null,
            "_model_module": "@jupyter-widgets/controls",
            "layout": "IPY_MODEL_17a0b6907a75440eb7450e8012e4c028"
          }
        },
        "cfcaf9ab92b94b60ae7675ca8c5a003d": {
          "model_module": "@jupyter-widgets/controls",
          "model_name": "ProgressStyleModel",
          "state": {
            "_view_name": "StyleView",
            "_model_name": "ProgressStyleModel",
            "description_width": "initial",
            "_view_module": "@jupyter-widgets/base",
            "_model_module_version": "1.5.0",
            "_view_count": null,
            "_view_module_version": "1.2.0",
            "bar_color": null,
            "_model_module": "@jupyter-widgets/controls"
          }
        },
        "ef59397fd2b849e1b50cde7909a1bdec": {
          "model_module": "@jupyter-widgets/base",
          "model_name": "LayoutModel",
          "state": {
            "_view_name": "LayoutView",
            "grid_template_rows": null,
            "right": null,
            "justify_content": null,
            "_view_module": "@jupyter-widgets/base",
            "overflow": null,
            "_model_module_version": "1.2.0",
            "_view_count": null,
            "flex_flow": null,
            "width": null,
            "min_width": null,
            "border": null,
            "align_items": null,
            "bottom": null,
            "_model_module": "@jupyter-widgets/base",
            "top": null,
            "grid_column": null,
            "overflow_y": null,
            "overflow_x": null,
            "grid_auto_flow": null,
            "grid_area": null,
            "grid_template_columns": null,
            "flex": null,
            "_model_name": "LayoutModel",
            "justify_items": null,
            "grid_row": null,
            "max_height": null,
            "align_content": null,
            "visibility": null,
            "align_self": null,
            "height": null,
            "min_height": null,
            "padding": null,
            "grid_auto_rows": null,
            "grid_gap": null,
            "max_width": null,
            "order": null,
            "_view_module_version": "1.2.0",
            "grid_template_areas": null,
            "object_position": null,
            "object_fit": null,
            "grid_auto_columns": null,
            "margin": null,
            "display": null,
            "left": null
          }
        },
        "5273e1b02d6b4720a8a16a2c68ea1d3c": {
          "model_module": "@jupyter-widgets/controls",
          "model_name": "DescriptionStyleModel",
          "state": {
            "_view_name": "StyleView",
            "_model_name": "DescriptionStyleModel",
            "description_width": "",
            "_view_module": "@jupyter-widgets/base",
            "_model_module_version": "1.5.0",
            "_view_count": null,
            "_view_module_version": "1.2.0",
            "_model_module": "@jupyter-widgets/controls"
          }
        },
        "17a0b6907a75440eb7450e8012e4c028": {
          "model_module": "@jupyter-widgets/base",
          "model_name": "LayoutModel",
          "state": {
            "_view_name": "LayoutView",
            "grid_template_rows": null,
            "right": null,
            "justify_content": null,
            "_view_module": "@jupyter-widgets/base",
            "overflow": null,
            "_model_module_version": "1.2.0",
            "_view_count": null,
            "flex_flow": null,
            "width": null,
            "min_width": null,
            "border": null,
            "align_items": null,
            "bottom": null,
            "_model_module": "@jupyter-widgets/base",
            "top": null,
            "grid_column": null,
            "overflow_y": null,
            "overflow_x": null,
            "grid_auto_flow": null,
            "grid_area": null,
            "grid_template_columns": null,
            "flex": null,
            "_model_name": "LayoutModel",
            "justify_items": null,
            "grid_row": null,
            "max_height": null,
            "align_content": null,
            "visibility": null,
            "align_self": null,
            "height": null,
            "min_height": null,
            "padding": null,
            "grid_auto_rows": null,
            "grid_gap": null,
            "max_width": null,
            "order": null,
            "_view_module_version": "1.2.0",
            "grid_template_areas": null,
            "object_position": null,
            "object_fit": null,
            "grid_auto_columns": null,
            "margin": null,
            "display": null,
            "left": null
          }
        },
        "170d736c7ecf4876a918b1f38156d704": {
          "model_module": "@jupyter-widgets/controls",
          "model_name": "HBoxModel",
          "state": {
            "_view_name": "HBoxView",
            "_dom_classes": [],
            "_model_name": "HBoxModel",
            "_view_module": "@jupyter-widgets/controls",
            "_model_module_version": "1.5.0",
            "_view_count": null,
            "_view_module_version": "1.5.0",
            "box_style": "",
            "layout": "IPY_MODEL_646ac438d0e74f33aaa01af80ecd299e",
            "_model_module": "@jupyter-widgets/controls",
            "children": [
              "IPY_MODEL_d7cb48b242734128a024c3cb271bed59",
              "IPY_MODEL_f69c416612d44c58a98f66be34524212"
            ]
          }
        },
        "646ac438d0e74f33aaa01af80ecd299e": {
          "model_module": "@jupyter-widgets/base",
          "model_name": "LayoutModel",
          "state": {
            "_view_name": "LayoutView",
            "grid_template_rows": null,
            "right": null,
            "justify_content": null,
            "_view_module": "@jupyter-widgets/base",
            "overflow": null,
            "_model_module_version": "1.2.0",
            "_view_count": null,
            "flex_flow": null,
            "width": null,
            "min_width": null,
            "border": null,
            "align_items": null,
            "bottom": null,
            "_model_module": "@jupyter-widgets/base",
            "top": null,
            "grid_column": null,
            "overflow_y": null,
            "overflow_x": null,
            "grid_auto_flow": null,
            "grid_area": null,
            "grid_template_columns": null,
            "flex": null,
            "_model_name": "LayoutModel",
            "justify_items": null,
            "grid_row": null,
            "max_height": null,
            "align_content": null,
            "visibility": null,
            "align_self": null,
            "height": null,
            "min_height": null,
            "padding": null,
            "grid_auto_rows": null,
            "grid_gap": null,
            "max_width": null,
            "order": null,
            "_view_module_version": "1.2.0",
            "grid_template_areas": null,
            "object_position": null,
            "object_fit": null,
            "grid_auto_columns": null,
            "margin": null,
            "display": null,
            "left": null
          }
        },
        "d7cb48b242734128a024c3cb271bed59": {
          "model_module": "@jupyter-widgets/controls",
          "model_name": "FloatProgressModel",
          "state": {
            "_view_name": "ProgressView",
            "style": "IPY_MODEL_5aea6fc8b6e14f08af5877689d2efd51",
            "_dom_classes": [],
            "description": "100%",
            "_model_name": "FloatProgressModel",
            "bar_style": "success",
            "max": 4,
            "_view_module": "@jupyter-widgets/controls",
            "_model_module_version": "1.5.0",
            "value": 4,
            "_view_count": null,
            "_view_module_version": "1.5.0",
            "orientation": "horizontal",
            "min": 0,
            "description_tooltip": null,
            "_model_module": "@jupyter-widgets/controls",
            "layout": "IPY_MODEL_18fa46e567254e15bbf1dcb92a32f2b6"
          }
        },
        "f69c416612d44c58a98f66be34524212": {
          "model_module": "@jupyter-widgets/controls",
          "model_name": "HTMLModel",
          "state": {
            "_view_name": "HTMLView",
            "style": "IPY_MODEL_7a5a8500a0e54a028cee8355f83043df",
            "_dom_classes": [],
            "description": "",
            "_model_name": "HTMLModel",
            "placeholder": "​",
            "_view_module": "@jupyter-widgets/controls",
            "_model_module_version": "1.5.0",
            "value": " 4/4 [05:00&lt;00:00, 75.03s/ba]",
            "_view_count": null,
            "_view_module_version": "1.5.0",
            "description_tooltip": null,
            "_model_module": "@jupyter-widgets/controls",
            "layout": "IPY_MODEL_52ef6038ce2f477290c647461a2e66b4"
          }
        },
        "5aea6fc8b6e14f08af5877689d2efd51": {
          "model_module": "@jupyter-widgets/controls",
          "model_name": "ProgressStyleModel",
          "state": {
            "_view_name": "StyleView",
            "_model_name": "ProgressStyleModel",
            "description_width": "initial",
            "_view_module": "@jupyter-widgets/base",
            "_model_module_version": "1.5.0",
            "_view_count": null,
            "_view_module_version": "1.2.0",
            "bar_color": null,
            "_model_module": "@jupyter-widgets/controls"
          }
        },
        "18fa46e567254e15bbf1dcb92a32f2b6": {
          "model_module": "@jupyter-widgets/base",
          "model_name": "LayoutModel",
          "state": {
            "_view_name": "LayoutView",
            "grid_template_rows": null,
            "right": null,
            "justify_content": null,
            "_view_module": "@jupyter-widgets/base",
            "overflow": null,
            "_model_module_version": "1.2.0",
            "_view_count": null,
            "flex_flow": null,
            "width": null,
            "min_width": null,
            "border": null,
            "align_items": null,
            "bottom": null,
            "_model_module": "@jupyter-widgets/base",
            "top": null,
            "grid_column": null,
            "overflow_y": null,
            "overflow_x": null,
            "grid_auto_flow": null,
            "grid_area": null,
            "grid_template_columns": null,
            "flex": null,
            "_model_name": "LayoutModel",
            "justify_items": null,
            "grid_row": null,
            "max_height": null,
            "align_content": null,
            "visibility": null,
            "align_self": null,
            "height": null,
            "min_height": null,
            "padding": null,
            "grid_auto_rows": null,
            "grid_gap": null,
            "max_width": null,
            "order": null,
            "_view_module_version": "1.2.0",
            "grid_template_areas": null,
            "object_position": null,
            "object_fit": null,
            "grid_auto_columns": null,
            "margin": null,
            "display": null,
            "left": null
          }
        },
        "7a5a8500a0e54a028cee8355f83043df": {
          "model_module": "@jupyter-widgets/controls",
          "model_name": "DescriptionStyleModel",
          "state": {
            "_view_name": "StyleView",
            "_model_name": "DescriptionStyleModel",
            "description_width": "",
            "_view_module": "@jupyter-widgets/base",
            "_model_module_version": "1.5.0",
            "_view_count": null,
            "_view_module_version": "1.2.0",
            "_model_module": "@jupyter-widgets/controls"
          }
        },
        "52ef6038ce2f477290c647461a2e66b4": {
          "model_module": "@jupyter-widgets/base",
          "model_name": "LayoutModel",
          "state": {
            "_view_name": "LayoutView",
            "grid_template_rows": null,
            "right": null,
            "justify_content": null,
            "_view_module": "@jupyter-widgets/base",
            "overflow": null,
            "_model_module_version": "1.2.0",
            "_view_count": null,
            "flex_flow": null,
            "width": null,
            "min_width": null,
            "border": null,
            "align_items": null,
            "bottom": null,
            "_model_module": "@jupyter-widgets/base",
            "top": null,
            "grid_column": null,
            "overflow_y": null,
            "overflow_x": null,
            "grid_auto_flow": null,
            "grid_area": null,
            "grid_template_columns": null,
            "flex": null,
            "_model_name": "LayoutModel",
            "justify_items": null,
            "grid_row": null,
            "max_height": null,
            "align_content": null,
            "visibility": null,
            "align_self": null,
            "height": null,
            "min_height": null,
            "padding": null,
            "grid_auto_rows": null,
            "grid_gap": null,
            "max_width": null,
            "order": null,
            "_view_module_version": "1.2.0",
            "grid_template_areas": null,
            "object_position": null,
            "object_fit": null,
            "grid_auto_columns": null,
            "margin": null,
            "display": null,
            "left": null
          }
        },
        "3567fb69357948b0b7aab3a10065f0ac": {
          "model_module": "@jupyter-widgets/controls",
          "model_name": "HBoxModel",
          "state": {
            "_view_name": "HBoxView",
            "_dom_classes": [],
            "_model_name": "HBoxModel",
            "_view_module": "@jupyter-widgets/controls",
            "_model_module_version": "1.5.0",
            "_view_count": null,
            "_view_module_version": "1.5.0",
            "box_style": "",
            "layout": "IPY_MODEL_e3e019cf60fd4f3b97fdbc6f40bad226",
            "_model_module": "@jupyter-widgets/controls",
            "children": [
              "IPY_MODEL_3f2be418541848618c70a459a4ffdb57",
              "IPY_MODEL_4cbefddce5b84447b70b4169f6491b35"
            ]
          }
        },
        "e3e019cf60fd4f3b97fdbc6f40bad226": {
          "model_module": "@jupyter-widgets/base",
          "model_name": "LayoutModel",
          "state": {
            "_view_name": "LayoutView",
            "grid_template_rows": null,
            "right": null,
            "justify_content": null,
            "_view_module": "@jupyter-widgets/base",
            "overflow": null,
            "_model_module_version": "1.2.0",
            "_view_count": null,
            "flex_flow": null,
            "width": null,
            "min_width": null,
            "border": null,
            "align_items": null,
            "bottom": null,
            "_model_module": "@jupyter-widgets/base",
            "top": null,
            "grid_column": null,
            "overflow_y": null,
            "overflow_x": null,
            "grid_auto_flow": null,
            "grid_area": null,
            "grid_template_columns": null,
            "flex": null,
            "_model_name": "LayoutModel",
            "justify_items": null,
            "grid_row": null,
            "max_height": null,
            "align_content": null,
            "visibility": null,
            "align_self": null,
            "height": null,
            "min_height": null,
            "padding": null,
            "grid_auto_rows": null,
            "grid_gap": null,
            "max_width": null,
            "order": null,
            "_view_module_version": "1.2.0",
            "grid_template_areas": null,
            "object_position": null,
            "object_fit": null,
            "grid_auto_columns": null,
            "margin": null,
            "display": null,
            "left": null
          }
        },
        "3f2be418541848618c70a459a4ffdb57": {
          "model_module": "@jupyter-widgets/controls",
          "model_name": "FloatProgressModel",
          "state": {
            "_view_name": "ProgressView",
            "style": "IPY_MODEL_c1c7f1ba4b114ae1a20fb6906f2bc996",
            "_dom_classes": [],
            "description": "100%",
            "_model_name": "FloatProgressModel",
            "bar_style": "success",
            "max": 97945,
            "_view_module": "@jupyter-widgets/controls",
            "_model_module_version": "1.5.0",
            "value": 97945,
            "_view_count": null,
            "_view_module_version": "1.5.0",
            "orientation": "horizontal",
            "min": 0,
            "description_tooltip": null,
            "_model_module": "@jupyter-widgets/controls",
            "layout": "IPY_MODEL_368befdad9a24f28a09182b521113236"
          }
        },
        "4cbefddce5b84447b70b4169f6491b35": {
          "model_module": "@jupyter-widgets/controls",
          "model_name": "HTMLModel",
          "state": {
            "_view_name": "HTMLView",
            "style": "IPY_MODEL_d38acbe6b06f4669a3d8ce324fcf43fa",
            "_dom_classes": [],
            "description": "",
            "_model_name": "HTMLModel",
            "placeholder": "​",
            "_view_module": "@jupyter-widgets/controls",
            "_model_module_version": "1.5.0",
            "value": " 97945/97945 [06:10&lt;00:00, 264.11ex/s]",
            "_view_count": null,
            "_view_module_version": "1.5.0",
            "description_tooltip": null,
            "_model_module": "@jupyter-widgets/controls",
            "layout": "IPY_MODEL_2c8080dd85d042719939c73cdeca2d05"
          }
        },
        "c1c7f1ba4b114ae1a20fb6906f2bc996": {
          "model_module": "@jupyter-widgets/controls",
          "model_name": "ProgressStyleModel",
          "state": {
            "_view_name": "StyleView",
            "_model_name": "ProgressStyleModel",
            "description_width": "initial",
            "_view_module": "@jupyter-widgets/base",
            "_model_module_version": "1.5.0",
            "_view_count": null,
            "_view_module_version": "1.2.0",
            "bar_color": null,
            "_model_module": "@jupyter-widgets/controls"
          }
        },
        "368befdad9a24f28a09182b521113236": {
          "model_module": "@jupyter-widgets/base",
          "model_name": "LayoutModel",
          "state": {
            "_view_name": "LayoutView",
            "grid_template_rows": null,
            "right": null,
            "justify_content": null,
            "_view_module": "@jupyter-widgets/base",
            "overflow": null,
            "_model_module_version": "1.2.0",
            "_view_count": null,
            "flex_flow": null,
            "width": null,
            "min_width": null,
            "border": null,
            "align_items": null,
            "bottom": null,
            "_model_module": "@jupyter-widgets/base",
            "top": null,
            "grid_column": null,
            "overflow_y": null,
            "overflow_x": null,
            "grid_auto_flow": null,
            "grid_area": null,
            "grid_template_columns": null,
            "flex": null,
            "_model_name": "LayoutModel",
            "justify_items": null,
            "grid_row": null,
            "max_height": null,
            "align_content": null,
            "visibility": null,
            "align_self": null,
            "height": null,
            "min_height": null,
            "padding": null,
            "grid_auto_rows": null,
            "grid_gap": null,
            "max_width": null,
            "order": null,
            "_view_module_version": "1.2.0",
            "grid_template_areas": null,
            "object_position": null,
            "object_fit": null,
            "grid_auto_columns": null,
            "margin": null,
            "display": null,
            "left": null
          }
        },
        "d38acbe6b06f4669a3d8ce324fcf43fa": {
          "model_module": "@jupyter-widgets/controls",
          "model_name": "DescriptionStyleModel",
          "state": {
            "_view_name": "StyleView",
            "_model_name": "DescriptionStyleModel",
            "description_width": "",
            "_view_module": "@jupyter-widgets/base",
            "_model_module_version": "1.5.0",
            "_view_count": null,
            "_view_module_version": "1.2.0",
            "_model_module": "@jupyter-widgets/controls"
          }
        },
        "2c8080dd85d042719939c73cdeca2d05": {
          "model_module": "@jupyter-widgets/base",
          "model_name": "LayoutModel",
          "state": {
            "_view_name": "LayoutView",
            "grid_template_rows": null,
            "right": null,
            "justify_content": null,
            "_view_module": "@jupyter-widgets/base",
            "overflow": null,
            "_model_module_version": "1.2.0",
            "_view_count": null,
            "flex_flow": null,
            "width": null,
            "min_width": null,
            "border": null,
            "align_items": null,
            "bottom": null,
            "_model_module": "@jupyter-widgets/base",
            "top": null,
            "grid_column": null,
            "overflow_y": null,
            "overflow_x": null,
            "grid_auto_flow": null,
            "grid_area": null,
            "grid_template_columns": null,
            "flex": null,
            "_model_name": "LayoutModel",
            "justify_items": null,
            "grid_row": null,
            "max_height": null,
            "align_content": null,
            "visibility": null,
            "align_self": null,
            "height": null,
            "min_height": null,
            "padding": null,
            "grid_auto_rows": null,
            "grid_gap": null,
            "max_width": null,
            "order": null,
            "_view_module_version": "1.2.0",
            "grid_template_areas": null,
            "object_position": null,
            "object_fit": null,
            "grid_auto_columns": null,
            "margin": null,
            "display": null,
            "left": null
          }
        },
        "5c871053d4bf406bae2c4c6a5946fbbb": {
          "model_module": "@jupyter-widgets/controls",
          "model_name": "HBoxModel",
          "state": {
            "_view_name": "HBoxView",
            "_dom_classes": [],
            "_model_name": "HBoxModel",
            "_view_module": "@jupyter-widgets/controls",
            "_model_module_version": "1.5.0",
            "_view_count": null,
            "_view_module_version": "1.5.0",
            "box_style": "",
            "layout": "IPY_MODEL_0f2ec5da7aec4f7bb55c7937fafca7a5",
            "_model_module": "@jupyter-widgets/controls",
            "children": [
              "IPY_MODEL_cbf775d37c0e44749f6656c155fe8617",
              "IPY_MODEL_b11b23bf83e54c1a8956c94d82059d85"
            ]
          }
        },
        "0f2ec5da7aec4f7bb55c7937fafca7a5": {
          "model_module": "@jupyter-widgets/base",
          "model_name": "LayoutModel",
          "state": {
            "_view_name": "LayoutView",
            "grid_template_rows": null,
            "right": null,
            "justify_content": null,
            "_view_module": "@jupyter-widgets/base",
            "overflow": null,
            "_model_module_version": "1.2.0",
            "_view_count": null,
            "flex_flow": null,
            "width": null,
            "min_width": null,
            "border": null,
            "align_items": null,
            "bottom": null,
            "_model_module": "@jupyter-widgets/base",
            "top": null,
            "grid_column": null,
            "overflow_y": null,
            "overflow_x": null,
            "grid_auto_flow": null,
            "grid_area": null,
            "grid_template_columns": null,
            "flex": null,
            "_model_name": "LayoutModel",
            "justify_items": null,
            "grid_row": null,
            "max_height": null,
            "align_content": null,
            "visibility": null,
            "align_self": null,
            "height": null,
            "min_height": null,
            "padding": null,
            "grid_auto_rows": null,
            "grid_gap": null,
            "max_width": null,
            "order": null,
            "_view_module_version": "1.2.0",
            "grid_template_areas": null,
            "object_position": null,
            "object_fit": null,
            "grid_auto_columns": null,
            "margin": null,
            "display": null,
            "left": null
          }
        },
        "cbf775d37c0e44749f6656c155fe8617": {
          "model_module": "@jupyter-widgets/controls",
          "model_name": "FloatProgressModel",
          "state": {
            "_view_name": "ProgressView",
            "style": "IPY_MODEL_5c387265dbee464e9e3e82d1469d6752",
            "_dom_classes": [],
            "description": "100%",
            "_model_name": "FloatProgressModel",
            "bar_style": "success",
            "max": 3106,
            "_view_module": "@jupyter-widgets/controls",
            "_model_module_version": "1.5.0",
            "value": 3106,
            "_view_count": null,
            "_view_module_version": "1.5.0",
            "orientation": "horizontal",
            "min": 0,
            "description_tooltip": null,
            "_model_module": "@jupyter-widgets/controls",
            "layout": "IPY_MODEL_c99bce5aa2b14f56b889ce0b5fa534f8"
          }
        },
        "b11b23bf83e54c1a8956c94d82059d85": {
          "model_module": "@jupyter-widgets/controls",
          "model_name": "HTMLModel",
          "state": {
            "_view_name": "HTMLView",
            "style": "IPY_MODEL_6cfe41a145c841ceaa749180a0cd2f81",
            "_dom_classes": [],
            "description": "",
            "_model_name": "HTMLModel",
            "placeholder": "​",
            "_view_module": "@jupyter-widgets/controls",
            "_model_module_version": "1.5.0",
            "value": " 3106/3106 [05:10&lt;00:00,  9.99ex/s]",
            "_view_count": null,
            "_view_module_version": "1.5.0",
            "description_tooltip": null,
            "_model_module": "@jupyter-widgets/controls",
            "layout": "IPY_MODEL_6eb86b67902941e7bbeb14123276fabc"
          }
        },
        "5c387265dbee464e9e3e82d1469d6752": {
          "model_module": "@jupyter-widgets/controls",
          "model_name": "ProgressStyleModel",
          "state": {
            "_view_name": "StyleView",
            "_model_name": "ProgressStyleModel",
            "description_width": "initial",
            "_view_module": "@jupyter-widgets/base",
            "_model_module_version": "1.5.0",
            "_view_count": null,
            "_view_module_version": "1.2.0",
            "bar_color": null,
            "_model_module": "@jupyter-widgets/controls"
          }
        },
        "c99bce5aa2b14f56b889ce0b5fa534f8": {
          "model_module": "@jupyter-widgets/base",
          "model_name": "LayoutModel",
          "state": {
            "_view_name": "LayoutView",
            "grid_template_rows": null,
            "right": null,
            "justify_content": null,
            "_view_module": "@jupyter-widgets/base",
            "overflow": null,
            "_model_module_version": "1.2.0",
            "_view_count": null,
            "flex_flow": null,
            "width": null,
            "min_width": null,
            "border": null,
            "align_items": null,
            "bottom": null,
            "_model_module": "@jupyter-widgets/base",
            "top": null,
            "grid_column": null,
            "overflow_y": null,
            "overflow_x": null,
            "grid_auto_flow": null,
            "grid_area": null,
            "grid_template_columns": null,
            "flex": null,
            "_model_name": "LayoutModel",
            "justify_items": null,
            "grid_row": null,
            "max_height": null,
            "align_content": null,
            "visibility": null,
            "align_self": null,
            "height": null,
            "min_height": null,
            "padding": null,
            "grid_auto_rows": null,
            "grid_gap": null,
            "max_width": null,
            "order": null,
            "_view_module_version": "1.2.0",
            "grid_template_areas": null,
            "object_position": null,
            "object_fit": null,
            "grid_auto_columns": null,
            "margin": null,
            "display": null,
            "left": null
          }
        },
        "6cfe41a145c841ceaa749180a0cd2f81": {
          "model_module": "@jupyter-widgets/controls",
          "model_name": "DescriptionStyleModel",
          "state": {
            "_view_name": "StyleView",
            "_model_name": "DescriptionStyleModel",
            "description_width": "",
            "_view_module": "@jupyter-widgets/base",
            "_model_module_version": "1.5.0",
            "_view_count": null,
            "_view_module_version": "1.2.0",
            "_model_module": "@jupyter-widgets/controls"
          }
        },
        "6eb86b67902941e7bbeb14123276fabc": {
          "model_module": "@jupyter-widgets/base",
          "model_name": "LayoutModel",
          "state": {
            "_view_name": "LayoutView",
            "grid_template_rows": null,
            "right": null,
            "justify_content": null,
            "_view_module": "@jupyter-widgets/base",
            "overflow": null,
            "_model_module_version": "1.2.0",
            "_view_count": null,
            "flex_flow": null,
            "width": null,
            "min_width": null,
            "border": null,
            "align_items": null,
            "bottom": null,
            "_model_module": "@jupyter-widgets/base",
            "top": null,
            "grid_column": null,
            "overflow_y": null,
            "overflow_x": null,
            "grid_auto_flow": null,
            "grid_area": null,
            "grid_template_columns": null,
            "flex": null,
            "_model_name": "LayoutModel",
            "justify_items": null,
            "grid_row": null,
            "max_height": null,
            "align_content": null,
            "visibility": null,
            "align_self": null,
            "height": null,
            "min_height": null,
            "padding": null,
            "grid_auto_rows": null,
            "grid_gap": null,
            "max_width": null,
            "order": null,
            "_view_module_version": "1.2.0",
            "grid_template_areas": null,
            "object_position": null,
            "object_fit": null,
            "grid_auto_columns": null,
            "margin": null,
            "display": null,
            "left": null
          }
        },
        "f4ad6ed40fd84452a4a2fdcbd824c614": {
          "model_module": "@jupyter-widgets/controls",
          "model_name": "HBoxModel",
          "state": {
            "_view_name": "HBoxView",
            "_dom_classes": [],
            "_model_name": "HBoxModel",
            "_view_module": "@jupyter-widgets/controls",
            "_model_module_version": "1.5.0",
            "_view_count": null,
            "_view_module_version": "1.5.0",
            "box_style": "",
            "layout": "IPY_MODEL_c13f12a7c5bc4107865e67dd27b24a13",
            "_model_module": "@jupyter-widgets/controls",
            "children": [
              "IPY_MODEL_74df644c207f4380b53b61ffb0e9bebf",
              "IPY_MODEL_58580f569f7e441d86e3621106542914"
            ]
          }
        },
        "c13f12a7c5bc4107865e67dd27b24a13": {
          "model_module": "@jupyter-widgets/base",
          "model_name": "LayoutModel",
          "state": {
            "_view_name": "LayoutView",
            "grid_template_rows": null,
            "right": null,
            "justify_content": null,
            "_view_module": "@jupyter-widgets/base",
            "overflow": null,
            "_model_module_version": "1.2.0",
            "_view_count": null,
            "flex_flow": null,
            "width": null,
            "min_width": null,
            "border": null,
            "align_items": null,
            "bottom": null,
            "_model_module": "@jupyter-widgets/base",
            "top": null,
            "grid_column": null,
            "overflow_y": null,
            "overflow_x": null,
            "grid_auto_flow": null,
            "grid_area": null,
            "grid_template_columns": null,
            "flex": null,
            "_model_name": "LayoutModel",
            "justify_items": null,
            "grid_row": null,
            "max_height": null,
            "align_content": null,
            "visibility": null,
            "align_self": null,
            "height": null,
            "min_height": null,
            "padding": null,
            "grid_auto_rows": null,
            "grid_gap": null,
            "max_width": null,
            "order": null,
            "_view_module_version": "1.2.0",
            "grid_template_areas": null,
            "object_position": null,
            "object_fit": null,
            "grid_auto_columns": null,
            "margin": null,
            "display": null,
            "left": null
          }
        },
        "74df644c207f4380b53b61ffb0e9bebf": {
          "model_module": "@jupyter-widgets/controls",
          "model_name": "FloatProgressModel",
          "state": {
            "_view_name": "ProgressView",
            "style": "IPY_MODEL_9561bb2762874b03b63d7c0e0fad6370",
            "_dom_classes": [],
            "description": "100%",
            "_model_name": "FloatProgressModel",
            "bar_style": "success",
            "max": 4,
            "_view_module": "@jupyter-widgets/controls",
            "_model_module_version": "1.5.0",
            "value": 4,
            "_view_count": null,
            "_view_module_version": "1.5.0",
            "orientation": "horizontal",
            "min": 0,
            "description_tooltip": null,
            "_model_module": "@jupyter-widgets/controls",
            "layout": "IPY_MODEL_5bfa76e09ed84634b13819b1831680dc"
          }
        },
        "58580f569f7e441d86e3621106542914": {
          "model_module": "@jupyter-widgets/controls",
          "model_name": "HTMLModel",
          "state": {
            "_view_name": "HTMLView",
            "style": "IPY_MODEL_1919576d620646d5a7d5e6f3822e1baa",
            "_dom_classes": [],
            "description": "",
            "_model_name": "HTMLModel",
            "placeholder": "​",
            "_view_module": "@jupyter-widgets/controls",
            "_model_module_version": "1.5.0",
            "value": " 4/4 [05:09&lt;00:00, 77.34s/ba]",
            "_view_count": null,
            "_view_module_version": "1.5.0",
            "description_tooltip": null,
            "_model_module": "@jupyter-widgets/controls",
            "layout": "IPY_MODEL_ac7448fadaf84de68c398087e550eaff"
          }
        },
        "9561bb2762874b03b63d7c0e0fad6370": {
          "model_module": "@jupyter-widgets/controls",
          "model_name": "ProgressStyleModel",
          "state": {
            "_view_name": "StyleView",
            "_model_name": "ProgressStyleModel",
            "description_width": "initial",
            "_view_module": "@jupyter-widgets/base",
            "_model_module_version": "1.5.0",
            "_view_count": null,
            "_view_module_version": "1.2.0",
            "bar_color": null,
            "_model_module": "@jupyter-widgets/controls"
          }
        },
        "5bfa76e09ed84634b13819b1831680dc": {
          "model_module": "@jupyter-widgets/base",
          "model_name": "LayoutModel",
          "state": {
            "_view_name": "LayoutView",
            "grid_template_rows": null,
            "right": null,
            "justify_content": null,
            "_view_module": "@jupyter-widgets/base",
            "overflow": null,
            "_model_module_version": "1.2.0",
            "_view_count": null,
            "flex_flow": null,
            "width": null,
            "min_width": null,
            "border": null,
            "align_items": null,
            "bottom": null,
            "_model_module": "@jupyter-widgets/base",
            "top": null,
            "grid_column": null,
            "overflow_y": null,
            "overflow_x": null,
            "grid_auto_flow": null,
            "grid_area": null,
            "grid_template_columns": null,
            "flex": null,
            "_model_name": "LayoutModel",
            "justify_items": null,
            "grid_row": null,
            "max_height": null,
            "align_content": null,
            "visibility": null,
            "align_self": null,
            "height": null,
            "min_height": null,
            "padding": null,
            "grid_auto_rows": null,
            "grid_gap": null,
            "max_width": null,
            "order": null,
            "_view_module_version": "1.2.0",
            "grid_template_areas": null,
            "object_position": null,
            "object_fit": null,
            "grid_auto_columns": null,
            "margin": null,
            "display": null,
            "left": null
          }
        },
        "1919576d620646d5a7d5e6f3822e1baa": {
          "model_module": "@jupyter-widgets/controls",
          "model_name": "DescriptionStyleModel",
          "state": {
            "_view_name": "StyleView",
            "_model_name": "DescriptionStyleModel",
            "description_width": "",
            "_view_module": "@jupyter-widgets/base",
            "_model_module_version": "1.5.0",
            "_view_count": null,
            "_view_module_version": "1.2.0",
            "_model_module": "@jupyter-widgets/controls"
          }
        },
        "ac7448fadaf84de68c398087e550eaff": {
          "model_module": "@jupyter-widgets/base",
          "model_name": "LayoutModel",
          "state": {
            "_view_name": "LayoutView",
            "grid_template_rows": null,
            "right": null,
            "justify_content": null,
            "_view_module": "@jupyter-widgets/base",
            "overflow": null,
            "_model_module_version": "1.2.0",
            "_view_count": null,
            "flex_flow": null,
            "width": null,
            "min_width": null,
            "border": null,
            "align_items": null,
            "bottom": null,
            "_model_module": "@jupyter-widgets/base",
            "top": null,
            "grid_column": null,
            "overflow_y": null,
            "overflow_x": null,
            "grid_auto_flow": null,
            "grid_area": null,
            "grid_template_columns": null,
            "flex": null,
            "_model_name": "LayoutModel",
            "justify_items": null,
            "grid_row": null,
            "max_height": null,
            "align_content": null,
            "visibility": null,
            "align_self": null,
            "height": null,
            "min_height": null,
            "padding": null,
            "grid_auto_rows": null,
            "grid_gap": null,
            "max_width": null,
            "order": null,
            "_view_module_version": "1.2.0",
            "grid_template_areas": null,
            "object_position": null,
            "object_fit": null,
            "grid_auto_columns": null,
            "margin": null,
            "display": null,
            "left": null
          }
        },
        "758263329aeb40e9a3d1eb1d9f7b762d": {
          "model_module": "@jupyter-widgets/controls",
          "model_name": "HBoxModel",
          "state": {
            "_view_name": "HBoxView",
            "_dom_classes": [],
            "_model_name": "HBoxModel",
            "_view_module": "@jupyter-widgets/controls",
            "_model_module_version": "1.5.0",
            "_view_count": null,
            "_view_module_version": "1.5.0",
            "box_style": "",
            "layout": "IPY_MODEL_49aec0ce79fc4ff6b5751caf38179935",
            "_model_module": "@jupyter-widgets/controls",
            "children": [
              "IPY_MODEL_b6510443334c4b22bfa2b59c77a359fc",
              "IPY_MODEL_fc3deca2977840faa34e2d630700d49d"
            ]
          }
        },
        "49aec0ce79fc4ff6b5751caf38179935": {
          "model_module": "@jupyter-widgets/base",
          "model_name": "LayoutModel",
          "state": {
            "_view_name": "LayoutView",
            "grid_template_rows": null,
            "right": null,
            "justify_content": null,
            "_view_module": "@jupyter-widgets/base",
            "overflow": null,
            "_model_module_version": "1.2.0",
            "_view_count": null,
            "flex_flow": null,
            "width": null,
            "min_width": null,
            "border": null,
            "align_items": null,
            "bottom": null,
            "_model_module": "@jupyter-widgets/base",
            "top": null,
            "grid_column": null,
            "overflow_y": null,
            "overflow_x": null,
            "grid_auto_flow": null,
            "grid_area": null,
            "grid_template_columns": null,
            "flex": null,
            "_model_name": "LayoutModel",
            "justify_items": null,
            "grid_row": null,
            "max_height": null,
            "align_content": null,
            "visibility": null,
            "align_self": null,
            "height": null,
            "min_height": null,
            "padding": null,
            "grid_auto_rows": null,
            "grid_gap": null,
            "max_width": null,
            "order": null,
            "_view_module_version": "1.2.0",
            "grid_template_areas": null,
            "object_position": null,
            "object_fit": null,
            "grid_auto_columns": null,
            "margin": null,
            "display": null,
            "left": null
          }
        },
        "b6510443334c4b22bfa2b59c77a359fc": {
          "model_module": "@jupyter-widgets/controls",
          "model_name": "FloatProgressModel",
          "state": {
            "_view_name": "ProgressView",
            "style": "IPY_MODEL_8e8eb59d4f72438284029454ce38c558",
            "_dom_classes": [],
            "description": "100%",
            "_model_name": "FloatProgressModel",
            "bar_style": "success",
            "max": 3138,
            "_view_module": "@jupyter-widgets/controls",
            "_model_module_version": "1.5.0",
            "value": 3138,
            "_view_count": null,
            "_view_module_version": "1.5.0",
            "orientation": "horizontal",
            "min": 0,
            "description_tooltip": null,
            "_model_module": "@jupyter-widgets/controls",
            "layout": "IPY_MODEL_80792268838b4840acbce01a7ef12177"
          }
        },
        "fc3deca2977840faa34e2d630700d49d": {
          "model_module": "@jupyter-widgets/controls",
          "model_name": "HTMLModel",
          "state": {
            "_view_name": "HTMLView",
            "style": "IPY_MODEL_eba133e246bf4f6faecd804bc851372d",
            "_dom_classes": [],
            "description": "",
            "_model_name": "HTMLModel",
            "placeholder": "​",
            "_view_module": "@jupyter-widgets/controls",
            "_model_module_version": "1.5.0",
            "value": " 3138/3138 [28:38&lt;00:00,  1.83ex/s]",
            "_view_count": null,
            "_view_module_version": "1.5.0",
            "description_tooltip": null,
            "_model_module": "@jupyter-widgets/controls",
            "layout": "IPY_MODEL_bc508f8ff8af449491cefa2e5469e7ea"
          }
        },
        "8e8eb59d4f72438284029454ce38c558": {
          "model_module": "@jupyter-widgets/controls",
          "model_name": "ProgressStyleModel",
          "state": {
            "_view_name": "StyleView",
            "_model_name": "ProgressStyleModel",
            "description_width": "initial",
            "_view_module": "@jupyter-widgets/base",
            "_model_module_version": "1.5.0",
            "_view_count": null,
            "_view_module_version": "1.2.0",
            "bar_color": null,
            "_model_module": "@jupyter-widgets/controls"
          }
        },
        "80792268838b4840acbce01a7ef12177": {
          "model_module": "@jupyter-widgets/base",
          "model_name": "LayoutModel",
          "state": {
            "_view_name": "LayoutView",
            "grid_template_rows": null,
            "right": null,
            "justify_content": null,
            "_view_module": "@jupyter-widgets/base",
            "overflow": null,
            "_model_module_version": "1.2.0",
            "_view_count": null,
            "flex_flow": null,
            "width": null,
            "min_width": null,
            "border": null,
            "align_items": null,
            "bottom": null,
            "_model_module": "@jupyter-widgets/base",
            "top": null,
            "grid_column": null,
            "overflow_y": null,
            "overflow_x": null,
            "grid_auto_flow": null,
            "grid_area": null,
            "grid_template_columns": null,
            "flex": null,
            "_model_name": "LayoutModel",
            "justify_items": null,
            "grid_row": null,
            "max_height": null,
            "align_content": null,
            "visibility": null,
            "align_self": null,
            "height": null,
            "min_height": null,
            "padding": null,
            "grid_auto_rows": null,
            "grid_gap": null,
            "max_width": null,
            "order": null,
            "_view_module_version": "1.2.0",
            "grid_template_areas": null,
            "object_position": null,
            "object_fit": null,
            "grid_auto_columns": null,
            "margin": null,
            "display": null,
            "left": null
          }
        },
        "eba133e246bf4f6faecd804bc851372d": {
          "model_module": "@jupyter-widgets/controls",
          "model_name": "DescriptionStyleModel",
          "state": {
            "_view_name": "StyleView",
            "_model_name": "DescriptionStyleModel",
            "description_width": "",
            "_view_module": "@jupyter-widgets/base",
            "_model_module_version": "1.5.0",
            "_view_count": null,
            "_view_module_version": "1.2.0",
            "_model_module": "@jupyter-widgets/controls"
          }
        },
        "bc508f8ff8af449491cefa2e5469e7ea": {
          "model_module": "@jupyter-widgets/base",
          "model_name": "LayoutModel",
          "state": {
            "_view_name": "LayoutView",
            "grid_template_rows": null,
            "right": null,
            "justify_content": null,
            "_view_module": "@jupyter-widgets/base",
            "overflow": null,
            "_model_module_version": "1.2.0",
            "_view_count": null,
            "flex_flow": null,
            "width": null,
            "min_width": null,
            "border": null,
            "align_items": null,
            "bottom": null,
            "_model_module": "@jupyter-widgets/base",
            "top": null,
            "grid_column": null,
            "overflow_y": null,
            "overflow_x": null,
            "grid_auto_flow": null,
            "grid_area": null,
            "grid_template_columns": null,
            "flex": null,
            "_model_name": "LayoutModel",
            "justify_items": null,
            "grid_row": null,
            "max_height": null,
            "align_content": null,
            "visibility": null,
            "align_self": null,
            "height": null,
            "min_height": null,
            "padding": null,
            "grid_auto_rows": null,
            "grid_gap": null,
            "max_width": null,
            "order": null,
            "_view_module_version": "1.2.0",
            "grid_template_areas": null,
            "object_position": null,
            "object_fit": null,
            "grid_auto_columns": null,
            "margin": null,
            "display": null,
            "left": null
          }
        },
        "e35b3078d9924762a1cf2a4e48a6ee25": {
          "model_module": "@jupyter-widgets/controls",
          "model_name": "HBoxModel",
          "state": {
            "_view_name": "HBoxView",
            "_dom_classes": [],
            "_model_name": "HBoxModel",
            "_view_module": "@jupyter-widgets/controls",
            "_model_module_version": "1.5.0",
            "_view_count": null,
            "_view_module_version": "1.5.0",
            "box_style": "",
            "layout": "IPY_MODEL_e2d91758f28f429d85bdf7d60f362481",
            "_model_module": "@jupyter-widgets/controls",
            "children": [
              "IPY_MODEL_07ee16f1abbe481d851d5889aa7ecd39",
              "IPY_MODEL_00705df63f074c20a6b0849a19fee122"
            ]
          }
        },
        "e2d91758f28f429d85bdf7d60f362481": {
          "model_module": "@jupyter-widgets/base",
          "model_name": "LayoutModel",
          "state": {
            "_view_name": "LayoutView",
            "grid_template_rows": null,
            "right": null,
            "justify_content": null,
            "_view_module": "@jupyter-widgets/base",
            "overflow": null,
            "_model_module_version": "1.2.0",
            "_view_count": null,
            "flex_flow": null,
            "width": null,
            "min_width": null,
            "border": null,
            "align_items": null,
            "bottom": null,
            "_model_module": "@jupyter-widgets/base",
            "top": null,
            "grid_column": null,
            "overflow_y": null,
            "overflow_x": null,
            "grid_auto_flow": null,
            "grid_area": null,
            "grid_template_columns": null,
            "flex": null,
            "_model_name": "LayoutModel",
            "justify_items": null,
            "grid_row": null,
            "max_height": null,
            "align_content": null,
            "visibility": null,
            "align_self": null,
            "height": null,
            "min_height": null,
            "padding": null,
            "grid_auto_rows": null,
            "grid_gap": null,
            "max_width": null,
            "order": null,
            "_view_module_version": "1.2.0",
            "grid_template_areas": null,
            "object_position": null,
            "object_fit": null,
            "grid_auto_columns": null,
            "margin": null,
            "display": null,
            "left": null
          }
        },
        "07ee16f1abbe481d851d5889aa7ecd39": {
          "model_module": "@jupyter-widgets/controls",
          "model_name": "FloatProgressModel",
          "state": {
            "_view_name": "ProgressView",
            "style": "IPY_MODEL_ac56450ee133479d9986c35d3a60c755",
            "_dom_classes": [],
            "description": "100%",
            "_model_name": "FloatProgressModel",
            "bar_style": "success",
            "max": 1046,
            "_view_module": "@jupyter-widgets/controls",
            "_model_module_version": "1.5.0",
            "value": 1046,
            "_view_count": null,
            "_view_module_version": "1.5.0",
            "orientation": "horizontal",
            "min": 0,
            "description_tooltip": null,
            "_model_module": "@jupyter-widgets/controls",
            "layout": "IPY_MODEL_67b08e9372024cb881a2fe4755c278a1"
          }
        },
        "00705df63f074c20a6b0849a19fee122": {
          "model_module": "@jupyter-widgets/controls",
          "model_name": "HTMLModel",
          "state": {
            "_view_name": "HTMLView",
            "style": "IPY_MODEL_7d9784db02e24ee1b184d9c4ab50d9f6",
            "_dom_classes": [],
            "description": "",
            "_model_name": "HTMLModel",
            "placeholder": "​",
            "_view_module": "@jupyter-widgets/controls",
            "_model_module_version": "1.5.0",
            "value": " 1046/1046 [07:59&lt;00:00,  2.18ex/s]",
            "_view_count": null,
            "_view_module_version": "1.5.0",
            "description_tooltip": null,
            "_model_module": "@jupyter-widgets/controls",
            "layout": "IPY_MODEL_0d1be7f594fa45b2bd32d2333e851ca7"
          }
        },
        "ac56450ee133479d9986c35d3a60c755": {
          "model_module": "@jupyter-widgets/controls",
          "model_name": "ProgressStyleModel",
          "state": {
            "_view_name": "StyleView",
            "_model_name": "ProgressStyleModel",
            "description_width": "initial",
            "_view_module": "@jupyter-widgets/base",
            "_model_module_version": "1.5.0",
            "_view_count": null,
            "_view_module_version": "1.2.0",
            "bar_color": null,
            "_model_module": "@jupyter-widgets/controls"
          }
        },
        "67b08e9372024cb881a2fe4755c278a1": {
          "model_module": "@jupyter-widgets/base",
          "model_name": "LayoutModel",
          "state": {
            "_view_name": "LayoutView",
            "grid_template_rows": null,
            "right": null,
            "justify_content": null,
            "_view_module": "@jupyter-widgets/base",
            "overflow": null,
            "_model_module_version": "1.2.0",
            "_view_count": null,
            "flex_flow": null,
            "width": null,
            "min_width": null,
            "border": null,
            "align_items": null,
            "bottom": null,
            "_model_module": "@jupyter-widgets/base",
            "top": null,
            "grid_column": null,
            "overflow_y": null,
            "overflow_x": null,
            "grid_auto_flow": null,
            "grid_area": null,
            "grid_template_columns": null,
            "flex": null,
            "_model_name": "LayoutModel",
            "justify_items": null,
            "grid_row": null,
            "max_height": null,
            "align_content": null,
            "visibility": null,
            "align_self": null,
            "height": null,
            "min_height": null,
            "padding": null,
            "grid_auto_rows": null,
            "grid_gap": null,
            "max_width": null,
            "order": null,
            "_view_module_version": "1.2.0",
            "grid_template_areas": null,
            "object_position": null,
            "object_fit": null,
            "grid_auto_columns": null,
            "margin": null,
            "display": null,
            "left": null
          }
        },
        "7d9784db02e24ee1b184d9c4ab50d9f6": {
          "model_module": "@jupyter-widgets/controls",
          "model_name": "DescriptionStyleModel",
          "state": {
            "_view_name": "StyleView",
            "_model_name": "DescriptionStyleModel",
            "description_width": "",
            "_view_module": "@jupyter-widgets/base",
            "_model_module_version": "1.5.0",
            "_view_count": null,
            "_view_module_version": "1.2.0",
            "_model_module": "@jupyter-widgets/controls"
          }
        },
        "0d1be7f594fa45b2bd32d2333e851ca7": {
          "model_module": "@jupyter-widgets/base",
          "model_name": "LayoutModel",
          "state": {
            "_view_name": "LayoutView",
            "grid_template_rows": null,
            "right": null,
            "justify_content": null,
            "_view_module": "@jupyter-widgets/base",
            "overflow": null,
            "_model_module_version": "1.2.0",
            "_view_count": null,
            "flex_flow": null,
            "width": null,
            "min_width": null,
            "border": null,
            "align_items": null,
            "bottom": null,
            "_model_module": "@jupyter-widgets/base",
            "top": null,
            "grid_column": null,
            "overflow_y": null,
            "overflow_x": null,
            "grid_auto_flow": null,
            "grid_area": null,
            "grid_template_columns": null,
            "flex": null,
            "_model_name": "LayoutModel",
            "justify_items": null,
            "grid_row": null,
            "max_height": null,
            "align_content": null,
            "visibility": null,
            "align_self": null,
            "height": null,
            "min_height": null,
            "padding": null,
            "grid_auto_rows": null,
            "grid_gap": null,
            "max_width": null,
            "order": null,
            "_view_module_version": "1.2.0",
            "grid_template_areas": null,
            "object_position": null,
            "object_fit": null,
            "grid_auto_columns": null,
            "margin": null,
            "display": null,
            "left": null
          }
        },
        "ce30450667614d3f9d198db72a7e73df": {
          "model_module": "@jupyter-widgets/controls",
          "model_name": "HBoxModel",
          "state": {
            "_view_name": "HBoxView",
            "_dom_classes": [],
            "_model_name": "HBoxModel",
            "_view_module": "@jupyter-widgets/controls",
            "_model_module_version": "1.5.0",
            "_view_count": null,
            "_view_module_version": "1.5.0",
            "box_style": "",
            "layout": "IPY_MODEL_0efd5c53affa4c4384c5dec8fd5f2306",
            "_model_module": "@jupyter-widgets/controls",
            "children": [
              "IPY_MODEL_4bdf31c64815418b9e3087106e4c4fad",
              "IPY_MODEL_629c7c74e162423299ccd01e137973d5"
            ]
          }
        },
        "0efd5c53affa4c4384c5dec8fd5f2306": {
          "model_module": "@jupyter-widgets/base",
          "model_name": "LayoutModel",
          "state": {
            "_view_name": "LayoutView",
            "grid_template_rows": null,
            "right": null,
            "justify_content": null,
            "_view_module": "@jupyter-widgets/base",
            "overflow": null,
            "_model_module_version": "1.2.0",
            "_view_count": null,
            "flex_flow": null,
            "width": null,
            "min_width": null,
            "border": null,
            "align_items": null,
            "bottom": null,
            "_model_module": "@jupyter-widgets/base",
            "top": null,
            "grid_column": null,
            "overflow_y": null,
            "overflow_x": null,
            "grid_auto_flow": null,
            "grid_area": null,
            "grid_template_columns": null,
            "flex": null,
            "_model_name": "LayoutModel",
            "justify_items": null,
            "grid_row": null,
            "max_height": null,
            "align_content": null,
            "visibility": null,
            "align_self": null,
            "height": null,
            "min_height": null,
            "padding": null,
            "grid_auto_rows": null,
            "grid_gap": null,
            "max_width": null,
            "order": null,
            "_view_module_version": "1.2.0",
            "grid_template_areas": null,
            "object_position": null,
            "object_fit": null,
            "grid_auto_columns": null,
            "margin": null,
            "display": null,
            "left": null
          }
        },
        "4bdf31c64815418b9e3087106e4c4fad": {
          "model_module": "@jupyter-widgets/controls",
          "model_name": "FloatProgressModel",
          "state": {
            "_view_name": "ProgressView",
            "style": "IPY_MODEL_babdcdb655e041129e5e30e291546ff4",
            "_dom_classes": [],
            "description": "100%",
            "_model_name": "FloatProgressModel",
            "bar_style": "success",
            "max": 97945,
            "_view_module": "@jupyter-widgets/controls",
            "_model_module_version": "1.5.0",
            "value": 97945,
            "_view_count": null,
            "_view_module_version": "1.5.0",
            "orientation": "horizontal",
            "min": 0,
            "description_tooltip": null,
            "_model_module": "@jupyter-widgets/controls",
            "layout": "IPY_MODEL_398deb20a2e54388891464a3fa7b54f9"
          }
        },
        "629c7c74e162423299ccd01e137973d5": {
          "model_module": "@jupyter-widgets/controls",
          "model_name": "HTMLModel",
          "state": {
            "_view_name": "HTMLView",
            "style": "IPY_MODEL_4dde8d943b314e91ab84b0d2bcdf8f28",
            "_dom_classes": [],
            "description": "",
            "_model_name": "HTMLModel",
            "placeholder": "​",
            "_view_module": "@jupyter-widgets/controls",
            "_model_module_version": "1.5.0",
            "value": " 97945/97945 [06:18&lt;00:00, 258.44ex/s]",
            "_view_count": null,
            "_view_module_version": "1.5.0",
            "description_tooltip": null,
            "_model_module": "@jupyter-widgets/controls",
            "layout": "IPY_MODEL_e9624bd06c5e4dba933984d48204dba9"
          }
        },
        "babdcdb655e041129e5e30e291546ff4": {
          "model_module": "@jupyter-widgets/controls",
          "model_name": "ProgressStyleModel",
          "state": {
            "_view_name": "StyleView",
            "_model_name": "ProgressStyleModel",
            "description_width": "initial",
            "_view_module": "@jupyter-widgets/base",
            "_model_module_version": "1.5.0",
            "_view_count": null,
            "_view_module_version": "1.2.0",
            "bar_color": null,
            "_model_module": "@jupyter-widgets/controls"
          }
        },
        "398deb20a2e54388891464a3fa7b54f9": {
          "model_module": "@jupyter-widgets/base",
          "model_name": "LayoutModel",
          "state": {
            "_view_name": "LayoutView",
            "grid_template_rows": null,
            "right": null,
            "justify_content": null,
            "_view_module": "@jupyter-widgets/base",
            "overflow": null,
            "_model_module_version": "1.2.0",
            "_view_count": null,
            "flex_flow": null,
            "width": null,
            "min_width": null,
            "border": null,
            "align_items": null,
            "bottom": null,
            "_model_module": "@jupyter-widgets/base",
            "top": null,
            "grid_column": null,
            "overflow_y": null,
            "overflow_x": null,
            "grid_auto_flow": null,
            "grid_area": null,
            "grid_template_columns": null,
            "flex": null,
            "_model_name": "LayoutModel",
            "justify_items": null,
            "grid_row": null,
            "max_height": null,
            "align_content": null,
            "visibility": null,
            "align_self": null,
            "height": null,
            "min_height": null,
            "padding": null,
            "grid_auto_rows": null,
            "grid_gap": null,
            "max_width": null,
            "order": null,
            "_view_module_version": "1.2.0",
            "grid_template_areas": null,
            "object_position": null,
            "object_fit": null,
            "grid_auto_columns": null,
            "margin": null,
            "display": null,
            "left": null
          }
        },
        "4dde8d943b314e91ab84b0d2bcdf8f28": {
          "model_module": "@jupyter-widgets/controls",
          "model_name": "DescriptionStyleModel",
          "state": {
            "_view_name": "StyleView",
            "_model_name": "DescriptionStyleModel",
            "description_width": "",
            "_view_module": "@jupyter-widgets/base",
            "_model_module_version": "1.5.0",
            "_view_count": null,
            "_view_module_version": "1.2.0",
            "_model_module": "@jupyter-widgets/controls"
          }
        },
        "e9624bd06c5e4dba933984d48204dba9": {
          "model_module": "@jupyter-widgets/base",
          "model_name": "LayoutModel",
          "state": {
            "_view_name": "LayoutView",
            "grid_template_rows": null,
            "right": null,
            "justify_content": null,
            "_view_module": "@jupyter-widgets/base",
            "overflow": null,
            "_model_module_version": "1.2.0",
            "_view_count": null,
            "flex_flow": null,
            "width": null,
            "min_width": null,
            "border": null,
            "align_items": null,
            "bottom": null,
            "_model_module": "@jupyter-widgets/base",
            "top": null,
            "grid_column": null,
            "overflow_y": null,
            "overflow_x": null,
            "grid_auto_flow": null,
            "grid_area": null,
            "grid_template_columns": null,
            "flex": null,
            "_model_name": "LayoutModel",
            "justify_items": null,
            "grid_row": null,
            "max_height": null,
            "align_content": null,
            "visibility": null,
            "align_self": null,
            "height": null,
            "min_height": null,
            "padding": null,
            "grid_auto_rows": null,
            "grid_gap": null,
            "max_width": null,
            "order": null,
            "_view_module_version": "1.2.0",
            "grid_template_areas": null,
            "object_position": null,
            "object_fit": null,
            "grid_auto_columns": null,
            "margin": null,
            "display": null,
            "left": null
          }
        },
        "13af7af66cdc4646bc54ad1eaf76aaa1": {
          "model_module": "@jupyter-widgets/controls",
          "model_name": "HBoxModel",
          "state": {
            "_view_name": "HBoxView",
            "_dom_classes": [],
            "_model_name": "HBoxModel",
            "_view_module": "@jupyter-widgets/controls",
            "_model_module_version": "1.5.0",
            "_view_count": null,
            "_view_module_version": "1.5.0",
            "box_style": "",
            "layout": "IPY_MODEL_623bdbaff9714104a33dde8b26b10651",
            "_model_module": "@jupyter-widgets/controls",
            "children": [
              "IPY_MODEL_978f0265760a4845ac582709aedb440d",
              "IPY_MODEL_527790a7816143c7a7859c2788a6abef"
            ]
          }
        },
        "623bdbaff9714104a33dde8b26b10651": {
          "model_module": "@jupyter-widgets/base",
          "model_name": "LayoutModel",
          "state": {
            "_view_name": "LayoutView",
            "grid_template_rows": null,
            "right": null,
            "justify_content": null,
            "_view_module": "@jupyter-widgets/base",
            "overflow": null,
            "_model_module_version": "1.2.0",
            "_view_count": null,
            "flex_flow": null,
            "width": null,
            "min_width": null,
            "border": null,
            "align_items": null,
            "bottom": null,
            "_model_module": "@jupyter-widgets/base",
            "top": null,
            "grid_column": null,
            "overflow_y": null,
            "overflow_x": null,
            "grid_auto_flow": null,
            "grid_area": null,
            "grid_template_columns": null,
            "flex": null,
            "_model_name": "LayoutModel",
            "justify_items": null,
            "grid_row": null,
            "max_height": null,
            "align_content": null,
            "visibility": null,
            "align_self": null,
            "height": null,
            "min_height": null,
            "padding": null,
            "grid_auto_rows": null,
            "grid_gap": null,
            "max_width": null,
            "order": null,
            "_view_module_version": "1.2.0",
            "grid_template_areas": null,
            "object_position": null,
            "object_fit": null,
            "grid_auto_columns": null,
            "margin": null,
            "display": null,
            "left": null
          }
        },
        "978f0265760a4845ac582709aedb440d": {
          "model_module": "@jupyter-widgets/controls",
          "model_name": "FloatProgressModel",
          "state": {
            "_view_name": "ProgressView",
            "style": "IPY_MODEL_26faa1a2795e41fd8d98a3ff394a89c3",
            "_dom_classes": [],
            "description": "100%",
            "_model_name": "FloatProgressModel",
            "bar_style": "success",
            "max": 3106,
            "_view_module": "@jupyter-widgets/controls",
            "_model_module_version": "1.5.0",
            "value": 3106,
            "_view_count": null,
            "_view_module_version": "1.5.0",
            "orientation": "horizontal",
            "min": 0,
            "description_tooltip": null,
            "_model_module": "@jupyter-widgets/controls",
            "layout": "IPY_MODEL_1ebcf0b94be7499dab03aa906f177736"
          }
        },
        "527790a7816143c7a7859c2788a6abef": {
          "model_module": "@jupyter-widgets/controls",
          "model_name": "HTMLModel",
          "state": {
            "_view_name": "HTMLView",
            "style": "IPY_MODEL_fb59f3bacbb641d2a8b668cfe0c6cb0c",
            "_dom_classes": [],
            "description": "",
            "_model_name": "HTMLModel",
            "placeholder": "​",
            "_view_module": "@jupyter-widgets/controls",
            "_model_module_version": "1.5.0",
            "value": " 3106/3106 [05:16&lt;00:00,  9.83ex/s]",
            "_view_count": null,
            "_view_module_version": "1.5.0",
            "description_tooltip": null,
            "_model_module": "@jupyter-widgets/controls",
            "layout": "IPY_MODEL_37849803eb744b92a2c18e8a375b6f26"
          }
        },
        "26faa1a2795e41fd8d98a3ff394a89c3": {
          "model_module": "@jupyter-widgets/controls",
          "model_name": "ProgressStyleModel",
          "state": {
            "_view_name": "StyleView",
            "_model_name": "ProgressStyleModel",
            "description_width": "initial",
            "_view_module": "@jupyter-widgets/base",
            "_model_module_version": "1.5.0",
            "_view_count": null,
            "_view_module_version": "1.2.0",
            "bar_color": null,
            "_model_module": "@jupyter-widgets/controls"
          }
        },
        "1ebcf0b94be7499dab03aa906f177736": {
          "model_module": "@jupyter-widgets/base",
          "model_name": "LayoutModel",
          "state": {
            "_view_name": "LayoutView",
            "grid_template_rows": null,
            "right": null,
            "justify_content": null,
            "_view_module": "@jupyter-widgets/base",
            "overflow": null,
            "_model_module_version": "1.2.0",
            "_view_count": null,
            "flex_flow": null,
            "width": null,
            "min_width": null,
            "border": null,
            "align_items": null,
            "bottom": null,
            "_model_module": "@jupyter-widgets/base",
            "top": null,
            "grid_column": null,
            "overflow_y": null,
            "overflow_x": null,
            "grid_auto_flow": null,
            "grid_area": null,
            "grid_template_columns": null,
            "flex": null,
            "_model_name": "LayoutModel",
            "justify_items": null,
            "grid_row": null,
            "max_height": null,
            "align_content": null,
            "visibility": null,
            "align_self": null,
            "height": null,
            "min_height": null,
            "padding": null,
            "grid_auto_rows": null,
            "grid_gap": null,
            "max_width": null,
            "order": null,
            "_view_module_version": "1.2.0",
            "grid_template_areas": null,
            "object_position": null,
            "object_fit": null,
            "grid_auto_columns": null,
            "margin": null,
            "display": null,
            "left": null
          }
        },
        "fb59f3bacbb641d2a8b668cfe0c6cb0c": {
          "model_module": "@jupyter-widgets/controls",
          "model_name": "DescriptionStyleModel",
          "state": {
            "_view_name": "StyleView",
            "_model_name": "DescriptionStyleModel",
            "description_width": "",
            "_view_module": "@jupyter-widgets/base",
            "_model_module_version": "1.5.0",
            "_view_count": null,
            "_view_module_version": "1.2.0",
            "_model_module": "@jupyter-widgets/controls"
          }
        },
        "37849803eb744b92a2c18e8a375b6f26": {
          "model_module": "@jupyter-widgets/base",
          "model_name": "LayoutModel",
          "state": {
            "_view_name": "LayoutView",
            "grid_template_rows": null,
            "right": null,
            "justify_content": null,
            "_view_module": "@jupyter-widgets/base",
            "overflow": null,
            "_model_module_version": "1.2.0",
            "_view_count": null,
            "flex_flow": null,
            "width": null,
            "min_width": null,
            "border": null,
            "align_items": null,
            "bottom": null,
            "_model_module": "@jupyter-widgets/base",
            "top": null,
            "grid_column": null,
            "overflow_y": null,
            "overflow_x": null,
            "grid_auto_flow": null,
            "grid_area": null,
            "grid_template_columns": null,
            "flex": null,
            "_model_name": "LayoutModel",
            "justify_items": null,
            "grid_row": null,
            "max_height": null,
            "align_content": null,
            "visibility": null,
            "align_self": null,
            "height": null,
            "min_height": null,
            "padding": null,
            "grid_auto_rows": null,
            "grid_gap": null,
            "max_width": null,
            "order": null,
            "_view_module_version": "1.2.0",
            "grid_template_areas": null,
            "object_position": null,
            "object_fit": null,
            "grid_auto_columns": null,
            "margin": null,
            "display": null,
            "left": null
          }
        },
        "96b3327b960a4041a2043a2af22eb377": {
          "model_module": "@jupyter-widgets/controls",
          "model_name": "HBoxModel",
          "state": {
            "_view_name": "HBoxView",
            "_dom_classes": [],
            "_model_name": "HBoxModel",
            "_view_module": "@jupyter-widgets/controls",
            "_model_module_version": "1.5.0",
            "_view_count": null,
            "_view_module_version": "1.5.0",
            "box_style": "",
            "layout": "IPY_MODEL_9278c800c5b242dcbaac9dbdbf6f6331",
            "_model_module": "@jupyter-widgets/controls",
            "children": [
              "IPY_MODEL_c9398724cc0b43afb9ae8310dead5709",
              "IPY_MODEL_ae40a4368d1b4e3aac4f67e06a0e5610"
            ]
          }
        },
        "9278c800c5b242dcbaac9dbdbf6f6331": {
          "model_module": "@jupyter-widgets/base",
          "model_name": "LayoutModel",
          "state": {
            "_view_name": "LayoutView",
            "grid_template_rows": null,
            "right": null,
            "justify_content": null,
            "_view_module": "@jupyter-widgets/base",
            "overflow": null,
            "_model_module_version": "1.2.0",
            "_view_count": null,
            "flex_flow": null,
            "width": null,
            "min_width": null,
            "border": null,
            "align_items": null,
            "bottom": null,
            "_model_module": "@jupyter-widgets/base",
            "top": null,
            "grid_column": null,
            "overflow_y": null,
            "overflow_x": null,
            "grid_auto_flow": null,
            "grid_area": null,
            "grid_template_columns": null,
            "flex": null,
            "_model_name": "LayoutModel",
            "justify_items": null,
            "grid_row": null,
            "max_height": null,
            "align_content": null,
            "visibility": null,
            "align_self": null,
            "height": null,
            "min_height": null,
            "padding": null,
            "grid_auto_rows": null,
            "grid_gap": null,
            "max_width": null,
            "order": null,
            "_view_module_version": "1.2.0",
            "grid_template_areas": null,
            "object_position": null,
            "object_fit": null,
            "grid_auto_columns": null,
            "margin": null,
            "display": null,
            "left": null
          }
        },
        "c9398724cc0b43afb9ae8310dead5709": {
          "model_module": "@jupyter-widgets/controls",
          "model_name": "FloatProgressModel",
          "state": {
            "_view_name": "ProgressView",
            "style": "IPY_MODEL_6823dadc5f5a4908bc37ecdb748b046c",
            "_dom_classes": [],
            "description": "100%",
            "_model_name": "FloatProgressModel",
            "bar_style": "success",
            "max": 4,
            "_view_module": "@jupyter-widgets/controls",
            "_model_module_version": "1.5.0",
            "value": 4,
            "_view_count": null,
            "_view_module_version": "1.5.0",
            "orientation": "horizontal",
            "min": 0,
            "description_tooltip": null,
            "_model_module": "@jupyter-widgets/controls",
            "layout": "IPY_MODEL_1fceac0172584dcea020329630189d10"
          }
        },
        "ae40a4368d1b4e3aac4f67e06a0e5610": {
          "model_module": "@jupyter-widgets/controls",
          "model_name": "HTMLModel",
          "state": {
            "_view_name": "HTMLView",
            "style": "IPY_MODEL_a2aff8c9c33749e3afb2e753a3d0e4f7",
            "_dom_classes": [],
            "description": "",
            "_model_name": "HTMLModel",
            "placeholder": "​",
            "_view_module": "@jupyter-widgets/controls",
            "_model_module_version": "1.5.0",
            "value": " 4/4 [05:14&lt;00:00, 78.62s/ba]",
            "_view_count": null,
            "_view_module_version": "1.5.0",
            "description_tooltip": null,
            "_model_module": "@jupyter-widgets/controls",
            "layout": "IPY_MODEL_99fded33aab04885b7910a5dd61f5b41"
          }
        },
        "6823dadc5f5a4908bc37ecdb748b046c": {
          "model_module": "@jupyter-widgets/controls",
          "model_name": "ProgressStyleModel",
          "state": {
            "_view_name": "StyleView",
            "_model_name": "ProgressStyleModel",
            "description_width": "initial",
            "_view_module": "@jupyter-widgets/base",
            "_model_module_version": "1.5.0",
            "_view_count": null,
            "_view_module_version": "1.2.0",
            "bar_color": null,
            "_model_module": "@jupyter-widgets/controls"
          }
        },
        "1fceac0172584dcea020329630189d10": {
          "model_module": "@jupyter-widgets/base",
          "model_name": "LayoutModel",
          "state": {
            "_view_name": "LayoutView",
            "grid_template_rows": null,
            "right": null,
            "justify_content": null,
            "_view_module": "@jupyter-widgets/base",
            "overflow": null,
            "_model_module_version": "1.2.0",
            "_view_count": null,
            "flex_flow": null,
            "width": null,
            "min_width": null,
            "border": null,
            "align_items": null,
            "bottom": null,
            "_model_module": "@jupyter-widgets/base",
            "top": null,
            "grid_column": null,
            "overflow_y": null,
            "overflow_x": null,
            "grid_auto_flow": null,
            "grid_area": null,
            "grid_template_columns": null,
            "flex": null,
            "_model_name": "LayoutModel",
            "justify_items": null,
            "grid_row": null,
            "max_height": null,
            "align_content": null,
            "visibility": null,
            "align_self": null,
            "height": null,
            "min_height": null,
            "padding": null,
            "grid_auto_rows": null,
            "grid_gap": null,
            "max_width": null,
            "order": null,
            "_view_module_version": "1.2.0",
            "grid_template_areas": null,
            "object_position": null,
            "object_fit": null,
            "grid_auto_columns": null,
            "margin": null,
            "display": null,
            "left": null
          }
        },
        "a2aff8c9c33749e3afb2e753a3d0e4f7": {
          "model_module": "@jupyter-widgets/controls",
          "model_name": "DescriptionStyleModel",
          "state": {
            "_view_name": "StyleView",
            "_model_name": "DescriptionStyleModel",
            "description_width": "",
            "_view_module": "@jupyter-widgets/base",
            "_model_module_version": "1.5.0",
            "_view_count": null,
            "_view_module_version": "1.2.0",
            "_model_module": "@jupyter-widgets/controls"
          }
        },
        "99fded33aab04885b7910a5dd61f5b41": {
          "model_module": "@jupyter-widgets/base",
          "model_name": "LayoutModel",
          "state": {
            "_view_name": "LayoutView",
            "grid_template_rows": null,
            "right": null,
            "justify_content": null,
            "_view_module": "@jupyter-widgets/base",
            "overflow": null,
            "_model_module_version": "1.2.0",
            "_view_count": null,
            "flex_flow": null,
            "width": null,
            "min_width": null,
            "border": null,
            "align_items": null,
            "bottom": null,
            "_model_module": "@jupyter-widgets/base",
            "top": null,
            "grid_column": null,
            "overflow_y": null,
            "overflow_x": null,
            "grid_auto_flow": null,
            "grid_area": null,
            "grid_template_columns": null,
            "flex": null,
            "_model_name": "LayoutModel",
            "justify_items": null,
            "grid_row": null,
            "max_height": null,
            "align_content": null,
            "visibility": null,
            "align_self": null,
            "height": null,
            "min_height": null,
            "padding": null,
            "grid_auto_rows": null,
            "grid_gap": null,
            "max_width": null,
            "order": null,
            "_view_module_version": "1.2.0",
            "grid_template_areas": null,
            "object_position": null,
            "object_fit": null,
            "grid_auto_columns": null,
            "margin": null,
            "display": null,
            "left": null
          }
        },
        "4bf5c1c064ae453384f69bf7de22bc61": {
          "model_module": "@jupyter-widgets/controls",
          "model_name": "HBoxModel",
          "state": {
            "_view_name": "HBoxView",
            "_dom_classes": [],
            "_model_name": "HBoxModel",
            "_view_module": "@jupyter-widgets/controls",
            "_model_module_version": "1.5.0",
            "_view_count": null,
            "_view_module_version": "1.5.0",
            "box_style": "",
            "layout": "IPY_MODEL_4e5d783ea0df433da368c967c8623835",
            "_model_module": "@jupyter-widgets/controls",
            "children": [
              "IPY_MODEL_300f5128dd7d4de888eb023d9c6b8ddd",
              "IPY_MODEL_2ee20d309d5240bdb9b972f55a1fb1ba"
            ]
          }
        },
        "4e5d783ea0df433da368c967c8623835": {
          "model_module": "@jupyter-widgets/base",
          "model_name": "LayoutModel",
          "state": {
            "_view_name": "LayoutView",
            "grid_template_rows": null,
            "right": null,
            "justify_content": null,
            "_view_module": "@jupyter-widgets/base",
            "overflow": null,
            "_model_module_version": "1.2.0",
            "_view_count": null,
            "flex_flow": null,
            "width": null,
            "min_width": null,
            "border": null,
            "align_items": null,
            "bottom": null,
            "_model_module": "@jupyter-widgets/base",
            "top": null,
            "grid_column": null,
            "overflow_y": null,
            "overflow_x": null,
            "grid_auto_flow": null,
            "grid_area": null,
            "grid_template_columns": null,
            "flex": null,
            "_model_name": "LayoutModel",
            "justify_items": null,
            "grid_row": null,
            "max_height": null,
            "align_content": null,
            "visibility": null,
            "align_self": null,
            "height": null,
            "min_height": null,
            "padding": null,
            "grid_auto_rows": null,
            "grid_gap": null,
            "max_width": null,
            "order": null,
            "_view_module_version": "1.2.0",
            "grid_template_areas": null,
            "object_position": null,
            "object_fit": null,
            "grid_auto_columns": null,
            "margin": null,
            "display": null,
            "left": null
          }
        },
        "300f5128dd7d4de888eb023d9c6b8ddd": {
          "model_module": "@jupyter-widgets/controls",
          "model_name": "FloatProgressModel",
          "state": {
            "_view_name": "ProgressView",
            "style": "IPY_MODEL_ba86e89e17cb437caafdb0b9052045dd",
            "_dom_classes": [],
            "description": "100%",
            "_model_name": "FloatProgressModel",
            "bar_style": "success",
            "max": 391783,
            "_view_module": "@jupyter-widgets/controls",
            "_model_module_version": "1.5.0",
            "value": 391783,
            "_view_count": null,
            "_view_module_version": "1.5.0",
            "orientation": "horizontal",
            "min": 0,
            "description_tooltip": null,
            "_model_module": "@jupyter-widgets/controls",
            "layout": "IPY_MODEL_3cd6e2b81ac0433985a750432b22820d"
          }
        },
        "2ee20d309d5240bdb9b972f55a1fb1ba": {
          "model_module": "@jupyter-widgets/controls",
          "model_name": "HTMLModel",
          "state": {
            "_view_name": "HTMLView",
            "style": "IPY_MODEL_79ec70a8531f49b2af414201733dcd68",
            "_dom_classes": [],
            "description": "",
            "_model_name": "HTMLModel",
            "placeholder": "​",
            "_view_module": "@jupyter-widgets/controls",
            "_model_module_version": "1.5.0",
            "value": " 391783/391783 [07:30&lt;00:00, 870.48ex/s]",
            "_view_count": null,
            "_view_module_version": "1.5.0",
            "description_tooltip": null,
            "_model_module": "@jupyter-widgets/controls",
            "layout": "IPY_MODEL_f0217406a1384e2a81035906d2546032"
          }
        },
        "ba86e89e17cb437caafdb0b9052045dd": {
          "model_module": "@jupyter-widgets/controls",
          "model_name": "ProgressStyleModel",
          "state": {
            "_view_name": "StyleView",
            "_model_name": "ProgressStyleModel",
            "description_width": "initial",
            "_view_module": "@jupyter-widgets/base",
            "_model_module_version": "1.5.0",
            "_view_count": null,
            "_view_module_version": "1.2.0",
            "bar_color": null,
            "_model_module": "@jupyter-widgets/controls"
          }
        },
        "3cd6e2b81ac0433985a750432b22820d": {
          "model_module": "@jupyter-widgets/base",
          "model_name": "LayoutModel",
          "state": {
            "_view_name": "LayoutView",
            "grid_template_rows": null,
            "right": null,
            "justify_content": null,
            "_view_module": "@jupyter-widgets/base",
            "overflow": null,
            "_model_module_version": "1.2.0",
            "_view_count": null,
            "flex_flow": null,
            "width": null,
            "min_width": null,
            "border": null,
            "align_items": null,
            "bottom": null,
            "_model_module": "@jupyter-widgets/base",
            "top": null,
            "grid_column": null,
            "overflow_y": null,
            "overflow_x": null,
            "grid_auto_flow": null,
            "grid_area": null,
            "grid_template_columns": null,
            "flex": null,
            "_model_name": "LayoutModel",
            "justify_items": null,
            "grid_row": null,
            "max_height": null,
            "align_content": null,
            "visibility": null,
            "align_self": null,
            "height": null,
            "min_height": null,
            "padding": null,
            "grid_auto_rows": null,
            "grid_gap": null,
            "max_width": null,
            "order": null,
            "_view_module_version": "1.2.0",
            "grid_template_areas": null,
            "object_position": null,
            "object_fit": null,
            "grid_auto_columns": null,
            "margin": null,
            "display": null,
            "left": null
          }
        },
        "79ec70a8531f49b2af414201733dcd68": {
          "model_module": "@jupyter-widgets/controls",
          "model_name": "DescriptionStyleModel",
          "state": {
            "_view_name": "StyleView",
            "_model_name": "DescriptionStyleModel",
            "description_width": "",
            "_view_module": "@jupyter-widgets/base",
            "_model_module_version": "1.5.0",
            "_view_count": null,
            "_view_module_version": "1.2.0",
            "_model_module": "@jupyter-widgets/controls"
          }
        },
        "f0217406a1384e2a81035906d2546032": {
          "model_module": "@jupyter-widgets/base",
          "model_name": "LayoutModel",
          "state": {
            "_view_name": "LayoutView",
            "grid_template_rows": null,
            "right": null,
            "justify_content": null,
            "_view_module": "@jupyter-widgets/base",
            "overflow": null,
            "_model_module_version": "1.2.0",
            "_view_count": null,
            "flex_flow": null,
            "width": null,
            "min_width": null,
            "border": null,
            "align_items": null,
            "bottom": null,
            "_model_module": "@jupyter-widgets/base",
            "top": null,
            "grid_column": null,
            "overflow_y": null,
            "overflow_x": null,
            "grid_auto_flow": null,
            "grid_area": null,
            "grid_template_columns": null,
            "flex": null,
            "_model_name": "LayoutModel",
            "justify_items": null,
            "grid_row": null,
            "max_height": null,
            "align_content": null,
            "visibility": null,
            "align_self": null,
            "height": null,
            "min_height": null,
            "padding": null,
            "grid_auto_rows": null,
            "grid_gap": null,
            "max_width": null,
            "order": null,
            "_view_module_version": "1.2.0",
            "grid_template_areas": null,
            "object_position": null,
            "object_fit": null,
            "grid_auto_columns": null,
            "margin": null,
            "display": null,
            "left": null
          }
        },
        "f3dbd7cd936f4b68971c474ff82d450a": {
          "model_module": "@jupyter-widgets/controls",
          "model_name": "HBoxModel",
          "state": {
            "_view_name": "HBoxView",
            "_dom_classes": [],
            "_model_name": "HBoxModel",
            "_view_module": "@jupyter-widgets/controls",
            "_model_module_version": "1.5.0",
            "_view_count": null,
            "_view_module_version": "1.5.0",
            "box_style": "",
            "layout": "IPY_MODEL_f7b882c5a4a8489c88c953a5625bb03f",
            "_model_module": "@jupyter-widgets/controls",
            "children": [
              "IPY_MODEL_e1bd87007562472fb94bb12d9718efde",
              "IPY_MODEL_d89a61d42cd94814804a9722d4066ded"
            ]
          }
        },
        "f7b882c5a4a8489c88c953a5625bb03f": {
          "model_module": "@jupyter-widgets/base",
          "model_name": "LayoutModel",
          "state": {
            "_view_name": "LayoutView",
            "grid_template_rows": null,
            "right": null,
            "justify_content": null,
            "_view_module": "@jupyter-widgets/base",
            "overflow": null,
            "_model_module_version": "1.2.0",
            "_view_count": null,
            "flex_flow": null,
            "width": null,
            "min_width": null,
            "border": null,
            "align_items": null,
            "bottom": null,
            "_model_module": "@jupyter-widgets/base",
            "top": null,
            "grid_column": null,
            "overflow_y": null,
            "overflow_x": null,
            "grid_auto_flow": null,
            "grid_area": null,
            "grid_template_columns": null,
            "flex": null,
            "_model_name": "LayoutModel",
            "justify_items": null,
            "grid_row": null,
            "max_height": null,
            "align_content": null,
            "visibility": null,
            "align_self": null,
            "height": null,
            "min_height": null,
            "padding": null,
            "grid_auto_rows": null,
            "grid_gap": null,
            "max_width": null,
            "order": null,
            "_view_module_version": "1.2.0",
            "grid_template_areas": null,
            "object_position": null,
            "object_fit": null,
            "grid_auto_columns": null,
            "margin": null,
            "display": null,
            "left": null
          }
        },
        "e1bd87007562472fb94bb12d9718efde": {
          "model_module": "@jupyter-widgets/controls",
          "model_name": "FloatProgressModel",
          "state": {
            "_view_name": "ProgressView",
            "style": "IPY_MODEL_57c8cc50165041e19747da96b0a162f7",
            "_dom_classes": [],
            "description": "100%",
            "_model_name": "FloatProgressModel",
            "bar_style": "success",
            "max": 12426,
            "_view_module": "@jupyter-widgets/controls",
            "_model_module_version": "1.5.0",
            "value": 12426,
            "_view_count": null,
            "_view_module_version": "1.5.0",
            "orientation": "horizontal",
            "min": 0,
            "description_tooltip": null,
            "_model_module": "@jupyter-widgets/controls",
            "layout": "IPY_MODEL_e7c9e298ef2041afa865dc8a31b7296e"
          }
        },
        "d89a61d42cd94814804a9722d4066ded": {
          "model_module": "@jupyter-widgets/controls",
          "model_name": "HTMLModel",
          "state": {
            "_view_name": "HTMLView",
            "style": "IPY_MODEL_86b81d245ca54306aaa2a911d31a73cb",
            "_dom_classes": [],
            "description": "",
            "_model_name": "HTMLModel",
            "placeholder": "​",
            "_view_module": "@jupyter-widgets/controls",
            "_model_module_version": "1.5.0",
            "value": " 12426/12426 [07:07&lt;00:00, 29.08ex/s]",
            "_view_count": null,
            "_view_module_version": "1.5.0",
            "description_tooltip": null,
            "_model_module": "@jupyter-widgets/controls",
            "layout": "IPY_MODEL_23723a87f2334524a5d56de23a3e070d"
          }
        },
        "57c8cc50165041e19747da96b0a162f7": {
          "model_module": "@jupyter-widgets/controls",
          "model_name": "ProgressStyleModel",
          "state": {
            "_view_name": "StyleView",
            "_model_name": "ProgressStyleModel",
            "description_width": "initial",
            "_view_module": "@jupyter-widgets/base",
            "_model_module_version": "1.5.0",
            "_view_count": null,
            "_view_module_version": "1.2.0",
            "bar_color": null,
            "_model_module": "@jupyter-widgets/controls"
          }
        },
        "e7c9e298ef2041afa865dc8a31b7296e": {
          "model_module": "@jupyter-widgets/base",
          "model_name": "LayoutModel",
          "state": {
            "_view_name": "LayoutView",
            "grid_template_rows": null,
            "right": null,
            "justify_content": null,
            "_view_module": "@jupyter-widgets/base",
            "overflow": null,
            "_model_module_version": "1.2.0",
            "_view_count": null,
            "flex_flow": null,
            "width": null,
            "min_width": null,
            "border": null,
            "align_items": null,
            "bottom": null,
            "_model_module": "@jupyter-widgets/base",
            "top": null,
            "grid_column": null,
            "overflow_y": null,
            "overflow_x": null,
            "grid_auto_flow": null,
            "grid_area": null,
            "grid_template_columns": null,
            "flex": null,
            "_model_name": "LayoutModel",
            "justify_items": null,
            "grid_row": null,
            "max_height": null,
            "align_content": null,
            "visibility": null,
            "align_self": null,
            "height": null,
            "min_height": null,
            "padding": null,
            "grid_auto_rows": null,
            "grid_gap": null,
            "max_width": null,
            "order": null,
            "_view_module_version": "1.2.0",
            "grid_template_areas": null,
            "object_position": null,
            "object_fit": null,
            "grid_auto_columns": null,
            "margin": null,
            "display": null,
            "left": null
          }
        },
        "86b81d245ca54306aaa2a911d31a73cb": {
          "model_module": "@jupyter-widgets/controls",
          "model_name": "DescriptionStyleModel",
          "state": {
            "_view_name": "StyleView",
            "_model_name": "DescriptionStyleModel",
            "description_width": "",
            "_view_module": "@jupyter-widgets/base",
            "_model_module_version": "1.5.0",
            "_view_count": null,
            "_view_module_version": "1.2.0",
            "_model_module": "@jupyter-widgets/controls"
          }
        },
        "23723a87f2334524a5d56de23a3e070d": {
          "model_module": "@jupyter-widgets/base",
          "model_name": "LayoutModel",
          "state": {
            "_view_name": "LayoutView",
            "grid_template_rows": null,
            "right": null,
            "justify_content": null,
            "_view_module": "@jupyter-widgets/base",
            "overflow": null,
            "_model_module_version": "1.2.0",
            "_view_count": null,
            "flex_flow": null,
            "width": null,
            "min_width": null,
            "border": null,
            "align_items": null,
            "bottom": null,
            "_model_module": "@jupyter-widgets/base",
            "top": null,
            "grid_column": null,
            "overflow_y": null,
            "overflow_x": null,
            "grid_auto_flow": null,
            "grid_area": null,
            "grid_template_columns": null,
            "flex": null,
            "_model_name": "LayoutModel",
            "justify_items": null,
            "grid_row": null,
            "max_height": null,
            "align_content": null,
            "visibility": null,
            "align_self": null,
            "height": null,
            "min_height": null,
            "padding": null,
            "grid_auto_rows": null,
            "grid_gap": null,
            "max_width": null,
            "order": null,
            "_view_module_version": "1.2.0",
            "grid_template_areas": null,
            "object_position": null,
            "object_fit": null,
            "grid_auto_columns": null,
            "margin": null,
            "display": null,
            "left": null
          }
        },
        "d7aade204e624718b0dcf8bbb93bc5db": {
          "model_module": "@jupyter-widgets/controls",
          "model_name": "HBoxModel",
          "state": {
            "_view_name": "HBoxView",
            "_dom_classes": [],
            "_model_name": "HBoxModel",
            "_view_module": "@jupyter-widgets/controls",
            "_model_module_version": "1.5.0",
            "_view_count": null,
            "_view_module_version": "1.5.0",
            "box_style": "",
            "layout": "IPY_MODEL_3552b7d320c04cf1b299fefeb3e822a3",
            "_model_module": "@jupyter-widgets/controls",
            "children": [
              "IPY_MODEL_76b4159c89de4a91b66c65711ed13f5d",
              "IPY_MODEL_b873be67c37c49dabd0d043aa914f681"
            ]
          }
        },
        "3552b7d320c04cf1b299fefeb3e822a3": {
          "model_module": "@jupyter-widgets/base",
          "model_name": "LayoutModel",
          "state": {
            "_view_name": "LayoutView",
            "grid_template_rows": null,
            "right": null,
            "justify_content": null,
            "_view_module": "@jupyter-widgets/base",
            "overflow": null,
            "_model_module_version": "1.2.0",
            "_view_count": null,
            "flex_flow": null,
            "width": null,
            "min_width": null,
            "border": null,
            "align_items": null,
            "bottom": null,
            "_model_module": "@jupyter-widgets/base",
            "top": null,
            "grid_column": null,
            "overflow_y": null,
            "overflow_x": null,
            "grid_auto_flow": null,
            "grid_area": null,
            "grid_template_columns": null,
            "flex": null,
            "_model_name": "LayoutModel",
            "justify_items": null,
            "grid_row": null,
            "max_height": null,
            "align_content": null,
            "visibility": null,
            "align_self": null,
            "height": null,
            "min_height": null,
            "padding": null,
            "grid_auto_rows": null,
            "grid_gap": null,
            "max_width": null,
            "order": null,
            "_view_module_version": "1.2.0",
            "grid_template_areas": null,
            "object_position": null,
            "object_fit": null,
            "grid_auto_columns": null,
            "margin": null,
            "display": null,
            "left": null
          }
        },
        "76b4159c89de4a91b66c65711ed13f5d": {
          "model_module": "@jupyter-widgets/controls",
          "model_name": "FloatProgressModel",
          "state": {
            "_view_name": "ProgressView",
            "style": "IPY_MODEL_78e12199319343f8ae2be17d64ac6863",
            "_dom_classes": [],
            "description": "  6%",
            "_model_name": "FloatProgressModel",
            "bar_style": "danger",
            "max": 97945,
            "_view_module": "@jupyter-widgets/controls",
            "_model_module_version": "1.5.0",
            "value": 5707,
            "_view_count": null,
            "_view_module_version": "1.5.0",
            "orientation": "horizontal",
            "min": 0,
            "description_tooltip": null,
            "_model_module": "@jupyter-widgets/controls",
            "layout": "IPY_MODEL_b0eebd84a33d4c3c8d5ab3ebc69289bb"
          }
        },
        "b873be67c37c49dabd0d043aa914f681": {
          "model_module": "@jupyter-widgets/controls",
          "model_name": "HTMLModel",
          "state": {
            "_view_name": "HTMLView",
            "style": "IPY_MODEL_05bbe8b0b75b479f920f47b46883e0b4",
            "_dom_classes": [],
            "description": "",
            "_model_name": "HTMLModel",
            "placeholder": "​",
            "_view_module": "@jupyter-widgets/controls",
            "_model_module_version": "1.5.0",
            "value": " 5707/97945 [13:14&lt;4:33:55,  5.61ex/s]",
            "_view_count": null,
            "_view_module_version": "1.5.0",
            "description_tooltip": null,
            "_model_module": "@jupyter-widgets/controls",
            "layout": "IPY_MODEL_57269be0c03a4ca8b93bbcf9472096ce"
          }
        },
        "78e12199319343f8ae2be17d64ac6863": {
          "model_module": "@jupyter-widgets/controls",
          "model_name": "ProgressStyleModel",
          "state": {
            "_view_name": "StyleView",
            "_model_name": "ProgressStyleModel",
            "description_width": "initial",
            "_view_module": "@jupyter-widgets/base",
            "_model_module_version": "1.5.0",
            "_view_count": null,
            "_view_module_version": "1.2.0",
            "bar_color": null,
            "_model_module": "@jupyter-widgets/controls"
          }
        },
        "b0eebd84a33d4c3c8d5ab3ebc69289bb": {
          "model_module": "@jupyter-widgets/base",
          "model_name": "LayoutModel",
          "state": {
            "_view_name": "LayoutView",
            "grid_template_rows": null,
            "right": null,
            "justify_content": null,
            "_view_module": "@jupyter-widgets/base",
            "overflow": null,
            "_model_module_version": "1.2.0",
            "_view_count": null,
            "flex_flow": null,
            "width": null,
            "min_width": null,
            "border": null,
            "align_items": null,
            "bottom": null,
            "_model_module": "@jupyter-widgets/base",
            "top": null,
            "grid_column": null,
            "overflow_y": null,
            "overflow_x": null,
            "grid_auto_flow": null,
            "grid_area": null,
            "grid_template_columns": null,
            "flex": null,
            "_model_name": "LayoutModel",
            "justify_items": null,
            "grid_row": null,
            "max_height": null,
            "align_content": null,
            "visibility": null,
            "align_self": null,
            "height": null,
            "min_height": null,
            "padding": null,
            "grid_auto_rows": null,
            "grid_gap": null,
            "max_width": null,
            "order": null,
            "_view_module_version": "1.2.0",
            "grid_template_areas": null,
            "object_position": null,
            "object_fit": null,
            "grid_auto_columns": null,
            "margin": null,
            "display": null,
            "left": null
          }
        },
        "05bbe8b0b75b479f920f47b46883e0b4": {
          "model_module": "@jupyter-widgets/controls",
          "model_name": "DescriptionStyleModel",
          "state": {
            "_view_name": "StyleView",
            "_model_name": "DescriptionStyleModel",
            "description_width": "",
            "_view_module": "@jupyter-widgets/base",
            "_model_module_version": "1.5.0",
            "_view_count": null,
            "_view_module_version": "1.2.0",
            "_model_module": "@jupyter-widgets/controls"
          }
        },
        "57269be0c03a4ca8b93bbcf9472096ce": {
          "model_module": "@jupyter-widgets/base",
          "model_name": "LayoutModel",
          "state": {
            "_view_name": "LayoutView",
            "grid_template_rows": null,
            "right": null,
            "justify_content": null,
            "_view_module": "@jupyter-widgets/base",
            "overflow": null,
            "_model_module_version": "1.2.0",
            "_view_count": null,
            "flex_flow": null,
            "width": null,
            "min_width": null,
            "border": null,
            "align_items": null,
            "bottom": null,
            "_model_module": "@jupyter-widgets/base",
            "top": null,
            "grid_column": null,
            "overflow_y": null,
            "overflow_x": null,
            "grid_auto_flow": null,
            "grid_area": null,
            "grid_template_columns": null,
            "flex": null,
            "_model_name": "LayoutModel",
            "justify_items": null,
            "grid_row": null,
            "max_height": null,
            "align_content": null,
            "visibility": null,
            "align_self": null,
            "height": null,
            "min_height": null,
            "padding": null,
            "grid_auto_rows": null,
            "grid_gap": null,
            "max_width": null,
            "order": null,
            "_view_module_version": "1.2.0",
            "grid_template_areas": null,
            "object_position": null,
            "object_fit": null,
            "grid_auto_columns": null,
            "margin": null,
            "display": null,
            "left": null
          }
        }
      }
    }
  },
  "cells": [
    {
      "cell_type": "code",
      "metadata": {
        "id": "34otj-lpRRD-",
        "colab": {
          "base_uri": "https://localhost:8080/"
        },
        "outputId": "24dc730b-72c9-49cc-8ddd-ddf2ad356329"
      },
      "source": [
        "!git clone https://github.com/Muennighoff/performers.git\r\n",
        "!cd performers; pip install -q -e '.[dev]'\r\n",
        "\r\n",
        "!pip install -q datasets\r\n",
        "!pip install -q ml_collections\r\n",
        "!pip install -q --upgrade jax jaxlib\r\n",
        "!pip install -q ltp"
      ],
      "execution_count": 1,
      "outputs": [
        {
          "output_type": "stream",
          "text": [
            "Cloning into 'performers'...\n",
            "remote: Enumerating objects: 7, done.\u001b[K\n",
            "remote: Counting objects: 100% (7/7), done.\u001b[K\n",
            "remote: Compressing objects: 100% (6/6), done.\u001b[K\n",
            "remote: Total 56020 (delta 0), reused 2 (delta 0), pack-reused 56013\u001b[K\n",
            "Receiving objects: 100% (56020/56020), 42.39 MiB | 22.57 MiB/s, done.\n",
            "Resolving deltas: 100% (39265/39265), done.\n",
            "  Installing build dependencies ... \u001b[?25l\u001b[?25hdone\n",
            "  Getting requirements to build wheel ... \u001b[?25l\u001b[?25hdone\n",
            "    Preparing wheel metadata ... \u001b[?25l\u001b[?25hdone\n",
            "\u001b[K     |████████████████████████████████| 890kB 6.3MB/s \n",
            "\u001b[K     |████████████████████████████████| 2.9MB 16.2MB/s \n",
            "\u001b[K     |████████████████████████████████| 102kB 8.7MB/s \n",
            "\u001b[K     |████████████████████████████████| 1.1MB 51.5MB/s \n",
            "\u001b[?25h  Installing build dependencies ... \u001b[?25l\u001b[?25hdone\n",
            "  Getting requirements to build wheel ... \u001b[?25l\u001b[?25hdone\n",
            "    Preparing wheel metadata ... \u001b[?25l\u001b[?25hdone\n",
            "\u001b[K     |████████████████████████████████| 31.9MB 263kB/s \n",
            "\u001b[K     |████████████████████████████████| 13.4MB 50.1MB/s \n",
            "\u001b[K     |████████████████████████████████| 163kB 29.7MB/s \n",
            "\u001b[K     |████████████████████████████████| 6.4MB 45.8MB/s \n",
            "\u001b[K     |████████████████████████████████| 1.1MB 42.3MB/s \n",
            "\u001b[K     |████████████████████████████████| 81kB 4.2MB/s \n",
            "\u001b[K     |████████████████████████████████| 112kB 41.2MB/s \n",
            "\u001b[K     |████████████████████████████████| 47.4MB 145kB/s \n",
            "\u001b[K     |████████████████████████████████| 491kB 47.1MB/s \n",
            "\u001b[K     |████████████████████████████████| 2.9MB 41.9MB/s \n",
            "\u001b[K     |████████████████████████████████| 71kB 4.4MB/s \n",
            "\u001b[K     |████████████████████████████████| 163kB 42.2MB/s \n",
            "\u001b[K     |████████████████████████████████| 8.2MB 34.9MB/s \n",
            "\u001b[K     |████████████████████████████████| 14.5MB 235kB/s \n",
            "\u001b[K     |████████████████████████████████| 92kB 3.7MB/s \n",
            "\u001b[K     |████████████████████████████████| 747kB 25.1MB/s \n",
            "\u001b[K     |████████████████████████████████| 51kB 3.3MB/s \n",
            "\u001b[K     |████████████████████████████████| 71kB 4.2MB/s \n",
            "\u001b[K     |████████████████████████████████| 51kB 2.8MB/s \n",
            "\u001b[K     |████████████████████████████████| 122kB 23.1MB/s \n",
            "\u001b[K     |████████████████████████████████| 102kB 3.2MB/s \n",
            "\u001b[K     |████████████████████████████████| 92kB 5.7MB/s \n",
            "\u001b[K     |████████████████████████████████| 92kB 4.9MB/s \n",
            "\u001b[K     |████████████████████████████████| 20.7MB 43.7MB/s \n",
            "\u001b[K     |████████████████████████████████| 245kB 22.6MB/s \n",
            "\u001b[K     |████████████████████████████████| 51kB 3.0MB/s \n",
            "\u001b[?25h  Building wheel for black (PEP 517) ... \u001b[?25l\u001b[?25hdone\n",
            "  Building wheel for sacremoses (setup.py) ... \u001b[?25l\u001b[?25hdone\n",
            "  Building wheel for timeout-decorator (setup.py) ... \u001b[?25l\u001b[?25hdone\n",
            "  Building wheel for ipadic (setup.py) ... \u001b[?25l\u001b[?25hdone\n",
            "  Building wheel for unidic (setup.py) ... \u001b[?25l\u001b[?25hdone\n",
            "  Building wheel for unidic-lite (setup.py) ... \u001b[?25l\u001b[?25hdone\n",
            "  Building wheel for fire (setup.py) ... \u001b[?25l\u001b[?25hdone\n",
            "\u001b[31mERROR: datascience 0.10.6 has requirement folium==0.2.1, but you'll have folium 0.8.3 which is incompatible.\u001b[0m\n",
            "\u001b[31mERROR: black 20.8b1 has requirement regex>=2020.1.8, but you'll have regex 2019.12.20 which is incompatible.\u001b[0m\n",
            "\u001b[31mERROR: pytest-forked 1.3.0 has requirement pytest>=3.10, but you'll have pytest 3.6.4 which is incompatible.\u001b[0m\n",
            "\u001b[31mERROR: pytest-xdist 2.2.0 has requirement pytest>=6.0.0, but you'll have pytest 3.6.4 which is incompatible.\u001b[0m\n",
            "\u001b[K     |████████████████████████████████| 92kB 3.6MB/s \n",
            "\u001b[K     |████████████████████████████████| 34.2MB 195kB/s \n",
            "\u001b[K     |████████████████████████████████| 81kB 4.0MB/s \n",
            "\u001b[?25h  Building wheel for pygtrie (setup.py) ... \u001b[?25l\u001b[?25hdone\n"
          ],
          "name": "stdout"
        }
      ]
    },
    {
      "cell_type": "code",
      "metadata": {
        "id": "M7rUbtS30Ejz"
      },
      "source": [
        "import os\r\n",
        "import sys\r\n",
        "import tensorflow as tf\r\n",
        "import math\r\n",
        "from datasets import load_dataset\r\n",
        "\r\n",
        "module_path = os.path.abspath(os.path.join('./performers/src/'))\r\n",
        "if module_path not in sys.path:\r\n",
        "    sys.path.append(module_path)\r\n",
        "\r\n",
        "from transformers.models.distilbert import DistilBertConfig, DistilBertForSequenceClassification\r\n",
        "from transformers.models.distilbert import TFDistilBertForSequenceClassification, TFDistilBertForMaskedLM\r\n",
        "from transformers.models.bert import BertConfig, TFBertForSequenceClassification"
      ],
      "execution_count": 10,
      "outputs": []
    },
    {
      "cell_type": "code",
      "metadata": {
        "colab": {
          "base_uri": "https://localhost:8080/"
        },
        "id": "C1mC_a1oxB1L",
        "outputId": "03f4eb79-fcd7-4bde-909b-5bafe1d92955"
      },
      "source": [
        "# If this cell takes very long to run; factory reset and run this cell the very first\r\n",
        "\r\n",
        "tf.keras.backend.clear_session()\r\n",
        "\r\n",
        "try:\r\n",
        "    # Locate TPU\r\n",
        "    TPU_WORKER = 'grpc://' + os.environ['COLAB_TPU_ADDR']\r\n",
        "    # Establish communication / Locates TPU on the network\r\n",
        "    resolver = tf.distribute.cluster_resolver.TPUClusterResolver(tpu=TPU_WORKER)\r\n",
        "    # Connect\r\n",
        "    tf.config.experimental_connect_to_cluster(resolver)\r\n",
        "    # Start TPU\r\n",
        "    tf.tpu.experimental.initialize_tpu_system(resolver)\r\n",
        "    # Set strategy\r\n",
        "    strategy = tf.distribute.experimental.TPUStrategy(resolver)\r\n",
        "\r\n",
        "    print(\"Number of accelerators: \", strategy.num_replicas_in_sync)\r\n",
        "\r\n",
        "except ValueError:\r\n",
        "    print(\"No TPU found\")\r\n",
        "\r\n",
        "# Check devices\r\n",
        "print(\"All devices: \", tf.config.list_logical_devices('TPU'))"
      ],
      "execution_count": 6,
      "outputs": [
        {
          "output_type": "stream",
          "text": [
            "INFO:absl:Entering into master device scope: /job:worker/replica:0/task:0/device:CPU:0\n"
          ],
          "name": "stderr"
        },
        {
          "output_type": "stream",
          "text": [
            "INFO:tensorflow:Initializing the TPU system: grpc://10.5.69.130:8470\n"
          ],
          "name": "stdout"
        },
        {
          "output_type": "stream",
          "text": [
            "INFO:tensorflow:Initializing the TPU system: grpc://10.5.69.130:8470\n"
          ],
          "name": "stderr"
        },
        {
          "output_type": "stream",
          "text": [
            "INFO:tensorflow:Clearing out eager caches\n"
          ],
          "name": "stdout"
        },
        {
          "output_type": "stream",
          "text": [
            "INFO:tensorflow:Clearing out eager caches\n"
          ],
          "name": "stderr"
        },
        {
          "output_type": "stream",
          "text": [
            "INFO:tensorflow:Finished initializing TPU system.\n"
          ],
          "name": "stdout"
        },
        {
          "output_type": "stream",
          "text": [
            "INFO:tensorflow:Finished initializing TPU system.\n",
            "WARNING:absl:`tf.distribute.experimental.TPUStrategy` is deprecated, please use  the non experimental symbol `tf.distribute.TPUStrategy` instead.\n"
          ],
          "name": "stderr"
        },
        {
          "output_type": "stream",
          "text": [
            "INFO:tensorflow:Found TPU system:\n"
          ],
          "name": "stdout"
        },
        {
          "output_type": "stream",
          "text": [
            "INFO:tensorflow:Found TPU system:\n"
          ],
          "name": "stderr"
        },
        {
          "output_type": "stream",
          "text": [
            "INFO:tensorflow:*** Num TPU Cores: 8\n"
          ],
          "name": "stdout"
        },
        {
          "output_type": "stream",
          "text": [
            "INFO:tensorflow:*** Num TPU Cores: 8\n"
          ],
          "name": "stderr"
        },
        {
          "output_type": "stream",
          "text": [
            "INFO:tensorflow:*** Num TPU Workers: 1\n"
          ],
          "name": "stdout"
        },
        {
          "output_type": "stream",
          "text": [
            "INFO:tensorflow:*** Num TPU Workers: 1\n"
          ],
          "name": "stderr"
        },
        {
          "output_type": "stream",
          "text": [
            "INFO:tensorflow:*** Num TPU Cores Per Worker: 8\n"
          ],
          "name": "stdout"
        },
        {
          "output_type": "stream",
          "text": [
            "INFO:tensorflow:*** Num TPU Cores Per Worker: 8\n"
          ],
          "name": "stderr"
        },
        {
          "output_type": "stream",
          "text": [
            "INFO:tensorflow:*** Available Device: _DeviceAttributes(/job:localhost/replica:0/task:0/device:CPU:0, CPU, 0, 0)\n"
          ],
          "name": "stdout"
        },
        {
          "output_type": "stream",
          "text": [
            "INFO:tensorflow:*** Available Device: _DeviceAttributes(/job:localhost/replica:0/task:0/device:CPU:0, CPU, 0, 0)\n"
          ],
          "name": "stderr"
        },
        {
          "output_type": "stream",
          "text": [
            "INFO:tensorflow:*** Available Device: _DeviceAttributes(/job:worker/replica:0/task:0/device:CPU:0, CPU, 0, 0)\n"
          ],
          "name": "stdout"
        },
        {
          "output_type": "stream",
          "text": [
            "INFO:tensorflow:*** Available Device: _DeviceAttributes(/job:worker/replica:0/task:0/device:CPU:0, CPU, 0, 0)\n"
          ],
          "name": "stderr"
        },
        {
          "output_type": "stream",
          "text": [
            "INFO:tensorflow:*** Available Device: _DeviceAttributes(/job:worker/replica:0/task:0/device:TPU:0, TPU, 0, 0)\n"
          ],
          "name": "stdout"
        },
        {
          "output_type": "stream",
          "text": [
            "INFO:tensorflow:*** Available Device: _DeviceAttributes(/job:worker/replica:0/task:0/device:TPU:0, TPU, 0, 0)\n"
          ],
          "name": "stderr"
        },
        {
          "output_type": "stream",
          "text": [
            "INFO:tensorflow:*** Available Device: _DeviceAttributes(/job:worker/replica:0/task:0/device:TPU:1, TPU, 0, 0)\n"
          ],
          "name": "stdout"
        },
        {
          "output_type": "stream",
          "text": [
            "INFO:tensorflow:*** Available Device: _DeviceAttributes(/job:worker/replica:0/task:0/device:TPU:1, TPU, 0, 0)\n"
          ],
          "name": "stderr"
        },
        {
          "output_type": "stream",
          "text": [
            "INFO:tensorflow:*** Available Device: _DeviceAttributes(/job:worker/replica:0/task:0/device:TPU:2, TPU, 0, 0)\n"
          ],
          "name": "stdout"
        },
        {
          "output_type": "stream",
          "text": [
            "INFO:tensorflow:*** Available Device: _DeviceAttributes(/job:worker/replica:0/task:0/device:TPU:2, TPU, 0, 0)\n"
          ],
          "name": "stderr"
        },
        {
          "output_type": "stream",
          "text": [
            "INFO:tensorflow:*** Available Device: _DeviceAttributes(/job:worker/replica:0/task:0/device:TPU:3, TPU, 0, 0)\n"
          ],
          "name": "stdout"
        },
        {
          "output_type": "stream",
          "text": [
            "INFO:tensorflow:*** Available Device: _DeviceAttributes(/job:worker/replica:0/task:0/device:TPU:3, TPU, 0, 0)\n"
          ],
          "name": "stderr"
        },
        {
          "output_type": "stream",
          "text": [
            "INFO:tensorflow:*** Available Device: _DeviceAttributes(/job:worker/replica:0/task:0/device:TPU:4, TPU, 0, 0)\n"
          ],
          "name": "stdout"
        },
        {
          "output_type": "stream",
          "text": [
            "INFO:tensorflow:*** Available Device: _DeviceAttributes(/job:worker/replica:0/task:0/device:TPU:4, TPU, 0, 0)\n"
          ],
          "name": "stderr"
        },
        {
          "output_type": "stream",
          "text": [
            "INFO:tensorflow:*** Available Device: _DeviceAttributes(/job:worker/replica:0/task:0/device:TPU:5, TPU, 0, 0)\n"
          ],
          "name": "stdout"
        },
        {
          "output_type": "stream",
          "text": [
            "INFO:tensorflow:*** Available Device: _DeviceAttributes(/job:worker/replica:0/task:0/device:TPU:5, TPU, 0, 0)\n"
          ],
          "name": "stderr"
        },
        {
          "output_type": "stream",
          "text": [
            "INFO:tensorflow:*** Available Device: _DeviceAttributes(/job:worker/replica:0/task:0/device:TPU:6, TPU, 0, 0)\n"
          ],
          "name": "stdout"
        },
        {
          "output_type": "stream",
          "text": [
            "INFO:tensorflow:*** Available Device: _DeviceAttributes(/job:worker/replica:0/task:0/device:TPU:6, TPU, 0, 0)\n"
          ],
          "name": "stderr"
        },
        {
          "output_type": "stream",
          "text": [
            "INFO:tensorflow:*** Available Device: _DeviceAttributes(/job:worker/replica:0/task:0/device:TPU:7, TPU, 0, 0)\n"
          ],
          "name": "stdout"
        },
        {
          "output_type": "stream",
          "text": [
            "INFO:tensorflow:*** Available Device: _DeviceAttributes(/job:worker/replica:0/task:0/device:TPU:7, TPU, 0, 0)\n"
          ],
          "name": "stderr"
        },
        {
          "output_type": "stream",
          "text": [
            "INFO:tensorflow:*** Available Device: _DeviceAttributes(/job:worker/replica:0/task:0/device:TPU_SYSTEM:0, TPU_SYSTEM, 0, 0)\n"
          ],
          "name": "stdout"
        },
        {
          "output_type": "stream",
          "text": [
            "INFO:tensorflow:*** Available Device: _DeviceAttributes(/job:worker/replica:0/task:0/device:TPU_SYSTEM:0, TPU_SYSTEM, 0, 0)\n"
          ],
          "name": "stderr"
        },
        {
          "output_type": "stream",
          "text": [
            "INFO:tensorflow:*** Available Device: _DeviceAttributes(/job:worker/replica:0/task:0/device:XLA_CPU:0, XLA_CPU, 0, 0)\n"
          ],
          "name": "stdout"
        },
        {
          "output_type": "stream",
          "text": [
            "INFO:tensorflow:*** Available Device: _DeviceAttributes(/job:worker/replica:0/task:0/device:XLA_CPU:0, XLA_CPU, 0, 0)\n"
          ],
          "name": "stderr"
        },
        {
          "output_type": "stream",
          "text": [
            "Number of accelerators:  8\n",
            "All devices:  [LogicalDevice(name='/job:worker/replica:0/task:0/device:TPU:7', device_type='TPU'), LogicalDevice(name='/job:worker/replica:0/task:0/device:TPU:6', device_type='TPU'), LogicalDevice(name='/job:worker/replica:0/task:0/device:TPU:5', device_type='TPU'), LogicalDevice(name='/job:worker/replica:0/task:0/device:TPU:4', device_type='TPU'), LogicalDevice(name='/job:worker/replica:0/task:0/device:TPU:3', device_type='TPU'), LogicalDevice(name='/job:worker/replica:0/task:0/device:TPU:0', device_type='TPU'), LogicalDevice(name='/job:worker/replica:0/task:0/device:TPU:1', device_type='TPU'), LogicalDevice(name='/job:worker/replica:0/task:0/device:TPU:2', device_type='TPU')]\n"
          ],
          "name": "stdout"
        }
      ]
    },
    {
      "cell_type": "markdown",
      "metadata": {
        "id": "XqHixIWdiWC-"
      },
      "source": [
        "##### Tokenizer"
      ]
    },
    {
      "cell_type": "code",
      "metadata": {
        "id": "pH0BhAL3cnNb"
      },
      "source": [
        "## Whole Word Masking\r\n",
        "\r\n",
        "### WWM for CN\r\n",
        "\r\n",
        "# References:\r\n",
        "# https://github.com/brightmart/roberta_zh/blob/13f7849f0cb0e11573e032acddb35b83b096224e/create_pretraining_data.py\r\n",
        "# https://github.com/huggingface/transformers/blob/9152f16023b59d262b51573714b40325c8e49370/examples/legacy/run_chinese_ref.py#L78\r\n",
        "\r\n",
        "\r\n",
        "# 1) Generate ref ids based on LTP tokenizer > prepare_ref\r\n",
        "# 2) Generate mask for whole words\r\n",
        "# 3) Implement the masking\r\n",
        "\r\n",
        "from transformers import AutoTokenizer\r\n",
        "import random\r\n",
        "import numpy as np\r\n",
        "from ltp import LTP\r\n",
        "\r\n",
        "import tensorflow as tf\r\n",
        "\r\n",
        "\r\n",
        "def random_word(tokens, ref_ids, tokenizer):\r\n",
        "    \"\"\"\r\n",
        "    Masking some random tokens for Language Model task with probabilities as in the original BERT paper.\r\n",
        "    :param tokens: list of str, tokenized sentence.\r\n",
        "    :param ref_ids: list of int, 1 is where to place a mask\r\n",
        "    :param tokenizer: Tokenizer, object used for tokenization (we need it's vocab here)\r\n",
        "    :return: (list of str, list of int), masked tokens and related labels for LM prediction\r\n",
        "    \"\"\"\r\n",
        "    output_label = []\r\n",
        "\r\n",
        "    for i, (token, ref_id) in enumerate(zip(tokens, ref_ids)):\r\n",
        "\r\n",
        "        prob = random.random()\r\n",
        "\r\n",
        "        if ref_id == 1:\r\n",
        "\r\n",
        "            # 80% randomly change token to mask token\r\n",
        "            if prob < 0.8:\r\n",
        "                tokens[i] = \"[MASK]\"\r\n",
        "\r\n",
        "            # 10% randomly change token to random token\r\n",
        "            elif prob < 0.9:\r\n",
        "                tokens[i] = random.choice(list(tokenizer.vocab.items()))[0]\r\n",
        "\r\n",
        "            # -> rest 10% randomly keep current token\r\n",
        "\r\n",
        "            # append current token to output (we will predict these later)\r\n",
        "            try:\r\n",
        "                output_label.append(tokenizer.vocab[token])\r\n",
        "            except KeyError:\r\n",
        "                # For unknown words (should not occur with BPE vocab)\r\n",
        "                output_label.append(tokenizer.vocab[\"[UNK]\"])\r\n",
        "        else:\r\n",
        "            # no masking token (will be ignored by loss function later)\r\n",
        "            output_label.append(-100)\r\n",
        "\r\n",
        "    return tokens, output_label\r\n",
        "\r\n",
        "def _is_chinese_char(cp):\r\n",
        "    \"\"\"\r\n",
        "    Checks whether CP is the codepoint of a CJK character.\r\n",
        "    \"\"\"\r\n",
        "    # This defines a \"chinese character\" as anything in the CJK Unicode block:\r\n",
        "    #   https://en.wikipedia.org/wiki/CJK_Unified_Ideographs_(Unicode_block)\r\n",
        "    #\r\n",
        "    # Note that the CJK Unicode block is NOT all Japanese and Korean characters,\r\n",
        "    # despite its name. The modern Korean Hangul alphabet is a different block,\r\n",
        "    # as is Japanese Hiragana and Katakana. Those alphabets are used to write\r\n",
        "    # space-separated words, so they are not treated specially and handled\r\n",
        "    # like the all of the other languages.\r\n",
        "    if (\r\n",
        "        (cp >= 0x4E00 and cp <= 0x9FFF)\r\n",
        "        or (cp >= 0x3400 and cp <= 0x4DBF)  #\r\n",
        "        or (cp >= 0x20000 and cp <= 0x2A6DF)  #\r\n",
        "        or (cp >= 0x2A700 and cp <= 0x2B73F)  #\r\n",
        "        or (cp >= 0x2B740 and cp <= 0x2B81F)  #\r\n",
        "        or (cp >= 0x2B820 and cp <= 0x2CEAF)  #\r\n",
        "        or (cp >= 0xF900 and cp <= 0xFAFF)\r\n",
        "        or (cp >= 0x2F800 and cp <= 0x2FA1F)  #\r\n",
        "    ):  #\r\n",
        "        return True\r\n",
        "\r\n",
        "    return False\r\n",
        "\r\n",
        "\r\n",
        "def is_chinese(word):\r\n",
        "    \"\"\"\r\n",
        "    Args:\r\n",
        "      word: str\r\n",
        "    \"\"\"\r\n",
        "    # word like '180' or '身高' or '神'\r\n",
        "    for char in word:\r\n",
        "        char = ord(char)\r\n",
        "        if not _is_chinese_char(char):\r\n",
        "            return 0\r\n",
        "    return 1\r\n",
        "\r\n",
        "\r\n",
        "def get_chinese_word(tokens):\r\n",
        "    \"\"\"\r\n",
        "    Args:\r\n",
        "      List[str]\r\n",
        "    \r\n",
        "    \"\"\"\r\n",
        "    word_set = set()\r\n",
        "\r\n",
        "    for token in tokens:\r\n",
        "        chinese_word = len(token) > 1 and is_chinese(token)\r\n",
        "        if chinese_word:\r\n",
        "            word_set.add(token)\r\n",
        "    word_list = list(word_set)\r\n",
        "    return word_list\r\n",
        "\r\n",
        "\r\n",
        "def add_sub_symbol(bert_tokens, chinese_word_set):\r\n",
        "    \"\"\"\r\n",
        "    Args:\r\n",
        "      bert_tokens: List[str]\r\n",
        "      chinese_word_set: set\r\n",
        "    \"\"\"\r\n",
        "    if not chinese_word_set:\r\n",
        "        return bert_tokens\r\n",
        "    max_word_len = max([len(w) for w in chinese_word_set])\r\n",
        "\r\n",
        "    bert_word = bert_tokens\r\n",
        "    start, end = 0, len(bert_word)\r\n",
        "    while start < end:\r\n",
        "        single_word = True\r\n",
        "        if is_chinese(bert_word[start]):\r\n",
        "            l = min(end - start, max_word_len)\r\n",
        "            for i in range(l, 1, -1):\r\n",
        "                whole_word = \"\".join(bert_word[start : start + i])\r\n",
        "                if whole_word in chinese_word_set:\r\n",
        "                    for j in range(start + 1, start + i):\r\n",
        "                        bert_word[j] = \"##\" + bert_word[j]\r\n",
        "                    start = start + i\r\n",
        "                    single_word = False\r\n",
        "                    break\r\n",
        "        if single_word:\r\n",
        "            start += 1\r\n",
        "    return bert_word\r\n",
        "\r\n",
        "def prepare_ref(lines, ltp_tokenizer, bert_tokenizer):\r\n",
        "    \"\"\"\r\n",
        "    \r\n",
        "    Args:\r\n",
        "      lines: List[str] - e.g. [text1, text2]\r\n",
        "      ltp_tokenizer\r\n",
        "      bert_tokenizer\r\n",
        "\r\n",
        "    Returns:\r\n",
        "      ref_ids: List[List[int], ...]\r\n",
        "    \r\n",
        "    \"\"\"\r\n",
        "\r\n",
        "    ltp_res = []\r\n",
        "\r\n",
        "    for i in range(0, len(lines), 100):\r\n",
        "        res = ltp_tokenizer.seg(lines[i : i + 100])[0]\r\n",
        "        res = [get_chinese_word(r) for r in res]\r\n",
        "        ltp_res.extend(res)\r\n",
        "    assert len(ltp_res) == len(lines)\r\n",
        "\r\n",
        "    bert_res = []\r\n",
        "    for i in range(0, len(lines), 100):\r\n",
        "        res = bert_tokenizer(lines[i : i + 100], add_special_tokens=True, truncation=True, max_length=512)\r\n",
        "        bert_res.extend(res[\"input_ids\"])\r\n",
        "    assert len(bert_res) == len(lines)\r\n",
        "\r\n",
        "    ref_ids = []\r\n",
        "    for input_ids, chinese_word in zip(bert_res, ltp_res):\r\n",
        "\r\n",
        "        input_tokens = []\r\n",
        "        for id in input_ids:\r\n",
        "            token = bert_tokenizer._convert_id_to_token(id)\r\n",
        "            input_tokens.append(token)\r\n",
        "        input_tokens = add_sub_symbol(input_tokens, chinese_word)\r\n",
        "        ref_id = []\r\n",
        "        # We only save pos of chinese subwords start with ##, which mean is part of a whole word.\r\n",
        "        for i, token in enumerate(input_tokens):\r\n",
        "            if token[:2] == \"##\":\r\n",
        "                clean_token = token[2:]\r\n",
        "                # save chinese tokens' pos\r\n",
        "                if len(clean_token) == 1 and _is_chinese_char(ord(clean_token)):\r\n",
        "                    ref_id.append(i)\r\n",
        "        ref_ids.append(ref_id)\r\n",
        "\r\n",
        "    assert len(ref_ids) == len(bert_res)\r\n",
        "\r\n",
        "    return ref_ids\r\n",
        "\r\n",
        "\r\n",
        "def cn_whole_word_mask(input_tokens, ref_ids, max_predictions=512, mlm_probability=0.15):\r\n",
        "    \"\"\"\r\n",
        "    Masks whole words in CN based on the reference ids & the standard _whole_word_mask for BERT for one individual example.\r\n",
        "\r\n",
        "    Args:\r\n",
        "      input_tokens: List[str]\r\n",
        "      ref_tokens: List[int]\r\n",
        "\r\n",
        "    Returns:\r\n",
        "      input_tokens: List[int]\r\n",
        "\r\n",
        "    TODO:\r\n",
        "      We could save the LTP dependency by copying the function from: https://github.com/HIT-SCIR/ltp/blob/c47b3f455c07c5dcc186f2b674efde8c67612baf/ltp/algorithms/maximum_forward_matching.py#L75\r\n",
        "    \"\"\"\r\n",
        "\r\n",
        "    for i in range(len(input_tokens)):\r\n",
        "        if i in ref_ids:\r\n",
        "            # We move it back by -1 as the ref_ids start at 1, not 0\r\n",
        "            input_tokens[i-1] = \"##\" + input_tokens[i-1]\r\n",
        "\r\n",
        "    input_tokens = _whole_word_mask(input_tokens)\r\n",
        "\r\n",
        "    return input_tokens\r\n",
        "\r\n",
        "\r\n",
        "\r\n",
        "def _whole_word_mask(input_tokens, max_predictions=512, mlm_probability=0.15):\r\n",
        "    \"\"\"\r\n",
        "    Get 0/1 labels for masked tokens with whole word mask proxy\r\n",
        "\r\n",
        "    Args:\r\n",
        "      input_tokens: List[str]\r\n",
        "\r\n",
        "    Outputs:\r\n",
        "      input_tokens: List[int]\r\n",
        "    \"\"\"\r\n",
        "\r\n",
        "    cand_indexes = []\r\n",
        "    for (i, token) in enumerate(input_tokens):\r\n",
        "        if token == \"[CLS]\" or token == \"[SEP]\":\r\n",
        "            continue\r\n",
        "\r\n",
        "        if len(cand_indexes) >= 1 and token.startswith(\"##\"):\r\n",
        "            cand_indexes[-1].append(i)\r\n",
        "\r\n",
        "        else:\r\n",
        "            cand_indexes.append([i])\r\n",
        "\r\n",
        "    random.shuffle(cand_indexes)\r\n",
        "    num_to_predict = min(max_predictions, max(1, int(round(len(input_tokens) * mlm_probability))))\r\n",
        "    masked_lms = []\r\n",
        "    covered_indexes = set()\r\n",
        "    for index_set in cand_indexes:\r\n",
        "        if len(masked_lms) >= num_to_predict:\r\n",
        "            break\r\n",
        "        # If adding a whole-word mask would exceed the maximum number of\r\n",
        "        # predictions, then just skip this candidate.\r\n",
        "        if len(masked_lms) + len(index_set) > num_to_predict:\r\n",
        "            continue\r\n",
        "        is_any_index_covered = False\r\n",
        "        for index in index_set:\r\n",
        "            if index in covered_indexes:\r\n",
        "                is_any_index_covered = True\r\n",
        "                break\r\n",
        "        if is_any_index_covered:\r\n",
        "            continue\r\n",
        "        for index in index_set:\r\n",
        "            covered_indexes.add(index)\r\n",
        "            masked_lms.append(index)\r\n",
        "\r\n",
        "    assert len(covered_indexes) == len(masked_lms)\r\n",
        "    mask_labels = [1 if i in covered_indexes else 0 for i in range(len(input_tokens))]\r\n",
        "    return mask_labels\r\n",
        "\r\n",
        "\r\n",
        "\r\n",
        "class WWMTokenizer():\r\n",
        "    def __init__(self, col=\"text\", seq_len=512):\r\n",
        "        \"\"\"\r\n",
        "        Constructs Huggingface CN tokenizer & other\r\n",
        "\r\n",
        "            col: What column to tokenize if pretraining\r\n",
        "        \"\"\"\r\n",
        "\r\n",
        "        self.tokenizer_cn = AutoTokenizer.from_pretrained(\"bert-base-chinese\")\r\n",
        "        self.tokenizer_ltp = LTP(\"small\")\r\n",
        "        self.max_seq_length = seq_len\r\n",
        "        self.col = col\r\n",
        "\r\n",
        "    def tokenize_pretraining(self, example):\r\n",
        "        \"\"\"\r\n",
        "        Takes in an example & returns pretraining data\r\n",
        "\r\n",
        "        Args:\r\n",
        "            Example: dict with entry \"text\"\r\n",
        "\r\n",
        "        Returns:\r\n",
        "            Dict of TF Tensors\r\n",
        "\r\n",
        "        \"\"\"\r\n",
        "\r\n",
        "        inputs = example[self.col]\r\n",
        "    \r\n",
        "\r\n",
        "        ref_ids = prepare_ref([inputs], self.tokenizer_ltp, self.tokenizer_cn)\r\n",
        "\r\n",
        "        tokens = self.tokenizer_cn.tokenize(inputs)\r\n",
        "\r\n",
        "        if len(tokens) > self.max_seq_length - 2:\r\n",
        "            tokens = tokens[:(self.max_seq_length - 2)]\r\n",
        "            ref_ids = ref_ids[:(self.max_seq_length - 2)]\r\n",
        "\r\n",
        "        ref_ids = cn_whole_word_mask(tokens, ref_ids[0])\r\n",
        "        tokens, labels = random_word(tokens, ref_ids, self.tokenizer_cn)\r\n",
        "\r\n",
        "        tokens = ['[CLS]'] + tokens + ['[SEP]']\r\n",
        "        lm_label_ids = ([-100] + labels + [-100])\r\n",
        "\r\n",
        "        input_ids = self.tokenizer_cn.convert_tokens_to_ids(tokens)\r\n",
        "\r\n",
        "        attention_mask = [1] * len(input_ids)\r\n",
        "        token_type_ids = [0] * len(input_ids)\r\n",
        "\r\n",
        "        while len(input_ids) < self.max_seq_length:\r\n",
        "            input_ids.append(0)\r\n",
        "            attention_mask.append(0)\r\n",
        "            token_type_ids.append(0)\r\n",
        "            lm_label_ids.append(-100)\r\n",
        "\r\n",
        "        assert len(input_ids) == self.max_seq_length\r\n",
        "        assert len(attention_mask) == self.max_seq_length\r\n",
        "        assert len(token_type_ids) == self.max_seq_length\r\n",
        "        assert len(lm_label_ids) == self.max_seq_length\r\n",
        "\r\n",
        "\r\n",
        "        outputs = {'input_ids': tf.constant(input_ids), 'attention_mask': tf.constant(attention_mask), \r\n",
        "                'token_type_ids': tf.constant(token_type_ids), 'lm_label_ids': tf.constant(lm_label_ids)}\r\n",
        "\r\n",
        "        return outputs\r\n",
        "\r\n",
        "    def tokenize_cmnli(self, example):\r\n",
        "        \"\"\"\r\n",
        "        Tokenizes data for the CMNLI dataset\r\n",
        "\r\n",
        "        Call this with the filter method to sort out datapoints with an unclean label of '-'\r\n",
        "        \"\"\"\r\n",
        "\r\n",
        "        # > [CLS] sentence1 [SEP] sentence2 [SEP]\r\n",
        "        inputs = self.tokenizer_cn(text=example[\"sentence1\"], text_pair=example[\"sentence2\"], \r\n",
        "                                   padding=\"max_length\", max_length=self.max_seq_length)\r\n",
        "\r\n",
        "        # SparseCategoricalCrossEntropy expects floating points\r\n",
        "        label_map = {\r\n",
        "            \"neutral\":0.0,\r\n",
        "            \"entailment\":1.0,\r\n",
        "            \"contradiction\":2.0,\r\n",
        "            \"-\": 3.0,              # Some unclean datapoints in the val dataset; We remove them in the next step\r\n",
        "        }\r\n",
        "\r\n",
        "        label = label_map[example[\"label\"]]\r\n",
        "\r\n",
        "        return {'input_ids': inputs[\"input_ids\"], 'token_type_ids': inputs[\"token_type_ids\"], 'attention_mask': inputs[\"attention_mask\"], 'label': label}\r\n",
        "\r\n",
        "    def to_tf_dataset(self, dataset): \r\n",
        "        \"\"\"\r\n",
        "        Turns dataset into a TF compatible dataset\r\n",
        "        \"\"\"\r\n",
        "        columns = ['input_ids', 'attention_mask', 'token_type_ids', 'lm_label_ids']\r\n",
        "        dataset.set_format(type='tensorflow', columns=columns)\r\n",
        "\r\n",
        "        return_types = {'input_ids':tf.int32, 'attention_mask':tf.int32, \r\n",
        "                      'token_type_ids':tf.int32, 'lm_label_ids':tf.int32}\r\n",
        "\r\n",
        "        ds = tf.data.Dataset.from_generator(lambda : dataset, return_types)\r\n",
        "        return ds"
      ],
      "execution_count": 2,
      "outputs": []
    },
    {
      "cell_type": "markdown",
      "metadata": {
        "id": "MMgjDsuIxMk7"
      },
      "source": [
        "##### Pretraining - Data"
      ]
    },
    {
      "cell_type": "code",
      "metadata": {
        "id": "TerazQ6KxHWq"
      },
      "source": [
        "### Prep Functions ###\r\n",
        "\r\n",
        "### Modelling - Static ###\r\n",
        "\r\n",
        "class Wrapper(tf.keras.Model):\r\n",
        "    def __init__(self, model, *args, **kwargs):\r\n",
        "        super().__init__(*args, **kwargs)\r\n",
        "        self.model = model\r\n",
        "        # Track loss (Loss itself its CategoricalCrossEnt.)\r\n",
        "        self.loss_tracker = tf.keras.metrics.Mean(name='loss') \r\n",
        "\r\n",
        "    @tf.function\r\n",
        "    def train_step(self, data):\r\n",
        "        # Data is a dictionary\r\n",
        "        y = data[\"lm_label_ids\"]\r\n",
        "        x = data\r\n",
        "\r\n",
        "        with tf.GradientTape() as tape:\r\n",
        "            # Forward pass\r\n",
        "            y_pred = self.model(x, training=True)\r\n",
        "            # Compute the loss value.\r\n",
        "            y_pred = y_pred.logits\r\n",
        "            loss = self.compute_loss(y, y_pred)\r\n",
        "            # Reduce loss to single digit\r\n",
        "            loss = tf.reduce_mean(loss)\r\n",
        "\r\n",
        "        # Compute gradients\r\n",
        "        gradients = tape.gradient(loss, self.trainable_variables)\r\n",
        "        # Update weights\r\n",
        "        self.optimizer.apply_gradients(zip(gradients, self.trainable_variables))\r\n",
        "        # Update loss tracker\r\n",
        "        self.loss_tracker.update_state(loss)  \r\n",
        "        # Update metrics\r\n",
        "        self.compiled_metrics.update_state(y, y_pred)\r\n",
        "\r\n",
        "        return {m.name: m.result() for m in self.metrics}\r\n",
        "\r\n",
        "    @tf.function\r\n",
        "    def test_step(self, data):\r\n",
        "        # Data is a dictionary\r\n",
        "        y = data[\"lm_label_ids\"]\r\n",
        "        x = data\r\n",
        "\r\n",
        "        # Compute predictions\r\n",
        "        y_pred = self.model(x, training=False)\r\n",
        "        y_pred = y_pred.logits\r\n",
        "        loss = self.compute_loss(y, y_pred)\r\n",
        "\r\n",
        "        # Updates the metrics tracking the loss\r\n",
        "        self.loss_tracker.update_state(loss)  \r\n",
        "        self.compiled_metrics.update_state(y, y_pred)\r\n",
        "\r\n",
        "        return {m.name: m.result() for m in self.metrics}\r\n",
        "\r\n",
        "    def compute_loss(self, labels, logits):\r\n",
        "        loss_fn = tf.keras.losses.SparseCategoricalCrossentropy(\r\n",
        "            from_logits=True, reduction=tf.keras.losses.Reduction.NONE\r\n",
        "        )\r\n",
        "        # make sure only labels that are not equal to -100 do affect loss\r\n",
        "        active_loss = tf.not_equal(tf.reshape(labels, (-1,)), -100)\r\n",
        "        reduced_logits = tf.boolean_mask(tf.reshape(logits, (-1, shape_list(logits)[2])), active_loss)\r\n",
        "        labels = tf.boolean_mask(tf.reshape(labels, (-1,)), active_loss)\r\n",
        "\r\n",
        "        return loss_fn(labels, reduced_logits)\r\n",
        "        \r\n",
        "def shape_list(tensor: tf.Tensor):\r\n",
        "    \"\"\"\r\n",
        "    Deal with dynamic shape in tensorflow cleanly.\r\n",
        "    Args:\r\n",
        "        tensor (:obj:`tf.Tensor`): The tensor we want the shape of.\r\n",
        "    Returns:\r\n",
        "        :obj:`List[int]`: The shape of the tensor as a list.\r\n",
        "\r\n",
        "    ### TODO: Move to compute_loss\r\n",
        "    \"\"\"\r\n",
        "    dynamic = tf.shape(tensor)\r\n",
        "\r\n",
        "    if tensor.shape == tf.TensorShape(None):\r\n",
        "        return dynamic\r\n",
        "\r\n",
        "    static = tensor.shape.as_list()\r\n",
        "\r\n",
        "    return [dynamic[i] if s is None else s for i, s in enumerate(static)]\r\n",
        "\r\n",
        "\r\n",
        "def tf_dataset_slices(train_ds, tokenizer):\r\n",
        "    \"\"\"\r\n",
        "    Diff method of turning into TF Dataset\r\n",
        "    \"\"\"\r\n",
        "    train_ds.set_format(type='tensorflow', columns=['input_ids', 'attention_mask', 'token_type_ids', 'lm_label_ids'])\r\n",
        "    features = {x: train_ds[x].to_tensor(default_value=0, shape=[None, tokenizer.tokenizer_cn.model_max_length]) for x in ['input_ids', 'attention_mask', 'token_type_ids', 'lm_label_ids']}\r\n",
        "    train_ds = tf.data.Dataset.from_tensor_slices(features)\r\n",
        "\r\n",
        "    return train_ds\r\n",
        "\r\n",
        "\r\n",
        "def get_dataset(batch_size, seq_len=512, is_training=True):\r\n",
        "    \"\"\"\r\n",
        "    Only train for now;\r\n",
        "    \"\"\"\r\n",
        "    train_ds = load_dataset('c3', 'mixed', split='train')\r\n",
        "    val_ds = load_dataset('c3', 'mixed', split='validation')\r\n",
        "\r\n",
        "    def prepare_dict(example):\r\n",
        "        example[\"text\"] = example[\"documents\"][0]\r\n",
        "        return example\r\n",
        "    train_ds = train_ds.map(prepare_dict)\r\n",
        "    val_ds = val_ds.map(prepare_dict)\r\n",
        "\r\n",
        "    print(len(train_ds), len(val_ds))\r\n",
        "\r\n",
        "    # Shorten for testing\r\n",
        "    #train_ds = train_ds.select(range(32))\r\n",
        "    #val_ds = val_ds.select(range(32))\r\n",
        "\r\n",
        "    tokenizer = WWMTokenizer(col=\"text\", seq_len=seq_len)\r\n",
        "\r\n",
        "    train_ds = train_ds.map(tokenizer.tokenize_pretraining)\r\n",
        "    val_ds = val_ds.map(tokenizer.tokenize_pretraining)\r\n",
        "\r\n",
        "    train_ds = tf_dataset_slices(train_ds, tokenizer)\r\n",
        "    val_ds = tf_dataset_slices(val_ds, tokenizer)\r\n",
        "\r\n",
        "    # Need to drop the remainder if len(ds) // bs != 0\r\n",
        "    train_ds = train_ds.shuffle(1000).batch(batch_size, drop_remainder=True)\r\n",
        "    val_ds = val_ds.batch(batch_size, drop_remainder=True)\r\n",
        "\r\n",
        "    return train_ds, val_ds"
      ],
      "execution_count": 3,
      "outputs": []
    },
    {
      "cell_type": "markdown",
      "metadata": {
        "id": "O3wyEIeJxcu4"
      },
      "source": [
        "##### Finetuning - Data"
      ]
    },
    {
      "cell_type": "code",
      "metadata": {
        "colab": {
          "base_uri": "https://localhost:8080/"
        },
        "id": "bYfuo700xjXa",
        "outputId": "542ebace-8c9a-41a1-b87a-711e16497270"
      },
      "source": [
        "# Finetuning dataset\r\n",
        "!wget https://storage.googleapis.com/cluebenchmark/tasks/cmnli_public.zip\r\n",
        "!unzip /content/cmnli_public.zip"
      ],
      "execution_count": 6,
      "outputs": [
        {
          "output_type": "stream",
          "text": [
            "--2021-02-08 16:36:07--  https://storage.googleapis.com/cluebenchmark/tasks/cmnli_public.zip\n",
            "Resolving storage.googleapis.com (storage.googleapis.com)... 172.217.212.128, 172.217.214.128, 108.177.111.128, ...\n",
            "Connecting to storage.googleapis.com (storage.googleapis.com)|172.217.212.128|:443... connected.\n",
            "HTTP request sent, awaiting response... 200 OK\n",
            "Length: 31404066 (30M) [application/zip]\n",
            "Saving to: ‘cmnli_public.zip’\n",
            "\n",
            "cmnli_public.zip    100%[===================>]  29.95M  72.1MB/s    in 0.4s    \n",
            "\n",
            "2021-02-08 16:36:07 (72.1 MB/s) - ‘cmnli_public.zip’ saved [31404066/31404066]\n",
            "\n",
            "Archive:  /content/cmnli_public.zip\n",
            "   creating: cmnli_public/\n",
            "  inflating: cmnli_public/test.json  \n",
            "  inflating: cmnli_public/dev.json   \n",
            "  inflating: cmnli_public/train.json  \n"
          ],
          "name": "stdout"
        }
      ]
    },
    {
      "cell_type": "code",
      "metadata": {
        "id": "JfdtRawdxdoW"
      },
      "source": [
        "### Prep Functions ###\r\n",
        "\r\n",
        "class WrapperFinetuning(tf.keras.Model):\r\n",
        "    def __init__(self, model, *args, **kwargs):\r\n",
        "        super().__init__(*args, **kwargs)\r\n",
        "        self.model = model\r\n",
        "        # Track loss (Loss itself its CategoricalCrossEnt.)\r\n",
        "        self.loss_tracker = tf.keras.metrics.Mean(name='loss') \r\n",
        "\r\n",
        "    @tf.function\r\n",
        "    def train_step(self, data):\r\n",
        "        # Data is a tuple of x, y for the CMNLI Finetuning data\r\n",
        "        x, y = data\r\n",
        "\r\n",
        "        with tf.GradientTape() as tape:\r\n",
        "            # Forward pass\r\n",
        "            y_pred = self.model(x, training=True)\r\n",
        "            # Compute the loss value.\r\n",
        "            y_pred = y_pred.logits\r\n",
        "            loss = self.compute_loss(y, y_pred)\r\n",
        "            # Reduce loss to single digit\r\n",
        "            loss = tf.reduce_mean(loss)\r\n",
        "\r\n",
        "        # Compute gradients\r\n",
        "        gradients = tape.gradient(loss, self.trainable_variables)\r\n",
        "        # Update weights\r\n",
        "        self.optimizer.apply_gradients(zip(gradients, self.trainable_variables))\r\n",
        "        # Update loss tracker\r\n",
        "        self.loss_tracker.update_state(loss)  \r\n",
        "        # Update metrics\r\n",
        "        self.compiled_metrics.update_state(y, y_pred)\r\n",
        "\r\n",
        "        return {m.name: m.result() for m in self.metrics}\r\n",
        "\r\n",
        "    @tf.function\r\n",
        "    def test_step(self, data):\r\n",
        "        x, y = data\r\n",
        "\r\n",
        "        # Compute predictions\r\n",
        "        y_pred = self.model(x, training=False)\r\n",
        "        y_pred = y_pred.logits\r\n",
        "        loss = self.compute_loss(y, y_pred)\r\n",
        "\r\n",
        "        # Updates the metrics tracking the loss\r\n",
        "        self.loss_tracker.update_state(loss)  \r\n",
        "        self.compiled_metrics.update_state(y, y_pred)\r\n",
        "\r\n",
        "        return {m.name: m.result() for m in self.metrics}\r\n",
        "\r\n",
        "    def compute_loss(self, labels, logits):\r\n",
        "        if len(shape_list(logits)) == 1 or shape_list(logits)[1] == 1:\r\n",
        "            loss_fn = tf.keras.losses.MeanSquaredError(reduction=tf.keras.losses.Reduction.NONE)\r\n",
        "        else:\r\n",
        "            # We use the below, as 3 labels\r\n",
        "            loss_fn = tf.keras.losses.SparseCategoricalCrossentropy(\r\n",
        "                from_logits=True, reduction=tf.keras.losses.Reduction.NONE\r\n",
        "            )\r\n",
        "\r\n",
        "        return loss_fn(labels, logits)\r\n",
        "\r\n",
        "\r\n",
        "def shape_list(tensor: tf.Tensor):\r\n",
        "    \"\"\"\r\n",
        "    Deal with dynamic shape in tensorflow cleanly.\r\n",
        "    Args:\r\n",
        "        tensor (:obj:`tf.Tensor`): The tensor we want the shape of.\r\n",
        "    Returns:\r\n",
        "        :obj:`List[int]`: The shape of the tensor as a list.\r\n",
        "    \"\"\"\r\n",
        "    dynamic = tf.shape(tensor)\r\n",
        "\r\n",
        "    if tensor.shape == tf.TensorShape(None):\r\n",
        "        return dynamic\r\n",
        "\r\n",
        "    static = tensor.shape.as_list()\r\n",
        "\r\n",
        "    return [dynamic[i] if s is None else s for i, s in enumerate(static)]\r\n",
        "\r\n",
        "\r\n",
        "def to_tf_cmnli(ds, tokenizer):\r\n",
        "    \"\"\"\r\n",
        "    Creates a TF Dataset for the CMNLI dataset\r\n",
        "    \"\"\"\r\n",
        "\r\n",
        "    # Turn into TF Tensors\r\n",
        "    ds.set_format('tensorflow', columns=['input_ids', 'token_type_ids', 'attention_mask', 'label'])\r\n",
        "\r\n",
        "    # Extract TF Tensors\r\n",
        "    features = {x: ds[x].to_tensor(default_value=0, shape=[None, tokenizer.tokenizer_cn.model_max_length]) for x in ['input_ids', 'token_type_ids', 'attention_mask']}\r\n",
        "\r\n",
        "    # Label is not a ragged tensor like the others & hence we separate it \r\n",
        "    tfds = tf.data.Dataset.from_tensor_slices((features, ds[\"label\"]))\r\n",
        "\r\n",
        "    return tfds\r\n",
        "\r\n",
        "\r\n",
        "def get_dataset_f(batch_size=8, seq_len=512, is_training=True):\r\n",
        "    \"\"\"\r\n",
        "    Only train & val for now\r\n",
        "    \"\"\"\r\n",
        "    train_ds_f = load_dataset(\"json\", data_files=\"/content/cmnli_public/train.json\", split=\"train\")\r\n",
        "    val_ds_f = load_dataset(\"json\", data_files=\"/content/cmnli_public/dev.json\", split=\"train\")\r\n",
        "    #test_ds_f = load_dataset(\"json\", data_files=\"/content/cmnli_public/test.json\", split=\"train\")\r\n",
        "\r\n",
        "    # Shorten for testing\r\n",
        "    train_ds_f = train_ds_f.select(range(len(train_ds_f)//4))\r\n",
        "    val_ds_f = val_ds_f.select(range(len(val_ds_f)//4))\r\n",
        "\r\n",
        "    tokenizer = WWMTokenizer(col=\"text\", seq_len=seq_len)\r\n",
        "\r\n",
        "    train_ds_f = train_ds_f.map(tokenizer.tokenize_cmnli)\r\n",
        "    val_ds_f = val_ds_f.map(tokenizer.tokenize_cmnli)\r\n",
        "\r\n",
        "    def clean_data(example):\r\n",
        "        \"\"\"\r\n",
        "        Clean up misplaced labels in val dataset\r\n",
        "        \"\"\"\r\n",
        "        if example[\"label\"] == 3.0:\r\n",
        "            return False\r\n",
        "        return True\r\n",
        "\r\n",
        "    val_ds_f = val_ds_f.filter(clean_data)\r\n",
        "\r\n",
        "    train_ds_f = to_tf_cmnli(train_ds_f, tokenizer)\r\n",
        "    val_ds_f = to_tf_cmnli(val_ds_f, tokenizer)\r\n",
        "\r\n",
        "    # Need to drop the remainder if len(ds) // bs != 0\r\n",
        "    train_ds_f = train_ds_f.shuffle(1000).batch(batch_size, drop_remainder=True)\r\n",
        "    val_ds_f = val_ds_f.batch(batch_size, drop_remainder=True)\r\n",
        "\r\n",
        "    return train_ds_f, val_ds_f\r\n",
        "\r\n",
        "def get_dataset_f_pre(batch_size=8, seq_len=512, is_training=True):\r\n",
        "    \"\"\"\r\n",
        "    Pre-train on the finetuning dataset\r\n",
        "    \"\"\"\r\n",
        "    train_ds = load_dataset(\"json\", data_files=\"/content/cmnli_public/train.json\", split=\"train\")\r\n",
        "    val_ds = load_dataset(\"json\", data_files=\"/content/cmnli_public/dev.json\", split=\"train\")\r\n",
        "\r\n",
        "    def prepare_dict(example):\r\n",
        "        example[\"text\"] = example[\"sentence1\"] + \" \" + example[\"sentence2\"]\r\n",
        "        return example\r\n",
        "    train_ds = train_ds.map(prepare_dict)\r\n",
        "    val_ds = val_ds.map(prepare_dict)\r\n",
        "\r\n",
        "    print(len(train_ds), len(val_ds))\r\n",
        "\r\n",
        "    # Shorten for testing\r\n",
        "    train_ds = train_ds.select(range(len(train_ds)//4))\r\n",
        "    val_ds = val_ds.select(range(len(val_ds)//4))\r\n",
        "\r\n",
        "    tokenizer = WWMTokenizer(col=\"text\", seq_len=seq_len)\r\n",
        "\r\n",
        "    train_ds = train_ds.map(tokenizer.tokenize_pretraining)\r\n",
        "    val_ds = val_ds.map(tokenizer.tokenize_pretraining)\r\n",
        "\r\n",
        "    train_ds = tf_dataset_slices(train_ds, tokenizer)\r\n",
        "    val_ds = tf_dataset_slices(val_ds, tokenizer)\r\n",
        "\r\n",
        "    # Need to drop the remainder if len(ds) // bs != 0\r\n",
        "    train_ds = train_ds.shuffle(1000).batch(batch_size, drop_remainder=True)\r\n",
        "    val_ds = val_ds.batch(batch_size, drop_remainder=True)\r\n",
        "\r\n",
        "    return train_ds, val_ds"
      ],
      "execution_count": 17,
      "outputs": []
    },
    {
      "cell_type": "markdown",
      "metadata": {
        "id": "dVrngSj99nn2"
      },
      "source": [
        "##### Finetuning from scratch - Performer close to on par with Transformer"
      ]
    },
    {
      "cell_type": "code",
      "metadata": {
        "colab": {
          "base_uri": "https://localhost:8080/",
          "height": 983,
          "referenced_widgets": [
            "5d4205b4ecf64755875f8a3af81e4a6f",
            "d4f36f1c6f73406a9ac295f86ff6bc52",
            "ca8b9ca4a1b34d3ab75958aa8c726411",
            "a4eae0a177e946a695a997a1627bb20d",
            "02ecfeffd3894efdaded9a60254a1a10",
            "173e4d14708b4898bd11fe509364ec23",
            "d0e6f9434ed4426b968e5e671cd618de",
            "cc656ba495a3493db9753b2f1d6500cf",
            "b8b8f32de55940f0bc950e4488a8328b",
            "76b5bcc39493422889244388d94cad69",
            "2abb778b830f4530992ee62dd4598728",
            "3dec2029948447a89be2ae517aa335dc",
            "cfcaf9ab92b94b60ae7675ca8c5a003d",
            "ef59397fd2b849e1b50cde7909a1bdec",
            "5273e1b02d6b4720a8a16a2c68ea1d3c",
            "17a0b6907a75440eb7450e8012e4c028",
            "170d736c7ecf4876a918b1f38156d704",
            "646ac438d0e74f33aaa01af80ecd299e",
            "d7cb48b242734128a024c3cb271bed59",
            "f69c416612d44c58a98f66be34524212",
            "5aea6fc8b6e14f08af5877689d2efd51",
            "18fa46e567254e15bbf1dcb92a32f2b6",
            "7a5a8500a0e54a028cee8355f83043df",
            "52ef6038ce2f477290c647461a2e66b4"
          ]
        },
        "id": "lK8Y0nszaki8",
        "outputId": "09938feb-6f97-4e6c-b843-61cc3b45111e"
      },
      "source": [
        "### Finetune - Performer\r\n",
        "\r\n",
        "with strategy.scope():\r\n",
        "    config = DistilBertConfig()\r\n",
        "    config.attention_type = \"performer\"\r\n",
        "    # Necessary for the classification head created in the model, as CMNLI has 3 labels\r\n",
        "    config.num_labels = 3\r\n",
        "    config.vocab_size = 21128 # BERT CN Vocab only has 21128\r\n",
        "    config.max_position_embeddings = 512 # same as seq_len\r\n",
        "\r\n",
        "    model = TFDistilBertForSequenceClassification(config)\r\n",
        "    model = WrapperFinetuning(model)\r\n",
        "\r\n",
        "    learning_rate = 1e-5\r\n",
        "    optimizer = tf.keras.optimizers.Adam(learning_rate)\r\n",
        "    model.compile(optimizer=optimizer,\r\n",
        "                  steps_per_execution=100,\r\n",
        "                  metrics=['sparse_categorical_accuracy'])\r\n",
        "\r\n",
        "batch_size = 8\r\n",
        "\r\n",
        "train_ds, val_ds = get_dataset_f(batch_size, seq_len=512, is_training=True)\r\n",
        "\r\n",
        "model.fit(\r\n",
        "          train_ds,\r\n",
        "          epochs=5,\r\n",
        "          validation_data=val_ds,\r\n",
        "          )"
      ],
      "execution_count": 7,
      "outputs": [
        {
          "output_type": "stream",
          "text": [
            "Using custom data configuration default\n",
            "Reusing dataset json (/root/.cache/huggingface/datasets/json/default-a4cf23710025995b/0.0.0/70d89ed4db1394f028c651589fcab6d6b28dddcabbe39d3b21b4d41f9a708514)\n",
            "Using custom data configuration default\n",
            "Reusing dataset json (/root/.cache/huggingface/datasets/json/default-92b47242d2dd7ae8/0.0.0/70d89ed4db1394f028c651589fcab6d6b28dddcabbe39d3b21b4d41f9a708514)\n"
          ],
          "name": "stderr"
        },
        {
          "output_type": "display_data",
          "data": {
            "application/vnd.jupyter.widget-view+json": {
              "model_id": "5d4205b4ecf64755875f8a3af81e4a6f",
              "version_minor": 0,
              "version_major": 2
            },
            "text/plain": [
              "HBox(children=(FloatProgress(value=0.0, max=97945.0), HTML(value='')))"
            ]
          },
          "metadata": {
            "tags": []
          }
        },
        {
          "output_type": "stream",
          "text": [
            "\n"
          ],
          "name": "stdout"
        },
        {
          "output_type": "display_data",
          "data": {
            "application/vnd.jupyter.widget-view+json": {
              "model_id": "b8b8f32de55940f0bc950e4488a8328b",
              "version_minor": 0,
              "version_major": 2
            },
            "text/plain": [
              "HBox(children=(FloatProgress(value=0.0, max=3106.0), HTML(value='')))"
            ]
          },
          "metadata": {
            "tags": []
          }
        },
        {
          "output_type": "stream",
          "text": [
            "\n"
          ],
          "name": "stdout"
        },
        {
          "output_type": "display_data",
          "data": {
            "application/vnd.jupyter.widget-view+json": {
              "model_id": "170d736c7ecf4876a918b1f38156d704",
              "version_minor": 0,
              "version_major": 2
            },
            "text/plain": [
              "HBox(children=(FloatProgress(value=0.0, max=4.0), HTML(value='')))"
            ]
          },
          "metadata": {
            "tags": []
          }
        },
        {
          "output_type": "stream",
          "text": [
            "\n",
            "Epoch 1/5\n",
            "WARNING:tensorflow:AutoGraph could not transform <bound method Socket.send of <zmq.sugar.socket.Socket object at 0x7f3a13f4d798>> and will run it as-is.\n",
            "Please report this to the TensorFlow team. When filing the bug, set the verbosity to 10 (on Linux, `export AUTOGRAPH_VERBOSITY=10`) and attach the full output.\n",
            "Cause: <cyfunction Socket.send at 0x7f3a307ea2a0> is not a module, class, method, function, traceback, frame, or code object\n",
            "To silence this warning, decorate the function with @tf.autograph.experimental.do_not_convert\n"
          ],
          "name": "stdout"
        },
        {
          "output_type": "stream",
          "text": [
            "The parameters `output_attentions`, `output_hidden_states` and `use_cache` cannot be updated when calling a model.They have to be set to True/False in the config object (i.e.: `config=XConfig.from_pretrained('name', output_attentions=True)`).WARNING:tensorflow:AutoGraph could not transform <bound method Socket.send of <zmq.sugar.socket.Socket object at 0x7f3a13f4d798>> and will run it as-is.\n",
            "Please report this to the TensorFlow team. When filing the bug, set the verbosity to 10 (on Linux, `export AUTOGRAPH_VERBOSITY=10`) and attach the full output.\n",
            "Cause: <cyfunction Socket.send at 0x7f3a307ea2a0> is not a module, class, method, function, traceback, frame, or code object\n",
            "To silence this warning, decorate the function with @tf.autograph.experimental.do_not_convert\n"
          ],
          "name": "stderr"
        },
        {
          "output_type": "stream",
          "text": [
            "WARNING: AutoGraph could not transform <bound method Socket.send of <zmq.sugar.socket.Socket object at 0x7f3a13f4d798>> and will run it as-is.\n",
            "Please report this to the TensorFlow team. When filing the bug, set the verbosity to 10 (on Linux, `export AUTOGRAPH_VERBOSITY=10`) and attach the full output.\n",
            "Cause: <cyfunction Socket.send at 0x7f3a307ea2a0> is not a module, class, method, function, traceback, frame, or code object\n",
            "To silence this warning, decorate the function with @tf.autograph.experimental.do_not_convert\n"
          ],
          "name": "stdout"
        },
        {
          "output_type": "stream",
          "text": [
            "\n"
          ],
          "name": "stderr"
        },
        {
          "output_type": "stream",
          "text": [
            "WARNING:tensorflow:AutoGraph could not transform <function wrap at 0x7f3a2eb9cc80> and will run it as-is.\n",
            "Cause: while/else statement not yet supported\n",
            "To silence this warning, decorate the function with @tf.autograph.experimental.do_not_convert\n"
          ],
          "name": "stdout"
        },
        {
          "output_type": "stream",
          "text": [
            "The parameter `return_dict` cannot be set in graph mode and will always be set to `True`.\n",
            "WARNING:tensorflow:AutoGraph could not transform <function wrap at 0x7f3a2eb9cc80> and will run it as-is.\n",
            "Cause: while/else statement not yet supported\n",
            "To silence this warning, decorate the function with @tf.autograph.experimental.do_not_convert\n"
          ],
          "name": "stderr"
        },
        {
          "output_type": "stream",
          "text": [
            "WARNING: AutoGraph could not transform <function wrap at 0x7f3a2eb9cc80> and will run it as-is.\n",
            "Cause: while/else statement not yet supported\n",
            "To silence this warning, decorate the function with @tf.autograph.experimental.do_not_convert\n"
          ],
          "name": "stdout"
        },
        {
          "output_type": "stream",
          "text": [
            "The parameters `output_attentions`, `output_hidden_states` and `use_cache` cannot be updated when calling a model.They have to be set to True/False in the config object (i.e.: `config=XConfig.from_pretrained('name', output_attentions=True)`).\n",
            "The parameter `return_dict` cannot be set in graph mode and will always be set to `True`.\n",
            "The parameters `output_attentions`, `output_hidden_states` and `use_cache` cannot be updated when calling a model.They have to be set to True/False in the config object (i.e.: `config=XConfig.from_pretrained('name', output_attentions=True)`).\n",
            "The parameter `return_dict` cannot be set in graph mode and will always be set to `True`.\n"
          ],
          "name": "stderr"
        },
        {
          "output_type": "stream",
          "text": [
            "12243/12243 [==============================] - ETA: 0s - sparse_categorical_accuracy: 0.4124 - loss: 1.0492"
          ],
          "name": "stdout"
        },
        {
          "output_type": "stream",
          "text": [
            "The parameters `output_attentions`, `output_hidden_states` and `use_cache` cannot be updated when calling a model.They have to be set to True/False in the config object (i.e.: `config=XConfig.from_pretrained('name', output_attentions=True)`).\n",
            "The parameter `return_dict` cannot be set in graph mode and will always be set to `True`.\n",
            "The parameters `output_attentions`, `output_hidden_states` and `use_cache` cannot be updated when calling a model.They have to be set to True/False in the config object (i.e.: `config=XConfig.from_pretrained('name', output_attentions=True)`).\n",
            "The parameter `return_dict` cannot be set in graph mode and will always be set to `True`.\n"
          ],
          "name": "stderr"
        },
        {
          "output_type": "stream",
          "text": [
            "\b\b\b\b\b\b\b\b\b\b\b\b\b\b\b\b\b\b\b\b\b\b\b\b\b\b\b\b\b\b\b\b\b\b\b\b\b\b\b\b\b\b\b\b\b\b\b\b\b\b\b\b\b\b\b\b\b\b\b\b\b\b\b\b\b\b\b\b\b\b\b\b\b\b\b\b\b\b\b\b\b\b\b\b\b\b\b\b\b\b\b\b\b\b\b\b\b\b\b\b\b\b\b\b\b\b\b\r12243/12243 [==============================] - 296s 24ms/step - sparse_categorical_accuracy: 0.4124 - loss: 1.0492 - val_sparse_categorical_accuracy: 0.4590 - val_loss: 1.0243\n",
            "Epoch 2/5\n",
            "12243/12243 [==============================] - 232s 19ms/step - sparse_categorical_accuracy: 0.4766 - loss: 1.0036 - val_sparse_categorical_accuracy: 0.4685 - val_loss: 1.0064\n",
            "Epoch 3/5\n",
            "12243/12243 [==============================] - 232s 19ms/step - sparse_categorical_accuracy: 0.5017 - loss: 0.9740 - val_sparse_categorical_accuracy: 0.4678 - val_loss: 1.0134\n",
            "Epoch 4/5\n",
            "12243/12243 [==============================] - 232s 19ms/step - sparse_categorical_accuracy: 0.5294 - loss: 0.9416 - val_sparse_categorical_accuracy: 0.5033 - val_loss: 1.0066\n",
            "Epoch 5/5\n",
            "12243/12243 [==============================] - 232s 19ms/step - sparse_categorical_accuracy: 0.5580 - loss: 0.9018 - val_sparse_categorical_accuracy: 0.5157 - val_loss: 1.0097\n"
          ],
          "name": "stdout"
        },
        {
          "output_type": "execute_result",
          "data": {
            "text/plain": [
              "<tensorflow.python.keras.callbacks.History at 0x7f3941f40da0>"
            ]
          },
          "metadata": {
            "tags": []
          },
          "execution_count": 7
        }
      ]
    },
    {
      "cell_type": "code",
      "metadata": {
        "colab": {
          "base_uri": "https://localhost:8080/",
          "height": 619,
          "referenced_widgets": [
            "3567fb69357948b0b7aab3a10065f0ac",
            "e3e019cf60fd4f3b97fdbc6f40bad226",
            "3f2be418541848618c70a459a4ffdb57",
            "4cbefddce5b84447b70b4169f6491b35",
            "c1c7f1ba4b114ae1a20fb6906f2bc996",
            "368befdad9a24f28a09182b521113236",
            "d38acbe6b06f4669a3d8ce324fcf43fa",
            "2c8080dd85d042719939c73cdeca2d05",
            "5c871053d4bf406bae2c4c6a5946fbbb",
            "0f2ec5da7aec4f7bb55c7937fafca7a5",
            "cbf775d37c0e44749f6656c155fe8617",
            "b11b23bf83e54c1a8956c94d82059d85",
            "5c387265dbee464e9e3e82d1469d6752",
            "c99bce5aa2b14f56b889ce0b5fa534f8",
            "6cfe41a145c841ceaa749180a0cd2f81",
            "6eb86b67902941e7bbeb14123276fabc",
            "f4ad6ed40fd84452a4a2fdcbd824c614",
            "c13f12a7c5bc4107865e67dd27b24a13",
            "74df644c207f4380b53b61ffb0e9bebf",
            "58580f569f7e441d86e3621106542914",
            "9561bb2762874b03b63d7c0e0fad6370",
            "5bfa76e09ed84634b13819b1831680dc",
            "1919576d620646d5a7d5e6f3822e1baa",
            "ac7448fadaf84de68c398087e550eaff"
          ]
        },
        "id": "2LdcnF-mBzGS",
        "outputId": "f34ce817-aef5-4f49-81c8-4e276764aef1"
      },
      "source": [
        "### Finetune - Traditional Transformer\r\n",
        "\r\n",
        "with strategy.scope():\r\n",
        "    config = DistilBertConfig()\r\n",
        "    config.attention_type = \"softmax\"\r\n",
        "    # Necessary for the classification head created in the model, as CMNLI has 3 labels\r\n",
        "    config.num_labels = 3\r\n",
        "    config.vocab_size = 21128 # BERT CN Vocab only has 21128\r\n",
        "    config.max_position_embeddings = 512 # same as seq_len\r\n",
        "\r\n",
        "    model = TFDistilBertForSequenceClassification(config)\r\n",
        "    model = WrapperFinetuning(model)\r\n",
        "\r\n",
        "    learning_rate = 1e-5\r\n",
        "    optimizer = tf.keras.optimizers.Adam(learning_rate)\r\n",
        "    model.compile(optimizer=optimizer,\r\n",
        "                  steps_per_execution=100,\r\n",
        "                  metrics=['sparse_categorical_accuracy'])\r\n",
        "\r\n",
        "batch_size = 8\r\n",
        "\r\n",
        "train_ds, val_ds = get_dataset_f(batch_size, seq_len=512, is_training=True)\r\n",
        "\r\n",
        "model.fit(\r\n",
        "          train_ds,\r\n",
        "          epochs=5,\r\n",
        "          validation_data=val_ds,\r\n",
        "          )"
      ],
      "execution_count": 19,
      "outputs": [
        {
          "output_type": "stream",
          "text": [
            "Using custom data configuration default\n",
            "Reusing dataset json (/root/.cache/huggingface/datasets/json/default-a4cf23710025995b/0.0.0/70d89ed4db1394f028c651589fcab6d6b28dddcabbe39d3b21b4d41f9a708514)\n",
            "Using custom data configuration default\n",
            "Reusing dataset json (/root/.cache/huggingface/datasets/json/default-92b47242d2dd7ae8/0.0.0/70d89ed4db1394f028c651589fcab6d6b28dddcabbe39d3b21b4d41f9a708514)\n"
          ],
          "name": "stderr"
        },
        {
          "output_type": "display_data",
          "data": {
            "application/vnd.jupyter.widget-view+json": {
              "model_id": "3567fb69357948b0b7aab3a10065f0ac",
              "version_minor": 0,
              "version_major": 2
            },
            "text/plain": [
              "HBox(children=(FloatProgress(value=0.0, max=97945.0), HTML(value='')))"
            ]
          },
          "metadata": {
            "tags": []
          }
        },
        {
          "output_type": "stream",
          "text": [
            "\n"
          ],
          "name": "stdout"
        },
        {
          "output_type": "display_data",
          "data": {
            "application/vnd.jupyter.widget-view+json": {
              "model_id": "5c871053d4bf406bae2c4c6a5946fbbb",
              "version_minor": 0,
              "version_major": 2
            },
            "text/plain": [
              "HBox(children=(FloatProgress(value=0.0, max=3106.0), HTML(value='')))"
            ]
          },
          "metadata": {
            "tags": []
          }
        },
        {
          "output_type": "stream",
          "text": [
            "\n"
          ],
          "name": "stdout"
        },
        {
          "output_type": "display_data",
          "data": {
            "application/vnd.jupyter.widget-view+json": {
              "model_id": "f4ad6ed40fd84452a4a2fdcbd824c614",
              "version_minor": 0,
              "version_major": 2
            },
            "text/plain": [
              "HBox(children=(FloatProgress(value=0.0, max=4.0), HTML(value='')))"
            ]
          },
          "metadata": {
            "tags": []
          }
        },
        {
          "output_type": "stream",
          "text": [
            "\n"
          ],
          "name": "stdout"
        },
        {
          "output_type": "stream",
          "text": [
            "The parameters `output_attentions`, `output_hidden_states` and `use_cache` cannot be updated when calling a model.They have to be set to True/False in the config object (i.e.: `config=XConfig.from_pretrained('name', output_attentions=True)`).\n",
            "The parameter `return_dict` cannot be set in graph mode and will always be set to `True`.\n"
          ],
          "name": "stderr"
        },
        {
          "output_type": "stream",
          "text": [
            "Epoch 1/5\n"
          ],
          "name": "stdout"
        },
        {
          "output_type": "stream",
          "text": [
            "The parameters `output_attentions`, `output_hidden_states` and `use_cache` cannot be updated when calling a model.They have to be set to True/False in the config object (i.e.: `config=XConfig.from_pretrained('name', output_attentions=True)`).\n",
            "The parameter `return_dict` cannot be set in graph mode and will always be set to `True`.\n",
            "The parameters `output_attentions`, `output_hidden_states` and `use_cache` cannot be updated when calling a model.They have to be set to True/False in the config object (i.e.: `config=XConfig.from_pretrained('name', output_attentions=True)`).\n",
            "The parameter `return_dict` cannot be set in graph mode and will always be set to `True`.\n"
          ],
          "name": "stderr"
        },
        {
          "output_type": "stream",
          "text": [
            "12243/12243 [==============================] - ETA: 0s - sparse_categorical_accuracy: 0.4151 - loss: 1.0453"
          ],
          "name": "stdout"
        },
        {
          "output_type": "stream",
          "text": [
            "The parameters `output_attentions`, `output_hidden_states` and `use_cache` cannot be updated when calling a model.They have to be set to True/False in the config object (i.e.: `config=XConfig.from_pretrained('name', output_attentions=True)`).\n",
            "The parameter `return_dict` cannot be set in graph mode and will always be set to `True`.\n",
            "The parameters `output_attentions`, `output_hidden_states` and `use_cache` cannot be updated when calling a model.They have to be set to True/False in the config object (i.e.: `config=XConfig.from_pretrained('name', output_attentions=True)`).\n",
            "The parameter `return_dict` cannot be set in graph mode and will always be set to `True`.\n"
          ],
          "name": "stderr"
        },
        {
          "output_type": "stream",
          "text": [
            "\b\b\b\b\b\b\b\b\b\b\b\b\b\b\b\b\b\b\b\b\b\b\b\b\b\b\b\b\b\b\b\b\b\b\b\b\b\b\b\b\b\b\b\b\b\b\b\b\b\b\b\b\b\b\b\b\b\b\b\b\b\b\b\b\b\b\b\b\b\b\b\b\b\b\b\b\b\b\b\b\b\b\b\b\b\b\b\b\b\b\b\b\b\b\b\b\b\b\b\b\b\b\b\b\b\b\b\r12243/12243 [==============================] - 284s 23ms/step - sparse_categorical_accuracy: 0.4151 - loss: 1.0453 - val_sparse_categorical_accuracy: 0.4646 - val_loss: 1.0346\n",
            "Epoch 2/5\n",
            "12243/12243 [==============================] - 247s 20ms/step - sparse_categorical_accuracy: 0.4899 - loss: 0.9930 - val_sparse_categorical_accuracy: 0.4882 - val_loss: 0.9960\n",
            "Epoch 3/5\n",
            "12243/12243 [==============================] - 247s 20ms/step - sparse_categorical_accuracy: 0.5171 - loss: 0.9617 - val_sparse_categorical_accuracy: 0.5030 - val_loss: 0.9839\n",
            "Epoch 4/5\n",
            "12243/12243 [==============================] - 247s 20ms/step - sparse_categorical_accuracy: 0.5403 - loss: 0.9324 - val_sparse_categorical_accuracy: 0.5161 - val_loss: 0.9658\n",
            "Epoch 5/5\n",
            "12243/12243 [==============================] - 247s 20ms/step - sparse_categorical_accuracy: 0.5649 - loss: 0.9010 - val_sparse_categorical_accuracy: 0.5233 - val_loss: 0.9726\n"
          ],
          "name": "stdout"
        },
        {
          "output_type": "execute_result",
          "data": {
            "text/plain": [
              "<tensorflow.python.keras.callbacks.History at 0x7f3933593f98>"
            ]
          },
          "metadata": {
            "tags": []
          },
          "execution_count": 19
        }
      ]
    },
    {
      "cell_type": "markdown",
      "metadata": {
        "id": "0lSc7GzTbWWm"
      },
      "source": [
        "##### Pretrain then Finetune - Works well; No performance boost for short duration"
      ]
    },
    {
      "cell_type": "code",
      "metadata": {
        "colab": {
          "base_uri": "https://localhost:8080/",
          "height": 604,
          "referenced_widgets": [
            "758263329aeb40e9a3d1eb1d9f7b762d",
            "49aec0ce79fc4ff6b5751caf38179935",
            "b6510443334c4b22bfa2b59c77a359fc",
            "fc3deca2977840faa34e2d630700d49d",
            "8e8eb59d4f72438284029454ce38c558",
            "80792268838b4840acbce01a7ef12177",
            "eba133e246bf4f6faecd804bc851372d",
            "bc508f8ff8af449491cefa2e5469e7ea",
            "e35b3078d9924762a1cf2a4e48a6ee25",
            "e2d91758f28f429d85bdf7d60f362481",
            "07ee16f1abbe481d851d5889aa7ecd39",
            "00705df63f074c20a6b0849a19fee122",
            "ac56450ee133479d9986c35d3a60c755",
            "67b08e9372024cb881a2fe4755c278a1",
            "7d9784db02e24ee1b184d9c4ab50d9f6",
            "0d1be7f594fa45b2bd32d2333e851ca7"
          ]
        },
        "id": "YQ44S88Yakfz",
        "outputId": "68d78c40-c1a8-4f8f-9005-d214a6febfd1"
      },
      "source": [
        "### Pretrain\r\n",
        "\r\n",
        "\r\n",
        "with strategy.scope():\r\n",
        "    config = DistilBertConfig()\r\n",
        "    config.attention_type = \"performer\"\r\n",
        "    config.vocab_size = 21128 # BERT CN Vocab only has 21128\r\n",
        "    config.max_position_embeddings = 512 # same as seq_len\r\n",
        "\r\n",
        "    model = TFDistilBertForMaskedLM(config)\r\n",
        "    model = Wrapper(model)\r\n",
        "\r\n",
        "    learning_rate = 1e-5\r\n",
        "    optimizer = tf.keras.optimizers.Adam(learning_rate)\r\n",
        "    model.compile(optimizer=optimizer,\r\n",
        "                  steps_per_execution=100,\r\n",
        "                  metrics=['sparse_categorical_accuracy'])\r\n",
        "\r\n",
        "batch_size = 8\r\n",
        "\r\n",
        "train_ds, val_ds = get_dataset(batch_size, seq_len=512, is_training=True)\r\n",
        "\r\n",
        "model.fit(\r\n",
        "          train_ds,\r\n",
        "          epochs=5,\r\n",
        "          validation_data=val_ds,\r\n",
        "          )"
      ],
      "execution_count": 13,
      "outputs": [
        {
          "output_type": "stream",
          "text": [
            "Reusing dataset c3 (/root/.cache/huggingface/datasets/c3/mixed/1.0.0/6bcfb26ae1bd77bd57d300c2504900834cc29aaa092eb87c4d91d7960a3c2d8c)\n",
            "Reusing dataset c3 (/root/.cache/huggingface/datasets/c3/mixed/1.0.0/6bcfb26ae1bd77bd57d300c2504900834cc29aaa092eb87c4d91d7960a3c2d8c)\n",
            "Loading cached processed dataset at /root/.cache/huggingface/datasets/c3/mixed/1.0.0/6bcfb26ae1bd77bd57d300c2504900834cc29aaa092eb87c4d91d7960a3c2d8c/cache-d5d515a16fa8e30f.arrow\n",
            "Loading cached processed dataset at /root/.cache/huggingface/datasets/c3/mixed/1.0.0/6bcfb26ae1bd77bd57d300c2504900834cc29aaa092eb87c4d91d7960a3c2d8c/cache-83036fbdcdbb0c5c.arrow\n"
          ],
          "name": "stderr"
        },
        {
          "output_type": "stream",
          "text": [
            "3138 1046\n"
          ],
          "name": "stdout"
        },
        {
          "output_type": "display_data",
          "data": {
            "application/vnd.jupyter.widget-view+json": {
              "model_id": "758263329aeb40e9a3d1eb1d9f7b762d",
              "version_minor": 0,
              "version_major": 2
            },
            "text/plain": [
              "HBox(children=(FloatProgress(value=0.0, max=3138.0), HTML(value='')))"
            ]
          },
          "metadata": {
            "tags": []
          }
        },
        {
          "output_type": "stream",
          "text": [
            "Token indices sequence length is longer than the specified maximum sequence length for this model (943 > 512). Running this sequence through the model will result in indexing errors\n"
          ],
          "name": "stderr"
        },
        {
          "output_type": "stream",
          "text": [
            "\n"
          ],
          "name": "stdout"
        },
        {
          "output_type": "display_data",
          "data": {
            "application/vnd.jupyter.widget-view+json": {
              "model_id": "e35b3078d9924762a1cf2a4e48a6ee25",
              "version_minor": 0,
              "version_major": 2
            },
            "text/plain": [
              "HBox(children=(FloatProgress(value=0.0, max=1046.0), HTML(value='')))"
            ]
          },
          "metadata": {
            "tags": []
          }
        },
        {
          "output_type": "stream",
          "text": [
            "\n",
            "Epoch 1/5\n"
          ],
          "name": "stdout"
        },
        {
          "output_type": "stream",
          "text": [
            "The parameters `output_attentions`, `output_hidden_states` and `use_cache` cannot be updated when calling a model.They have to be set to True/False in the config object (i.e.: `config=XConfig.from_pretrained('name', output_attentions=True)`).\n",
            "The parameter `return_dict` cannot be set in graph mode and will always be set to `True`.\n",
            "The parameters `output_attentions`, `output_hidden_states` and `use_cache` cannot be updated when calling a model.They have to be set to True/False in the config object (i.e.: `config=XConfig.from_pretrained('name', output_attentions=True)`).\n",
            "The parameter `return_dict` cannot be set in graph mode and will always be set to `True`.\n",
            "The parameters `output_attentions`, `output_hidden_states` and `use_cache` cannot be updated when calling a model.They have to be set to True/False in the config object (i.e.: `config=XConfig.from_pretrained('name', output_attentions=True)`).\n",
            "The parameter `return_dict` cannot be set in graph mode and will always be set to `True`.\n"
          ],
          "name": "stderr"
        },
        {
          "output_type": "stream",
          "text": [
            "392/392 [==============================] - ETA: 0s - sparse_categorical_accuracy: 0.0026 - loss: 8.0908 "
          ],
          "name": "stdout"
        },
        {
          "output_type": "stream",
          "text": [
            "The parameters `output_attentions`, `output_hidden_states` and `use_cache` cannot be updated when calling a model.They have to be set to True/False in the config object (i.e.: `config=XConfig.from_pretrained('name', output_attentions=True)`).\n",
            "The parameter `return_dict` cannot be set in graph mode and will always be set to `True`.\n",
            "The parameters `output_attentions`, `output_hidden_states` and `use_cache` cannot be updated when calling a model.They have to be set to True/False in the config object (i.e.: `config=XConfig.from_pretrained('name', output_attentions=True)`).\n",
            "The parameter `return_dict` cannot be set in graph mode and will always be set to `True`.\n"
          ],
          "name": "stderr"
        },
        {
          "output_type": "stream",
          "text": [
            "\b\b\b\b\b\b\b\b\b\b\b\b\b\b\b\b\b\b\b\b\b\b\b\b\b\b\b\b\b\b\b\b\b\b\b\b\b\b\b\b\b\b\b\b\b\b\b\b\b\b\b\b\b\b\b\b\b\b\b\b\b\b\b\b\b\b\b\b\b\b\b\b\b\b\b\b\b\b\b\b\b\b\b\b\b\b\b\b\b\b\b\b\b\b\b\b\b\b\b\b\b\b\b\r392/392 [==============================] - 54s 138ms/step - sparse_categorical_accuracy: 0.0026 - loss: 8.0908 - val_sparse_categorical_accuracy: 0.0029 - val_loss: 7.3253\n",
            "Epoch 2/5\n",
            "392/392 [==============================] - 15s 37ms/step - sparse_categorical_accuracy: 0.0028 - loss: 6.8272 - val_sparse_categorical_accuracy: 0.0030 - val_loss: 6.8818\n",
            "Epoch 3/5\n",
            "392/392 [==============================] - 15s 38ms/step - sparse_categorical_accuracy: 0.0031 - loss: 6.5098 - val_sparse_categorical_accuracy: 0.0033 - val_loss: 6.7480\n",
            "Epoch 4/5\n",
            "392/392 [==============================] - 15s 37ms/step - sparse_categorical_accuracy: 0.0034 - loss: 6.3287 - val_sparse_categorical_accuracy: 0.0036 - val_loss: 6.6784\n",
            "Epoch 5/5\n",
            "392/392 [==============================] - 15s 37ms/step - sparse_categorical_accuracy: 0.0038 - loss: 6.1812 - val_sparse_categorical_accuracy: 0.0037 - val_loss: 6.6354\n"
          ],
          "name": "stdout"
        },
        {
          "output_type": "execute_result",
          "data": {
            "text/plain": [
              "<tensorflow.python.keras.callbacks.History at 0x7f3942832ac8>"
            ]
          },
          "metadata": {
            "tags": []
          },
          "execution_count": 13
        }
      ]
    },
    {
      "cell_type": "code",
      "metadata": {
        "colab": {
          "base_uri": "https://localhost:8080/",
          "height": 723,
          "referenced_widgets": [
            "ce30450667614d3f9d198db72a7e73df",
            "0efd5c53affa4c4384c5dec8fd5f2306",
            "4bdf31c64815418b9e3087106e4c4fad",
            "629c7c74e162423299ccd01e137973d5",
            "babdcdb655e041129e5e30e291546ff4",
            "398deb20a2e54388891464a3fa7b54f9",
            "4dde8d943b314e91ab84b0d2bcdf8f28",
            "e9624bd06c5e4dba933984d48204dba9",
            "13af7af66cdc4646bc54ad1eaf76aaa1",
            "623bdbaff9714104a33dde8b26b10651",
            "978f0265760a4845ac582709aedb440d",
            "527790a7816143c7a7859c2788a6abef",
            "26faa1a2795e41fd8d98a3ff394a89c3",
            "1ebcf0b94be7499dab03aa906f177736",
            "fb59f3bacbb641d2a8b668cfe0c6cb0c",
            "37849803eb744b92a2c18e8a375b6f26",
            "96b3327b960a4041a2043a2af22eb377",
            "9278c800c5b242dcbaac9dbdbf6f6331",
            "c9398724cc0b43afb9ae8310dead5709",
            "ae40a4368d1b4e3aac4f67e06a0e5610",
            "6823dadc5f5a4908bc37ecdb748b046c",
            "1fceac0172584dcea020329630189d10",
            "a2aff8c9c33749e3afb2e753a3d0e4f7",
            "99fded33aab04885b7910a5dd61f5b41"
          ]
        },
        "id": "2HPBLA0IakdG",
        "outputId": "6812e5b8-b0f2-42d3-ac9e-bbac06313422"
      },
      "source": [
        "### Finetune\r\n",
        "\r\n",
        "\r\n",
        "with strategy.scope():\r\n",
        "    config = DistilBertConfig()\r\n",
        "    config.attention_type = \"performer\"\r\n",
        "    # Necessary for the classification head created in the model, as CMNLI has 3 labels\r\n",
        "    config.num_labels = 3\r\n",
        "    config.vocab_size = 21128 # BERT CN Vocab only has 21128\r\n",
        "    config.max_position_embeddings = 512 # same as seq_len\r\n",
        "\r\n",
        "    model_f = TFDistilBertForSequenceClassification(config)\r\n",
        "    # Change the core model to pretrained version\r\n",
        "    model_f.model = model.model\r\n",
        "    model_f = WrapperFinetuning(model_f)\r\n",
        "\r\n",
        "    learning_rate = 1e-5\r\n",
        "    optimizer = tf.keras.optimizers.Adam(learning_rate)\r\n",
        "    model_f.compile(optimizer=optimizer,\r\n",
        "                  steps_per_execution=100,\r\n",
        "                  metrics=['sparse_categorical_accuracy'])\r\n",
        "\r\n",
        "batch_size = 8\r\n",
        "\r\n",
        "train_ds, val_ds = get_dataset_f(batch_size, seq_len=512, is_training=True)\r\n",
        "\r\n",
        "model_f.fit(\r\n",
        "          train_ds,\r\n",
        "          epochs=5,\r\n",
        "          validation_data=val_ds,\r\n",
        "          )"
      ],
      "execution_count": 14,
      "outputs": [
        {
          "output_type": "stream",
          "text": [
            "Using custom data configuration default\n",
            "Reusing dataset json (/root/.cache/huggingface/datasets/json/default-a4cf23710025995b/0.0.0/70d89ed4db1394f028c651589fcab6d6b28dddcabbe39d3b21b4d41f9a708514)\n",
            "Using custom data configuration default\n",
            "Reusing dataset json (/root/.cache/huggingface/datasets/json/default-92b47242d2dd7ae8/0.0.0/70d89ed4db1394f028c651589fcab6d6b28dddcabbe39d3b21b4d41f9a708514)\n"
          ],
          "name": "stderr"
        },
        {
          "output_type": "display_data",
          "data": {
            "application/vnd.jupyter.widget-view+json": {
              "model_id": "ce30450667614d3f9d198db72a7e73df",
              "version_minor": 0,
              "version_major": 2
            },
            "text/plain": [
              "HBox(children=(FloatProgress(value=0.0, max=97945.0), HTML(value='')))"
            ]
          },
          "metadata": {
            "tags": []
          }
        },
        {
          "output_type": "stream",
          "text": [
            "\n"
          ],
          "name": "stdout"
        },
        {
          "output_type": "display_data",
          "data": {
            "application/vnd.jupyter.widget-view+json": {
              "model_id": "13af7af66cdc4646bc54ad1eaf76aaa1",
              "version_minor": 0,
              "version_major": 2
            },
            "text/plain": [
              "HBox(children=(FloatProgress(value=0.0, max=3106.0), HTML(value='')))"
            ]
          },
          "metadata": {
            "tags": []
          }
        },
        {
          "output_type": "stream",
          "text": [
            "\n"
          ],
          "name": "stdout"
        },
        {
          "output_type": "display_data",
          "data": {
            "application/vnd.jupyter.widget-view+json": {
              "model_id": "96b3327b960a4041a2043a2af22eb377",
              "version_minor": 0,
              "version_major": 2
            },
            "text/plain": [
              "HBox(children=(FloatProgress(value=0.0, max=4.0), HTML(value='')))"
            ]
          },
          "metadata": {
            "tags": []
          }
        },
        {
          "output_type": "stream",
          "text": [
            "\n"
          ],
          "name": "stdout"
        },
        {
          "output_type": "stream",
          "text": [
            "The parameters `output_attentions`, `output_hidden_states` and `use_cache` cannot be updated when calling a model.They have to be set to True/False in the config object (i.e.: `config=XConfig.from_pretrained('name', output_attentions=True)`).\n",
            "The parameter `return_dict` cannot be set in graph mode and will always be set to `True`.\n"
          ],
          "name": "stderr"
        },
        {
          "output_type": "stream",
          "text": [
            "Epoch 1/5\n",
            "WARNING:tensorflow:Gradients do not exist for variables ['tf_distil_bert_for_masked_lm_1/distilbert/embeddings/word_embeddings/weight:0', 'tf_distil_bert_for_masked_lm_1/distilbert/embeddings/position_embeddings/embeddings:0', 'tf_distil_bert_for_masked_lm_1/distilbert/embeddings/LayerNorm/gamma:0', 'tf_distil_bert_for_masked_lm_1/distilbert/embeddings/LayerNorm/beta:0', 'tf_distil_bert_for_masked_lm_1/distilbert/transformer/layer_._0/sa_layer_norm/gamma:0', 'tf_distil_bert_for_masked_lm_1/distilbert/transformer/layer_._0/sa_layer_norm/beta:0', 'tf_distil_bert_for_masked_lm_1/distilbert/transformer/layer_._0/ffn/lin1/kernel:0', 'tf_distil_bert_for_masked_lm_1/distilbert/transformer/layer_._0/ffn/lin1/bias:0', 'tf_distil_bert_for_masked_lm_1/distilbert/transformer/layer_._0/ffn/lin2/kernel:0', 'tf_distil_bert_for_masked_lm_1/distilbert/transformer/layer_._0/ffn/lin2/bias:0', 'tf_distil_bert_for_masked_lm_1/distilbert/transformer/layer_._0/output_layer_norm/gamma:0', 'tf_distil_bert_for_masked_lm_1/distilbert/transformer/layer_._0/output_layer_norm/beta:0', 'tf_distil_bert_for_masked_lm_1/distilbert/transformer/layer_._0/attention/dense_72/kernel:0', 'tf_distil_bert_for_masked_lm_1/distilbert/transformer/layer_._0/attention/dense_72/bias:0', 'tf_distil_bert_for_masked_lm_1/distilbert/transformer/layer_._0/attention/dense_73/kernel:0', 'tf_distil_bert_for_masked_lm_1/distilbert/transformer/layer_._0/attention/dense_73/bias:0', 'tf_distil_bert_for_masked_lm_1/distilbert/transformer/layer_._0/attention/dense_74/kernel:0', 'tf_distil_bert_for_masked_lm_1/distilbert/transformer/layer_._0/attention/dense_74/bias:0', 'tf_distil_bert_for_masked_lm_1/distilbert/transformer/layer_._0/attention/dense_75/kernel:0', 'tf_distil_bert_for_masked_lm_1/distilbert/transformer/layer_._0/attention/dense_75/bias:0', 'tf_distil_bert_for_masked_lm_1/distilbert/transformer/layer_._1/sa_layer_norm/gamma:0', 'tf_distil_bert_for_masked_lm_1/distilbert/transformer/layer_._1/sa_layer_norm/beta:0', 'tf_distil_bert_for_masked_lm_1/distilbert/transformer/layer_._1/ffn/lin1/kernel:0', 'tf_distil_bert_for_masked_lm_1/distilbert/transformer/layer_._1/ffn/lin1/bias:0', 'tf_distil_bert_for_masked_lm_1/distilbert/transformer/layer_._1/ffn/lin2/kernel:0', 'tf_distil_bert_for_masked_lm_1/distilbert/transformer/layer_._1/ffn/lin2/bias:0', 'tf_distil_bert_for_masked_lm_1/distilbert/transformer/layer_._1/output_layer_norm/gamma:0', 'tf_distil_bert_for_masked_lm_1/distilbert/transformer/layer_._1/output_layer_norm/beta:0', 'tf_distil_bert_for_masked_lm_1/distilbert/transformer/layer_._1/attention/dense_76/kernel:0', 'tf_distil_bert_for_masked_lm_1/distilbert/transformer/layer_._1/attention/dense_76/bias:0', 'tf_distil_bert_for_masked_lm_1/distilbert/transformer/layer_._1/attention/dense_77/kernel:0', 'tf_distil_bert_for_masked_lm_1/distilbert/transformer/layer_._1/attention/dense_77/bias:0', 'tf_distil_bert_for_masked_lm_1/distilbert/transformer/layer_._1/attention/dense_78/kernel:0', 'tf_distil_bert_for_masked_lm_1/distilbert/transformer/layer_._1/attention/dense_78/bias:0', 'tf_distil_bert_for_masked_lm_1/distilbert/transformer/layer_._1/attention/dense_79/kernel:0', 'tf_distil_bert_for_masked_lm_1/distilbert/transformer/layer_._1/attention/dense_79/bias:0', 'tf_distil_bert_for_masked_lm_1/distilbert/transformer/layer_._2/sa_layer_norm/gamma:0', 'tf_distil_bert_for_masked_lm_1/distilbert/transformer/layer_._2/sa_layer_norm/beta:0', 'tf_distil_bert_for_masked_lm_1/distilbert/transformer/layer_._2/ffn/lin1/kernel:0', 'tf_distil_bert_for_masked_lm_1/distilbert/transformer/layer_._2/ffn/lin1/bias:0', 'tf_distil_bert_for_masked_lm_1/distilbert/transformer/layer_._2/ffn/lin2/kernel:0', 'tf_distil_bert_for_masked_lm_1/distilbert/transformer/layer_._2/ffn/lin2/bias:0', 'tf_distil_bert_for_masked_lm_1/distilbert/transformer/layer_._2/output_layer_norm/gamma:0', 'tf_distil_bert_for_masked_lm_1/distilbert/transformer/layer_._2/output_layer_norm/beta:0', 'tf_distil_bert_for_masked_lm_1/distilbert/transformer/layer_._2/attention/dense_80/kernel:0', 'tf_distil_bert_for_masked_lm_1/distilbert/transformer/layer_._2/attention/dense_80/bias:0', 'tf_distil_bert_for_masked_lm_1/distilbert/transformer/layer_._2/attention/dense_81/kernel:0', 'tf_distil_bert_for_masked_lm_1/distilbert/transformer/layer_._2/attention/dense_81/bias:0', 'tf_distil_bert_for_masked_lm_1/distilbert/transformer/layer_._2/attention/dense_82/kernel:0', 'tf_distil_bert_for_masked_lm_1/distilbert/transformer/layer_._2/attention/dense_82/bias:0', 'tf_distil_bert_for_masked_lm_1/distilbert/transformer/layer_._2/attention/dense_83/kernel:0', 'tf_distil_bert_for_masked_lm_1/distilbert/transformer/layer_._2/attention/dense_83/bias:0', 'tf_distil_bert_for_masked_lm_1/distilbert/transformer/layer_._3/sa_layer_norm/gamma:0', 'tf_distil_bert_for_masked_lm_1/distilbert/transformer/layer_._3/sa_layer_norm/beta:0', 'tf_distil_bert_for_masked_lm_1/distilbert/transformer/layer_._3/ffn/lin1/kernel:0', 'tf_distil_bert_for_masked_lm_1/distilbert/transformer/layer_._3/ffn/lin1/bias:0', 'tf_distil_bert_for_masked_lm_1/distilbert/transformer/layer_._3/ffn/lin2/kernel:0', 'tf_distil_bert_for_masked_lm_1/distilbert/transformer/layer_._3/ffn/lin2/bias:0', 'tf_distil_bert_for_masked_lm_1/distilbert/transformer/layer_._3/output_layer_norm/gamma:0', 'tf_distil_bert_for_masked_lm_1/distilbert/transformer/layer_._3/output_layer_norm/beta:0', 'tf_distil_bert_for_masked_lm_1/distilbert/transformer/layer_._3/attention/dense_84/kernel:0', 'tf_distil_bert_for_masked_lm_1/distilbert/transformer/layer_._3/attention/dense_84/bias:0', 'tf_distil_bert_for_masked_lm_1/distilbert/transformer/layer_._3/attention/dense_85/kernel:0', 'tf_distil_bert_for_masked_lm_1/distilbert/transformer/layer_._3/attention/dense_85/bias:0', 'tf_distil_bert_for_masked_lm_1/distilbert/transformer/layer_._3/attention/dense_86/kernel:0', 'tf_distil_bert_for_masked_lm_1/distilbert/transformer/layer_._3/attention/dense_86/bias:0', 'tf_distil_bert_for_masked_lm_1/distilbert/transformer/layer_._3/attention/dense_87/kernel:0', 'tf_distil_bert_for_masked_lm_1/distilbert/transformer/layer_._3/attention/dense_87/bias:0', 'tf_distil_bert_for_masked_lm_1/distilbert/transformer/layer_._4/sa_layer_norm/gamma:0', 'tf_distil_bert_for_masked_lm_1/distilbert/transformer/layer_._4/sa_layer_norm/beta:0', 'tf_distil_bert_for_masked_lm_1/distilbert/transformer/layer_._4/ffn/lin1/kernel:0', 'tf_distil_bert_for_masked_lm_1/distilbert/transformer/layer_._4/ffn/lin1/bias:0', 'tf_distil_bert_for_masked_lm_1/distilbert/transformer/layer_._4/ffn/lin2/kernel:0', 'tf_distil_bert_for_masked_lm_1/distilbert/transformer/layer_._4/ffn/lin2/bias:0', 'tf_distil_bert_for_masked_lm_1/distilbert/transformer/layer_._4/output_layer_norm/gamma:0', 'tf_distil_bert_for_masked_lm_1/distilbert/transformer/layer_._4/output_layer_norm/beta:0', 'tf_distil_bert_for_masked_lm_1/distilbert/transformer/layer_._4/attention/dense_88/kernel:0', 'tf_distil_bert_for_masked_lm_1/distilbert/transformer/layer_._4/attention/dense_88/bias:0', 'tf_distil_bert_for_masked_lm_1/distilbert/transformer/layer_._4/attention/dense_89/kernel:0', 'tf_distil_bert_for_masked_lm_1/distilbert/transformer/layer_._4/attention/dense_89/bias:0', 'tf_distil_bert_for_masked_lm_1/distilbert/transformer/layer_._4/attention/dense_90/kernel:0', 'tf_distil_bert_for_masked_lm_1/distilbert/transformer/layer_._4/attention/dense_90/bias:0', 'tf_distil_bert_for_masked_lm_1/distilbert/transformer/layer_._4/attention/dense_91/kernel:0', 'tf_distil_bert_for_masked_lm_1/distilbert/transformer/layer_._4/attention/dense_91/bias:0', 'tf_distil_bert_for_masked_lm_1/distilbert/transformer/layer_._5/sa_layer_norm/gamma:0', 'tf_distil_bert_for_masked_lm_1/distilbert/transformer/layer_._5/sa_layer_norm/beta:0', 'tf_distil_bert_for_masked_lm_1/distilbert/transformer/layer_._5/ffn/lin1/kernel:0', 'tf_distil_bert_for_masked_lm_1/distilbert/transformer/layer_._5/ffn/lin1/bias:0', 'tf_distil_bert_for_masked_lm_1/distilbert/transformer/layer_._5/ffn/lin2/kernel:0', 'tf_distil_bert_for_masked_lm_1/distilbert/transformer/layer_._5/ffn/lin2/bias:0', 'tf_distil_bert_for_masked_lm_1/distilbert/transformer/layer_._5/output_layer_norm/gamma:0', 'tf_distil_bert_for_masked_lm_1/distilbert/transformer/layer_._5/output_layer_norm/beta:0', 'tf_distil_bert_for_masked_lm_1/distilbert/transformer/layer_._5/attention/dense_92/kernel:0', 'tf_distil_bert_for_masked_lm_1/distilbert/transformer/layer_._5/attention/dense_92/bias:0', 'tf_distil_bert_for_masked_lm_1/distilbert/transformer/layer_._5/attention/dense_93/kernel:0', 'tf_distil_bert_for_masked_lm_1/distilbert/transformer/layer_._5/attention/dense_93/bias:0', 'tf_distil_bert_for_masked_lm_1/distilbert/transformer/layer_._5/attention/dense_94/kernel:0', 'tf_distil_bert_for_masked_lm_1/distilbert/transformer/layer_._5/attention/dense_94/bias:0', 'tf_distil_bert_for_masked_lm_1/distilbert/transformer/layer_._5/attention/dense_95/kernel:0', 'tf_distil_bert_for_masked_lm_1/distilbert/transformer/layer_._5/attention/dense_95/bias:0', 'tf_distil_bert_for_masked_lm_1/vocab_transform/kernel:0', 'tf_distil_bert_for_masked_lm_1/vocab_transform/bias:0', 'tf_distil_bert_for_masked_lm_1/vocab_layer_norm/gamma:0', 'tf_distil_bert_for_masked_lm_1/vocab_layer_norm/beta:0', 'tf_distil_bert_for_masked_lm_1/vocab_projector/bias:0'] when minimizing the loss.\n"
          ],
          "name": "stdout"
        },
        {
          "output_type": "stream",
          "text": [
            "WARNING:tensorflow:Gradients do not exist for variables ['tf_distil_bert_for_masked_lm_1/distilbert/embeddings/word_embeddings/weight:0', 'tf_distil_bert_for_masked_lm_1/distilbert/embeddings/position_embeddings/embeddings:0', 'tf_distil_bert_for_masked_lm_1/distilbert/embeddings/LayerNorm/gamma:0', 'tf_distil_bert_for_masked_lm_1/distilbert/embeddings/LayerNorm/beta:0', 'tf_distil_bert_for_masked_lm_1/distilbert/transformer/layer_._0/sa_layer_norm/gamma:0', 'tf_distil_bert_for_masked_lm_1/distilbert/transformer/layer_._0/sa_layer_norm/beta:0', 'tf_distil_bert_for_masked_lm_1/distilbert/transformer/layer_._0/ffn/lin1/kernel:0', 'tf_distil_bert_for_masked_lm_1/distilbert/transformer/layer_._0/ffn/lin1/bias:0', 'tf_distil_bert_for_masked_lm_1/distilbert/transformer/layer_._0/ffn/lin2/kernel:0', 'tf_distil_bert_for_masked_lm_1/distilbert/transformer/layer_._0/ffn/lin2/bias:0', 'tf_distil_bert_for_masked_lm_1/distilbert/transformer/layer_._0/output_layer_norm/gamma:0', 'tf_distil_bert_for_masked_lm_1/distilbert/transformer/layer_._0/output_layer_norm/beta:0', 'tf_distil_bert_for_masked_lm_1/distilbert/transformer/layer_._0/attention/dense_72/kernel:0', 'tf_distil_bert_for_masked_lm_1/distilbert/transformer/layer_._0/attention/dense_72/bias:0', 'tf_distil_bert_for_masked_lm_1/distilbert/transformer/layer_._0/attention/dense_73/kernel:0', 'tf_distil_bert_for_masked_lm_1/distilbert/transformer/layer_._0/attention/dense_73/bias:0', 'tf_distil_bert_for_masked_lm_1/distilbert/transformer/layer_._0/attention/dense_74/kernel:0', 'tf_distil_bert_for_masked_lm_1/distilbert/transformer/layer_._0/attention/dense_74/bias:0', 'tf_distil_bert_for_masked_lm_1/distilbert/transformer/layer_._0/attention/dense_75/kernel:0', 'tf_distil_bert_for_masked_lm_1/distilbert/transformer/layer_._0/attention/dense_75/bias:0', 'tf_distil_bert_for_masked_lm_1/distilbert/transformer/layer_._1/sa_layer_norm/gamma:0', 'tf_distil_bert_for_masked_lm_1/distilbert/transformer/layer_._1/sa_layer_norm/beta:0', 'tf_distil_bert_for_masked_lm_1/distilbert/transformer/layer_._1/ffn/lin1/kernel:0', 'tf_distil_bert_for_masked_lm_1/distilbert/transformer/layer_._1/ffn/lin1/bias:0', 'tf_distil_bert_for_masked_lm_1/distilbert/transformer/layer_._1/ffn/lin2/kernel:0', 'tf_distil_bert_for_masked_lm_1/distilbert/transformer/layer_._1/ffn/lin2/bias:0', 'tf_distil_bert_for_masked_lm_1/distilbert/transformer/layer_._1/output_layer_norm/gamma:0', 'tf_distil_bert_for_masked_lm_1/distilbert/transformer/layer_._1/output_layer_norm/beta:0', 'tf_distil_bert_for_masked_lm_1/distilbert/transformer/layer_._1/attention/dense_76/kernel:0', 'tf_distil_bert_for_masked_lm_1/distilbert/transformer/layer_._1/attention/dense_76/bias:0', 'tf_distil_bert_for_masked_lm_1/distilbert/transformer/layer_._1/attention/dense_77/kernel:0', 'tf_distil_bert_for_masked_lm_1/distilbert/transformer/layer_._1/attention/dense_77/bias:0', 'tf_distil_bert_for_masked_lm_1/distilbert/transformer/layer_._1/attention/dense_78/kernel:0', 'tf_distil_bert_for_masked_lm_1/distilbert/transformer/layer_._1/attention/dense_78/bias:0', 'tf_distil_bert_for_masked_lm_1/distilbert/transformer/layer_._1/attention/dense_79/kernel:0', 'tf_distil_bert_for_masked_lm_1/distilbert/transformer/layer_._1/attention/dense_79/bias:0', 'tf_distil_bert_for_masked_lm_1/distilbert/transformer/layer_._2/sa_layer_norm/gamma:0', 'tf_distil_bert_for_masked_lm_1/distilbert/transformer/layer_._2/sa_layer_norm/beta:0', 'tf_distil_bert_for_masked_lm_1/distilbert/transformer/layer_._2/ffn/lin1/kernel:0', 'tf_distil_bert_for_masked_lm_1/distilbert/transformer/layer_._2/ffn/lin1/bias:0', 'tf_distil_bert_for_masked_lm_1/distilbert/transformer/layer_._2/ffn/lin2/kernel:0', 'tf_distil_bert_for_masked_lm_1/distilbert/transformer/layer_._2/ffn/lin2/bias:0', 'tf_distil_bert_for_masked_lm_1/distilbert/transformer/layer_._2/output_layer_norm/gamma:0', 'tf_distil_bert_for_masked_lm_1/distilbert/transformer/layer_._2/output_layer_norm/beta:0', 'tf_distil_bert_for_masked_lm_1/distilbert/transformer/layer_._2/attention/dense_80/kernel:0', 'tf_distil_bert_for_masked_lm_1/distilbert/transformer/layer_._2/attention/dense_80/bias:0', 'tf_distil_bert_for_masked_lm_1/distilbert/transformer/layer_._2/attention/dense_81/kernel:0', 'tf_distil_bert_for_masked_lm_1/distilbert/transformer/layer_._2/attention/dense_81/bias:0', 'tf_distil_bert_for_masked_lm_1/distilbert/transformer/layer_._2/attention/dense_82/kernel:0', 'tf_distil_bert_for_masked_lm_1/distilbert/transformer/layer_._2/attention/dense_82/bias:0', 'tf_distil_bert_for_masked_lm_1/distilbert/transformer/layer_._2/attention/dense_83/kernel:0', 'tf_distil_bert_for_masked_lm_1/distilbert/transformer/layer_._2/attention/dense_83/bias:0', 'tf_distil_bert_for_masked_lm_1/distilbert/transformer/layer_._3/sa_layer_norm/gamma:0', 'tf_distil_bert_for_masked_lm_1/distilbert/transformer/layer_._3/sa_layer_norm/beta:0', 'tf_distil_bert_for_masked_lm_1/distilbert/transformer/layer_._3/ffn/lin1/kernel:0', 'tf_distil_bert_for_masked_lm_1/distilbert/transformer/layer_._3/ffn/lin1/bias:0', 'tf_distil_bert_for_masked_lm_1/distilbert/transformer/layer_._3/ffn/lin2/kernel:0', 'tf_distil_bert_for_masked_lm_1/distilbert/transformer/layer_._3/ffn/lin2/bias:0', 'tf_distil_bert_for_masked_lm_1/distilbert/transformer/layer_._3/output_layer_norm/gamma:0', 'tf_distil_bert_for_masked_lm_1/distilbert/transformer/layer_._3/output_layer_norm/beta:0', 'tf_distil_bert_for_masked_lm_1/distilbert/transformer/layer_._3/attention/dense_84/kernel:0', 'tf_distil_bert_for_masked_lm_1/distilbert/transformer/layer_._3/attention/dense_84/bias:0', 'tf_distil_bert_for_masked_lm_1/distilbert/transformer/layer_._3/attention/dense_85/kernel:0', 'tf_distil_bert_for_masked_lm_1/distilbert/transformer/layer_._3/attention/dense_85/bias:0', 'tf_distil_bert_for_masked_lm_1/distilbert/transformer/layer_._3/attention/dense_86/kernel:0', 'tf_distil_bert_for_masked_lm_1/distilbert/transformer/layer_._3/attention/dense_86/bias:0', 'tf_distil_bert_for_masked_lm_1/distilbert/transformer/layer_._3/attention/dense_87/kernel:0', 'tf_distil_bert_for_masked_lm_1/distilbert/transformer/layer_._3/attention/dense_87/bias:0', 'tf_distil_bert_for_masked_lm_1/distilbert/transformer/layer_._4/sa_layer_norm/gamma:0', 'tf_distil_bert_for_masked_lm_1/distilbert/transformer/layer_._4/sa_layer_norm/beta:0', 'tf_distil_bert_for_masked_lm_1/distilbert/transformer/layer_._4/ffn/lin1/kernel:0', 'tf_distil_bert_for_masked_lm_1/distilbert/transformer/layer_._4/ffn/lin1/bias:0', 'tf_distil_bert_for_masked_lm_1/distilbert/transformer/layer_._4/ffn/lin2/kernel:0', 'tf_distil_bert_for_masked_lm_1/distilbert/transformer/layer_._4/ffn/lin2/bias:0', 'tf_distil_bert_for_masked_lm_1/distilbert/transformer/layer_._4/output_layer_norm/gamma:0', 'tf_distil_bert_for_masked_lm_1/distilbert/transformer/layer_._4/output_layer_norm/beta:0', 'tf_distil_bert_for_masked_lm_1/distilbert/transformer/layer_._4/attention/dense_88/kernel:0', 'tf_distil_bert_for_masked_lm_1/distilbert/transformer/layer_._4/attention/dense_88/bias:0', 'tf_distil_bert_for_masked_lm_1/distilbert/transformer/layer_._4/attention/dense_89/kernel:0', 'tf_distil_bert_for_masked_lm_1/distilbert/transformer/layer_._4/attention/dense_89/bias:0', 'tf_distil_bert_for_masked_lm_1/distilbert/transformer/layer_._4/attention/dense_90/kernel:0', 'tf_distil_bert_for_masked_lm_1/distilbert/transformer/layer_._4/attention/dense_90/bias:0', 'tf_distil_bert_for_masked_lm_1/distilbert/transformer/layer_._4/attention/dense_91/kernel:0', 'tf_distil_bert_for_masked_lm_1/distilbert/transformer/layer_._4/attention/dense_91/bias:0', 'tf_distil_bert_for_masked_lm_1/distilbert/transformer/layer_._5/sa_layer_norm/gamma:0', 'tf_distil_bert_for_masked_lm_1/distilbert/transformer/layer_._5/sa_layer_norm/beta:0', 'tf_distil_bert_for_masked_lm_1/distilbert/transformer/layer_._5/ffn/lin1/kernel:0', 'tf_distil_bert_for_masked_lm_1/distilbert/transformer/layer_._5/ffn/lin1/bias:0', 'tf_distil_bert_for_masked_lm_1/distilbert/transformer/layer_._5/ffn/lin2/kernel:0', 'tf_distil_bert_for_masked_lm_1/distilbert/transformer/layer_._5/ffn/lin2/bias:0', 'tf_distil_bert_for_masked_lm_1/distilbert/transformer/layer_._5/output_layer_norm/gamma:0', 'tf_distil_bert_for_masked_lm_1/distilbert/transformer/layer_._5/output_layer_norm/beta:0', 'tf_distil_bert_for_masked_lm_1/distilbert/transformer/layer_._5/attention/dense_92/kernel:0', 'tf_distil_bert_for_masked_lm_1/distilbert/transformer/layer_._5/attention/dense_92/bias:0', 'tf_distil_bert_for_masked_lm_1/distilbert/transformer/layer_._5/attention/dense_93/kernel:0', 'tf_distil_bert_for_masked_lm_1/distilbert/transformer/layer_._5/attention/dense_93/bias:0', 'tf_distil_bert_for_masked_lm_1/distilbert/transformer/layer_._5/attention/dense_94/kernel:0', 'tf_distil_bert_for_masked_lm_1/distilbert/transformer/layer_._5/attention/dense_94/bias:0', 'tf_distil_bert_for_masked_lm_1/distilbert/transformer/layer_._5/attention/dense_95/kernel:0', 'tf_distil_bert_for_masked_lm_1/distilbert/transformer/layer_._5/attention/dense_95/bias:0', 'tf_distil_bert_for_masked_lm_1/vocab_transform/kernel:0', 'tf_distil_bert_for_masked_lm_1/vocab_transform/bias:0', 'tf_distil_bert_for_masked_lm_1/vocab_layer_norm/gamma:0', 'tf_distil_bert_for_masked_lm_1/vocab_layer_norm/beta:0', 'tf_distil_bert_for_masked_lm_1/vocab_projector/bias:0'] when minimizing the loss.\n",
            "The parameters `output_attentions`, `output_hidden_states` and `use_cache` cannot be updated when calling a model.They have to be set to True/False in the config object (i.e.: `config=XConfig.from_pretrained('name', output_attentions=True)`).\n",
            "The parameter `return_dict` cannot be set in graph mode and will always be set to `True`.\n"
          ],
          "name": "stderr"
        },
        {
          "output_type": "stream",
          "text": [
            "WARNING:tensorflow:Gradients do not exist for variables ['tf_distil_bert_for_masked_lm_1/distilbert/embeddings/word_embeddings/weight:0', 'tf_distil_bert_for_masked_lm_1/distilbert/embeddings/position_embeddings/embeddings:0', 'tf_distil_bert_for_masked_lm_1/distilbert/embeddings/LayerNorm/gamma:0', 'tf_distil_bert_for_masked_lm_1/distilbert/embeddings/LayerNorm/beta:0', 'tf_distil_bert_for_masked_lm_1/distilbert/transformer/layer_._0/sa_layer_norm/gamma:0', 'tf_distil_bert_for_masked_lm_1/distilbert/transformer/layer_._0/sa_layer_norm/beta:0', 'tf_distil_bert_for_masked_lm_1/distilbert/transformer/layer_._0/ffn/lin1/kernel:0', 'tf_distil_bert_for_masked_lm_1/distilbert/transformer/layer_._0/ffn/lin1/bias:0', 'tf_distil_bert_for_masked_lm_1/distilbert/transformer/layer_._0/ffn/lin2/kernel:0', 'tf_distil_bert_for_masked_lm_1/distilbert/transformer/layer_._0/ffn/lin2/bias:0', 'tf_distil_bert_for_masked_lm_1/distilbert/transformer/layer_._0/output_layer_norm/gamma:0', 'tf_distil_bert_for_masked_lm_1/distilbert/transformer/layer_._0/output_layer_norm/beta:0', 'tf_distil_bert_for_masked_lm_1/distilbert/transformer/layer_._0/attention/dense_72/kernel:0', 'tf_distil_bert_for_masked_lm_1/distilbert/transformer/layer_._0/attention/dense_72/bias:0', 'tf_distil_bert_for_masked_lm_1/distilbert/transformer/layer_._0/attention/dense_73/kernel:0', 'tf_distil_bert_for_masked_lm_1/distilbert/transformer/layer_._0/attention/dense_73/bias:0', 'tf_distil_bert_for_masked_lm_1/distilbert/transformer/layer_._0/attention/dense_74/kernel:0', 'tf_distil_bert_for_masked_lm_1/distilbert/transformer/layer_._0/attention/dense_74/bias:0', 'tf_distil_bert_for_masked_lm_1/distilbert/transformer/layer_._0/attention/dense_75/kernel:0', 'tf_distil_bert_for_masked_lm_1/distilbert/transformer/layer_._0/attention/dense_75/bias:0', 'tf_distil_bert_for_masked_lm_1/distilbert/transformer/layer_._1/sa_layer_norm/gamma:0', 'tf_distil_bert_for_masked_lm_1/distilbert/transformer/layer_._1/sa_layer_norm/beta:0', 'tf_distil_bert_for_masked_lm_1/distilbert/transformer/layer_._1/ffn/lin1/kernel:0', 'tf_distil_bert_for_masked_lm_1/distilbert/transformer/layer_._1/ffn/lin1/bias:0', 'tf_distil_bert_for_masked_lm_1/distilbert/transformer/layer_._1/ffn/lin2/kernel:0', 'tf_distil_bert_for_masked_lm_1/distilbert/transformer/layer_._1/ffn/lin2/bias:0', 'tf_distil_bert_for_masked_lm_1/distilbert/transformer/layer_._1/output_layer_norm/gamma:0', 'tf_distil_bert_for_masked_lm_1/distilbert/transformer/layer_._1/output_layer_norm/beta:0', 'tf_distil_bert_for_masked_lm_1/distilbert/transformer/layer_._1/attention/dense_76/kernel:0', 'tf_distil_bert_for_masked_lm_1/distilbert/transformer/layer_._1/attention/dense_76/bias:0', 'tf_distil_bert_for_masked_lm_1/distilbert/transformer/layer_._1/attention/dense_77/kernel:0', 'tf_distil_bert_for_masked_lm_1/distilbert/transformer/layer_._1/attention/dense_77/bias:0', 'tf_distil_bert_for_masked_lm_1/distilbert/transformer/layer_._1/attention/dense_78/kernel:0', 'tf_distil_bert_for_masked_lm_1/distilbert/transformer/layer_._1/attention/dense_78/bias:0', 'tf_distil_bert_for_masked_lm_1/distilbert/transformer/layer_._1/attention/dense_79/kernel:0', 'tf_distil_bert_for_masked_lm_1/distilbert/transformer/layer_._1/attention/dense_79/bias:0', 'tf_distil_bert_for_masked_lm_1/distilbert/transformer/layer_._2/sa_layer_norm/gamma:0', 'tf_distil_bert_for_masked_lm_1/distilbert/transformer/layer_._2/sa_layer_norm/beta:0', 'tf_distil_bert_for_masked_lm_1/distilbert/transformer/layer_._2/ffn/lin1/kernel:0', 'tf_distil_bert_for_masked_lm_1/distilbert/transformer/layer_._2/ffn/lin1/bias:0', 'tf_distil_bert_for_masked_lm_1/distilbert/transformer/layer_._2/ffn/lin2/kernel:0', 'tf_distil_bert_for_masked_lm_1/distilbert/transformer/layer_._2/ffn/lin2/bias:0', 'tf_distil_bert_for_masked_lm_1/distilbert/transformer/layer_._2/output_layer_norm/gamma:0', 'tf_distil_bert_for_masked_lm_1/distilbert/transformer/layer_._2/output_layer_norm/beta:0', 'tf_distil_bert_for_masked_lm_1/distilbert/transformer/layer_._2/attention/dense_80/kernel:0', 'tf_distil_bert_for_masked_lm_1/distilbert/transformer/layer_._2/attention/dense_80/bias:0', 'tf_distil_bert_for_masked_lm_1/distilbert/transformer/layer_._2/attention/dense_81/kernel:0', 'tf_distil_bert_for_masked_lm_1/distilbert/transformer/layer_._2/attention/dense_81/bias:0', 'tf_distil_bert_for_masked_lm_1/distilbert/transformer/layer_._2/attention/dense_82/kernel:0', 'tf_distil_bert_for_masked_lm_1/distilbert/transformer/layer_._2/attention/dense_82/bias:0', 'tf_distil_bert_for_masked_lm_1/distilbert/transformer/layer_._2/attention/dense_83/kernel:0', 'tf_distil_bert_for_masked_lm_1/distilbert/transformer/layer_._2/attention/dense_83/bias:0', 'tf_distil_bert_for_masked_lm_1/distilbert/transformer/layer_._3/sa_layer_norm/gamma:0', 'tf_distil_bert_for_masked_lm_1/distilbert/transformer/layer_._3/sa_layer_norm/beta:0', 'tf_distil_bert_for_masked_lm_1/distilbert/transformer/layer_._3/ffn/lin1/kernel:0', 'tf_distil_bert_for_masked_lm_1/distilbert/transformer/layer_._3/ffn/lin1/bias:0', 'tf_distil_bert_for_masked_lm_1/distilbert/transformer/layer_._3/ffn/lin2/kernel:0', 'tf_distil_bert_for_masked_lm_1/distilbert/transformer/layer_._3/ffn/lin2/bias:0', 'tf_distil_bert_for_masked_lm_1/distilbert/transformer/layer_._3/output_layer_norm/gamma:0', 'tf_distil_bert_for_masked_lm_1/distilbert/transformer/layer_._3/output_layer_norm/beta:0', 'tf_distil_bert_for_masked_lm_1/distilbert/transformer/layer_._3/attention/dense_84/kernel:0', 'tf_distil_bert_for_masked_lm_1/distilbert/transformer/layer_._3/attention/dense_84/bias:0', 'tf_distil_bert_for_masked_lm_1/distilbert/transformer/layer_._3/attention/dense_85/kernel:0', 'tf_distil_bert_for_masked_lm_1/distilbert/transformer/layer_._3/attention/dense_85/bias:0', 'tf_distil_bert_for_masked_lm_1/distilbert/transformer/layer_._3/attention/dense_86/kernel:0', 'tf_distil_bert_for_masked_lm_1/distilbert/transformer/layer_._3/attention/dense_86/bias:0', 'tf_distil_bert_for_masked_lm_1/distilbert/transformer/layer_._3/attention/dense_87/kernel:0', 'tf_distil_bert_for_masked_lm_1/distilbert/transformer/layer_._3/attention/dense_87/bias:0', 'tf_distil_bert_for_masked_lm_1/distilbert/transformer/layer_._4/sa_layer_norm/gamma:0', 'tf_distil_bert_for_masked_lm_1/distilbert/transformer/layer_._4/sa_layer_norm/beta:0', 'tf_distil_bert_for_masked_lm_1/distilbert/transformer/layer_._4/ffn/lin1/kernel:0', 'tf_distil_bert_for_masked_lm_1/distilbert/transformer/layer_._4/ffn/lin1/bias:0', 'tf_distil_bert_for_masked_lm_1/distilbert/transformer/layer_._4/ffn/lin2/kernel:0', 'tf_distil_bert_for_masked_lm_1/distilbert/transformer/layer_._4/ffn/lin2/bias:0', 'tf_distil_bert_for_masked_lm_1/distilbert/transformer/layer_._4/output_layer_norm/gamma:0', 'tf_distil_bert_for_masked_lm_1/distilbert/transformer/layer_._4/output_layer_norm/beta:0', 'tf_distil_bert_for_masked_lm_1/distilbert/transformer/layer_._4/attention/dense_88/kernel:0', 'tf_distil_bert_for_masked_lm_1/distilbert/transformer/layer_._4/attention/dense_88/bias:0', 'tf_distil_bert_for_masked_lm_1/distilbert/transformer/layer_._4/attention/dense_89/kernel:0', 'tf_distil_bert_for_masked_lm_1/distilbert/transformer/layer_._4/attention/dense_89/bias:0', 'tf_distil_bert_for_masked_lm_1/distilbert/transformer/layer_._4/attention/dense_90/kernel:0', 'tf_distil_bert_for_masked_lm_1/distilbert/transformer/layer_._4/attention/dense_90/bias:0', 'tf_distil_bert_for_masked_lm_1/distilbert/transformer/layer_._4/attention/dense_91/kernel:0', 'tf_distil_bert_for_masked_lm_1/distilbert/transformer/layer_._4/attention/dense_91/bias:0', 'tf_distil_bert_for_masked_lm_1/distilbert/transformer/layer_._5/sa_layer_norm/gamma:0', 'tf_distil_bert_for_masked_lm_1/distilbert/transformer/layer_._5/sa_layer_norm/beta:0', 'tf_distil_bert_for_masked_lm_1/distilbert/transformer/layer_._5/ffn/lin1/kernel:0', 'tf_distil_bert_for_masked_lm_1/distilbert/transformer/layer_._5/ffn/lin1/bias:0', 'tf_distil_bert_for_masked_lm_1/distilbert/transformer/layer_._5/ffn/lin2/kernel:0', 'tf_distil_bert_for_masked_lm_1/distilbert/transformer/layer_._5/ffn/lin2/bias:0', 'tf_distil_bert_for_masked_lm_1/distilbert/transformer/layer_._5/output_layer_norm/gamma:0', 'tf_distil_bert_for_masked_lm_1/distilbert/transformer/layer_._5/output_layer_norm/beta:0', 'tf_distil_bert_for_masked_lm_1/distilbert/transformer/layer_._5/attention/dense_92/kernel:0', 'tf_distil_bert_for_masked_lm_1/distilbert/transformer/layer_._5/attention/dense_92/bias:0', 'tf_distil_bert_for_masked_lm_1/distilbert/transformer/layer_._5/attention/dense_93/kernel:0', 'tf_distil_bert_for_masked_lm_1/distilbert/transformer/layer_._5/attention/dense_93/bias:0', 'tf_distil_bert_for_masked_lm_1/distilbert/transformer/layer_._5/attention/dense_94/kernel:0', 'tf_distil_bert_for_masked_lm_1/distilbert/transformer/layer_._5/attention/dense_94/bias:0', 'tf_distil_bert_for_masked_lm_1/distilbert/transformer/layer_._5/attention/dense_95/kernel:0', 'tf_distil_bert_for_masked_lm_1/distilbert/transformer/layer_._5/attention/dense_95/bias:0', 'tf_distil_bert_for_masked_lm_1/vocab_transform/kernel:0', 'tf_distil_bert_for_masked_lm_1/vocab_transform/bias:0', 'tf_distil_bert_for_masked_lm_1/vocab_layer_norm/gamma:0', 'tf_distil_bert_for_masked_lm_1/vocab_layer_norm/beta:0', 'tf_distil_bert_for_masked_lm_1/vocab_projector/bias:0'] when minimizing the loss.\n"
          ],
          "name": "stdout"
        },
        {
          "output_type": "stream",
          "text": [
            "WARNING:tensorflow:Gradients do not exist for variables ['tf_distil_bert_for_masked_lm_1/distilbert/embeddings/word_embeddings/weight:0', 'tf_distil_bert_for_masked_lm_1/distilbert/embeddings/position_embeddings/embeddings:0', 'tf_distil_bert_for_masked_lm_1/distilbert/embeddings/LayerNorm/gamma:0', 'tf_distil_bert_for_masked_lm_1/distilbert/embeddings/LayerNorm/beta:0', 'tf_distil_bert_for_masked_lm_1/distilbert/transformer/layer_._0/sa_layer_norm/gamma:0', 'tf_distil_bert_for_masked_lm_1/distilbert/transformer/layer_._0/sa_layer_norm/beta:0', 'tf_distil_bert_for_masked_lm_1/distilbert/transformer/layer_._0/ffn/lin1/kernel:0', 'tf_distil_bert_for_masked_lm_1/distilbert/transformer/layer_._0/ffn/lin1/bias:0', 'tf_distil_bert_for_masked_lm_1/distilbert/transformer/layer_._0/ffn/lin2/kernel:0', 'tf_distil_bert_for_masked_lm_1/distilbert/transformer/layer_._0/ffn/lin2/bias:0', 'tf_distil_bert_for_masked_lm_1/distilbert/transformer/layer_._0/output_layer_norm/gamma:0', 'tf_distil_bert_for_masked_lm_1/distilbert/transformer/layer_._0/output_layer_norm/beta:0', 'tf_distil_bert_for_masked_lm_1/distilbert/transformer/layer_._0/attention/dense_72/kernel:0', 'tf_distil_bert_for_masked_lm_1/distilbert/transformer/layer_._0/attention/dense_72/bias:0', 'tf_distil_bert_for_masked_lm_1/distilbert/transformer/layer_._0/attention/dense_73/kernel:0', 'tf_distil_bert_for_masked_lm_1/distilbert/transformer/layer_._0/attention/dense_73/bias:0', 'tf_distil_bert_for_masked_lm_1/distilbert/transformer/layer_._0/attention/dense_74/kernel:0', 'tf_distil_bert_for_masked_lm_1/distilbert/transformer/layer_._0/attention/dense_74/bias:0', 'tf_distil_bert_for_masked_lm_1/distilbert/transformer/layer_._0/attention/dense_75/kernel:0', 'tf_distil_bert_for_masked_lm_1/distilbert/transformer/layer_._0/attention/dense_75/bias:0', 'tf_distil_bert_for_masked_lm_1/distilbert/transformer/layer_._1/sa_layer_norm/gamma:0', 'tf_distil_bert_for_masked_lm_1/distilbert/transformer/layer_._1/sa_layer_norm/beta:0', 'tf_distil_bert_for_masked_lm_1/distilbert/transformer/layer_._1/ffn/lin1/kernel:0', 'tf_distil_bert_for_masked_lm_1/distilbert/transformer/layer_._1/ffn/lin1/bias:0', 'tf_distil_bert_for_masked_lm_1/distilbert/transformer/layer_._1/ffn/lin2/kernel:0', 'tf_distil_bert_for_masked_lm_1/distilbert/transformer/layer_._1/ffn/lin2/bias:0', 'tf_distil_bert_for_masked_lm_1/distilbert/transformer/layer_._1/output_layer_norm/gamma:0', 'tf_distil_bert_for_masked_lm_1/distilbert/transformer/layer_._1/output_layer_norm/beta:0', 'tf_distil_bert_for_masked_lm_1/distilbert/transformer/layer_._1/attention/dense_76/kernel:0', 'tf_distil_bert_for_masked_lm_1/distilbert/transformer/layer_._1/attention/dense_76/bias:0', 'tf_distil_bert_for_masked_lm_1/distilbert/transformer/layer_._1/attention/dense_77/kernel:0', 'tf_distil_bert_for_masked_lm_1/distilbert/transformer/layer_._1/attention/dense_77/bias:0', 'tf_distil_bert_for_masked_lm_1/distilbert/transformer/layer_._1/attention/dense_78/kernel:0', 'tf_distil_bert_for_masked_lm_1/distilbert/transformer/layer_._1/attention/dense_78/bias:0', 'tf_distil_bert_for_masked_lm_1/distilbert/transformer/layer_._1/attention/dense_79/kernel:0', 'tf_distil_bert_for_masked_lm_1/distilbert/transformer/layer_._1/attention/dense_79/bias:0', 'tf_distil_bert_for_masked_lm_1/distilbert/transformer/layer_._2/sa_layer_norm/gamma:0', 'tf_distil_bert_for_masked_lm_1/distilbert/transformer/layer_._2/sa_layer_norm/beta:0', 'tf_distil_bert_for_masked_lm_1/distilbert/transformer/layer_._2/ffn/lin1/kernel:0', 'tf_distil_bert_for_masked_lm_1/distilbert/transformer/layer_._2/ffn/lin1/bias:0', 'tf_distil_bert_for_masked_lm_1/distilbert/transformer/layer_._2/ffn/lin2/kernel:0', 'tf_distil_bert_for_masked_lm_1/distilbert/transformer/layer_._2/ffn/lin2/bias:0', 'tf_distil_bert_for_masked_lm_1/distilbert/transformer/layer_._2/output_layer_norm/gamma:0', 'tf_distil_bert_for_masked_lm_1/distilbert/transformer/layer_._2/output_layer_norm/beta:0', 'tf_distil_bert_for_masked_lm_1/distilbert/transformer/layer_._2/attention/dense_80/kernel:0', 'tf_distil_bert_for_masked_lm_1/distilbert/transformer/layer_._2/attention/dense_80/bias:0', 'tf_distil_bert_for_masked_lm_1/distilbert/transformer/layer_._2/attention/dense_81/kernel:0', 'tf_distil_bert_for_masked_lm_1/distilbert/transformer/layer_._2/attention/dense_81/bias:0', 'tf_distil_bert_for_masked_lm_1/distilbert/transformer/layer_._2/attention/dense_82/kernel:0', 'tf_distil_bert_for_masked_lm_1/distilbert/transformer/layer_._2/attention/dense_82/bias:0', 'tf_distil_bert_for_masked_lm_1/distilbert/transformer/layer_._2/attention/dense_83/kernel:0', 'tf_distil_bert_for_masked_lm_1/distilbert/transformer/layer_._2/attention/dense_83/bias:0', 'tf_distil_bert_for_masked_lm_1/distilbert/transformer/layer_._3/sa_layer_norm/gamma:0', 'tf_distil_bert_for_masked_lm_1/distilbert/transformer/layer_._3/sa_layer_norm/beta:0', 'tf_distil_bert_for_masked_lm_1/distilbert/transformer/layer_._3/ffn/lin1/kernel:0', 'tf_distil_bert_for_masked_lm_1/distilbert/transformer/layer_._3/ffn/lin1/bias:0', 'tf_distil_bert_for_masked_lm_1/distilbert/transformer/layer_._3/ffn/lin2/kernel:0', 'tf_distil_bert_for_masked_lm_1/distilbert/transformer/layer_._3/ffn/lin2/bias:0', 'tf_distil_bert_for_masked_lm_1/distilbert/transformer/layer_._3/output_layer_norm/gamma:0', 'tf_distil_bert_for_masked_lm_1/distilbert/transformer/layer_._3/output_layer_norm/beta:0', 'tf_distil_bert_for_masked_lm_1/distilbert/transformer/layer_._3/attention/dense_84/kernel:0', 'tf_distil_bert_for_masked_lm_1/distilbert/transformer/layer_._3/attention/dense_84/bias:0', 'tf_distil_bert_for_masked_lm_1/distilbert/transformer/layer_._3/attention/dense_85/kernel:0', 'tf_distil_bert_for_masked_lm_1/distilbert/transformer/layer_._3/attention/dense_85/bias:0', 'tf_distil_bert_for_masked_lm_1/distilbert/transformer/layer_._3/attention/dense_86/kernel:0', 'tf_distil_bert_for_masked_lm_1/distilbert/transformer/layer_._3/attention/dense_86/bias:0', 'tf_distil_bert_for_masked_lm_1/distilbert/transformer/layer_._3/attention/dense_87/kernel:0', 'tf_distil_bert_for_masked_lm_1/distilbert/transformer/layer_._3/attention/dense_87/bias:0', 'tf_distil_bert_for_masked_lm_1/distilbert/transformer/layer_._4/sa_layer_norm/gamma:0', 'tf_distil_bert_for_masked_lm_1/distilbert/transformer/layer_._4/sa_layer_norm/beta:0', 'tf_distil_bert_for_masked_lm_1/distilbert/transformer/layer_._4/ffn/lin1/kernel:0', 'tf_distil_bert_for_masked_lm_1/distilbert/transformer/layer_._4/ffn/lin1/bias:0', 'tf_distil_bert_for_masked_lm_1/distilbert/transformer/layer_._4/ffn/lin2/kernel:0', 'tf_distil_bert_for_masked_lm_1/distilbert/transformer/layer_._4/ffn/lin2/bias:0', 'tf_distil_bert_for_masked_lm_1/distilbert/transformer/layer_._4/output_layer_norm/gamma:0', 'tf_distil_bert_for_masked_lm_1/distilbert/transformer/layer_._4/output_layer_norm/beta:0', 'tf_distil_bert_for_masked_lm_1/distilbert/transformer/layer_._4/attention/dense_88/kernel:0', 'tf_distil_bert_for_masked_lm_1/distilbert/transformer/layer_._4/attention/dense_88/bias:0', 'tf_distil_bert_for_masked_lm_1/distilbert/transformer/layer_._4/attention/dense_89/kernel:0', 'tf_distil_bert_for_masked_lm_1/distilbert/transformer/layer_._4/attention/dense_89/bias:0', 'tf_distil_bert_for_masked_lm_1/distilbert/transformer/layer_._4/attention/dense_90/kernel:0', 'tf_distil_bert_for_masked_lm_1/distilbert/transformer/layer_._4/attention/dense_90/bias:0', 'tf_distil_bert_for_masked_lm_1/distilbert/transformer/layer_._4/attention/dense_91/kernel:0', 'tf_distil_bert_for_masked_lm_1/distilbert/transformer/layer_._4/attention/dense_91/bias:0', 'tf_distil_bert_for_masked_lm_1/distilbert/transformer/layer_._5/sa_layer_norm/gamma:0', 'tf_distil_bert_for_masked_lm_1/distilbert/transformer/layer_._5/sa_layer_norm/beta:0', 'tf_distil_bert_for_masked_lm_1/distilbert/transformer/layer_._5/ffn/lin1/kernel:0', 'tf_distil_bert_for_masked_lm_1/distilbert/transformer/layer_._5/ffn/lin1/bias:0', 'tf_distil_bert_for_masked_lm_1/distilbert/transformer/layer_._5/ffn/lin2/kernel:0', 'tf_distil_bert_for_masked_lm_1/distilbert/transformer/layer_._5/ffn/lin2/bias:0', 'tf_distil_bert_for_masked_lm_1/distilbert/transformer/layer_._5/output_layer_norm/gamma:0', 'tf_distil_bert_for_masked_lm_1/distilbert/transformer/layer_._5/output_layer_norm/beta:0', 'tf_distil_bert_for_masked_lm_1/distilbert/transformer/layer_._5/attention/dense_92/kernel:0', 'tf_distil_bert_for_masked_lm_1/distilbert/transformer/layer_._5/attention/dense_92/bias:0', 'tf_distil_bert_for_masked_lm_1/distilbert/transformer/layer_._5/attention/dense_93/kernel:0', 'tf_distil_bert_for_masked_lm_1/distilbert/transformer/layer_._5/attention/dense_93/bias:0', 'tf_distil_bert_for_masked_lm_1/distilbert/transformer/layer_._5/attention/dense_94/kernel:0', 'tf_distil_bert_for_masked_lm_1/distilbert/transformer/layer_._5/attention/dense_94/bias:0', 'tf_distil_bert_for_masked_lm_1/distilbert/transformer/layer_._5/attention/dense_95/kernel:0', 'tf_distil_bert_for_masked_lm_1/distilbert/transformer/layer_._5/attention/dense_95/bias:0', 'tf_distil_bert_for_masked_lm_1/vocab_transform/kernel:0', 'tf_distil_bert_for_masked_lm_1/vocab_transform/bias:0', 'tf_distil_bert_for_masked_lm_1/vocab_layer_norm/gamma:0', 'tf_distil_bert_for_masked_lm_1/vocab_layer_norm/beta:0', 'tf_distil_bert_for_masked_lm_1/vocab_projector/bias:0'] when minimizing the loss.\n",
            "The parameters `output_attentions`, `output_hidden_states` and `use_cache` cannot be updated when calling a model.They have to be set to True/False in the config object (i.e.: `config=XConfig.from_pretrained('name', output_attentions=True)`).\n",
            "The parameter `return_dict` cannot be set in graph mode and will always be set to `True`.\n"
          ],
          "name": "stderr"
        },
        {
          "output_type": "stream",
          "text": [
            "WARNING:tensorflow:Gradients do not exist for variables ['tf_distil_bert_for_masked_lm_1/distilbert/embeddings/word_embeddings/weight:0', 'tf_distil_bert_for_masked_lm_1/distilbert/embeddings/position_embeddings/embeddings:0', 'tf_distil_bert_for_masked_lm_1/distilbert/embeddings/LayerNorm/gamma:0', 'tf_distil_bert_for_masked_lm_1/distilbert/embeddings/LayerNorm/beta:0', 'tf_distil_bert_for_masked_lm_1/distilbert/transformer/layer_._0/sa_layer_norm/gamma:0', 'tf_distil_bert_for_masked_lm_1/distilbert/transformer/layer_._0/sa_layer_norm/beta:0', 'tf_distil_bert_for_masked_lm_1/distilbert/transformer/layer_._0/ffn/lin1/kernel:0', 'tf_distil_bert_for_masked_lm_1/distilbert/transformer/layer_._0/ffn/lin1/bias:0', 'tf_distil_bert_for_masked_lm_1/distilbert/transformer/layer_._0/ffn/lin2/kernel:0', 'tf_distil_bert_for_masked_lm_1/distilbert/transformer/layer_._0/ffn/lin2/bias:0', 'tf_distil_bert_for_masked_lm_1/distilbert/transformer/layer_._0/output_layer_norm/gamma:0', 'tf_distil_bert_for_masked_lm_1/distilbert/transformer/layer_._0/output_layer_norm/beta:0', 'tf_distil_bert_for_masked_lm_1/distilbert/transformer/layer_._0/attention/dense_72/kernel:0', 'tf_distil_bert_for_masked_lm_1/distilbert/transformer/layer_._0/attention/dense_72/bias:0', 'tf_distil_bert_for_masked_lm_1/distilbert/transformer/layer_._0/attention/dense_73/kernel:0', 'tf_distil_bert_for_masked_lm_1/distilbert/transformer/layer_._0/attention/dense_73/bias:0', 'tf_distil_bert_for_masked_lm_1/distilbert/transformer/layer_._0/attention/dense_74/kernel:0', 'tf_distil_bert_for_masked_lm_1/distilbert/transformer/layer_._0/attention/dense_74/bias:0', 'tf_distil_bert_for_masked_lm_1/distilbert/transformer/layer_._0/attention/dense_75/kernel:0', 'tf_distil_bert_for_masked_lm_1/distilbert/transformer/layer_._0/attention/dense_75/bias:0', 'tf_distil_bert_for_masked_lm_1/distilbert/transformer/layer_._1/sa_layer_norm/gamma:0', 'tf_distil_bert_for_masked_lm_1/distilbert/transformer/layer_._1/sa_layer_norm/beta:0', 'tf_distil_bert_for_masked_lm_1/distilbert/transformer/layer_._1/ffn/lin1/kernel:0', 'tf_distil_bert_for_masked_lm_1/distilbert/transformer/layer_._1/ffn/lin1/bias:0', 'tf_distil_bert_for_masked_lm_1/distilbert/transformer/layer_._1/ffn/lin2/kernel:0', 'tf_distil_bert_for_masked_lm_1/distilbert/transformer/layer_._1/ffn/lin2/bias:0', 'tf_distil_bert_for_masked_lm_1/distilbert/transformer/layer_._1/output_layer_norm/gamma:0', 'tf_distil_bert_for_masked_lm_1/distilbert/transformer/layer_._1/output_layer_norm/beta:0', 'tf_distil_bert_for_masked_lm_1/distilbert/transformer/layer_._1/attention/dense_76/kernel:0', 'tf_distil_bert_for_masked_lm_1/distilbert/transformer/layer_._1/attention/dense_76/bias:0', 'tf_distil_bert_for_masked_lm_1/distilbert/transformer/layer_._1/attention/dense_77/kernel:0', 'tf_distil_bert_for_masked_lm_1/distilbert/transformer/layer_._1/attention/dense_77/bias:0', 'tf_distil_bert_for_masked_lm_1/distilbert/transformer/layer_._1/attention/dense_78/kernel:0', 'tf_distil_bert_for_masked_lm_1/distilbert/transformer/layer_._1/attention/dense_78/bias:0', 'tf_distil_bert_for_masked_lm_1/distilbert/transformer/layer_._1/attention/dense_79/kernel:0', 'tf_distil_bert_for_masked_lm_1/distilbert/transformer/layer_._1/attention/dense_79/bias:0', 'tf_distil_bert_for_masked_lm_1/distilbert/transformer/layer_._2/sa_layer_norm/gamma:0', 'tf_distil_bert_for_masked_lm_1/distilbert/transformer/layer_._2/sa_layer_norm/beta:0', 'tf_distil_bert_for_masked_lm_1/distilbert/transformer/layer_._2/ffn/lin1/kernel:0', 'tf_distil_bert_for_masked_lm_1/distilbert/transformer/layer_._2/ffn/lin1/bias:0', 'tf_distil_bert_for_masked_lm_1/distilbert/transformer/layer_._2/ffn/lin2/kernel:0', 'tf_distil_bert_for_masked_lm_1/distilbert/transformer/layer_._2/ffn/lin2/bias:0', 'tf_distil_bert_for_masked_lm_1/distilbert/transformer/layer_._2/output_layer_norm/gamma:0', 'tf_distil_bert_for_masked_lm_1/distilbert/transformer/layer_._2/output_layer_norm/beta:0', 'tf_distil_bert_for_masked_lm_1/distilbert/transformer/layer_._2/attention/dense_80/kernel:0', 'tf_distil_bert_for_masked_lm_1/distilbert/transformer/layer_._2/attention/dense_80/bias:0', 'tf_distil_bert_for_masked_lm_1/distilbert/transformer/layer_._2/attention/dense_81/kernel:0', 'tf_distil_bert_for_masked_lm_1/distilbert/transformer/layer_._2/attention/dense_81/bias:0', 'tf_distil_bert_for_masked_lm_1/distilbert/transformer/layer_._2/attention/dense_82/kernel:0', 'tf_distil_bert_for_masked_lm_1/distilbert/transformer/layer_._2/attention/dense_82/bias:0', 'tf_distil_bert_for_masked_lm_1/distilbert/transformer/layer_._2/attention/dense_83/kernel:0', 'tf_distil_bert_for_masked_lm_1/distilbert/transformer/layer_._2/attention/dense_83/bias:0', 'tf_distil_bert_for_masked_lm_1/distilbert/transformer/layer_._3/sa_layer_norm/gamma:0', 'tf_distil_bert_for_masked_lm_1/distilbert/transformer/layer_._3/sa_layer_norm/beta:0', 'tf_distil_bert_for_masked_lm_1/distilbert/transformer/layer_._3/ffn/lin1/kernel:0', 'tf_distil_bert_for_masked_lm_1/distilbert/transformer/layer_._3/ffn/lin1/bias:0', 'tf_distil_bert_for_masked_lm_1/distilbert/transformer/layer_._3/ffn/lin2/kernel:0', 'tf_distil_bert_for_masked_lm_1/distilbert/transformer/layer_._3/ffn/lin2/bias:0', 'tf_distil_bert_for_masked_lm_1/distilbert/transformer/layer_._3/output_layer_norm/gamma:0', 'tf_distil_bert_for_masked_lm_1/distilbert/transformer/layer_._3/output_layer_norm/beta:0', 'tf_distil_bert_for_masked_lm_1/distilbert/transformer/layer_._3/attention/dense_84/kernel:0', 'tf_distil_bert_for_masked_lm_1/distilbert/transformer/layer_._3/attention/dense_84/bias:0', 'tf_distil_bert_for_masked_lm_1/distilbert/transformer/layer_._3/attention/dense_85/kernel:0', 'tf_distil_bert_for_masked_lm_1/distilbert/transformer/layer_._3/attention/dense_85/bias:0', 'tf_distil_bert_for_masked_lm_1/distilbert/transformer/layer_._3/attention/dense_86/kernel:0', 'tf_distil_bert_for_masked_lm_1/distilbert/transformer/layer_._3/attention/dense_86/bias:0', 'tf_distil_bert_for_masked_lm_1/distilbert/transformer/layer_._3/attention/dense_87/kernel:0', 'tf_distil_bert_for_masked_lm_1/distilbert/transformer/layer_._3/attention/dense_87/bias:0', 'tf_distil_bert_for_masked_lm_1/distilbert/transformer/layer_._4/sa_layer_norm/gamma:0', 'tf_distil_bert_for_masked_lm_1/distilbert/transformer/layer_._4/sa_layer_norm/beta:0', 'tf_distil_bert_for_masked_lm_1/distilbert/transformer/layer_._4/ffn/lin1/kernel:0', 'tf_distil_bert_for_masked_lm_1/distilbert/transformer/layer_._4/ffn/lin1/bias:0', 'tf_distil_bert_for_masked_lm_1/distilbert/transformer/layer_._4/ffn/lin2/kernel:0', 'tf_distil_bert_for_masked_lm_1/distilbert/transformer/layer_._4/ffn/lin2/bias:0', 'tf_distil_bert_for_masked_lm_1/distilbert/transformer/layer_._4/output_layer_norm/gamma:0', 'tf_distil_bert_for_masked_lm_1/distilbert/transformer/layer_._4/output_layer_norm/beta:0', 'tf_distil_bert_for_masked_lm_1/distilbert/transformer/layer_._4/attention/dense_88/kernel:0', 'tf_distil_bert_for_masked_lm_1/distilbert/transformer/layer_._4/attention/dense_88/bias:0', 'tf_distil_bert_for_masked_lm_1/distilbert/transformer/layer_._4/attention/dense_89/kernel:0', 'tf_distil_bert_for_masked_lm_1/distilbert/transformer/layer_._4/attention/dense_89/bias:0', 'tf_distil_bert_for_masked_lm_1/distilbert/transformer/layer_._4/attention/dense_90/kernel:0', 'tf_distil_bert_for_masked_lm_1/distilbert/transformer/layer_._4/attention/dense_90/bias:0', 'tf_distil_bert_for_masked_lm_1/distilbert/transformer/layer_._4/attention/dense_91/kernel:0', 'tf_distil_bert_for_masked_lm_1/distilbert/transformer/layer_._4/attention/dense_91/bias:0', 'tf_distil_bert_for_masked_lm_1/distilbert/transformer/layer_._5/sa_layer_norm/gamma:0', 'tf_distil_bert_for_masked_lm_1/distilbert/transformer/layer_._5/sa_layer_norm/beta:0', 'tf_distil_bert_for_masked_lm_1/distilbert/transformer/layer_._5/ffn/lin1/kernel:0', 'tf_distil_bert_for_masked_lm_1/distilbert/transformer/layer_._5/ffn/lin1/bias:0', 'tf_distil_bert_for_masked_lm_1/distilbert/transformer/layer_._5/ffn/lin2/kernel:0', 'tf_distil_bert_for_masked_lm_1/distilbert/transformer/layer_._5/ffn/lin2/bias:0', 'tf_distil_bert_for_masked_lm_1/distilbert/transformer/layer_._5/output_layer_norm/gamma:0', 'tf_distil_bert_for_masked_lm_1/distilbert/transformer/layer_._5/output_layer_norm/beta:0', 'tf_distil_bert_for_masked_lm_1/distilbert/transformer/layer_._5/attention/dense_92/kernel:0', 'tf_distil_bert_for_masked_lm_1/distilbert/transformer/layer_._5/attention/dense_92/bias:0', 'tf_distil_bert_for_masked_lm_1/distilbert/transformer/layer_._5/attention/dense_93/kernel:0', 'tf_distil_bert_for_masked_lm_1/distilbert/transformer/layer_._5/attention/dense_93/bias:0', 'tf_distil_bert_for_masked_lm_1/distilbert/transformer/layer_._5/attention/dense_94/kernel:0', 'tf_distil_bert_for_masked_lm_1/distilbert/transformer/layer_._5/attention/dense_94/bias:0', 'tf_distil_bert_for_masked_lm_1/distilbert/transformer/layer_._5/attention/dense_95/kernel:0', 'tf_distil_bert_for_masked_lm_1/distilbert/transformer/layer_._5/attention/dense_95/bias:0', 'tf_distil_bert_for_masked_lm_1/vocab_transform/kernel:0', 'tf_distil_bert_for_masked_lm_1/vocab_transform/bias:0', 'tf_distil_bert_for_masked_lm_1/vocab_layer_norm/gamma:0', 'tf_distil_bert_for_masked_lm_1/vocab_layer_norm/beta:0', 'tf_distil_bert_for_masked_lm_1/vocab_projector/bias:0'] when minimizing the loss.\n"
          ],
          "name": "stdout"
        },
        {
          "output_type": "stream",
          "text": [
            "WARNING:tensorflow:Gradients do not exist for variables ['tf_distil_bert_for_masked_lm_1/distilbert/embeddings/word_embeddings/weight:0', 'tf_distil_bert_for_masked_lm_1/distilbert/embeddings/position_embeddings/embeddings:0', 'tf_distil_bert_for_masked_lm_1/distilbert/embeddings/LayerNorm/gamma:0', 'tf_distil_bert_for_masked_lm_1/distilbert/embeddings/LayerNorm/beta:0', 'tf_distil_bert_for_masked_lm_1/distilbert/transformer/layer_._0/sa_layer_norm/gamma:0', 'tf_distil_bert_for_masked_lm_1/distilbert/transformer/layer_._0/sa_layer_norm/beta:0', 'tf_distil_bert_for_masked_lm_1/distilbert/transformer/layer_._0/ffn/lin1/kernel:0', 'tf_distil_bert_for_masked_lm_1/distilbert/transformer/layer_._0/ffn/lin1/bias:0', 'tf_distil_bert_for_masked_lm_1/distilbert/transformer/layer_._0/ffn/lin2/kernel:0', 'tf_distil_bert_for_masked_lm_1/distilbert/transformer/layer_._0/ffn/lin2/bias:0', 'tf_distil_bert_for_masked_lm_1/distilbert/transformer/layer_._0/output_layer_norm/gamma:0', 'tf_distil_bert_for_masked_lm_1/distilbert/transformer/layer_._0/output_layer_norm/beta:0', 'tf_distil_bert_for_masked_lm_1/distilbert/transformer/layer_._0/attention/dense_72/kernel:0', 'tf_distil_bert_for_masked_lm_1/distilbert/transformer/layer_._0/attention/dense_72/bias:0', 'tf_distil_bert_for_masked_lm_1/distilbert/transformer/layer_._0/attention/dense_73/kernel:0', 'tf_distil_bert_for_masked_lm_1/distilbert/transformer/layer_._0/attention/dense_73/bias:0', 'tf_distil_bert_for_masked_lm_1/distilbert/transformer/layer_._0/attention/dense_74/kernel:0', 'tf_distil_bert_for_masked_lm_1/distilbert/transformer/layer_._0/attention/dense_74/bias:0', 'tf_distil_bert_for_masked_lm_1/distilbert/transformer/layer_._0/attention/dense_75/kernel:0', 'tf_distil_bert_for_masked_lm_1/distilbert/transformer/layer_._0/attention/dense_75/bias:0', 'tf_distil_bert_for_masked_lm_1/distilbert/transformer/layer_._1/sa_layer_norm/gamma:0', 'tf_distil_bert_for_masked_lm_1/distilbert/transformer/layer_._1/sa_layer_norm/beta:0', 'tf_distil_bert_for_masked_lm_1/distilbert/transformer/layer_._1/ffn/lin1/kernel:0', 'tf_distil_bert_for_masked_lm_1/distilbert/transformer/layer_._1/ffn/lin1/bias:0', 'tf_distil_bert_for_masked_lm_1/distilbert/transformer/layer_._1/ffn/lin2/kernel:0', 'tf_distil_bert_for_masked_lm_1/distilbert/transformer/layer_._1/ffn/lin2/bias:0', 'tf_distil_bert_for_masked_lm_1/distilbert/transformer/layer_._1/output_layer_norm/gamma:0', 'tf_distil_bert_for_masked_lm_1/distilbert/transformer/layer_._1/output_layer_norm/beta:0', 'tf_distil_bert_for_masked_lm_1/distilbert/transformer/layer_._1/attention/dense_76/kernel:0', 'tf_distil_bert_for_masked_lm_1/distilbert/transformer/layer_._1/attention/dense_76/bias:0', 'tf_distil_bert_for_masked_lm_1/distilbert/transformer/layer_._1/attention/dense_77/kernel:0', 'tf_distil_bert_for_masked_lm_1/distilbert/transformer/layer_._1/attention/dense_77/bias:0', 'tf_distil_bert_for_masked_lm_1/distilbert/transformer/layer_._1/attention/dense_78/kernel:0', 'tf_distil_bert_for_masked_lm_1/distilbert/transformer/layer_._1/attention/dense_78/bias:0', 'tf_distil_bert_for_masked_lm_1/distilbert/transformer/layer_._1/attention/dense_79/kernel:0', 'tf_distil_bert_for_masked_lm_1/distilbert/transformer/layer_._1/attention/dense_79/bias:0', 'tf_distil_bert_for_masked_lm_1/distilbert/transformer/layer_._2/sa_layer_norm/gamma:0', 'tf_distil_bert_for_masked_lm_1/distilbert/transformer/layer_._2/sa_layer_norm/beta:0', 'tf_distil_bert_for_masked_lm_1/distilbert/transformer/layer_._2/ffn/lin1/kernel:0', 'tf_distil_bert_for_masked_lm_1/distilbert/transformer/layer_._2/ffn/lin1/bias:0', 'tf_distil_bert_for_masked_lm_1/distilbert/transformer/layer_._2/ffn/lin2/kernel:0', 'tf_distil_bert_for_masked_lm_1/distilbert/transformer/layer_._2/ffn/lin2/bias:0', 'tf_distil_bert_for_masked_lm_1/distilbert/transformer/layer_._2/output_layer_norm/gamma:0', 'tf_distil_bert_for_masked_lm_1/distilbert/transformer/layer_._2/output_layer_norm/beta:0', 'tf_distil_bert_for_masked_lm_1/distilbert/transformer/layer_._2/attention/dense_80/kernel:0', 'tf_distil_bert_for_masked_lm_1/distilbert/transformer/layer_._2/attention/dense_80/bias:0', 'tf_distil_bert_for_masked_lm_1/distilbert/transformer/layer_._2/attention/dense_81/kernel:0', 'tf_distil_bert_for_masked_lm_1/distilbert/transformer/layer_._2/attention/dense_81/bias:0', 'tf_distil_bert_for_masked_lm_1/distilbert/transformer/layer_._2/attention/dense_82/kernel:0', 'tf_distil_bert_for_masked_lm_1/distilbert/transformer/layer_._2/attention/dense_82/bias:0', 'tf_distil_bert_for_masked_lm_1/distilbert/transformer/layer_._2/attention/dense_83/kernel:0', 'tf_distil_bert_for_masked_lm_1/distilbert/transformer/layer_._2/attention/dense_83/bias:0', 'tf_distil_bert_for_masked_lm_1/distilbert/transformer/layer_._3/sa_layer_norm/gamma:0', 'tf_distil_bert_for_masked_lm_1/distilbert/transformer/layer_._3/sa_layer_norm/beta:0', 'tf_distil_bert_for_masked_lm_1/distilbert/transformer/layer_._3/ffn/lin1/kernel:0', 'tf_distil_bert_for_masked_lm_1/distilbert/transformer/layer_._3/ffn/lin1/bias:0', 'tf_distil_bert_for_masked_lm_1/distilbert/transformer/layer_._3/ffn/lin2/kernel:0', 'tf_distil_bert_for_masked_lm_1/distilbert/transformer/layer_._3/ffn/lin2/bias:0', 'tf_distil_bert_for_masked_lm_1/distilbert/transformer/layer_._3/output_layer_norm/gamma:0', 'tf_distil_bert_for_masked_lm_1/distilbert/transformer/layer_._3/output_layer_norm/beta:0', 'tf_distil_bert_for_masked_lm_1/distilbert/transformer/layer_._3/attention/dense_84/kernel:0', 'tf_distil_bert_for_masked_lm_1/distilbert/transformer/layer_._3/attention/dense_84/bias:0', 'tf_distil_bert_for_masked_lm_1/distilbert/transformer/layer_._3/attention/dense_85/kernel:0', 'tf_distil_bert_for_masked_lm_1/distilbert/transformer/layer_._3/attention/dense_85/bias:0', 'tf_distil_bert_for_masked_lm_1/distilbert/transformer/layer_._3/attention/dense_86/kernel:0', 'tf_distil_bert_for_masked_lm_1/distilbert/transformer/layer_._3/attention/dense_86/bias:0', 'tf_distil_bert_for_masked_lm_1/distilbert/transformer/layer_._3/attention/dense_87/kernel:0', 'tf_distil_bert_for_masked_lm_1/distilbert/transformer/layer_._3/attention/dense_87/bias:0', 'tf_distil_bert_for_masked_lm_1/distilbert/transformer/layer_._4/sa_layer_norm/gamma:0', 'tf_distil_bert_for_masked_lm_1/distilbert/transformer/layer_._4/sa_layer_norm/beta:0', 'tf_distil_bert_for_masked_lm_1/distilbert/transformer/layer_._4/ffn/lin1/kernel:0', 'tf_distil_bert_for_masked_lm_1/distilbert/transformer/layer_._4/ffn/lin1/bias:0', 'tf_distil_bert_for_masked_lm_1/distilbert/transformer/layer_._4/ffn/lin2/kernel:0', 'tf_distil_bert_for_masked_lm_1/distilbert/transformer/layer_._4/ffn/lin2/bias:0', 'tf_distil_bert_for_masked_lm_1/distilbert/transformer/layer_._4/output_layer_norm/gamma:0', 'tf_distil_bert_for_masked_lm_1/distilbert/transformer/layer_._4/output_layer_norm/beta:0', 'tf_distil_bert_for_masked_lm_1/distilbert/transformer/layer_._4/attention/dense_88/kernel:0', 'tf_distil_bert_for_masked_lm_1/distilbert/transformer/layer_._4/attention/dense_88/bias:0', 'tf_distil_bert_for_masked_lm_1/distilbert/transformer/layer_._4/attention/dense_89/kernel:0', 'tf_distil_bert_for_masked_lm_1/distilbert/transformer/layer_._4/attention/dense_89/bias:0', 'tf_distil_bert_for_masked_lm_1/distilbert/transformer/layer_._4/attention/dense_90/kernel:0', 'tf_distil_bert_for_masked_lm_1/distilbert/transformer/layer_._4/attention/dense_90/bias:0', 'tf_distil_bert_for_masked_lm_1/distilbert/transformer/layer_._4/attention/dense_91/kernel:0', 'tf_distil_bert_for_masked_lm_1/distilbert/transformer/layer_._4/attention/dense_91/bias:0', 'tf_distil_bert_for_masked_lm_1/distilbert/transformer/layer_._5/sa_layer_norm/gamma:0', 'tf_distil_bert_for_masked_lm_1/distilbert/transformer/layer_._5/sa_layer_norm/beta:0', 'tf_distil_bert_for_masked_lm_1/distilbert/transformer/layer_._5/ffn/lin1/kernel:0', 'tf_distil_bert_for_masked_lm_1/distilbert/transformer/layer_._5/ffn/lin1/bias:0', 'tf_distil_bert_for_masked_lm_1/distilbert/transformer/layer_._5/ffn/lin2/kernel:0', 'tf_distil_bert_for_masked_lm_1/distilbert/transformer/layer_._5/ffn/lin2/bias:0', 'tf_distil_bert_for_masked_lm_1/distilbert/transformer/layer_._5/output_layer_norm/gamma:0', 'tf_distil_bert_for_masked_lm_1/distilbert/transformer/layer_._5/output_layer_norm/beta:0', 'tf_distil_bert_for_masked_lm_1/distilbert/transformer/layer_._5/attention/dense_92/kernel:0', 'tf_distil_bert_for_masked_lm_1/distilbert/transformer/layer_._5/attention/dense_92/bias:0', 'tf_distil_bert_for_masked_lm_1/distilbert/transformer/layer_._5/attention/dense_93/kernel:0', 'tf_distil_bert_for_masked_lm_1/distilbert/transformer/layer_._5/attention/dense_93/bias:0', 'tf_distil_bert_for_masked_lm_1/distilbert/transformer/layer_._5/attention/dense_94/kernel:0', 'tf_distil_bert_for_masked_lm_1/distilbert/transformer/layer_._5/attention/dense_94/bias:0', 'tf_distil_bert_for_masked_lm_1/distilbert/transformer/layer_._5/attention/dense_95/kernel:0', 'tf_distil_bert_for_masked_lm_1/distilbert/transformer/layer_._5/attention/dense_95/bias:0', 'tf_distil_bert_for_masked_lm_1/vocab_transform/kernel:0', 'tf_distil_bert_for_masked_lm_1/vocab_transform/bias:0', 'tf_distil_bert_for_masked_lm_1/vocab_layer_norm/gamma:0', 'tf_distil_bert_for_masked_lm_1/vocab_layer_norm/beta:0', 'tf_distil_bert_for_masked_lm_1/vocab_projector/bias:0'] when minimizing the loss.\n"
          ],
          "name": "stderr"
        },
        {
          "output_type": "stream",
          "text": [
            "12243/12243 [==============================] - ETA: 0s - sparse_categorical_accuracy: 0.4057 - loss: 1.0600"
          ],
          "name": "stdout"
        },
        {
          "output_type": "stream",
          "text": [
            "The parameters `output_attentions`, `output_hidden_states` and `use_cache` cannot be updated when calling a model.They have to be set to True/False in the config object (i.e.: `config=XConfig.from_pretrained('name', output_attentions=True)`).\n",
            "The parameter `return_dict` cannot be set in graph mode and will always be set to `True`.\n",
            "The parameters `output_attentions`, `output_hidden_states` and `use_cache` cannot be updated when calling a model.They have to be set to True/False in the config object (i.e.: `config=XConfig.from_pretrained('name', output_attentions=True)`).\n",
            "The parameter `return_dict` cannot be set in graph mode and will always be set to `True`.\n"
          ],
          "name": "stderr"
        },
        {
          "output_type": "stream",
          "text": [
            "\b\b\b\b\b\b\b\b\b\b\b\b\b\b\b\b\b\b\b\b\b\b\b\b\b\b\b\b\b\b\b\b\b\b\b\b\b\b\b\b\b\b\b\b\b\b\b\b\b\b\b\b\b\b\b\b\b\b\b\b\b\b\b\b\b\b\b\b\b\b\b\b\b\b\b\b\b\b\b\b\b\b\b\b\b\b\b\b\b\b\b\b\b\b\b\b\b\b\b\b\b\b\b\b\b\b\b\r12243/12243 [==============================] - 270s 22ms/step - sparse_categorical_accuracy: 0.4058 - loss: 1.0600 - val_sparse_categorical_accuracy: 0.4472 - val_loss: 1.0427\n",
            "Epoch 2/5\n",
            "12243/12243 [==============================] - 232s 19ms/step - sparse_categorical_accuracy: 0.4676 - loss: 1.0155 - val_sparse_categorical_accuracy: 0.4672 - val_loss: 1.0156\n",
            "Epoch 3/5\n",
            "12243/12243 [==============================] - 232s 19ms/step - sparse_categorical_accuracy: 0.4939 - loss: 0.9873 - val_sparse_categorical_accuracy: 0.4826 - val_loss: 1.0081\n",
            "Epoch 4/5\n",
            "12243/12243 [==============================] - 232s 19ms/step - sparse_categorical_accuracy: 0.5148 - loss: 0.9620 - val_sparse_categorical_accuracy: 0.4783 - val_loss: 1.0078\n",
            "Epoch 5/5\n",
            "12243/12243 [==============================] - 232s 19ms/step - sparse_categorical_accuracy: 0.5363 - loss: 0.9344 - val_sparse_categorical_accuracy: 0.4869 - val_loss: 1.0182\n"
          ],
          "name": "stdout"
        },
        {
          "output_type": "execute_result",
          "data": {
            "text/plain": [
              "<tensorflow.python.keras.callbacks.History at 0x7f39426d1e80>"
            ]
          },
          "metadata": {
            "tags": []
          },
          "execution_count": 14
        }
      ]
    },
    {
      "cell_type": "code",
      "metadata": {
        "colab": {
          "base_uri": "https://localhost:8080/",
          "height": 598,
          "referenced_widgets": [
            "4bf5c1c064ae453384f69bf7de22bc61",
            "4e5d783ea0df433da368c967c8623835",
            "300f5128dd7d4de888eb023d9c6b8ddd",
            "2ee20d309d5240bdb9b972f55a1fb1ba",
            "ba86e89e17cb437caafdb0b9052045dd",
            "3cd6e2b81ac0433985a750432b22820d",
            "79ec70a8531f49b2af414201733dcd68",
            "f0217406a1384e2a81035906d2546032",
            "f3dbd7cd936f4b68971c474ff82d450a",
            "f7b882c5a4a8489c88c953a5625bb03f",
            "e1bd87007562472fb94bb12d9718efde",
            "d89a61d42cd94814804a9722d4066ded",
            "57c8cc50165041e19747da96b0a162f7",
            "e7c9e298ef2041afa865dc8a31b7296e",
            "86b81d245ca54306aaa2a911d31a73cb",
            "23723a87f2334524a5d56de23a3e070d",
            "d7aade204e624718b0dcf8bbb93bc5db",
            "3552b7d320c04cf1b299fefeb3e822a3",
            "76b4159c89de4a91b66c65711ed13f5d",
            "b873be67c37c49dabd0d043aa914f681",
            "78e12199319343f8ae2be17d64ac6863",
            "b0eebd84a33d4c3c8d5ab3ebc69289bb",
            "05bbe8b0b75b479f920f47b46883e0b4",
            "57269be0c03a4ca8b93bbcf9472096ce"
          ]
        },
        "id": "uMTTCHUp9sPJ",
        "outputId": "8b5968d0-4cdd-45f2-8588-3fa7f7f4bb0f"
      },
      "source": [
        "### Pretrain Again on dataset to be finetuned\r\n",
        "\r\n",
        "\r\n",
        "with strategy.scope():\r\n",
        "    config = DistilBertConfig()\r\n",
        "    config.attention_type = \"performer\"\r\n",
        "    config.vocab_size = 21128 # BERT CN Vocab only has 21128\r\n",
        "    config.max_position_embeddings = 512 # same as seq_len\r\n",
        "\r\n",
        "    model_f_pre = TFDistilBertForMaskedLM(config)\r\n",
        "    # Change the core model to pretrained version\r\n",
        "    model_f_pre = model.model\r\n",
        "    model_f_pre = Wrapper(model_f_pre)\r\n",
        "\r\n",
        "    learning_rate = 1e-5\r\n",
        "    optimizer = tf.keras.optimizers.Adam(learning_rate)\r\n",
        "    model_f_pre.compile(optimizer=optimizer,\r\n",
        "                  steps_per_execution=100,\r\n",
        "                  metrics=['sparse_categorical_accuracy'])\r\n",
        "\r\n",
        "batch_size = 8\r\n",
        "\r\n",
        "train_ds, val_ds = get_dataset_f_pre(batch_size, seq_len=512, is_training=True)\r\n",
        "\r\n",
        "model_f_pre.fit(\r\n",
        "          train_ds,\r\n",
        "          epochs=5,\r\n",
        "          validation_data=val_ds,\r\n",
        "          )"
      ],
      "execution_count": 18,
      "outputs": [
        {
          "output_type": "stream",
          "text": [
            "Using custom data configuration default\n",
            "Reusing dataset json (/root/.cache/huggingface/datasets/json/default-a4cf23710025995b/0.0.0/70d89ed4db1394f028c651589fcab6d6b28dddcabbe39d3b21b4d41f9a708514)\n",
            "Using custom data configuration default\n",
            "Reusing dataset json (/root/.cache/huggingface/datasets/json/default-92b47242d2dd7ae8/0.0.0/70d89ed4db1394f028c651589fcab6d6b28dddcabbe39d3b21b4d41f9a708514)\n"
          ],
          "name": "stderr"
        },
        {
          "output_type": "display_data",
          "data": {
            "application/vnd.jupyter.widget-view+json": {
              "model_id": "4bf5c1c064ae453384f69bf7de22bc61",
              "version_minor": 0,
              "version_major": 2
            },
            "text/plain": [
              "HBox(children=(FloatProgress(value=0.0, max=391783.0), HTML(value='')))"
            ]
          },
          "metadata": {
            "tags": []
          }
        },
        {
          "output_type": "stream",
          "text": [
            "\n"
          ],
          "name": "stdout"
        },
        {
          "output_type": "display_data",
          "data": {
            "application/vnd.jupyter.widget-view+json": {
              "model_id": "f3dbd7cd936f4b68971c474ff82d450a",
              "version_minor": 0,
              "version_major": 2
            },
            "text/plain": [
              "HBox(children=(FloatProgress(value=0.0, max=12426.0), HTML(value='')))"
            ]
          },
          "metadata": {
            "tags": []
          }
        },
        {
          "output_type": "stream",
          "text": [
            "\n",
            "391783 12426\n"
          ],
          "name": "stdout"
        },
        {
          "output_type": "display_data",
          "data": {
            "application/vnd.jupyter.widget-view+json": {
              "model_id": "d7aade204e624718b0dcf8bbb93bc5db",
              "version_minor": 0,
              "version_major": 2
            },
            "text/plain": [
              "HBox(children=(FloatProgress(value=0.0, max=97945.0), HTML(value='')))"
            ]
          },
          "metadata": {
            "tags": []
          }
        },
        {
          "output_type": "error",
          "ename": "KeyboardInterrupt",
          "evalue": "ignored",
          "traceback": [
            "\u001b[0;31m---------------------------------------------------------------------------\u001b[0m",
            "\u001b[0;31mKeyboardInterrupt\u001b[0m                         Traceback (most recent call last)",
            "\u001b[0;32m<ipython-input-18-4d3329e019b9>\u001b[0m in \u001b[0;36m<module>\u001b[0;34m()\u001b[0m\n\u001b[1;32m     21\u001b[0m \u001b[0mbatch_size\u001b[0m \u001b[0;34m=\u001b[0m \u001b[0;36m8\u001b[0m\u001b[0;34m\u001b[0m\u001b[0;34m\u001b[0m\u001b[0m\n\u001b[1;32m     22\u001b[0m \u001b[0;34m\u001b[0m\u001b[0m\n\u001b[0;32m---> 23\u001b[0;31m \u001b[0mtrain_ds\u001b[0m\u001b[0;34m,\u001b[0m \u001b[0mval_ds\u001b[0m \u001b[0;34m=\u001b[0m \u001b[0mget_dataset_f_pre\u001b[0m\u001b[0;34m(\u001b[0m\u001b[0mbatch_size\u001b[0m\u001b[0;34m,\u001b[0m \u001b[0mseq_len\u001b[0m\u001b[0;34m=\u001b[0m\u001b[0;36m512\u001b[0m\u001b[0;34m,\u001b[0m \u001b[0mis_training\u001b[0m\u001b[0;34m=\u001b[0m\u001b[0;32mTrue\u001b[0m\u001b[0;34m)\u001b[0m\u001b[0;34m\u001b[0m\u001b[0;34m\u001b[0m\u001b[0m\n\u001b[0m\u001b[1;32m     24\u001b[0m \u001b[0;34m\u001b[0m\u001b[0m\n\u001b[1;32m     25\u001b[0m model_f_pre.fit(\n",
            "\u001b[0;32m<ipython-input-17-d12a560236dc>\u001b[0m in \u001b[0;36mget_dataset_f_pre\u001b[0;34m(batch_size, seq_len, is_training)\u001b[0m\n\u001b[1;32m    152\u001b[0m     \u001b[0mtokenizer\u001b[0m \u001b[0;34m=\u001b[0m \u001b[0mWWMTokenizer\u001b[0m\u001b[0;34m(\u001b[0m\u001b[0mcol\u001b[0m\u001b[0;34m=\u001b[0m\u001b[0;34m\"text\"\u001b[0m\u001b[0;34m,\u001b[0m \u001b[0mseq_len\u001b[0m\u001b[0;34m=\u001b[0m\u001b[0mseq_len\u001b[0m\u001b[0;34m)\u001b[0m\u001b[0;34m\u001b[0m\u001b[0;34m\u001b[0m\u001b[0m\n\u001b[1;32m    153\u001b[0m \u001b[0;34m\u001b[0m\u001b[0m\n\u001b[0;32m--> 154\u001b[0;31m     \u001b[0mtrain_ds\u001b[0m \u001b[0;34m=\u001b[0m \u001b[0mtrain_ds\u001b[0m\u001b[0;34m.\u001b[0m\u001b[0mmap\u001b[0m\u001b[0;34m(\u001b[0m\u001b[0mtokenizer\u001b[0m\u001b[0;34m.\u001b[0m\u001b[0mtokenize_pretraining\u001b[0m\u001b[0;34m)\u001b[0m\u001b[0;34m\u001b[0m\u001b[0;34m\u001b[0m\u001b[0m\n\u001b[0m\u001b[1;32m    155\u001b[0m     \u001b[0mval_ds\u001b[0m \u001b[0;34m=\u001b[0m \u001b[0mval_ds\u001b[0m\u001b[0;34m.\u001b[0m\u001b[0mmap\u001b[0m\u001b[0;34m(\u001b[0m\u001b[0mtokenizer\u001b[0m\u001b[0;34m.\u001b[0m\u001b[0mtokenize_pretraining\u001b[0m\u001b[0;34m)\u001b[0m\u001b[0;34m\u001b[0m\u001b[0;34m\u001b[0m\u001b[0m\n\u001b[1;32m    156\u001b[0m \u001b[0;34m\u001b[0m\u001b[0m\n",
            "\u001b[0;32m/usr/local/lib/python3.6/dist-packages/datasets/arrow_dataset.py\u001b[0m in \u001b[0;36mmap\u001b[0;34m(self, function, with_indices, input_columns, batched, batch_size, drop_last_batch, remove_columns, keep_in_memory, load_from_cache_file, cache_file_name, writer_batch_size, features, disable_nullable, fn_kwargs, num_proc, suffix_template, new_fingerprint)\u001b[0m\n\u001b[1;32m   1258\u001b[0m                 \u001b[0mfn_kwargs\u001b[0m\u001b[0;34m=\u001b[0m\u001b[0mfn_kwargs\u001b[0m\u001b[0;34m,\u001b[0m\u001b[0;34m\u001b[0m\u001b[0;34m\u001b[0m\u001b[0m\n\u001b[1;32m   1259\u001b[0m                 \u001b[0mnew_fingerprint\u001b[0m\u001b[0;34m=\u001b[0m\u001b[0mnew_fingerprint\u001b[0m\u001b[0;34m,\u001b[0m\u001b[0;34m\u001b[0m\u001b[0;34m\u001b[0m\u001b[0m\n\u001b[0;32m-> 1260\u001b[0;31m                 \u001b[0mupdate_data\u001b[0m\u001b[0;34m=\u001b[0m\u001b[0mupdate_data\u001b[0m\u001b[0;34m,\u001b[0m\u001b[0;34m\u001b[0m\u001b[0;34m\u001b[0m\u001b[0m\n\u001b[0m\u001b[1;32m   1261\u001b[0m             )\n\u001b[1;32m   1262\u001b[0m         \u001b[0;32melse\u001b[0m\u001b[0;34m:\u001b[0m\u001b[0;34m\u001b[0m\u001b[0;34m\u001b[0m\u001b[0m\n",
            "\u001b[0;32m/usr/local/lib/python3.6/dist-packages/datasets/arrow_dataset.py\u001b[0m in \u001b[0;36mwrapper\u001b[0;34m(*args, **kwargs)\u001b[0m\n\u001b[1;32m    155\u001b[0m         }\n\u001b[1;32m    156\u001b[0m         \u001b[0;31m# apply actual function\u001b[0m\u001b[0;34m\u001b[0m\u001b[0;34m\u001b[0m\u001b[0;34m\u001b[0m\u001b[0m\n\u001b[0;32m--> 157\u001b[0;31m         \u001b[0mout\u001b[0m\u001b[0;34m:\u001b[0m \u001b[0mUnion\u001b[0m\u001b[0;34m[\u001b[0m\u001b[0;34m\"Dataset\"\u001b[0m\u001b[0;34m,\u001b[0m \u001b[0;34m\"DatasetDict\"\u001b[0m\u001b[0;34m]\u001b[0m \u001b[0;34m=\u001b[0m \u001b[0mfunc\u001b[0m\u001b[0;34m(\u001b[0m\u001b[0mself\u001b[0m\u001b[0;34m,\u001b[0m \u001b[0;34m*\u001b[0m\u001b[0margs\u001b[0m\u001b[0;34m,\u001b[0m \u001b[0;34m**\u001b[0m\u001b[0mkwargs\u001b[0m\u001b[0;34m)\u001b[0m\u001b[0;34m\u001b[0m\u001b[0;34m\u001b[0m\u001b[0m\n\u001b[0m\u001b[1;32m    158\u001b[0m         \u001b[0mdatasets\u001b[0m\u001b[0;34m:\u001b[0m \u001b[0mList\u001b[0m\u001b[0;34m[\u001b[0m\u001b[0;34m\"Dataset\"\u001b[0m\u001b[0;34m]\u001b[0m \u001b[0;34m=\u001b[0m \u001b[0mlist\u001b[0m\u001b[0;34m(\u001b[0m\u001b[0mout\u001b[0m\u001b[0;34m.\u001b[0m\u001b[0mvalues\u001b[0m\u001b[0;34m(\u001b[0m\u001b[0;34m)\u001b[0m\u001b[0;34m)\u001b[0m \u001b[0;32mif\u001b[0m \u001b[0misinstance\u001b[0m\u001b[0;34m(\u001b[0m\u001b[0mout\u001b[0m\u001b[0;34m,\u001b[0m \u001b[0mdict\u001b[0m\u001b[0;34m)\u001b[0m \u001b[0;32melse\u001b[0m \u001b[0;34m[\u001b[0m\u001b[0mout\u001b[0m\u001b[0;34m]\u001b[0m\u001b[0;34m\u001b[0m\u001b[0;34m\u001b[0m\u001b[0m\n\u001b[1;32m    159\u001b[0m         \u001b[0;31m# re-apply format to the output\u001b[0m\u001b[0;34m\u001b[0m\u001b[0;34m\u001b[0m\u001b[0;34m\u001b[0m\u001b[0m\n",
            "\u001b[0;32m/usr/local/lib/python3.6/dist-packages/datasets/fingerprint.py\u001b[0m in \u001b[0;36mwrapper\u001b[0;34m(*args, **kwargs)\u001b[0m\n\u001b[1;32m    161\u001b[0m             \u001b[0;31m# Call actual function\u001b[0m\u001b[0;34m\u001b[0m\u001b[0;34m\u001b[0m\u001b[0;34m\u001b[0m\u001b[0m\n\u001b[1;32m    162\u001b[0m \u001b[0;34m\u001b[0m\u001b[0m\n\u001b[0;32m--> 163\u001b[0;31m             \u001b[0mout\u001b[0m \u001b[0;34m=\u001b[0m \u001b[0mfunc\u001b[0m\u001b[0;34m(\u001b[0m\u001b[0mself\u001b[0m\u001b[0;34m,\u001b[0m \u001b[0;34m*\u001b[0m\u001b[0margs\u001b[0m\u001b[0;34m,\u001b[0m \u001b[0;34m**\u001b[0m\u001b[0mkwargs\u001b[0m\u001b[0;34m)\u001b[0m\u001b[0;34m\u001b[0m\u001b[0;34m\u001b[0m\u001b[0m\n\u001b[0m\u001b[1;32m    164\u001b[0m \u001b[0;34m\u001b[0m\u001b[0m\n\u001b[1;32m    165\u001b[0m             \u001b[0;31m# Update fingerprint of in-place transforms + update in-place history of transforms\u001b[0m\u001b[0;34m\u001b[0m\u001b[0;34m\u001b[0m\u001b[0;34m\u001b[0m\u001b[0m\n",
            "\u001b[0;32m/usr/local/lib/python3.6/dist-packages/datasets/arrow_dataset.py\u001b[0m in \u001b[0;36m_map_single\u001b[0;34m(self, function, with_indices, input_columns, batched, batch_size, drop_last_batch, remove_columns, keep_in_memory, load_from_cache_file, cache_file_name, writer_batch_size, features, disable_nullable, fn_kwargs, new_fingerprint, rank, offset, update_data)\u001b[0m\n\u001b[1;32m   1507\u001b[0m             \u001b[0;32mif\u001b[0m \u001b[0;32mnot\u001b[0m \u001b[0mbatched\u001b[0m\u001b[0;34m:\u001b[0m\u001b[0;34m\u001b[0m\u001b[0;34m\u001b[0m\u001b[0m\n\u001b[1;32m   1508\u001b[0m                 \u001b[0;32mfor\u001b[0m \u001b[0mi\u001b[0m\u001b[0;34m,\u001b[0m \u001b[0mexample\u001b[0m \u001b[0;32min\u001b[0m \u001b[0menumerate\u001b[0m\u001b[0;34m(\u001b[0m\u001b[0mpbar\u001b[0m\u001b[0;34m)\u001b[0m\u001b[0;34m:\u001b[0m\u001b[0;34m\u001b[0m\u001b[0;34m\u001b[0m\u001b[0m\n\u001b[0;32m-> 1509\u001b[0;31m                     \u001b[0mexample\u001b[0m \u001b[0;34m=\u001b[0m \u001b[0mapply_function_on_filtered_inputs\u001b[0m\u001b[0;34m(\u001b[0m\u001b[0mexample\u001b[0m\u001b[0;34m,\u001b[0m \u001b[0mi\u001b[0m\u001b[0;34m,\u001b[0m \u001b[0moffset\u001b[0m\u001b[0;34m=\u001b[0m\u001b[0moffset\u001b[0m\u001b[0;34m)\u001b[0m\u001b[0;34m\u001b[0m\u001b[0;34m\u001b[0m\u001b[0m\n\u001b[0m\u001b[1;32m   1510\u001b[0m                     \u001b[0;32mif\u001b[0m \u001b[0mupdate_data\u001b[0m\u001b[0;34m:\u001b[0m\u001b[0;34m\u001b[0m\u001b[0;34m\u001b[0m\u001b[0m\n\u001b[1;32m   1511\u001b[0m                         \u001b[0mexample\u001b[0m \u001b[0;34m=\u001b[0m \u001b[0mcast_to_python_objects\u001b[0m\u001b[0;34m(\u001b[0m\u001b[0mexample\u001b[0m\u001b[0;34m)\u001b[0m\u001b[0;34m\u001b[0m\u001b[0;34m\u001b[0m\u001b[0m\n",
            "\u001b[0;32m/usr/local/lib/python3.6/dist-packages/datasets/arrow_dataset.py\u001b[0m in \u001b[0;36mapply_function_on_filtered_inputs\u001b[0;34m(inputs, indices, check_same_num_examples, offset)\u001b[0m\n\u001b[1;32m   1437\u001b[0m                 \u001b[0meffective_indices\u001b[0m \u001b[0;34m=\u001b[0m \u001b[0;34m[\u001b[0m\u001b[0mi\u001b[0m \u001b[0;34m+\u001b[0m \u001b[0moffset\u001b[0m \u001b[0;32mfor\u001b[0m \u001b[0mi\u001b[0m \u001b[0;32min\u001b[0m \u001b[0mindices\u001b[0m\u001b[0;34m]\u001b[0m \u001b[0;32mif\u001b[0m \u001b[0misinstance\u001b[0m\u001b[0;34m(\u001b[0m\u001b[0mindices\u001b[0m\u001b[0;34m,\u001b[0m \u001b[0mlist\u001b[0m\u001b[0;34m)\u001b[0m \u001b[0;32melse\u001b[0m \u001b[0mindices\u001b[0m \u001b[0;34m+\u001b[0m \u001b[0moffset\u001b[0m\u001b[0;34m\u001b[0m\u001b[0;34m\u001b[0m\u001b[0m\n\u001b[1;32m   1438\u001b[0m             processed_inputs = (\n\u001b[0;32m-> 1439\u001b[0;31m                 \u001b[0mfunction\u001b[0m\u001b[0;34m(\u001b[0m\u001b[0;34m*\u001b[0m\u001b[0mfn_args\u001b[0m\u001b[0;34m,\u001b[0m \u001b[0meffective_indices\u001b[0m\u001b[0;34m,\u001b[0m \u001b[0;34m**\u001b[0m\u001b[0mfn_kwargs\u001b[0m\u001b[0;34m)\u001b[0m \u001b[0;32mif\u001b[0m \u001b[0mwith_indices\u001b[0m \u001b[0;32melse\u001b[0m \u001b[0mfunction\u001b[0m\u001b[0;34m(\u001b[0m\u001b[0;34m*\u001b[0m\u001b[0mfn_args\u001b[0m\u001b[0;34m,\u001b[0m \u001b[0;34m**\u001b[0m\u001b[0mfn_kwargs\u001b[0m\u001b[0;34m)\u001b[0m\u001b[0;34m\u001b[0m\u001b[0;34m\u001b[0m\u001b[0m\n\u001b[0m\u001b[1;32m   1440\u001b[0m             )\n\u001b[1;32m   1441\u001b[0m             \u001b[0;32mif\u001b[0m \u001b[0;32mnot\u001b[0m \u001b[0mupdate_data\u001b[0m\u001b[0;34m:\u001b[0m\u001b[0;34m\u001b[0m\u001b[0;34m\u001b[0m\u001b[0m\n",
            "\u001b[0;32m<ipython-input-2-7d79e80236f8>\u001b[0m in \u001b[0;36mtokenize_pretraining\u001b[0;34m(self, example)\u001b[0m\n\u001b[1;32m    305\u001b[0m \u001b[0;34m\u001b[0m\u001b[0m\n\u001b[1;32m    306\u001b[0m         \u001b[0mref_ids\u001b[0m \u001b[0;34m=\u001b[0m \u001b[0mcn_whole_word_mask\u001b[0m\u001b[0;34m(\u001b[0m\u001b[0mtokens\u001b[0m\u001b[0;34m,\u001b[0m \u001b[0mref_ids\u001b[0m\u001b[0;34m[\u001b[0m\u001b[0;36m0\u001b[0m\u001b[0;34m]\u001b[0m\u001b[0;34m)\u001b[0m\u001b[0;34m\u001b[0m\u001b[0;34m\u001b[0m\u001b[0m\n\u001b[0;32m--> 307\u001b[0;31m         \u001b[0mtokens\u001b[0m\u001b[0;34m,\u001b[0m \u001b[0mlabels\u001b[0m \u001b[0;34m=\u001b[0m \u001b[0mrandom_word\u001b[0m\u001b[0;34m(\u001b[0m\u001b[0mtokens\u001b[0m\u001b[0;34m,\u001b[0m \u001b[0mref_ids\u001b[0m\u001b[0;34m,\u001b[0m \u001b[0mself\u001b[0m\u001b[0;34m.\u001b[0m\u001b[0mtokenizer_cn\u001b[0m\u001b[0;34m)\u001b[0m\u001b[0;34m\u001b[0m\u001b[0;34m\u001b[0m\u001b[0m\n\u001b[0m\u001b[1;32m    308\u001b[0m \u001b[0;34m\u001b[0m\u001b[0m\n\u001b[1;32m    309\u001b[0m         \u001b[0mtokens\u001b[0m \u001b[0;34m=\u001b[0m \u001b[0;34m[\u001b[0m\u001b[0;34m'[CLS]'\u001b[0m\u001b[0;34m]\u001b[0m \u001b[0;34m+\u001b[0m \u001b[0mtokens\u001b[0m \u001b[0;34m+\u001b[0m \u001b[0;34m[\u001b[0m\u001b[0;34m'[SEP]'\u001b[0m\u001b[0;34m]\u001b[0m\u001b[0;34m\u001b[0m\u001b[0;34m\u001b[0m\u001b[0m\n",
            "\u001b[0;32m<ipython-input-2-7d79e80236f8>\u001b[0m in \u001b[0;36mrandom_word\u001b[0;34m(tokens, ref_ids, tokenizer)\u001b[0m\n\u001b[1;32m     42\u001b[0m             \u001b[0;31m# 10% randomly change token to random token\u001b[0m\u001b[0;34m\u001b[0m\u001b[0;34m\u001b[0m\u001b[0;34m\u001b[0m\u001b[0m\n\u001b[1;32m     43\u001b[0m             \u001b[0;32melif\u001b[0m \u001b[0mprob\u001b[0m \u001b[0;34m<\u001b[0m \u001b[0;36m0.9\u001b[0m\u001b[0;34m:\u001b[0m\u001b[0;34m\u001b[0m\u001b[0;34m\u001b[0m\u001b[0m\n\u001b[0;32m---> 44\u001b[0;31m                 \u001b[0mtokens\u001b[0m\u001b[0;34m[\u001b[0m\u001b[0mi\u001b[0m\u001b[0;34m]\u001b[0m \u001b[0;34m=\u001b[0m \u001b[0mrandom\u001b[0m\u001b[0;34m.\u001b[0m\u001b[0mchoice\u001b[0m\u001b[0;34m(\u001b[0m\u001b[0mlist\u001b[0m\u001b[0;34m(\u001b[0m\u001b[0mtokenizer\u001b[0m\u001b[0;34m.\u001b[0m\u001b[0mvocab\u001b[0m\u001b[0;34m.\u001b[0m\u001b[0mitems\u001b[0m\u001b[0;34m(\u001b[0m\u001b[0;34m)\u001b[0m\u001b[0;34m)\u001b[0m\u001b[0;34m)\u001b[0m\u001b[0;34m[\u001b[0m\u001b[0;36m0\u001b[0m\u001b[0;34m]\u001b[0m\u001b[0;34m\u001b[0m\u001b[0;34m\u001b[0m\u001b[0m\n\u001b[0m\u001b[1;32m     45\u001b[0m \u001b[0;34m\u001b[0m\u001b[0m\n\u001b[1;32m     46\u001b[0m             \u001b[0;31m# -> rest 10% randomly keep current token\u001b[0m\u001b[0;34m\u001b[0m\u001b[0;34m\u001b[0m\u001b[0;34m\u001b[0m\u001b[0m\n",
            "\u001b[0;32m/content/performers/src/transformers/tokenization_utils_fast.py\u001b[0m in \u001b[0;36mvocab\u001b[0;34m(self)\u001b[0m\n\u001b[1;32m    125\u001b[0m     \u001b[0;34m@\u001b[0m\u001b[0mproperty\u001b[0m\u001b[0;34m\u001b[0m\u001b[0;34m\u001b[0m\u001b[0m\n\u001b[1;32m    126\u001b[0m     \u001b[0;32mdef\u001b[0m \u001b[0mvocab\u001b[0m\u001b[0;34m(\u001b[0m\u001b[0mself\u001b[0m\u001b[0;34m)\u001b[0m \u001b[0;34m->\u001b[0m \u001b[0mDict\u001b[0m\u001b[0;34m[\u001b[0m\u001b[0mstr\u001b[0m\u001b[0;34m,\u001b[0m \u001b[0mint\u001b[0m\u001b[0;34m]\u001b[0m\u001b[0;34m:\u001b[0m\u001b[0;34m\u001b[0m\u001b[0;34m\u001b[0m\u001b[0m\n\u001b[0;32m--> 127\u001b[0;31m         \u001b[0;32mreturn\u001b[0m \u001b[0mself\u001b[0m\u001b[0;34m.\u001b[0m\u001b[0mget_vocab\u001b[0m\u001b[0;34m(\u001b[0m\u001b[0;34m)\u001b[0m\u001b[0;34m\u001b[0m\u001b[0;34m\u001b[0m\u001b[0m\n\u001b[0m\u001b[1;32m    128\u001b[0m \u001b[0;34m\u001b[0m\u001b[0m\n\u001b[1;32m    129\u001b[0m     \u001b[0;32mdef\u001b[0m \u001b[0mget_added_vocab\u001b[0m\u001b[0;34m(\u001b[0m\u001b[0mself\u001b[0m\u001b[0;34m)\u001b[0m \u001b[0;34m->\u001b[0m \u001b[0mDict\u001b[0m\u001b[0;34m[\u001b[0m\u001b[0mstr\u001b[0m\u001b[0;34m,\u001b[0m \u001b[0mint\u001b[0m\u001b[0;34m]\u001b[0m\u001b[0;34m:\u001b[0m\u001b[0;34m\u001b[0m\u001b[0;34m\u001b[0m\u001b[0m\n",
            "\u001b[0;32m/content/performers/src/transformers/tokenization_utils_fast.py\u001b[0m in \u001b[0;36mget_vocab\u001b[0;34m(self)\u001b[0m\n\u001b[1;32m    121\u001b[0m \u001b[0;34m\u001b[0m\u001b[0m\n\u001b[1;32m    122\u001b[0m     \u001b[0;32mdef\u001b[0m \u001b[0mget_vocab\u001b[0m\u001b[0;34m(\u001b[0m\u001b[0mself\u001b[0m\u001b[0;34m)\u001b[0m \u001b[0;34m->\u001b[0m \u001b[0mDict\u001b[0m\u001b[0;34m[\u001b[0m\u001b[0mstr\u001b[0m\u001b[0;34m,\u001b[0m \u001b[0mint\u001b[0m\u001b[0;34m]\u001b[0m\u001b[0;34m:\u001b[0m\u001b[0;34m\u001b[0m\u001b[0;34m\u001b[0m\u001b[0m\n\u001b[0;32m--> 123\u001b[0;31m         \u001b[0;32mreturn\u001b[0m \u001b[0mself\u001b[0m\u001b[0;34m.\u001b[0m\u001b[0m_tokenizer\u001b[0m\u001b[0;34m.\u001b[0m\u001b[0mget_vocab\u001b[0m\u001b[0;34m(\u001b[0m\u001b[0mwith_added_tokens\u001b[0m\u001b[0;34m=\u001b[0m\u001b[0;32mTrue\u001b[0m\u001b[0;34m)\u001b[0m\u001b[0;34m\u001b[0m\u001b[0;34m\u001b[0m\u001b[0m\n\u001b[0m\u001b[1;32m    124\u001b[0m \u001b[0;34m\u001b[0m\u001b[0m\n\u001b[1;32m    125\u001b[0m     \u001b[0;34m@\u001b[0m\u001b[0mproperty\u001b[0m\u001b[0;34m\u001b[0m\u001b[0;34m\u001b[0m\u001b[0m\n",
            "\u001b[0;31mKeyboardInterrupt\u001b[0m: "
          ]
        }
      ]
    },
    {
      "cell_type": "code",
      "metadata": {
        "id": "-wVYSP0LOdlv"
      },
      "source": [
        ""
      ],
      "execution_count": null,
      "outputs": []
    }
  ]
}