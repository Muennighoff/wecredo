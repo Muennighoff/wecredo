{
  "nbformat": 4,
  "nbformat_minor": 0,
  "metadata": {
    "colab": {
      "name": "StaticTPU.ipynb",
      "provenance": [],
      "collapsed_sections": [
        "mEug0P_v9zB0"
      ]
    },
    "kernelspec": {
      "name": "python3",
      "display_name": "Python 3"
    },
    "widgets": {
      "application/vnd.jupyter.widget-state+json": {
        "a6e7a0990b3e4e80969b124d1fcbbb6b": {
          "model_module": "@jupyter-widgets/controls",
          "model_name": "HBoxModel",
          "state": {
            "_view_name": "HBoxView",
            "_dom_classes": [],
            "_model_name": "HBoxModel",
            "_view_module": "@jupyter-widgets/controls",
            "_model_module_version": "1.5.0",
            "_view_count": null,
            "_view_module_version": "1.5.0",
            "box_style": "",
            "layout": "IPY_MODEL_d4493910dfc344e28993f5436649c272",
            "_model_module": "@jupyter-widgets/controls",
            "children": [
              "IPY_MODEL_bbf8ab8ef8b047b88a739aade2a1ec83",
              "IPY_MODEL_1cc46494eb92458baa0e93be97dcc628"
            ]
          }
        },
        "d4493910dfc344e28993f5436649c272": {
          "model_module": "@jupyter-widgets/base",
          "model_name": "LayoutModel",
          "state": {
            "_view_name": "LayoutView",
            "grid_template_rows": null,
            "right": null,
            "justify_content": null,
            "_view_module": "@jupyter-widgets/base",
            "overflow": null,
            "_model_module_version": "1.2.0",
            "_view_count": null,
            "flex_flow": null,
            "width": null,
            "min_width": null,
            "border": null,
            "align_items": null,
            "bottom": null,
            "_model_module": "@jupyter-widgets/base",
            "top": null,
            "grid_column": null,
            "overflow_y": null,
            "overflow_x": null,
            "grid_auto_flow": null,
            "grid_area": null,
            "grid_template_columns": null,
            "flex": null,
            "_model_name": "LayoutModel",
            "justify_items": null,
            "grid_row": null,
            "max_height": null,
            "align_content": null,
            "visibility": null,
            "align_self": null,
            "height": null,
            "min_height": null,
            "padding": null,
            "grid_auto_rows": null,
            "grid_gap": null,
            "max_width": null,
            "order": null,
            "_view_module_version": "1.2.0",
            "grid_template_areas": null,
            "object_position": null,
            "object_fit": null,
            "grid_auto_columns": null,
            "margin": null,
            "display": null,
            "left": null
          }
        },
        "bbf8ab8ef8b047b88a739aade2a1ec83": {
          "model_module": "@jupyter-widgets/controls",
          "model_name": "FloatProgressModel",
          "state": {
            "_view_name": "ProgressView",
            "style": "IPY_MODEL_c9501884181d4e53ab51f6739fe6406c",
            "_dom_classes": [],
            "description": "100%",
            "_model_name": "FloatProgressModel",
            "bar_style": "success",
            "max": 3138,
            "_view_module": "@jupyter-widgets/controls",
            "_model_module_version": "1.5.0",
            "value": 3138,
            "_view_count": null,
            "_view_module_version": "1.5.0",
            "orientation": "horizontal",
            "min": 0,
            "description_tooltip": null,
            "_model_module": "@jupyter-widgets/controls",
            "layout": "IPY_MODEL_a0727d42c6f541309a490757f3f389cd"
          }
        },
        "1cc46494eb92458baa0e93be97dcc628": {
          "model_module": "@jupyter-widgets/controls",
          "model_name": "HTMLModel",
          "state": {
            "_view_name": "HTMLView",
            "style": "IPY_MODEL_4cef244cf98041768716e6e3092bceeb",
            "_dom_classes": [],
            "description": "",
            "_model_name": "HTMLModel",
            "placeholder": "​",
            "_view_module": "@jupyter-widgets/controls",
            "_model_module_version": "1.5.0",
            "value": " 3138/3138 [18:48&lt;00:00,  2.78ex/s]",
            "_view_count": null,
            "_view_module_version": "1.5.0",
            "description_tooltip": null,
            "_model_module": "@jupyter-widgets/controls",
            "layout": "IPY_MODEL_43244a9dc7f24df0bdc0ef3b3c22795b"
          }
        },
        "c9501884181d4e53ab51f6739fe6406c": {
          "model_module": "@jupyter-widgets/controls",
          "model_name": "ProgressStyleModel",
          "state": {
            "_view_name": "StyleView",
            "_model_name": "ProgressStyleModel",
            "description_width": "initial",
            "_view_module": "@jupyter-widgets/base",
            "_model_module_version": "1.5.0",
            "_view_count": null,
            "_view_module_version": "1.2.0",
            "bar_color": null,
            "_model_module": "@jupyter-widgets/controls"
          }
        },
        "a0727d42c6f541309a490757f3f389cd": {
          "model_module": "@jupyter-widgets/base",
          "model_name": "LayoutModel",
          "state": {
            "_view_name": "LayoutView",
            "grid_template_rows": null,
            "right": null,
            "justify_content": null,
            "_view_module": "@jupyter-widgets/base",
            "overflow": null,
            "_model_module_version": "1.2.0",
            "_view_count": null,
            "flex_flow": null,
            "width": null,
            "min_width": null,
            "border": null,
            "align_items": null,
            "bottom": null,
            "_model_module": "@jupyter-widgets/base",
            "top": null,
            "grid_column": null,
            "overflow_y": null,
            "overflow_x": null,
            "grid_auto_flow": null,
            "grid_area": null,
            "grid_template_columns": null,
            "flex": null,
            "_model_name": "LayoutModel",
            "justify_items": null,
            "grid_row": null,
            "max_height": null,
            "align_content": null,
            "visibility": null,
            "align_self": null,
            "height": null,
            "min_height": null,
            "padding": null,
            "grid_auto_rows": null,
            "grid_gap": null,
            "max_width": null,
            "order": null,
            "_view_module_version": "1.2.0",
            "grid_template_areas": null,
            "object_position": null,
            "object_fit": null,
            "grid_auto_columns": null,
            "margin": null,
            "display": null,
            "left": null
          }
        },
        "4cef244cf98041768716e6e3092bceeb": {
          "model_module": "@jupyter-widgets/controls",
          "model_name": "DescriptionStyleModel",
          "state": {
            "_view_name": "StyleView",
            "_model_name": "DescriptionStyleModel",
            "description_width": "",
            "_view_module": "@jupyter-widgets/base",
            "_model_module_version": "1.5.0",
            "_view_count": null,
            "_view_module_version": "1.2.0",
            "_model_module": "@jupyter-widgets/controls"
          }
        },
        "43244a9dc7f24df0bdc0ef3b3c22795b": {
          "model_module": "@jupyter-widgets/base",
          "model_name": "LayoutModel",
          "state": {
            "_view_name": "LayoutView",
            "grid_template_rows": null,
            "right": null,
            "justify_content": null,
            "_view_module": "@jupyter-widgets/base",
            "overflow": null,
            "_model_module_version": "1.2.0",
            "_view_count": null,
            "flex_flow": null,
            "width": null,
            "min_width": null,
            "border": null,
            "align_items": null,
            "bottom": null,
            "_model_module": "@jupyter-widgets/base",
            "top": null,
            "grid_column": null,
            "overflow_y": null,
            "overflow_x": null,
            "grid_auto_flow": null,
            "grid_area": null,
            "grid_template_columns": null,
            "flex": null,
            "_model_name": "LayoutModel",
            "justify_items": null,
            "grid_row": null,
            "max_height": null,
            "align_content": null,
            "visibility": null,
            "align_self": null,
            "height": null,
            "min_height": null,
            "padding": null,
            "grid_auto_rows": null,
            "grid_gap": null,
            "max_width": null,
            "order": null,
            "_view_module_version": "1.2.0",
            "grid_template_areas": null,
            "object_position": null,
            "object_fit": null,
            "grid_auto_columns": null,
            "margin": null,
            "display": null,
            "left": null
          }
        },
        "0d0d892d77e14c35a975b5db335ca0c8": {
          "model_module": "@jupyter-widgets/controls",
          "model_name": "HBoxModel",
          "state": {
            "_view_name": "HBoxView",
            "_dom_classes": [],
            "_model_name": "HBoxModel",
            "_view_module": "@jupyter-widgets/controls",
            "_model_module_version": "1.5.0",
            "_view_count": null,
            "_view_module_version": "1.5.0",
            "box_style": "",
            "layout": "IPY_MODEL_c51ec33fcd2d44cfa05943d395959b4e",
            "_model_module": "@jupyter-widgets/controls",
            "children": [
              "IPY_MODEL_38dc41188ab6417cb4af4559f496ea0d",
              "IPY_MODEL_9865e690e0b34f3ab9df33961cb93624"
            ]
          }
        },
        "c51ec33fcd2d44cfa05943d395959b4e": {
          "model_module": "@jupyter-widgets/base",
          "model_name": "LayoutModel",
          "state": {
            "_view_name": "LayoutView",
            "grid_template_rows": null,
            "right": null,
            "justify_content": null,
            "_view_module": "@jupyter-widgets/base",
            "overflow": null,
            "_model_module_version": "1.2.0",
            "_view_count": null,
            "flex_flow": null,
            "width": null,
            "min_width": null,
            "border": null,
            "align_items": null,
            "bottom": null,
            "_model_module": "@jupyter-widgets/base",
            "top": null,
            "grid_column": null,
            "overflow_y": null,
            "overflow_x": null,
            "grid_auto_flow": null,
            "grid_area": null,
            "grid_template_columns": null,
            "flex": null,
            "_model_name": "LayoutModel",
            "justify_items": null,
            "grid_row": null,
            "max_height": null,
            "align_content": null,
            "visibility": null,
            "align_self": null,
            "height": null,
            "min_height": null,
            "padding": null,
            "grid_auto_rows": null,
            "grid_gap": null,
            "max_width": null,
            "order": null,
            "_view_module_version": "1.2.0",
            "grid_template_areas": null,
            "object_position": null,
            "object_fit": null,
            "grid_auto_columns": null,
            "margin": null,
            "display": null,
            "left": null
          }
        },
        "38dc41188ab6417cb4af4559f496ea0d": {
          "model_module": "@jupyter-widgets/controls",
          "model_name": "FloatProgressModel",
          "state": {
            "_view_name": "ProgressView",
            "style": "IPY_MODEL_99c2fe7a4eb441929775877434d9874c",
            "_dom_classes": [],
            "description": "100%",
            "_model_name": "FloatProgressModel",
            "bar_style": "success",
            "max": 4,
            "_view_module": "@jupyter-widgets/controls",
            "_model_module_version": "1.5.0",
            "value": 4,
            "_view_count": null,
            "_view_module_version": "1.5.0",
            "orientation": "horizontal",
            "min": 0,
            "description_tooltip": null,
            "_model_module": "@jupyter-widgets/controls",
            "layout": "IPY_MODEL_4940a67b5ee543b0afc4b99cdd2c5e58"
          }
        },
        "9865e690e0b34f3ab9df33961cb93624": {
          "model_module": "@jupyter-widgets/controls",
          "model_name": "HTMLModel",
          "state": {
            "_view_name": "HTMLView",
            "style": "IPY_MODEL_caa5b42b53864dc18dbb6befdd1545dc",
            "_dom_classes": [],
            "description": "",
            "_model_name": "HTMLModel",
            "placeholder": "​",
            "_view_module": "@jupyter-widgets/controls",
            "_model_module_version": "1.5.0",
            "value": " 4/4 [18:20&lt;00:00, 275.00s/ba]",
            "_view_count": null,
            "_view_module_version": "1.5.0",
            "description_tooltip": null,
            "_model_module": "@jupyter-widgets/controls",
            "layout": "IPY_MODEL_305c32ff5f0e4ddf9edd2c2709f92269"
          }
        },
        "99c2fe7a4eb441929775877434d9874c": {
          "model_module": "@jupyter-widgets/controls",
          "model_name": "ProgressStyleModel",
          "state": {
            "_view_name": "StyleView",
            "_model_name": "ProgressStyleModel",
            "description_width": "initial",
            "_view_module": "@jupyter-widgets/base",
            "_model_module_version": "1.5.0",
            "_view_count": null,
            "_view_module_version": "1.2.0",
            "bar_color": null,
            "_model_module": "@jupyter-widgets/controls"
          }
        },
        "4940a67b5ee543b0afc4b99cdd2c5e58": {
          "model_module": "@jupyter-widgets/base",
          "model_name": "LayoutModel",
          "state": {
            "_view_name": "LayoutView",
            "grid_template_rows": null,
            "right": null,
            "justify_content": null,
            "_view_module": "@jupyter-widgets/base",
            "overflow": null,
            "_model_module_version": "1.2.0",
            "_view_count": null,
            "flex_flow": null,
            "width": null,
            "min_width": null,
            "border": null,
            "align_items": null,
            "bottom": null,
            "_model_module": "@jupyter-widgets/base",
            "top": null,
            "grid_column": null,
            "overflow_y": null,
            "overflow_x": null,
            "grid_auto_flow": null,
            "grid_area": null,
            "grid_template_columns": null,
            "flex": null,
            "_model_name": "LayoutModel",
            "justify_items": null,
            "grid_row": null,
            "max_height": null,
            "align_content": null,
            "visibility": null,
            "align_self": null,
            "height": null,
            "min_height": null,
            "padding": null,
            "grid_auto_rows": null,
            "grid_gap": null,
            "max_width": null,
            "order": null,
            "_view_module_version": "1.2.0",
            "grid_template_areas": null,
            "object_position": null,
            "object_fit": null,
            "grid_auto_columns": null,
            "margin": null,
            "display": null,
            "left": null
          }
        },
        "caa5b42b53864dc18dbb6befdd1545dc": {
          "model_module": "@jupyter-widgets/controls",
          "model_name": "DescriptionStyleModel",
          "state": {
            "_view_name": "StyleView",
            "_model_name": "DescriptionStyleModel",
            "description_width": "",
            "_view_module": "@jupyter-widgets/base",
            "_model_module_version": "1.5.0",
            "_view_count": null,
            "_view_module_version": "1.2.0",
            "_model_module": "@jupyter-widgets/controls"
          }
        },
        "305c32ff5f0e4ddf9edd2c2709f92269": {
          "model_module": "@jupyter-widgets/base",
          "model_name": "LayoutModel",
          "state": {
            "_view_name": "LayoutView",
            "grid_template_rows": null,
            "right": null,
            "justify_content": null,
            "_view_module": "@jupyter-widgets/base",
            "overflow": null,
            "_model_module_version": "1.2.0",
            "_view_count": null,
            "flex_flow": null,
            "width": null,
            "min_width": null,
            "border": null,
            "align_items": null,
            "bottom": null,
            "_model_module": "@jupyter-widgets/base",
            "top": null,
            "grid_column": null,
            "overflow_y": null,
            "overflow_x": null,
            "grid_auto_flow": null,
            "grid_area": null,
            "grid_template_columns": null,
            "flex": null,
            "_model_name": "LayoutModel",
            "justify_items": null,
            "grid_row": null,
            "max_height": null,
            "align_content": null,
            "visibility": null,
            "align_self": null,
            "height": null,
            "min_height": null,
            "padding": null,
            "grid_auto_rows": null,
            "grid_gap": null,
            "max_width": null,
            "order": null,
            "_view_module_version": "1.2.0",
            "grid_template_areas": null,
            "object_position": null,
            "object_fit": null,
            "grid_auto_columns": null,
            "margin": null,
            "display": null,
            "left": null
          }
        },
        "ef33dc0027344901af61ee028be07b40": {
          "model_module": "@jupyter-widgets/controls",
          "model_name": "HBoxModel",
          "state": {
            "_view_name": "HBoxView",
            "_dom_classes": [],
            "_model_name": "HBoxModel",
            "_view_module": "@jupyter-widgets/controls",
            "_model_module_version": "1.5.0",
            "_view_count": null,
            "_view_module_version": "1.5.0",
            "box_style": "",
            "layout": "IPY_MODEL_631a59f35f324676ba0b60918526d80e",
            "_model_module": "@jupyter-widgets/controls",
            "children": [
              "IPY_MODEL_95e36251f05047048552fa6786c8e44f",
              "IPY_MODEL_78b9ef7aab5a4663927b0c2ad310abc0"
            ]
          }
        },
        "631a59f35f324676ba0b60918526d80e": {
          "model_module": "@jupyter-widgets/base",
          "model_name": "LayoutModel",
          "state": {
            "_view_name": "LayoutView",
            "grid_template_rows": null,
            "right": null,
            "justify_content": null,
            "_view_module": "@jupyter-widgets/base",
            "overflow": null,
            "_model_module_version": "1.2.0",
            "_view_count": null,
            "flex_flow": null,
            "width": null,
            "min_width": null,
            "border": null,
            "align_items": null,
            "bottom": null,
            "_model_module": "@jupyter-widgets/base",
            "top": null,
            "grid_column": null,
            "overflow_y": null,
            "overflow_x": null,
            "grid_auto_flow": null,
            "grid_area": null,
            "grid_template_columns": null,
            "flex": null,
            "_model_name": "LayoutModel",
            "justify_items": null,
            "grid_row": null,
            "max_height": null,
            "align_content": null,
            "visibility": null,
            "align_self": null,
            "height": null,
            "min_height": null,
            "padding": null,
            "grid_auto_rows": null,
            "grid_gap": null,
            "max_width": null,
            "order": null,
            "_view_module_version": "1.2.0",
            "grid_template_areas": null,
            "object_position": null,
            "object_fit": null,
            "grid_auto_columns": null,
            "margin": null,
            "display": null,
            "left": null
          }
        },
        "95e36251f05047048552fa6786c8e44f": {
          "model_module": "@jupyter-widgets/controls",
          "model_name": "FloatProgressModel",
          "state": {
            "_view_name": "ProgressView",
            "style": "IPY_MODEL_98214dafe1e14cc2b0795e279a00f165",
            "_dom_classes": [],
            "description": "100%",
            "_model_name": "FloatProgressModel",
            "bar_style": "success",
            "max": 254,
            "_view_module": "@jupyter-widgets/controls",
            "_model_module_version": "1.5.0",
            "value": 254,
            "_view_count": null,
            "_view_module_version": "1.5.0",
            "orientation": "horizontal",
            "min": 0,
            "description_tooltip": null,
            "_model_module": "@jupyter-widgets/controls",
            "layout": "IPY_MODEL_04050e30496745b5902ba02a4a435173"
          }
        },
        "78b9ef7aab5a4663927b0c2ad310abc0": {
          "model_module": "@jupyter-widgets/controls",
          "model_name": "HTMLModel",
          "state": {
            "_view_name": "HTMLView",
            "style": "IPY_MODEL_6da2a654af2b410ca07d29a09b812e7a",
            "_dom_classes": [],
            "description": "",
            "_model_name": "HTMLModel",
            "placeholder": "​",
            "_view_module": "@jupyter-widgets/controls",
            "_model_module_version": "1.5.0",
            "value": " 254/254 [00:01&lt;00:00, 245.75ex/s]",
            "_view_count": null,
            "_view_module_version": "1.5.0",
            "description_tooltip": null,
            "_model_module": "@jupyter-widgets/controls",
            "layout": "IPY_MODEL_7eac61d40744497aacb28d8c7026e8fd"
          }
        },
        "98214dafe1e14cc2b0795e279a00f165": {
          "model_module": "@jupyter-widgets/controls",
          "model_name": "ProgressStyleModel",
          "state": {
            "_view_name": "StyleView",
            "_model_name": "ProgressStyleModel",
            "description_width": "initial",
            "_view_module": "@jupyter-widgets/base",
            "_model_module_version": "1.5.0",
            "_view_count": null,
            "_view_module_version": "1.2.0",
            "bar_color": null,
            "_model_module": "@jupyter-widgets/controls"
          }
        },
        "04050e30496745b5902ba02a4a435173": {
          "model_module": "@jupyter-widgets/base",
          "model_name": "LayoutModel",
          "state": {
            "_view_name": "LayoutView",
            "grid_template_rows": null,
            "right": null,
            "justify_content": null,
            "_view_module": "@jupyter-widgets/base",
            "overflow": null,
            "_model_module_version": "1.2.0",
            "_view_count": null,
            "flex_flow": null,
            "width": null,
            "min_width": null,
            "border": null,
            "align_items": null,
            "bottom": null,
            "_model_module": "@jupyter-widgets/base",
            "top": null,
            "grid_column": null,
            "overflow_y": null,
            "overflow_x": null,
            "grid_auto_flow": null,
            "grid_area": null,
            "grid_template_columns": null,
            "flex": null,
            "_model_name": "LayoutModel",
            "justify_items": null,
            "grid_row": null,
            "max_height": null,
            "align_content": null,
            "visibility": null,
            "align_self": null,
            "height": null,
            "min_height": null,
            "padding": null,
            "grid_auto_rows": null,
            "grid_gap": null,
            "max_width": null,
            "order": null,
            "_view_module_version": "1.2.0",
            "grid_template_areas": null,
            "object_position": null,
            "object_fit": null,
            "grid_auto_columns": null,
            "margin": null,
            "display": null,
            "left": null
          }
        },
        "6da2a654af2b410ca07d29a09b812e7a": {
          "model_module": "@jupyter-widgets/controls",
          "model_name": "DescriptionStyleModel",
          "state": {
            "_view_name": "StyleView",
            "_model_name": "DescriptionStyleModel",
            "description_width": "",
            "_view_module": "@jupyter-widgets/base",
            "_model_module_version": "1.5.0",
            "_view_count": null,
            "_view_module_version": "1.2.0",
            "_model_module": "@jupyter-widgets/controls"
          }
        },
        "7eac61d40744497aacb28d8c7026e8fd": {
          "model_module": "@jupyter-widgets/base",
          "model_name": "LayoutModel",
          "state": {
            "_view_name": "LayoutView",
            "grid_template_rows": null,
            "right": null,
            "justify_content": null,
            "_view_module": "@jupyter-widgets/base",
            "overflow": null,
            "_model_module_version": "1.2.0",
            "_view_count": null,
            "flex_flow": null,
            "width": null,
            "min_width": null,
            "border": null,
            "align_items": null,
            "bottom": null,
            "_model_module": "@jupyter-widgets/base",
            "top": null,
            "grid_column": null,
            "overflow_y": null,
            "overflow_x": null,
            "grid_auto_flow": null,
            "grid_area": null,
            "grid_template_columns": null,
            "flex": null,
            "_model_name": "LayoutModel",
            "justify_items": null,
            "grid_row": null,
            "max_height": null,
            "align_content": null,
            "visibility": null,
            "align_self": null,
            "height": null,
            "min_height": null,
            "padding": null,
            "grid_auto_rows": null,
            "grid_gap": null,
            "max_width": null,
            "order": null,
            "_view_module_version": "1.2.0",
            "grid_template_areas": null,
            "object_position": null,
            "object_fit": null,
            "grid_auto_columns": null,
            "margin": null,
            "display": null,
            "left": null
          }
        },
        "cfc66965621240d4980524caa3802f6d": {
          "model_module": "@jupyter-widgets/controls",
          "model_name": "HBoxModel",
          "state": {
            "_view_name": "HBoxView",
            "_dom_classes": [],
            "_model_name": "HBoxModel",
            "_view_module": "@jupyter-widgets/controls",
            "_model_module_version": "1.5.0",
            "_view_count": null,
            "_view_module_version": "1.5.0",
            "box_style": "",
            "layout": "IPY_MODEL_f41b203c489f4f45a3c16b6de3209bca",
            "_model_module": "@jupyter-widgets/controls",
            "children": [
              "IPY_MODEL_b3138d5ce5b54f1da98b848920efdaaa",
              "IPY_MODEL_a8a6befb9902463083144b0a02233faf"
            ]
          }
        },
        "f41b203c489f4f45a3c16b6de3209bca": {
          "model_module": "@jupyter-widgets/base",
          "model_name": "LayoutModel",
          "state": {
            "_view_name": "LayoutView",
            "grid_template_rows": null,
            "right": null,
            "justify_content": null,
            "_view_module": "@jupyter-widgets/base",
            "overflow": null,
            "_model_module_version": "1.2.0",
            "_view_count": null,
            "flex_flow": null,
            "width": null,
            "min_width": null,
            "border": null,
            "align_items": null,
            "bottom": null,
            "_model_module": "@jupyter-widgets/base",
            "top": null,
            "grid_column": null,
            "overflow_y": null,
            "overflow_x": null,
            "grid_auto_flow": null,
            "grid_area": null,
            "grid_template_columns": null,
            "flex": null,
            "_model_name": "LayoutModel",
            "justify_items": null,
            "grid_row": null,
            "max_height": null,
            "align_content": null,
            "visibility": null,
            "align_self": null,
            "height": null,
            "min_height": null,
            "padding": null,
            "grid_auto_rows": null,
            "grid_gap": null,
            "max_width": null,
            "order": null,
            "_view_module_version": "1.2.0",
            "grid_template_areas": null,
            "object_position": null,
            "object_fit": null,
            "grid_auto_columns": null,
            "margin": null,
            "display": null,
            "left": null
          }
        },
        "b3138d5ce5b54f1da98b848920efdaaa": {
          "model_module": "@jupyter-widgets/controls",
          "model_name": "FloatProgressModel",
          "state": {
            "_view_name": "ProgressView",
            "style": "IPY_MODEL_787a81b36dbd4a9382431a06e52bb57e",
            "_dom_classes": [],
            "description": "100%",
            "_model_name": "FloatProgressModel",
            "bar_style": "success",
            "max": 254,
            "_view_module": "@jupyter-widgets/controls",
            "_model_module_version": "1.5.0",
            "value": 254,
            "_view_count": null,
            "_view_module_version": "1.5.0",
            "orientation": "horizontal",
            "min": 0,
            "description_tooltip": null,
            "_model_module": "@jupyter-widgets/controls",
            "layout": "IPY_MODEL_afd06232c3dc488a9137043a5eabd1ff"
          }
        },
        "a8a6befb9902463083144b0a02233faf": {
          "model_module": "@jupyter-widgets/controls",
          "model_name": "HTMLModel",
          "state": {
            "_view_name": "HTMLView",
            "style": "IPY_MODEL_cbf3a05844df4608a533f1ff6d6ba202",
            "_dom_classes": [],
            "description": "",
            "_model_name": "HTMLModel",
            "placeholder": "​",
            "_view_module": "@jupyter-widgets/controls",
            "_model_module_version": "1.5.0",
            "value": " 254/254 [18:12&lt;00:00,  4.30s/ex]",
            "_view_count": null,
            "_view_module_version": "1.5.0",
            "description_tooltip": null,
            "_model_module": "@jupyter-widgets/controls",
            "layout": "IPY_MODEL_72f07b1e982a4a0ea5d2b75e1944fb7c"
          }
        },
        "787a81b36dbd4a9382431a06e52bb57e": {
          "model_module": "@jupyter-widgets/controls",
          "model_name": "ProgressStyleModel",
          "state": {
            "_view_name": "StyleView",
            "_model_name": "ProgressStyleModel",
            "description_width": "initial",
            "_view_module": "@jupyter-widgets/base",
            "_model_module_version": "1.5.0",
            "_view_count": null,
            "_view_module_version": "1.2.0",
            "bar_color": null,
            "_model_module": "@jupyter-widgets/controls"
          }
        },
        "afd06232c3dc488a9137043a5eabd1ff": {
          "model_module": "@jupyter-widgets/base",
          "model_name": "LayoutModel",
          "state": {
            "_view_name": "LayoutView",
            "grid_template_rows": null,
            "right": null,
            "justify_content": null,
            "_view_module": "@jupyter-widgets/base",
            "overflow": null,
            "_model_module_version": "1.2.0",
            "_view_count": null,
            "flex_flow": null,
            "width": null,
            "min_width": null,
            "border": null,
            "align_items": null,
            "bottom": null,
            "_model_module": "@jupyter-widgets/base",
            "top": null,
            "grid_column": null,
            "overflow_y": null,
            "overflow_x": null,
            "grid_auto_flow": null,
            "grid_area": null,
            "grid_template_columns": null,
            "flex": null,
            "_model_name": "LayoutModel",
            "justify_items": null,
            "grid_row": null,
            "max_height": null,
            "align_content": null,
            "visibility": null,
            "align_self": null,
            "height": null,
            "min_height": null,
            "padding": null,
            "grid_auto_rows": null,
            "grid_gap": null,
            "max_width": null,
            "order": null,
            "_view_module_version": "1.2.0",
            "grid_template_areas": null,
            "object_position": null,
            "object_fit": null,
            "grid_auto_columns": null,
            "margin": null,
            "display": null,
            "left": null
          }
        },
        "cbf3a05844df4608a533f1ff6d6ba202": {
          "model_module": "@jupyter-widgets/controls",
          "model_name": "DescriptionStyleModel",
          "state": {
            "_view_name": "StyleView",
            "_model_name": "DescriptionStyleModel",
            "description_width": "",
            "_view_module": "@jupyter-widgets/base",
            "_model_module_version": "1.5.0",
            "_view_count": null,
            "_view_module_version": "1.2.0",
            "_model_module": "@jupyter-widgets/controls"
          }
        },
        "72f07b1e982a4a0ea5d2b75e1944fb7c": {
          "model_module": "@jupyter-widgets/base",
          "model_name": "LayoutModel",
          "state": {
            "_view_name": "LayoutView",
            "grid_template_rows": null,
            "right": null,
            "justify_content": null,
            "_view_module": "@jupyter-widgets/base",
            "overflow": null,
            "_model_module_version": "1.2.0",
            "_view_count": null,
            "flex_flow": null,
            "width": null,
            "min_width": null,
            "border": null,
            "align_items": null,
            "bottom": null,
            "_model_module": "@jupyter-widgets/base",
            "top": null,
            "grid_column": null,
            "overflow_y": null,
            "overflow_x": null,
            "grid_auto_flow": null,
            "grid_area": null,
            "grid_template_columns": null,
            "flex": null,
            "_model_name": "LayoutModel",
            "justify_items": null,
            "grid_row": null,
            "max_height": null,
            "align_content": null,
            "visibility": null,
            "align_self": null,
            "height": null,
            "min_height": null,
            "padding": null,
            "grid_auto_rows": null,
            "grid_gap": null,
            "max_width": null,
            "order": null,
            "_view_module_version": "1.2.0",
            "grid_template_areas": null,
            "object_position": null,
            "object_fit": null,
            "grid_auto_columns": null,
            "margin": null,
            "display": null,
            "left": null
          }
        }
      }
    }
  },
  "cells": [
    {
      "cell_type": "code",
      "metadata": {
        "colab": {
          "base_uri": "https://localhost:8080/"
        },
        "id": "7ZwqR6uo_ORW",
        "outputId": "fb772c9b-92d1-4b84-e9ed-46dd70abed5e"
      },
      "source": [
        "!pip install -q transformers\r\n",
        "!pip install -q datasets\r\n",
        "!pip install -q ltp"
      ],
      "execution_count": 1,
      "outputs": [
        {
          "output_type": "stream",
          "text": [
            "\u001b[K     |████████████████████████████████| 1.8MB 5.3MB/s \n",
            "\u001b[K     |████████████████████████████████| 890kB 24.0MB/s \n",
            "\u001b[K     |████████████████████████████████| 2.9MB 28.0MB/s \n",
            "\u001b[?25h  Building wheel for sacremoses (setup.py) ... \u001b[?25l\u001b[?25hdone\n",
            "\u001b[K     |████████████████████████████████| 163kB 6.4MB/s \n",
            "\u001b[K     |████████████████████████████████| 245kB 16.2MB/s \n",
            "\u001b[K     |████████████████████████████████| 20.7MB 1.7MB/s \n",
            "\u001b[K     |████████████████████████████████| 81kB 3.1MB/s \n",
            "\u001b[?25h  Building wheel for pygtrie (setup.py) ... \u001b[?25l\u001b[?25hdone\n"
          ],
          "name": "stdout"
        }
      ]
    },
    {
      "cell_type": "code",
      "metadata": {
        "colab": {
          "base_uri": "https://localhost:8080/"
        },
        "id": "Kia1oEr5_V7V",
        "outputId": "fb0f4305-386c-4dbb-97d3-22dc5588e2a9"
      },
      "source": [
        "!git clone https://github.com/Muennighoff/wecredo.git"
      ],
      "execution_count": 2,
      "outputs": [
        {
          "output_type": "stream",
          "text": [
            "Cloning into 'wecredo'...\n",
            "remote: Enumerating objects: 84, done.\u001b[K\n",
            "remote: Counting objects: 100% (84/84), done.\u001b[K\n",
            "remote: Compressing objects: 100% (64/64), done.\u001b[K\n",
            "remote: Total 84 (delta 38), reused 66 (delta 20), pack-reused 0\n",
            "Unpacking objects: 100% (84/84), done.\n"
          ],
          "name": "stdout"
        }
      ]
    },
    {
      "cell_type": "code",
      "metadata": {
        "id": "zSoNibT-k8fb"
      },
      "source": [
        "import tensorflow as tf\r\n",
        "import math\r\n",
        "import transformers\r\n",
        "from transformers import BertConfig, RobertaConfig\r\n",
        "from datasets import load_dataset\r\n",
        "\r\n",
        "import os\r\n",
        "\r\n",
        "from wecredo.tokenization import WWMTokenizer\r\n",
        "from wecredo.modeling import TFRobertaForMaskedLM"
      ],
      "execution_count": 3,
      "outputs": []
    },
    {
      "cell_type": "code",
      "metadata": {
        "colab": {
          "base_uri": "https://localhost:8080/"
        },
        "id": "68rtNWFL_tGi",
        "outputId": "fb94c87c-6f17-4449-e987-456768cad931"
      },
      "source": [
        "# If this cell takes very long to run; factory reset and run this cell the very first\r\n",
        "\r\n",
        "tf.keras.backend.clear_session()\r\n",
        "\r\n",
        "try:\r\n",
        "    # Locate TPU\r\n",
        "    TPU_WORKER = 'grpc://' + os.environ['COLAB_TPU_ADDR']\r\n",
        "    # Establish communication / Locates TPU on the network\r\n",
        "    resolver = tf.distribute.cluster_resolver.TPUClusterResolver(tpu=TPU_WORKER)\r\n",
        "    # Connect\r\n",
        "    tf.config.experimental_connect_to_cluster(resolver)\r\n",
        "    # Start TPU\r\n",
        "    tf.tpu.experimental.initialize_tpu_system(resolver)\r\n",
        "    # Set strategy\r\n",
        "    strategy = tf.distribute.experimental.TPUStrategy(resolver)\r\n",
        "\r\n",
        "    print(\"Number of accelerators: \", strategy.num_replicas_in_sync)\r\n",
        "\r\n",
        "except ValueError:\r\n",
        "    print(\"No TPU found\")\r\n",
        "\r\n",
        "# Check devices\r\n",
        "print(\"All devices: \", tf.config.list_logical_devices('TPU'))"
      ],
      "execution_count": 4,
      "outputs": [
        {
          "output_type": "stream",
          "text": [
            "INFO:absl:Entering into master device scope: /job:worker/replica:0/task:0/device:CPU:0\n"
          ],
          "name": "stderr"
        },
        {
          "output_type": "stream",
          "text": [
            "INFO:tensorflow:Initializing the TPU system: grpc://10.24.47.34:8470\n"
          ],
          "name": "stdout"
        },
        {
          "output_type": "stream",
          "text": [
            "INFO:tensorflow:Initializing the TPU system: grpc://10.24.47.34:8470\n"
          ],
          "name": "stderr"
        },
        {
          "output_type": "stream",
          "text": [
            "INFO:tensorflow:Clearing out eager caches\n"
          ],
          "name": "stdout"
        },
        {
          "output_type": "stream",
          "text": [
            "INFO:tensorflow:Clearing out eager caches\n"
          ],
          "name": "stderr"
        },
        {
          "output_type": "stream",
          "text": [
            "INFO:tensorflow:Finished initializing TPU system.\n"
          ],
          "name": "stdout"
        },
        {
          "output_type": "stream",
          "text": [
            "INFO:tensorflow:Finished initializing TPU system.\n",
            "WARNING:absl:`tf.distribute.experimental.TPUStrategy` is deprecated, please use  the non experimental symbol `tf.distribute.TPUStrategy` instead.\n"
          ],
          "name": "stderr"
        },
        {
          "output_type": "stream",
          "text": [
            "INFO:tensorflow:Found TPU system:\n"
          ],
          "name": "stdout"
        },
        {
          "output_type": "stream",
          "text": [
            "INFO:tensorflow:Found TPU system:\n"
          ],
          "name": "stderr"
        },
        {
          "output_type": "stream",
          "text": [
            "INFO:tensorflow:*** Num TPU Cores: 8\n"
          ],
          "name": "stdout"
        },
        {
          "output_type": "stream",
          "text": [
            "INFO:tensorflow:*** Num TPU Cores: 8\n"
          ],
          "name": "stderr"
        },
        {
          "output_type": "stream",
          "text": [
            "INFO:tensorflow:*** Num TPU Workers: 1\n"
          ],
          "name": "stdout"
        },
        {
          "output_type": "stream",
          "text": [
            "INFO:tensorflow:*** Num TPU Workers: 1\n"
          ],
          "name": "stderr"
        },
        {
          "output_type": "stream",
          "text": [
            "INFO:tensorflow:*** Num TPU Cores Per Worker: 8\n"
          ],
          "name": "stdout"
        },
        {
          "output_type": "stream",
          "text": [
            "INFO:tensorflow:*** Num TPU Cores Per Worker: 8\n"
          ],
          "name": "stderr"
        },
        {
          "output_type": "stream",
          "text": [
            "INFO:tensorflow:*** Available Device: _DeviceAttributes(/job:localhost/replica:0/task:0/device:CPU:0, CPU, 0, 0)\n"
          ],
          "name": "stdout"
        },
        {
          "output_type": "stream",
          "text": [
            "INFO:tensorflow:*** Available Device: _DeviceAttributes(/job:localhost/replica:0/task:0/device:CPU:0, CPU, 0, 0)\n"
          ],
          "name": "stderr"
        },
        {
          "output_type": "stream",
          "text": [
            "INFO:tensorflow:*** Available Device: _DeviceAttributes(/job:worker/replica:0/task:0/device:CPU:0, CPU, 0, 0)\n"
          ],
          "name": "stdout"
        },
        {
          "output_type": "stream",
          "text": [
            "INFO:tensorflow:*** Available Device: _DeviceAttributes(/job:worker/replica:0/task:0/device:CPU:0, CPU, 0, 0)\n"
          ],
          "name": "stderr"
        },
        {
          "output_type": "stream",
          "text": [
            "INFO:tensorflow:*** Available Device: _DeviceAttributes(/job:worker/replica:0/task:0/device:TPU:0, TPU, 0, 0)\n"
          ],
          "name": "stdout"
        },
        {
          "output_type": "stream",
          "text": [
            "INFO:tensorflow:*** Available Device: _DeviceAttributes(/job:worker/replica:0/task:0/device:TPU:0, TPU, 0, 0)\n"
          ],
          "name": "stderr"
        },
        {
          "output_type": "stream",
          "text": [
            "INFO:tensorflow:*** Available Device: _DeviceAttributes(/job:worker/replica:0/task:0/device:TPU:1, TPU, 0, 0)\n"
          ],
          "name": "stdout"
        },
        {
          "output_type": "stream",
          "text": [
            "INFO:tensorflow:*** Available Device: _DeviceAttributes(/job:worker/replica:0/task:0/device:TPU:1, TPU, 0, 0)\n"
          ],
          "name": "stderr"
        },
        {
          "output_type": "stream",
          "text": [
            "INFO:tensorflow:*** Available Device: _DeviceAttributes(/job:worker/replica:0/task:0/device:TPU:2, TPU, 0, 0)\n"
          ],
          "name": "stdout"
        },
        {
          "output_type": "stream",
          "text": [
            "INFO:tensorflow:*** Available Device: _DeviceAttributes(/job:worker/replica:0/task:0/device:TPU:2, TPU, 0, 0)\n"
          ],
          "name": "stderr"
        },
        {
          "output_type": "stream",
          "text": [
            "INFO:tensorflow:*** Available Device: _DeviceAttributes(/job:worker/replica:0/task:0/device:TPU:3, TPU, 0, 0)\n"
          ],
          "name": "stdout"
        },
        {
          "output_type": "stream",
          "text": [
            "INFO:tensorflow:*** Available Device: _DeviceAttributes(/job:worker/replica:0/task:0/device:TPU:3, TPU, 0, 0)\n"
          ],
          "name": "stderr"
        },
        {
          "output_type": "stream",
          "text": [
            "INFO:tensorflow:*** Available Device: _DeviceAttributes(/job:worker/replica:0/task:0/device:TPU:4, TPU, 0, 0)\n"
          ],
          "name": "stdout"
        },
        {
          "output_type": "stream",
          "text": [
            "INFO:tensorflow:*** Available Device: _DeviceAttributes(/job:worker/replica:0/task:0/device:TPU:4, TPU, 0, 0)\n"
          ],
          "name": "stderr"
        },
        {
          "output_type": "stream",
          "text": [
            "INFO:tensorflow:*** Available Device: _DeviceAttributes(/job:worker/replica:0/task:0/device:TPU:5, TPU, 0, 0)\n"
          ],
          "name": "stdout"
        },
        {
          "output_type": "stream",
          "text": [
            "INFO:tensorflow:*** Available Device: _DeviceAttributes(/job:worker/replica:0/task:0/device:TPU:5, TPU, 0, 0)\n"
          ],
          "name": "stderr"
        },
        {
          "output_type": "stream",
          "text": [
            "INFO:tensorflow:*** Available Device: _DeviceAttributes(/job:worker/replica:0/task:0/device:TPU:6, TPU, 0, 0)\n"
          ],
          "name": "stdout"
        },
        {
          "output_type": "stream",
          "text": [
            "INFO:tensorflow:*** Available Device: _DeviceAttributes(/job:worker/replica:0/task:0/device:TPU:6, TPU, 0, 0)\n"
          ],
          "name": "stderr"
        },
        {
          "output_type": "stream",
          "text": [
            "INFO:tensorflow:*** Available Device: _DeviceAttributes(/job:worker/replica:0/task:0/device:TPU:7, TPU, 0, 0)\n"
          ],
          "name": "stdout"
        },
        {
          "output_type": "stream",
          "text": [
            "INFO:tensorflow:*** Available Device: _DeviceAttributes(/job:worker/replica:0/task:0/device:TPU:7, TPU, 0, 0)\n"
          ],
          "name": "stderr"
        },
        {
          "output_type": "stream",
          "text": [
            "INFO:tensorflow:*** Available Device: _DeviceAttributes(/job:worker/replica:0/task:0/device:TPU_SYSTEM:0, TPU_SYSTEM, 0, 0)\n"
          ],
          "name": "stdout"
        },
        {
          "output_type": "stream",
          "text": [
            "INFO:tensorflow:*** Available Device: _DeviceAttributes(/job:worker/replica:0/task:0/device:TPU_SYSTEM:0, TPU_SYSTEM, 0, 0)\n"
          ],
          "name": "stderr"
        },
        {
          "output_type": "stream",
          "text": [
            "INFO:tensorflow:*** Available Device: _DeviceAttributes(/job:worker/replica:0/task:0/device:XLA_CPU:0, XLA_CPU, 0, 0)\n"
          ],
          "name": "stdout"
        },
        {
          "output_type": "stream",
          "text": [
            "INFO:tensorflow:*** Available Device: _DeviceAttributes(/job:worker/replica:0/task:0/device:XLA_CPU:0, XLA_CPU, 0, 0)\n"
          ],
          "name": "stderr"
        },
        {
          "output_type": "stream",
          "text": [
            "Number of accelerators:  8\n",
            "All devices:  [LogicalDevice(name='/job:worker/replica:0/task:0/device:TPU:7', device_type='TPU'), LogicalDevice(name='/job:worker/replica:0/task:0/device:TPU:6', device_type='TPU'), LogicalDevice(name='/job:worker/replica:0/task:0/device:TPU:5', device_type='TPU'), LogicalDevice(name='/job:worker/replica:0/task:0/device:TPU:4', device_type='TPU'), LogicalDevice(name='/job:worker/replica:0/task:0/device:TPU:3', device_type='TPU'), LogicalDevice(name='/job:worker/replica:0/task:0/device:TPU:0', device_type='TPU'), LogicalDevice(name='/job:worker/replica:0/task:0/device:TPU:1', device_type='TPU'), LogicalDevice(name='/job:worker/replica:0/task:0/device:TPU:2', device_type='TPU')]\n"
          ],
          "name": "stdout"
        }
      ]
    },
    {
      "cell_type": "code",
      "metadata": {
        "id": "FiFynjJdti2L"
      },
      "source": [
        "### Modelling - Static ###\r\n",
        "\r\n",
        "class Wrapper(tf.keras.Model):\r\n",
        "    def __init__(self, model, *args, **kwargs):\r\n",
        "        super().__init__(*args, **kwargs)\r\n",
        "        self.model = model\r\n",
        "        # Track loss (Loss itself its CategoricalCrossEnt.)\r\n",
        "        self.loss_tracker = tf.keras.metrics.Mean(name='loss') \r\n",
        "\r\n",
        "    @tf.function\r\n",
        "    def train_step(self, data):\r\n",
        "        # Data is a dictionary\r\n",
        "        y = data[\"lm_label_ids\"]\r\n",
        "        x = data\r\n",
        "\r\n",
        "        with tf.GradientTape() as tape:\r\n",
        "            # Forward pass\r\n",
        "            y_pred = self.model(x, training=True)\r\n",
        "            # Compute the loss value.\r\n",
        "            y_pred = y_pred.logits\r\n",
        "            loss = self.compute_loss(y, y_pred)\r\n",
        "            # Reduce loss to single digit\r\n",
        "            loss = tf.reduce_mean(loss)\r\n",
        "\r\n",
        "        # Compute gradients\r\n",
        "        gradients = tape.gradient(loss, self.trainable_variables)\r\n",
        "        # Update weights\r\n",
        "        self.optimizer.apply_gradients(zip(gradients, self.trainable_variables))\r\n",
        "        # Update loss tracker\r\n",
        "        self.loss_tracker.update_state(loss)  \r\n",
        "        # Update metrics\r\n",
        "        self.compiled_metrics.update_state(y, y_pred)\r\n",
        "\r\n",
        "        return {m.name: m.result() for m in self.metrics}\r\n",
        "\r\n",
        "    def test_step(self, data):\r\n",
        "        # Data is a dictionary\r\n",
        "        y = data[\"lm_label_ids\"]\r\n",
        "        x = data\r\n",
        "\r\n",
        "        # Compute predictions\r\n",
        "        y_pred = self.model(x, training=False)\r\n",
        "        y_pred = y_pred.logits\r\n",
        "        loss = self.compute_loss(y, y_pred)\r\n",
        "\r\n",
        "        # Updates the metrics tracking the loss\r\n",
        "        self.loss_tracker.update_state(loss)  \r\n",
        "        self.compiled_metrics.update_state(y, y_pred)\r\n",
        "\r\n",
        "        return {m.name: m.result() for m in self.metrics}\r\n",
        "\r\n",
        "    def compute_loss(self, labels, logits):\r\n",
        "        loss_fn = tf.keras.losses.SparseCategoricalCrossentropy(\r\n",
        "            from_logits=True, reduction=tf.keras.losses.Reduction.NONE\r\n",
        "        )\r\n",
        "        # make sure only labels that are not equal to -100 do affect loss\r\n",
        "        active_loss = tf.not_equal(tf.reshape(labels, (-1,)), -100)\r\n",
        "        reduced_logits = tf.boolean_mask(tf.reshape(logits, (-1, shape_list(logits)[2])), active_loss)\r\n",
        "        labels = tf.boolean_mask(tf.reshape(labels, (-1,)), active_loss)\r\n",
        "\r\n",
        "        return loss_fn(labels, reduced_logits)"
      ],
      "execution_count": 5,
      "outputs": []
    },
    {
      "cell_type": "code",
      "metadata": {
        "id": "h1Y_ThCyt4uK"
      },
      "source": [
        "def shape_list(tensor: tf.Tensor):\r\n",
        "    \"\"\"\r\n",
        "    Deal with dynamic shape in tensorflow cleanly.\r\n",
        "    Args:\r\n",
        "        tensor (:obj:`tf.Tensor`): The tensor we want the shape of.\r\n",
        "    Returns:\r\n",
        "        :obj:`List[int]`: The shape of the tensor as a list.\r\n",
        "\r\n",
        "    ### TODO: Move to compute_loss\r\n",
        "    \"\"\"\r\n",
        "    dynamic = tf.shape(tensor)\r\n",
        "\r\n",
        "    if tensor.shape == tf.TensorShape(None):\r\n",
        "        return dynamic\r\n",
        "\r\n",
        "    static = tensor.shape.as_list()\r\n",
        "\r\n",
        "    return [dynamic[i] if s is None else s for i, s in enumerate(static)]"
      ],
      "execution_count": 6,
      "outputs": []
    },
    {
      "cell_type": "markdown",
      "metadata": {
        "id": "mEug0P_v9zB0"
      },
      "source": [
        "#### TPU-Base"
      ]
    },
    {
      "cell_type": "code",
      "metadata": {
        "id": "F6WWnGVwAGnE"
      },
      "source": [
        "def create_model():\r\n",
        "    \"\"\"\r\n",
        "    Creates Model\r\n",
        "    \"\"\"\r\n",
        "    config = RobertaConfig.from_pretrained(\"roberta-base\")\r\n",
        "    config.performer = True\r\n",
        "    base_model = TFRobertaForMaskedLM(config)\r\n",
        "    model = Wrapper(base_model)\r\n",
        "    return model\r\n",
        "\r\n",
        "\r\n",
        "def tf_dataset_slices(train_ds, tokenizer):\r\n",
        "    \"\"\"\r\n",
        "    Diff method of turning into TF Dataset\r\n",
        "    \"\"\"\r\n",
        "    train_ds.set_format(type='tensorflow', columns=['input_ids', 'attention_mask', 'token_type_ids', 'lm_label_ids'])\r\n",
        "    #features = {x: train_ds[x].to_tensor(default_value=0, shape=[None, tokenizer.model_max_length]) for x in ['input_ids', 'attention_mask', 'token_type_ids']}\r\n",
        "    #train_ds = tf.data.Dataset.from_tensor_slices((features, train_ds[\"lm_label_ids\"]))\r\n",
        "\r\n",
        "    features = {x: train_ds[x].to_tensor(default_value=0, shape=[None, tokenizer.model_max_length]) for x in ['input_ids', 'attention_mask', 'token_type_ids', 'lm_label_ids']}\r\n",
        "    train_ds = tf.data.Dataset.from_tensor_slices(features)\r\n",
        "\r\n",
        "    return train_ds\r\n",
        "\r\n",
        "\r\n",
        "def get_dataset(batch_size, is_training=True):\r\n",
        "    \"\"\"\r\n",
        "    Only train for now;\r\n",
        "    \"\"\"\r\n",
        "    train_ds = load_dataset('c3', 'mixed', split='train')\r\n",
        "    def prepare_dict(example):\r\n",
        "        example[\"text\"] = example[\"documents\"][0]\r\n",
        "        return example\r\n",
        "    train_ds = train_ds.map(prepare_dict)\r\n",
        "\r\n",
        "   # train_ds = train_ds.select(range(32))\r\n",
        "\r\n",
        "    tokenizer = WWMTokenizer(col=\"text\", seq_len=512)\r\n",
        "    train_ds = train_ds.map(tokenizer.tokenize_pretraining)\r\n",
        "    train_ds = tf_dataset_slices(train_ds, tokenizer.tokenizer_cn)\r\n",
        "\r\n",
        "    # Need to drop the remainder if len(ds) // bs != 0\r\n",
        "    train_ds = train_ds.shuffle(1000).batch(batch_size, drop_remainder=True)\r\n",
        "\r\n",
        "    return train_ds"
      ],
      "execution_count": 77,
      "outputs": []
    },
    {
      "cell_type": "code",
      "metadata": {
        "colab": {
          "base_uri": "https://localhost:8080/",
          "height": 919,
          "referenced_widgets": [
            "a6e7a0990b3e4e80969b124d1fcbbb6b",
            "d4493910dfc344e28993f5436649c272",
            "bbf8ab8ef8b047b88a739aade2a1ec83",
            "1cc46494eb92458baa0e93be97dcc628",
            "c9501884181d4e53ab51f6739fe6406c",
            "a0727d42c6f541309a490757f3f389cd",
            "4cef244cf98041768716e6e3092bceeb",
            "43244a9dc7f24df0bdc0ef3b3c22795b"
          ]
        },
        "id": "UyvyOHdlN0aR",
        "outputId": "71e52bef-048d-4d77-eba8-cf209cd82500"
      },
      "source": [
        "# Process on TPU\r\n",
        "with strategy.scope():\r\n",
        "    model = create_model()\r\n",
        "\r\n",
        "    learning_rate = 1e-5\r\n",
        "    optimizer = tf.keras.optimizers.Adam(learning_rate)\r\n",
        "    model.compile(optimizer=optimizer,\r\n",
        "                  metrics=['sparse_categorical_accuracy'])\r\n",
        "\r\n",
        "\r\n",
        "batch_size = 8\r\n",
        "steps_per_epoch = 3138 // batch_size # == 523\r\n",
        "\r\n",
        "train_dataset = get_dataset(batch_size, is_training=True)\r\n",
        "\r\n",
        "model.fit(train_dataset,\r\n",
        "          epochs=20,\r\n",
        "          steps_per_epoch=steps_per_epoch)"
      ],
      "execution_count": 78,
      "outputs": [
        {
          "output_type": "stream",
          "text": [
            "Reusing dataset c3 (/root/.cache/huggingface/datasets/c3/mixed/1.0.0/6bcfb26ae1bd77bd57d300c2504900834cc29aaa092eb87c4d91d7960a3c2d8c)\n",
            "Loading cached processed dataset at /root/.cache/huggingface/datasets/c3/mixed/1.0.0/6bcfb26ae1bd77bd57d300c2504900834cc29aaa092eb87c4d91d7960a3c2d8c/cache-6cab0f82894ebe0f.arrow\n"
          ],
          "name": "stderr"
        },
        {
          "output_type": "display_data",
          "data": {
            "application/vnd.jupyter.widget-view+json": {
              "model_id": "a6e7a0990b3e4e80969b124d1fcbbb6b",
              "version_minor": 0,
              "version_major": 2
            },
            "text/plain": [
              "HBox(children=(FloatProgress(value=0.0, max=3138.0), HTML(value='')))"
            ]
          },
          "metadata": {
            "tags": []
          }
        },
        {
          "output_type": "stream",
          "text": [
            "Token indices sequence length is longer than the specified maximum sequence length for this model (943 > 512). Running this sequence through the model will result in indexing errors\n"
          ],
          "name": "stderr"
        },
        {
          "output_type": "stream",
          "text": [
            "\n"
          ],
          "name": "stdout"
        },
        {
          "output_type": "stream",
          "text": [
            "The parameters `output_attentions`, `output_hidden_states` and `use_cache` cannot be updated when calling a model.They have to be set to True/False in the config object (i.e.: `config=XConfig.from_pretrained('name', output_attentions=True)`).\n",
            "The parameter `return_dict` cannot be set in graph mode and will always be set to `True`.\n"
          ],
          "name": "stderr"
        },
        {
          "output_type": "stream",
          "text": [
            "Epoch 1/20\n"
          ],
          "name": "stdout"
        },
        {
          "output_type": "stream",
          "text": [
            "The parameters `output_attentions`, `output_hidden_states` and `use_cache` cannot be updated when calling a model.They have to be set to True/False in the config object (i.e.: `config=XConfig.from_pretrained('name', output_attentions=True)`).\n",
            "The parameter `return_dict` cannot be set in graph mode and will always be set to `True`.\n"
          ],
          "name": "stderr"
        },
        {
          "output_type": "stream",
          "text": [
            "392/392 [==============================] - 94s 96ms/step - sparse_categorical_accuracy: 0.0026 - loss: 8.6843\n",
            "Epoch 2/20\n",
            "392/392 [==============================] - 38s 97ms/step - sparse_categorical_accuracy: 0.0028 - loss: 6.9976\n",
            "Epoch 3/20\n",
            "392/392 [==============================] - 38s 96ms/step - sparse_categorical_accuracy: 0.0032 - loss: 6.5932\n",
            "Epoch 4/20\n",
            "392/392 [==============================] - 38s 97ms/step - sparse_categorical_accuracy: 0.0038 - loss: 6.3945\n",
            "Epoch 5/20\n",
            "392/392 [==============================] - 38s 97ms/step - sparse_categorical_accuracy: 0.0044 - loss: 6.2587\n",
            "Epoch 6/20\n",
            "392/392 [==============================] - 38s 97ms/step - sparse_categorical_accuracy: 0.0048 - loss: 6.1535\n",
            "Epoch 7/20\n",
            "392/392 [==============================] - 38s 97ms/step - sparse_categorical_accuracy: 0.0054 - loss: 6.0618\n",
            "Epoch 8/20\n",
            "392/392 [==============================] - 38s 97ms/step - sparse_categorical_accuracy: 0.0056 - loss: 5.9854\n",
            "Epoch 9/20\n",
            "392/392 [==============================] - 38s 97ms/step - sparse_categorical_accuracy: 0.0056 - loss: 5.9114\n",
            "Epoch 10/20\n",
            "392/392 [==============================] - 38s 97ms/step - sparse_categorical_accuracy: 0.0062 - loss: 5.8461\n",
            "Epoch 11/20\n",
            "392/392 [==============================] - 38s 97ms/step - sparse_categorical_accuracy: 0.0066 - loss: 5.7809\n",
            "Epoch 12/20\n",
            "392/392 [==============================] - 38s 97ms/step - sparse_categorical_accuracy: 0.0066 - loss: 5.7202\n",
            "Epoch 13/20\n",
            "392/392 [==============================] - 38s 97ms/step - sparse_categorical_accuracy: 0.0068 - loss: 5.6648\n",
            "Epoch 14/20\n",
            "392/392 [==============================] - 38s 97ms/step - sparse_categorical_accuracy: 0.0071 - loss: 5.6073\n",
            "Epoch 15/20\n",
            "392/392 [==============================] - 38s 96ms/step - sparse_categorical_accuracy: 0.0073 - loss: 5.5572\n",
            "Epoch 16/20\n",
            "392/392 [==============================] - 38s 97ms/step - sparse_categorical_accuracy: 0.0074 - loss: 5.5085\n",
            "Epoch 17/20\n",
            "392/392 [==============================] - 38s 97ms/step - sparse_categorical_accuracy: 0.0076 - loss: 5.4571\n",
            "Epoch 18/20\n",
            "392/392 [==============================] - 38s 97ms/step - sparse_categorical_accuracy: 0.0078 - loss: 5.4127\n",
            "Epoch 19/20\n",
            "392/392 [==============================] - 38s 97ms/step - sparse_categorical_accuracy: 0.0079 - loss: 5.3705\n",
            "Epoch 20/20\n",
            "392/392 [==============================] - 38s 97ms/step - sparse_categorical_accuracy: 0.0080 - loss: 5.3280\n"
          ],
          "name": "stdout"
        },
        {
          "output_type": "execute_result",
          "data": {
            "text/plain": [
              "<tensorflow.python.keras.callbacks.History at 0x7f1d0075b7f0>"
            ]
          },
          "metadata": {
            "tags": []
          },
          "execution_count": 78
        }
      ]
    },
    {
      "cell_type": "code",
      "metadata": {
        "colab": {
          "base_uri": "https://localhost:8080/"
        },
        "id": "Wl_ejmGJ14Rb",
        "outputId": "24e8b65a-fd9e-4fea-9486-8d6825ec9dda"
      },
      "source": [
        "### Evaluation ###\r\n",
        "\r\n",
        "example = next(iter(train_dataset))\r\n",
        "input_ids = example[\"input_ids\"]\r\n",
        "\r\n",
        "tokenizer = WWMTokenizer(col=\"text\", seq_len=512)\r\n",
        "\r\n",
        "print(\"Inputs: \", tokenizer.tokenizer_cn.decode(input_ids.numpy()[0]))\r\n",
        "\r\n",
        "# Somehow model.model.predict returns None\r\n",
        "logits = model.model(example).logits\r\n",
        "\r\n",
        "tensor = tf.math.argmax(\r\n",
        "              logits, axis=-1, output_type=tf.dtypes.int64, name=None\r\n",
        "          )\r\n",
        "\r\n",
        "preds = tokenizer.tokenizer_cn.decode(tensor[0])\r\n",
        "\r\n",
        "print(\"Preds: \", preds)\r\n",
        "\r\n",
        "# [PAD] are not predicted for \r\n",
        "x = tf.where(example[\"lm_label_ids\"][0] > 0, example[\"lm_label_ids\"][0], 0)\r\n",
        "print(\"Solutions:\",tokenizer.tokenizer_cn.decode(x))"
      ],
      "execution_count": 79,
      "outputs": [
        {
          "output_type": "stream",
          "text": [
            "Inputs:  [CLS] 看 地图 [MASK] 体育馆 在 图书馆 的 东边 ， 但是 我 刚才 问 了 几 个 人 ， 他们 都 [MASK] [MASK] [MASK]馆 早就 搬 了 。 [SEP] [PAD] [PAD] [PAD] [PAD] [PAD] [PAD] [PAD] [PAD] [PAD] [PAD] [PAD] [PAD] [PAD] [PAD] [PAD] [PAD] [PAD] [PAD] [PAD] [PAD] [PAD] [PAD] [PAD] [PAD] [PAD] [PAD] [PAD] [PAD] [PAD] [PAD] [PAD] [PAD] [PAD] [PAD] [PAD] [PAD] [PAD] [PAD] [PAD] [PAD] [PAD] [PAD] [PAD] [PAD] [PAD] [PAD] [PAD] [PAD] [PAD] [PAD] [PAD] [PAD] [PAD] [PAD] [PAD] [PAD] [PAD] [PAD] [PAD] [PAD] [PAD] [PAD] [PAD] [PAD] [PAD] [PAD] [PAD] [PAD] [PAD] [PAD] [PAD] [PAD] [PAD] [PAD] [PAD] [PAD] [PAD] [PAD] [PAD] [PAD] [PAD] [PAD] [PAD] [PAD] [PAD] [PAD] [PAD] [PAD] [PAD] [PAD] [PAD] [PAD] [PAD] [PAD] [PAD] [PAD] [PAD] [PAD] [PAD] [PAD] [PAD] [PAD] [PAD] [PAD] [PAD] [PAD] [PAD] [PAD] [PAD] [PAD] [PAD] [PAD] [PAD] [PAD] [PAD] [PAD] [PAD] [PAD] [PAD] [PAD] [PAD] [PAD] [PAD] [PAD] [PAD] [PAD] [PAD] [PAD] [PAD] [PAD] [PAD] [PAD] [PAD] [PAD] [PAD] [PAD] [PAD] [PAD] [PAD] [PAD] [PAD] [PAD] [PAD] [PAD] [PAD] [PAD] [PAD] [PAD] [PAD] [PAD] [PAD] [PAD] [PAD] [PAD] [PAD] [PAD] [PAD] [PAD] [PAD] [PAD] [PAD] [PAD] [PAD] [PAD] [PAD] [PAD] [PAD] [PAD] [PAD] [PAD] [PAD] [PAD] [PAD] [PAD] [PAD] [PAD] [PAD] [PAD] [PAD] [PAD] [PAD] [PAD] [PAD] [PAD] [PAD] [PAD] [PAD] [PAD] [PAD] [PAD] [PAD] [PAD] [PAD] [PAD] [PAD] [PAD] [PAD] [PAD] [PAD] [PAD] [PAD] [PAD] [PAD] [PAD] [PAD] [PAD] [PAD] [PAD] [PAD] [PAD] [PAD] [PAD] [PAD] [PAD] [PAD] [PAD] [PAD] [PAD] [PAD] [PAD] [PAD] [PAD] [PAD] [PAD] [PAD] [PAD] [PAD] [PAD] [PAD] [PAD] [PAD] [PAD] [PAD] [PAD] [PAD] [PAD] [PAD] [PAD] [PAD] [PAD] [PAD] [PAD] [PAD] [PAD] [PAD] [PAD] [PAD] [PAD] [PAD] [PAD] [PAD] [PAD] [PAD] [PAD] [PAD] [PAD] [PAD] [PAD] [PAD] [PAD] [PAD] [PAD] [PAD] [PAD] [PAD] [PAD] [PAD] [PAD] [PAD] [PAD] [PAD] [PAD] [PAD] [PAD] [PAD] [PAD] [PAD] [PAD] [PAD] [PAD] [PAD] [PAD] [PAD] [PAD] [PAD] [PAD] [PAD] [PAD] [PAD] [PAD] [PAD] [PAD] [PAD] [PAD] [PAD] [PAD] [PAD] [PAD] [PAD] [PAD] [PAD] [PAD] [PAD] [PAD] [PAD] [PAD] [PAD] [PAD] [PAD] [PAD] [PAD] [PAD] [PAD] [PAD] [PAD] [PAD] [PAD] [PAD] [PAD] [PAD] [PAD] [PAD] [PAD] [PAD] [PAD] [PAD] [PAD] [PAD] [PAD] [PAD] [PAD] [PAD] [PAD] [PAD] [PAD] [PAD] [PAD] [PAD] [PAD] [PAD] [PAD] [PAD] [PAD] [PAD] [PAD] [PAD] [PAD] [PAD] [PAD] [PAD] [PAD] [PAD] [PAD] [PAD] [PAD] [PAD] [PAD] [PAD] [PAD] [PAD] [PAD] [PAD] [PAD] [PAD] [PAD] [PAD] [PAD] [PAD] [PAD] [PAD] [PAD] [PAD] [PAD] [PAD] [PAD] [PAD] [PAD] [PAD] [PAD] [PAD] [PAD] [PAD] [PAD] [PAD] [PAD] [PAD] [PAD] [PAD] [PAD] [PAD] [PAD] [PAD] [PAD] [PAD] [PAD] [PAD] [PAD] [PAD] [PAD] [PAD] [PAD] [PAD] [PAD] [PAD] [PAD] [PAD] [PAD] [PAD] [PAD] [PAD] [PAD] [PAD] [PAD] [PAD] [PAD] [PAD] [PAD] [PAD] [PAD] [PAD] [PAD] [PAD] [PAD] [PAD] [PAD] [PAD] [PAD] [PAD] [PAD] [PAD] [PAD] [PAD] [PAD] [PAD] [PAD] [PAD] [PAD] [PAD] [PAD] [PAD] [PAD] [PAD] [PAD] [PAD] [PAD] [PAD] [PAD] [PAD] [PAD] [PAD] [PAD] [PAD] [PAD] [PAD] [PAD] [PAD] [PAD] [PAD] [PAD] [PAD] [PAD] [PAD] [PAD] [PAD] [PAD] [PAD] [PAD] [PAD] [PAD] [PAD] [PAD] [PAD]\n",
            "Preds:  的 看 地 我 你子育馆 在 图书馆 的 东边 ， 但是 我 刚才 问 了 几 个 人 ， 他们 都 ， ， ，馆 早 ， 的 了 。 ， 我 ， ， 的 ， 的 不 ， ， 的 ， ， ， ， 我 ， 我 的 ， ， ， ， 不 ， 我 ， ， ， 一 的 ， ， 我 ， ， ， 的 我 的 ， 。 的 ， 。 我 的 ， 。 的 的 。 的 。 ， ， 。 。 的 。 。 我 ， 。 。 。 的 在 ， ， 一 我 ， 的 ， 。 的 ， ， 。 的 ， 。 ， ， 我 我 不 不 [UNK] 我 。 。 ， 。 [UNK] 我 我 ， ， 我 ， ， ， 的 。 。 的个 我 一 是 。 的 。 一 我 ， 的 我 ， ， 我 的 ， 的 很 ， 。 ， 。 不 [UNK] 。 的 ， 。 ， ， ， ， ， ， 我 ， ， 了 ， 的 的 ， 我 ， 的 ， 了 了 都 的 的 。 ， 。 ， 的 的 很 了 不 很 不 的 的 不 我 。 可 ， ， 不 了 。 。 我 我 一 ， 。 ， ， 不 。 ， 一 。 ， 我 ， ， 。 ， ， 。 我 的 不 的 ， 一 的 ， ， ， ， ， ， 的 ， 会 一 ， 。 不 ， 的 。 ， ， ， 的 的 的 会 ， 了 的 的 ， 的 ， 的 ， ， 。 是 不 的 的 的 。 。 的 ， ， 不 ， ， 很 不 。 不 的 我 我 ， ， ， ， 我 的 了 ， ， 不 的 ，人 一 的 我 。 ， ， 。 ， ， 。 ， 的 ， 的 了 ， 我 很 的 ， 的 ， 的 。 ， 的 我 的 一 的 你 ， 了 。 。 ， 。 。 ， 。 人 ， 这 。 ， 的 。 。 的 ， ， 了 他 的 ， 的 ， 。 ， ， 的 。 一 [UNK] 的 ， 我 。 的 ， 的 的 ， ， 一 ， 的 ， ， 。 ， ， ， 的 我们 的 。 不 一 的 我 的 。 ， 一 ， 我 。 ， ， 不 不 。 一 是 。 了 ， ， 。 了 的 ， 我 和 这 。 一 ， ， 我 的 ， 一 的 的 ， ， 。 。 的 的 我 ， 我 ， 不 我 的 ， 的 有 。 的 这 ， ， 我 ， 有 ， 我 。 ， 我 。 的 ， ， 。 了 ， ， 一 。 一 的 ， 的 ， ， 。 。 一 不 ， ， 的 我 了 。 ， 。 ， 的 的 ， 。 ， 的 的 ， ， 的 ，\n",
            "Solutions: [PAD] [PAD] [PAD] [PAD] ， [PAD] [PAD] [PAD] [PAD] [PAD] [PAD] [PAD] 的 [PAD] [PAD] [PAD] [PAD] [PAD] [PAD] [PAD] [PAD] [PAD] [PAD] [PAD] [PAD] [PAD] [PAD] [PAD] [PAD] [PAD] 说 体育馆 [PAD] [PAD] [PAD] [PAD] [PAD] [PAD] [PAD] [PAD] [PAD] [PAD] [PAD] [PAD] [PAD] [PAD] [PAD] [PAD] [PAD] [PAD] [PAD] [PAD] [PAD] [PAD] [PAD] [PAD] [PAD] [PAD] [PAD] [PAD] [PAD] [PAD] [PAD] [PAD] [PAD] [PAD] [PAD] [PAD] [PAD] [PAD] [PAD] [PAD] [PAD] [PAD] [PAD] [PAD] [PAD] [PAD] [PAD] [PAD] [PAD] [PAD] [PAD] [PAD] [PAD] [PAD] [PAD] [PAD] [PAD] [PAD] [PAD] [PAD] [PAD] [PAD] [PAD] [PAD] [PAD] [PAD] [PAD] [PAD] [PAD] [PAD] [PAD] [PAD] [PAD] [PAD] [PAD] [PAD] [PAD] [PAD] [PAD] [PAD] [PAD] [PAD] [PAD] [PAD] [PAD] [PAD] [PAD] [PAD] [PAD] [PAD] [PAD] [PAD] [PAD] [PAD] [PAD] [PAD] [PAD] [PAD] [PAD] [PAD] [PAD] [PAD] [PAD] [PAD] [PAD] [PAD] [PAD] [PAD] [PAD] [PAD] [PAD] [PAD] [PAD] [PAD] [PAD] [PAD] [PAD] [PAD] [PAD] [PAD] [PAD] [PAD] [PAD] [PAD] [PAD] [PAD] [PAD] [PAD] [PAD] [PAD] [PAD] [PAD] [PAD] [PAD] [PAD] [PAD] [PAD] [PAD] [PAD] [PAD] [PAD] [PAD] [PAD] [PAD] [PAD] [PAD] [PAD] [PAD] [PAD] [PAD] [PAD] [PAD] [PAD] [PAD] [PAD] [PAD] [PAD] [PAD] [PAD] [PAD] [PAD] [PAD] [PAD] [PAD] [PAD] [PAD] [PAD] [PAD] [PAD] [PAD] [PAD] [PAD] [PAD] [PAD] [PAD] [PAD] [PAD] [PAD] [PAD] [PAD] [PAD] [PAD] [PAD] [PAD] [PAD] [PAD] [PAD] [PAD] [PAD] [PAD] [PAD] [PAD] [PAD] [PAD] [PAD] [PAD] [PAD] [PAD] [PAD] [PAD] [PAD] [PAD] [PAD] [PAD] [PAD] [PAD] [PAD] [PAD] [PAD] [PAD] [PAD] [PAD] [PAD] [PAD] [PAD] [PAD] [PAD] [PAD] [PAD] [PAD] [PAD] [PAD] [PAD] [PAD] [PAD] [PAD] [PAD] [PAD] [PAD] [PAD] [PAD] [PAD] [PAD] [PAD] [PAD] [PAD] [PAD] [PAD] [PAD] [PAD] [PAD] [PAD] [PAD] [PAD] [PAD] [PAD] [PAD] [PAD] [PAD] [PAD] [PAD] [PAD] [PAD] [PAD] [PAD] [PAD] [PAD] [PAD] [PAD] [PAD] [PAD] [PAD] [PAD] [PAD] [PAD] [PAD] [PAD] [PAD] [PAD] [PAD] [PAD] [PAD] [PAD] [PAD] [PAD] [PAD] [PAD] [PAD] [PAD] [PAD] [PAD] [PAD] [PAD] [PAD] [PAD] [PAD] [PAD] [PAD] [PAD] [PAD] [PAD] [PAD] [PAD] [PAD] [PAD] [PAD] [PAD] [PAD] [PAD] [PAD] [PAD] [PAD] [PAD] [PAD] [PAD] [PAD] [PAD] [PAD] [PAD] [PAD] [PAD] [PAD] [PAD] [PAD] [PAD] [PAD] [PAD] [PAD] [PAD] [PAD] [PAD] [PAD] [PAD] [PAD] [PAD] [PAD] [PAD] [PAD] [PAD] [PAD] [PAD] [PAD] [PAD] [PAD] [PAD] [PAD] [PAD] [PAD] [PAD] [PAD] [PAD] [PAD] [PAD] [PAD] [PAD] [PAD] [PAD] [PAD] [PAD] [PAD] [PAD] [PAD] [PAD] [PAD] [PAD] [PAD] [PAD] [PAD] [PAD] [PAD] [PAD] [PAD] [PAD] [PAD] [PAD] [PAD] [PAD] [PAD] [PAD] [PAD] [PAD] [PAD] [PAD] [PAD] [PAD] [PAD] [PAD] [PAD] [PAD] [PAD] [PAD] [PAD] [PAD] [PAD] [PAD] [PAD] [PAD] [PAD] [PAD] [PAD] [PAD] [PAD] [PAD] [PAD] [PAD] [PAD] [PAD] [PAD] [PAD] [PAD] [PAD] [PAD] [PAD] [PAD] [PAD] [PAD] [PAD] [PAD] [PAD] [PAD] [PAD] [PAD] [PAD] [PAD] [PAD] [PAD] [PAD] [PAD] [PAD] [PAD] [PAD] [PAD] [PAD] [PAD] [PAD] [PAD] [PAD] [PAD] [PAD] [PAD] [PAD] [PAD] [PAD] [PAD] [PAD] [PAD] [PAD] [PAD] [PAD] [PAD] [PAD] [PAD] [PAD] [PAD] [PAD] [PAD] [PAD] [PAD] [PAD] [PAD] [PAD] [PAD] [PAD] [PAD] [PAD] [PAD] [PAD] [PAD] [PAD] [PAD] [PAD] [PAD] [PAD] [PAD] [PAD] [PAD] [PAD] [PAD] [PAD] [PAD] [PAD] [PAD] [PAD] [PAD] [PAD] [PAD] [PAD] [PAD]\n"
          ],
          "name": "stdout"
        }
      ]
    },
    {
      "cell_type": "markdown",
      "metadata": {
        "id": "WzBmRupFiwtz"
      },
      "source": [
        "#### TPU w/ an avg 2220 tokens / example"
      ]
    },
    {
      "cell_type": "code",
      "metadata": {
        "id": "w9A15rF3-AYY"
      },
      "source": [
        "class IncreaseLen():\r\n",
        "  def __init__(self):\r\n",
        "      self.avg_len = 0\r\n",
        "      self.count = 0\r\n",
        "\r\n",
        "      self.last_examples = ''\r\n",
        "  \r\n",
        "  def concat(self, example):\r\n",
        "      self.last_examples += example[\"text\"]\r\n",
        "      if len(self.last_examples) > (2048):  # Example must be longer than 2K\r\n",
        "          example[\"text\"] = self.last_examples\r\n",
        "          self.last_examples = ''\r\n",
        "          return True\r\n",
        "      else:\r\n",
        "          return False\r\n",
        "\r\n",
        "  def average_length(self, example):\r\n",
        "      self.avg_len += len(example[\"text\"])\r\n",
        "      self.count += 1\r\n",
        "\r\n",
        "  def return_avg(self):\r\n",
        "      return self.avg_len / self.count"
      ],
      "execution_count": 14,
      "outputs": []
    },
    {
      "cell_type": "code",
      "metadata": {
        "id": "060zJRT5i0tj"
      },
      "source": [
        "def create_model():\r\n",
        "    \"\"\"\r\n",
        "    Creates Model\r\n",
        "    \"\"\"\r\n",
        "    config = RobertaConfig.from_pretrained(\"roberta-base\")\r\n",
        "    config.performer = True\r\n",
        "    config.max_position_embeddings = 3000 # Need to incr. max emb. size, which is 512 by default in bert\r\n",
        "    base_model = TFRobertaForMaskedLM(config)\r\n",
        "    model = Wrapper(base_model)\r\n",
        "    return model\r\n",
        "\r\n",
        "\r\n",
        "def tf_dataset_slices(train_ds, tokenizer):\r\n",
        "    \"\"\"\r\n",
        "    Diff method of turning into TF Dataset\r\n",
        "    \"\"\"\r\n",
        "    train_ds.set_format(type='tensorflow', columns=['input_ids', 'attention_mask', 'token_type_ids', 'lm_label_ids'])\r\n",
        "\r\n",
        "    features = {x: train_ds[x].to_tensor(default_value=0, shape=[None, None]) for x in ['input_ids', 'attention_mask', 'token_type_ids', 'lm_label_ids']}\r\n",
        "    train_ds = tf.data.Dataset.from_tensor_slices(features)\r\n",
        "\r\n",
        "    return train_ds\r\n",
        "\r\n",
        "\r\n",
        "def get_dataset(batch_size, is_training=True):\r\n",
        "    \"\"\"\r\n",
        "    Only train for now;\r\n",
        "    \"\"\"\r\n",
        "    train_ds = load_dataset('c3', 'mixed', split='train')\r\n",
        "    def prepare_dict(example):\r\n",
        "        example[\"text\"] = example[\"documents\"][0]\r\n",
        "        return example\r\n",
        "    train_ds = train_ds.map(prepare_dict)\r\n",
        "\r\n",
        "    incr_len = IncreaseLen()\r\n",
        "    train_ds = train_ds.filter(incr_len.concat)\r\n",
        "    train_ds.map(incr_len.average_length)\r\n",
        "    print(\"Average Length: \", incr_len.return_avg())\r\n",
        "    \r\n",
        "    #train_ds = train_ds.select(range(32)) #########\r\n",
        "\r\n",
        "    tokenizer = WWMTokenizer(col=\"text\", seq_len=2500) # Max Seq Len of 2500\r\n",
        "\r\n",
        "    train_ds = train_ds.map(tokenizer.tokenize_pretraining)\r\n",
        "    train_ds = tf_dataset_slices(train_ds, tokenizer.tokenizer_cn)\r\n",
        "\r\n",
        "    # Need to drop the remainder if len(ds) // bs != 0\r\n",
        "    train_ds = train_ds.shuffle(1000).batch(batch_size, drop_remainder=True)\r\n",
        "\r\n",
        "    return train_ds"
      ],
      "execution_count": 15,
      "outputs": []
    },
    {
      "cell_type": "code",
      "metadata": {
        "id": "rkFjz9CUFENu"
      },
      "source": [
        "# Make sure we use BFloats instead of Floats32\r\n",
        "!export XLA_USE_BF16=1"
      ],
      "execution_count": 16,
      "outputs": []
    },
    {
      "cell_type": "code",
      "metadata": {
        "colab": {
          "base_uri": "https://localhost:8080/",
          "height": 688,
          "referenced_widgets": [
            "0d0d892d77e14c35a975b5db335ca0c8",
            "c51ec33fcd2d44cfa05943d395959b4e",
            "38dc41188ab6417cb4af4559f496ea0d",
            "9865e690e0b34f3ab9df33961cb93624",
            "99c2fe7a4eb441929775877434d9874c",
            "4940a67b5ee543b0afc4b99cdd2c5e58",
            "caa5b42b53864dc18dbb6befdd1545dc",
            "305c32ff5f0e4ddf9edd2c2709f92269",
            "ef33dc0027344901af61ee028be07b40",
            "631a59f35f324676ba0b60918526d80e",
            "95e36251f05047048552fa6786c8e44f",
            "78b9ef7aab5a4663927b0c2ad310abc0",
            "98214dafe1e14cc2b0795e279a00f165",
            "04050e30496745b5902ba02a4a435173",
            "6da2a654af2b410ca07d29a09b812e7a",
            "7eac61d40744497aacb28d8c7026e8fd",
            "cfc66965621240d4980524caa3802f6d",
            "f41b203c489f4f45a3c16b6de3209bca",
            "b3138d5ce5b54f1da98b848920efdaaa",
            "a8a6befb9902463083144b0a02233faf",
            "787a81b36dbd4a9382431a06e52bb57e",
            "afd06232c3dc488a9137043a5eabd1ff",
            "cbf3a05844df4608a533f1ff6d6ba202",
            "72f07b1e982a4a0ea5d2b75e1944fb7c"
          ]
        },
        "id": "ePY0lfQH-kEg",
        "outputId": "6631b314-4622-4b5a-b0f3-46cbe452d72c"
      },
      "source": [
        "# Process on TPU\r\n",
        "with strategy.scope():\r\n",
        "    model = create_model()\r\n",
        "\r\n",
        "    learning_rate = 1e-5\r\n",
        "    optimizer = tf.keras.optimizers.Adam(learning_rate)\r\n",
        "    model.compile(optimizer=optimizer,\r\n",
        "                  metrics=['sparse_categorical_accuracy'])\r\n",
        "\r\n",
        "\r\n",
        "batch_size = 8\r\n",
        "\r\n",
        "train_dataset = get_dataset(batch_size, is_training=True)\r\n",
        "\r\n",
        "model.fit(train_dataset,\r\n",
        "          epochs=10)\r\n",
        "\r\n",
        "# At len > 4096  &   BS 8: ResourceExhaustedError"
      ],
      "execution_count": 17,
      "outputs": [
        {
          "output_type": "stream",
          "text": [
            "Reusing dataset c3 (/root/.cache/huggingface/datasets/c3/mixed/1.0.0/6bcfb26ae1bd77bd57d300c2504900834cc29aaa092eb87c4d91d7960a3c2d8c)\n",
            "Loading cached processed dataset at /root/.cache/huggingface/datasets/c3/mixed/1.0.0/6bcfb26ae1bd77bd57d300c2504900834cc29aaa092eb87c4d91d7960a3c2d8c/cache-a044a2ef1844e952.arrow\n"
          ],
          "name": "stderr"
        },
        {
          "output_type": "display_data",
          "data": {
            "application/vnd.jupyter.widget-view+json": {
              "model_id": "0d0d892d77e14c35a975b5db335ca0c8",
              "version_minor": 0,
              "version_major": 2
            },
            "text/plain": [
              "HBox(children=(FloatProgress(value=0.0, max=4.0), HTML(value='')))"
            ]
          },
          "metadata": {
            "tags": []
          }
        },
        {
          "output_type": "stream",
          "text": [
            "\n"
          ],
          "name": "stdout"
        },
        {
          "output_type": "display_data",
          "data": {
            "application/vnd.jupyter.widget-view+json": {
              "model_id": "ef33dc0027344901af61ee028be07b40",
              "version_minor": 0,
              "version_major": 2
            },
            "text/plain": [
              "HBox(children=(FloatProgress(value=0.0, max=254.0), HTML(value='')))"
            ]
          },
          "metadata": {
            "tags": []
          }
        },
        {
          "output_type": "stream",
          "text": [
            "\n",
            "Average Length:  2221.654901960784\n"
          ],
          "name": "stdout"
        },
        {
          "output_type": "stream",
          "text": [
            "Token indices sequence length is longer than the specified maximum sequence length for this model (2049 > 512). Running this sequence through the model will result in indexing errors\n"
          ],
          "name": "stderr"
        },
        {
          "output_type": "display_data",
          "data": {
            "application/vnd.jupyter.widget-view+json": {
              "model_id": "cfc66965621240d4980524caa3802f6d",
              "version_minor": 0,
              "version_major": 2
            },
            "text/plain": [
              "HBox(children=(FloatProgress(value=0.0, max=254.0), HTML(value='')))"
            ]
          },
          "metadata": {
            "tags": []
          }
        },
        {
          "output_type": "stream",
          "text": [
            "\n"
          ],
          "name": "stdout"
        },
        {
          "output_type": "stream",
          "text": [
            "The parameters `output_attentions`, `output_hidden_states` and `use_cache` cannot be updated when calling a model.They have to be set to True/False in the config object (i.e.: `config=XConfig.from_pretrained('name', output_attentions=True)`).\n",
            "The parameter `return_dict` cannot be set in graph mode and will always be set to `True`.\n"
          ],
          "name": "stderr"
        },
        {
          "output_type": "stream",
          "text": [
            "Epoch 1/10\n"
          ],
          "name": "stdout"
        },
        {
          "output_type": "stream",
          "text": [
            "The parameters `output_attentions`, `output_hidden_states` and `use_cache` cannot be updated when calling a model.They have to be set to True/False in the config object (i.e.: `config=XConfig.from_pretrained('name', output_attentions=True)`).\n",
            "The parameter `return_dict` cannot be set in graph mode and will always be set to `True`.\n"
          ],
          "name": "stderr"
        },
        {
          "output_type": "stream",
          "text": [
            "31/31 [==============================] - 67s 291ms/step - sparse_categorical_accuracy: 0.0052 - loss: 10.1803\n",
            "Epoch 2/10\n",
            "31/31 [==============================] - 9s 293ms/step - sparse_categorical_accuracy: 0.0070 - loss: 9.6454\n",
            "Epoch 3/10\n",
            "31/31 [==============================] - 9s 292ms/step - sparse_categorical_accuracy: 0.0072 - loss: 9.2590\n",
            "Epoch 4/10\n",
            "31/31 [==============================] - 9s 291ms/step - sparse_categorical_accuracy: 0.0069 - loss: 8.8993\n",
            "Epoch 5/10\n",
            "31/31 [==============================] - 9s 291ms/step - sparse_categorical_accuracy: 0.0071 - loss: 8.5657\n",
            "Epoch 6/10\n",
            "31/31 [==============================] - 9s 292ms/step - sparse_categorical_accuracy: 0.0073 - loss: 8.2533\n",
            "Epoch 7/10\n",
            "31/31 [==============================] - 9s 292ms/step - sparse_categorical_accuracy: 0.0073 - loss: 7.9748\n",
            "Epoch 8/10\n",
            "31/31 [==============================] - 9s 292ms/step - sparse_categorical_accuracy: 0.0073 - loss: 7.7274\n",
            "Epoch 9/10\n",
            "31/31 [==============================] - 9s 292ms/step - sparse_categorical_accuracy: 0.0077 - loss: 7.5093\n",
            "Epoch 10/10\n",
            "31/31 [==============================] - 9s 292ms/step - sparse_categorical_accuracy: 0.0078 - loss: 7.3195\n"
          ],
          "name": "stdout"
        },
        {
          "output_type": "execute_result",
          "data": {
            "text/plain": [
              "<tensorflow.python.keras.callbacks.History at 0x7f5b58eb9fd0>"
            ]
          },
          "metadata": {
            "tags": []
          },
          "execution_count": 17
        }
      ]
    },
    {
      "cell_type": "code",
      "metadata": {
        "colab": {
          "base_uri": "https://localhost:8080/"
        },
        "id": "4WNZ6kMq-oOj",
        "outputId": "9bb73e23-8b51-470c-d271-0e819ac5a9e3"
      },
      "source": [
        "### Evaluation ###\r\n",
        "\r\n",
        "example = next(iter(train_dataset))\r\n",
        "input_ids = example[\"input_ids\"]\r\n",
        "\r\n",
        "tokenizer = WWMTokenizer(col=\"text\", seq_len=3000)\r\n",
        "\r\n",
        "print(\"Inputs: \", tokenizer.tokenizer_cn.decode(input_ids.numpy()[0]))\r\n",
        "\r\n",
        "# Somehow model.model.predict returns None\r\n",
        "logits = model.model(example).logits\r\n",
        "\r\n",
        "tensor = tf.math.argmax(\r\n",
        "              logits, axis=-1, output_type=tf.dtypes.int64, name=None\r\n",
        "          )\r\n",
        "\r\n",
        "preds = tokenizer.tokenizer_cn.decode(tensor[0])\r\n",
        "\r\n",
        "print(\"Preds: \", preds)\r\n",
        "\r\n",
        "# [PAD] are not predicted for \r\n",
        "x = tf.where(example[\"lm_label_ids\"][0] > 0, example[\"lm_label_ids\"][0], 0)\r\n",
        "print(\"Solutions:\",tokenizer.tokenizer_cn.decode(x))"
      ],
      "execution_count": 18,
      "outputs": [
        {
          "output_type": "stream",
          "text": [
            "Inputs:  [CLS] 英国 的 研究 人员 [MASK]示 ， 糖 对 牙齿 [MASK] [MASK] 的 [MASK] [MASK] 会 [MASK] [MASK] 积累 并 伴随 一生 ， 要 保持 牙齿 健康 ， 每天 吃 糖 不 应该 超过 5 勺 。 研究 还walker [MASK] ， 尽管 牙膏 [MASK] 在 [MASK] 被 程度 上 保护 牙齿 ， 但 不 能 完 [MASK] 消除 日常 [MASK] [MASK] 中 糖 [MASK] 牙齿 造成 的 伤害 ， 即使 经常 刷牙 ， 吃 太 多 的 糖 还是 [MASK] 造成 蛀牙 [MASK] 参与 研究 的 教授 说 ， 以前 人们 只 在 特定 的 节日 吃 糖 ， [MASK] [MASK] [MASK] 含 糖 的 食物 和 饮料 成 了 人们 [MASK] 主要 食物 ， 而 过量 吃 糖 会 影响 牙齿 [MASK] 心脏 健康 。 怎样 [MASK] [MASK] 哪些 书 是 值得 精读 的 呢 [MASK] 自 [MASK] [MASK] [MASK] ， 已经 有 一 位 最 公正 的 评选家 ， [MASK] [MASK] [MASK] 推荐者 向 [MASK] 推荐 好 书 。 习 sunny 评选家 就是 时间 ， 这些 推荐者 就是 读者 [MASK] 历代 宮 读者 ， 把 他们 认为 有 价值 的 [MASK] 推荐 给 时间 ， 时间 照 着 他们 的 推荐 ， 把 那些 没有 永久 价值 的 书 都 刷 下去 ， 把 那些 有 永久 价值 的 书 都 流传 discuz [MASK] 。 我们 [MASK]層 古代 流传 下来 仆 书 ， 61 部分 都 是 有 价值 的 ， 心里 会 觉得 奇怪 ， 怎么 古人 写 的 [MASK] [MASK] [MASK] 是 有 价值 [MASK]? [MASK] [MASK] ， 他们 所 写 的 东西 也 有 许多 没有 价值 的 ， 不过 ， 那些 没有 [MASK] [MASK] 的 东西 ， [MASK] [MASK] 为 历代 读者 所 推荐 ， 在 时 [MASK] 的 考验 中 落选 了 。 现在 [MASK] [MASK] 所谓 的 [UNK] 经典著作 [UNK] 都 是 经过 时间 的 考验 流传 下来 的 ， 这 一 类 书 都 是 应该 精读 的 。 姬然 ， 随着 时间 [MASK] 推移 和 历史 的 [MASK] [MASK] ， 这些 书 当中 还 有 一些 要 被 刷 下去 ， 但 直到 rn [MASK] 为止 ， [MASK] [MASK] [MASK] 是 榜 上 有名 的 。 39. [UNK]! 上海 昨天 的 气温 是 有 气 象 记 录 [MASK] [MASK] 以 来 最 高 温 度 的 第 三 位 [MASK] 历 史 上 [MASK] 高 气 [MASK] 的 冠 亚 军 都 在 1934 年 ， 分 别 为 40. [UNK] 和 40. [UNK] 。 今 [MASK] [MASK] 温 仍 然 偏 高 。 上 午 9 时 18 分 ， 上 海 [MASK] 心 气 [MASK] 台 [MASK] 布 高 温 黄 色 预 警 信 号 。 人 们 訳 心 的 是 今 [MASK] 最 高騏 [MASK] 是 否 [MASK] 再 创 新 高 。 上 海 [MASK] 气 象 局 [MASK] 歛 服 [MASK] 官 满 莉 [MASK] 表 示 ， 今 [MASK] 最 [MASK] [MASK] 度 仍 [MASK] 能 达 到 [UNK] ， 但 [MASK] 计 不 会 改 写 昨 [MASK] 的 纪 录 。 上 午 10 [MASK] [MASK] 分 ， 市 区 [MASK] 测 温 [MASK] 已 达 36. [UNK] [MASK] [MASK] 昨 [MASK] 同 期 低 了 0. [UNK] 。 据 估 计 [MASK] [MASK] 天 晴 热 依 旧 ， 最 高 温 [MASK] 在 [UNK] 。 后 天 起 ， 副 rd 带 高 压 略 有 [MASK] 弱 ， 气 温 [MASK] [MASK] 降 至 [UNK] ； 午 后 到 上 半 夜 的 局 部 地 区 出 现 雷 阵 雨 的 可 能 性 增 加 ， 范 围 [MASK] 有 所 扩 [MASK] 。 今 天 已 是 上 海 今 夏 第 21 个 高 温 日 。 老 天 [UNK] 热 情 [UNK] 为 何 如 此 持 久? 气 象 专 家 分 析 原 因 有 三 ： 全 球 气 [MASK] 变 暖 ， [MASK] 多 地 方 高 温 日 [MASK] 都 在 增 加 ； 梅 雨 结 束 后 是 [MASK] 续 晴 热 高 温 的 伏 旱 期 ， 今 年 的 副 热 带 高 [MASK] 控 制肖 华 东 大 [MASK] 地 区 ； 到 目 前 为 止 ， 今 夏 台 [MASK] 比 [MASK] 年 平 均 数 量 明 显 偏 少 。 地 铁 是 现 代 城 市 文 化 的 一 [MASK] [MASK] 征 ， 在 地 铁 上 [MASK] [MASK] 生 各 种 各 样 的 故 事 蝉 即 使 大 多 数 时 候 ， 人 们 只 是 匆 忙 地 坐 着 地 铁 来 [MASK] 去 去 ， 但 是 [MASK] 近 来 有 [MASK] [MASK] 铁 的 电 影 和 小 说 的 影 响 ， 坐 [MASK] 铁 似 乎 已 经 成 为 年 轻 人 遇 到 浪 漫 爱 情 的 好 时 机 。 我 爸 [MASK] 喜 [MASK] 哎 剧 ， 他 [MASK] 年 前 就 对 京 剧 特 别 感 兴 趣 ， 那 时 候 他 才 15 岁 。 [MASK] 在 他 每 天 都 [MASK] 看 一 会 儿 [MASK] 视 里 的 [MASK] 剧 节 目 。 王 老 曝 下 午 没 来 上 课 ， 听 说 是 [MASK] 病 了 ， 在 家 休 息 呢 。 等 一 会 儿 放 了 学 [MASK] 们 买 束 花 ， 去 她 家 看 看 吧 。 有 [MASK] 个 年 轻 人 每 天 早 上 走 路 [MASK] 离 家 不 远 的 地 方 上 班 [MASK] 每 当 他 经 过 一 [MASK] 咖 啡 [MASK] [MASK] ， 都 习 惯 停 一 [MASK] ， 向 店 里 看 一 看 。 咖 啡 馆 的 服 务 员 觉 得 [MASK] 奇 [MASK] [MASK] 终 于 有 一 天 ， 服 务 员 在 他 停 [MASK] 时 走 出 来 问 ： [UNK] 朋 友 ， 你 每 天 都 停 下 来 向 里 看 ， 为 什 么 不 虱 [MASK] 呢? [UNK] [UNK] [MASK] 不 起 [MASK] 我 只 是 想 看 噼 店 里 的 表 ， 好 让 我 上 班 不 要 迟 到 。 [UNK] 记 [MASK] 第 一 次 来 中 国 是 [MASK] 我 22 [MASK] 的 时 候 ， 那 [MASK] 候 ， 我 一 句 汉 语 也 不 会 说 。 10 年 很 快 就 过 去 了 ， 现 在 我 已 经 完 全 适 应 了 中 国 的 [MASK] 活 ， 而 且 有 了 自 己 的 公 司 。 为 了 让 客 人 有 回 家 的 感 [MASK] ， 一 家 叫 做 [UNK] 公 寓 [UNK] [MASK] 餐 厅 特 意 把 餐 厅 布 [MASK] 成 家 的 [MASK] [MASK] ， 吃 饭 的 [MASK] 间 有 155 [MASK] 、 书 房 ， 还 有 浴 室 。 餐 厅 开 张 8 个 月 以 来 很 受 当 地 民 众 [MASK] 欢 迎 。 昨 天 我 的 好 朋 友 从 美 国 来 [MASK] [MASK] ， 我 们 一 直 玩 儿 到 半 夜 两 点 [MASK] [MASK] 是 [MASK] 天 早 上 九 点 就 起 [MASK] [MASK] 。 一 位 牙 病 患 [MASK] 在 拔 [MASK] 蛀 牙 以 后 对 [MASK] 科 医 生 [MASK] ： [UNK] 您 真 厉 害 15 秒 钟 [MASK] 赚 [MASK] 100 元 ， 怪 不 得 人 们 差 说 医 生 会 赚 钱 呢 [MASK] [UNK] 医 生 慢 条 斯 理 地 [MASK] 答 [MASK] [UNK] 如 [MASK] 您 [MASK] 意 ， 我 可 以 慢 慢 [MASK] 涓 [MASK] 拔 。 [UNK] 传 说 [MASK] 代 有 一 个 [MASK] 名 的 画 家 。 有 [MASK] 次 ， 皇 帝 要 装 饰 寺 庙 的 墙 壁 ， 请 他 在 上 面 作 画 bit [MASK] [MASK] 了 四 [MASK] 龙 ， 每 一淆 龙 的 样 子 都 不 一 pin [MASK] 而 且 都 非 常 生 动 形 象 ， 看 起 来 像 活 的 一 样 ， 吸 引 了 很 多 游 人 前 来 欣 赏 。 但 美 中 不 足 的 是 ， 这 几 条 龙 [MASK] [MASK] 少 [MASK] 睛 ， [MASK] [MASK] 大 家 一 致 [MASK] 求 他 [MASK] 龙 的 眼 睛 画 上 。 画 家 说 宸 [UNK] mg 是 我 不 想 把 眼 睛 加 上 去 ， 如 果 我 给 它 们 [MASK] 上 了 眼 睛 ， 它 们 就 会 [MASK] 走 的 。 [UNK] 大 家 不 相 信 ， 画 家 实lex 推 辞 不 了 ， 只 好 给 其 中 [MASK] 两 条 点 上 了 眼 睛 。 谁 知 他 刚 把 [MASK] 睛 画 完 ， 天 空 中 立 即 乌 云 滚 滚 [MASK] 电 闪 雷 鸣 ， 一 会 儿 就 下 起 了 大 雨 ， 两 [MASK] 被 点 [MASK] 的 巨 龙 破 墙 而 出 [MASK] [MASK] 走 了 ， 而 [MASK] 有 [MASK] 睛 的 龙 仍 然 留 在 墙 壁 上 。 在 大 多 数 人 眼 里 ， 车 站 是 [MASK] [MASK] 来 来 往 往 [MASK] [MASK] 闹 哄 哄 [MASK] 地 方 。 然 而 ， 近 一 段 时 间 来 ， [MASK] 有 越 来 越 多 的 车 [MASK] 在 努 力 地 [MASK] 变 自 己 的 [MASK] 象 和 功 能 ， 朝 着mp 廊 或 者 剧 场 的 方 向 发 展 ， [MASK] 但 使 车 站 变 得 越 来 越 好 [MASK] ， [MASK] 使 人 们 的 观 念 [MASK] 得 越 来 越 新 [MASK] 。 让 我 们 一 同 去 游 览 [MASK] [MASK] 上 几 个 别 具 特 色 的 车 站 吧 。 上 午 来 应 聘 [MASK] 那 [MASK] [MASK] 伙 子 是 学 电 子 技 术 的 茸 成 [MASK] 很 优 [MASK] ， 通 过 面 试 时 和 他 的 [MASK] 话 ， 感 [MASK] 他 的 性 格 也 不 [MASK] ， 我 觉 得 [MASK] 挺 适 合 这 份 [MASK] [MASK] 的 。 生 活 中 [MASK] 会 [MASK] 现 这 [MASK] 的 情 景 ， 坐 在 沙 发 上 想 看 电 视 ， 找 了 半 天 却 找 不 到 电 视 [MASK] 控 器 [MASK] 或 者 找 到 了 电 视 遥 控 器 ， 却 找 不 惜 网 络 电 视 盒 [MASK] 遥 控 器 ； 也 [MASK] [MASK]滲 [MASK] 个 都 找 到 了 ， 却 [MASK] 不 [MASK] [UNK] 的 遥 控 [MASK] 。 这 些 [MASK] 控 [MASK] ， 常 常 被 我 们 用 后 就 随 手 乱 扔 。 有 个 人 也 常 遇 到 [MASK] 样 [MASK] 事 ， 他 最 后 决 [MASK] [MASK] 买 [MASK] 装 遥 控 器 的 盒 子 [MASK] 可 他 发 现 了 一 个 问 题 ， 市 场 上 卖 的 盒 子 [MASK] 专 门 装 纸 巾 的 ， 也 有 专 门 装 [MASK] 控 器 的 ， [MASK] 却 [MASK] 有 把 纸 巾 和 装 [MASK] 控 器 装 在 一 起 的 [MASK] 子 。 这 样 ， 他 家 沙 发 前 的 小 桌 子 上 就 得 摆 [MASK] 个 盒 子 ， 占 [MASK] 了 很 大 一 块 面 [MASK] o 于 是 ， 他 设 计 了 一 [MASK] 可 以 同 时 装 纸 巾 和 遥 控 器 的 盒 [MASK] ， 很 实 用 ， 价 格 也 不 高 ， 一 [MASK] 市 就 很 受 欢 迎 。 [SEP] [PAD] [PAD] [PAD] [PAD] [PAD] [PAD] [PAD] [PAD] [PAD] [PAD] [PAD] [PAD] [PAD] [PAD] [PAD] [PAD] [PAD] [PAD] [PAD] [PAD] [PAD] [PAD] [PAD] [PAD] [PAD] [PAD] [PAD] [PAD] [PAD] [PAD] [PAD] [PAD] [PAD] [PAD] [PAD] [PAD] [PAD] [PAD] [PAD] [PAD] [PAD] [PAD] [PAD] [PAD] [PAD] [PAD] [PAD] [PAD] [PAD] [PAD] [PAD] [PAD] [PAD] [PAD] [PAD] [PAD] [PAD] [PAD] [PAD] [PAD] [PAD] [PAD] [PAD] [PAD] [PAD] [PAD] [PAD] [PAD] [PAD] [PAD] [PAD] [PAD] [PAD] [PAD] [PAD] [PAD] [PAD] [PAD] [PAD] [PAD] [PAD] [PAD] [PAD] [PAD] [PAD] [PAD] [PAD] [PAD] [PAD] [PAD] [PAD] [PAD] [PAD] [PAD] [PAD] [PAD] [PAD] [PAD] [PAD] [PAD] [PAD] [PAD] [PAD] [PAD] [PAD] [PAD] [PAD] [PAD] [PAD] [PAD] [PAD] [PAD] [PAD] [PAD] [PAD] [PAD] [PAD] [PAD] [PAD] [PAD] [PAD] [PAD] [PAD] [PAD] [PAD] [PAD] [PAD] [PAD] [PAD] [PAD] [PAD] [PAD] [PAD] [PAD] [PAD] [PAD] [PAD] [PAD] [PAD] [PAD] [PAD] [PAD] [PAD] [PAD] [PAD] [PAD] [PAD] [PAD] [PAD] [PAD] [PAD] [PAD] [PAD] [PAD] [PAD] [PAD] [PAD] [PAD] [PAD] [PAD] [PAD] [PAD] [PAD] [PAD] [PAD] [PAD] [PAD] [PAD] [PAD] [PAD] [PAD] [PAD] [PAD] [PAD] [PAD] [PAD] [PAD] [PAD] [PAD] [PAD] [PAD] [PAD] [PAD] [PAD] [PAD] [PAD] [PAD] [PAD] [PAD] [PAD] [PAD] [PAD] [PAD] [PAD] [PAD] [PAD] [PAD] [PAD] [PAD] [PAD] [PAD] [PAD] [PAD] [PAD] [PAD] [PAD] [PAD] [PAD] [PAD] [PAD] [PAD] [PAD] [PAD] [PAD] [PAD] [PAD] [PAD] [PAD] [PAD] [PAD] [PAD] [PAD] [PAD] [PAD] [PAD] [PAD] [PAD] [PAD] [PAD] [PAD] [PAD] [PAD] [PAD] [PAD] [PAD] [PAD] [PAD] [PAD] [PAD] [PAD] [PAD] [PAD] [PAD] [PAD] [PAD] [PAD] [PAD] [PAD] [PAD] [PAD] [PAD] [PAD] [PAD] [PAD] [PAD] [PAD] [PAD] [PAD] [PAD] [PAD] [PAD] [PAD] [PAD] [PAD] [PAD] [PAD] [PAD] [PAD] [PAD] [PAD] [PAD] [PAD] [PAD] [PAD] [PAD] [PAD] [PAD] [PAD] [PAD] [PAD] [PAD] [PAD] [PAD] [PAD] [PAD] [PAD] [PAD] [PAD] [PAD] [PAD] [PAD] [PAD] [PAD] [PAD] [PAD] [PAD] [PAD] [PAD] [PAD] [PAD] [PAD] [PAD] [PAD] [PAD] [PAD] [PAD] [PAD] [PAD] [PAD] [PAD] [PAD] [PAD] [PAD] [PAD] [PAD] [PAD] [PAD] [PAD] [PAD] [PAD] [PAD] [PAD] [PAD] [PAD] [PAD] [PAD] [PAD] [PAD] [PAD] [PAD] [PAD] [PAD] [PAD] [PAD] [PAD] [PAD] [PAD] [PAD] [PAD] [PAD] [PAD] [PAD] [PAD] [PAD] [PAD] [PAD] [PAD] [PAD] [PAD] [PAD] [PAD] [PAD] [PAD] [PAD] [PAD] [PAD] [PAD] [PAD] [PAD] [PAD]\n",
            "Preds:  ， ， ， 的 ， ， 的 的 ， ， ， ， ， ， 的 ， ， 的 ， ， ， ， ， 的 ， ， ， ， 一 的 ， 的 ， 的 ， ， ， 的 ， ， 的 ， 的 ， 的 ， ， ， ， ， 。 ， ， 的 ， ， ， ， ， ， ， ， ， ， ， ， ， ， ， ， ， ， ， ， ， 的 ， ， 的 ， ， ， ， ， ， 。 ， ， 的 ， ， 的 ， ， ， 的 ， ， ， ， ， ， ， ， ， 的 ， ， ， ， ， ， ， ， ， 。 ， 的 的 的 ， 的 的 ， ， 。 ， ， 的 的 ， ， 的 ， ， ， 。 ， ， ， ， ， ， 的 ， ， 的 ， 的 ， ， ， 的 ， ， ， ， ， ， 的 的 ， ， ， ， ， 的 ， ， ， ， ， ， 的 。 ， ， ， ， ， ， ， 的 ， ， ， ， 的 ， ， 。 ， ， ， ， 的 的 ， 一 ， ， ， ， 的 ， ， ， ， ， ， ， ， ， ， ， ， ， ， ， ， 。 ， ， ， ， ， 。 ， ， 的 ， ， ， 。 ， ， 。 的 ， ， ， ， ， 的 ， ， ， ， ， ， ， ， ， ， ， 的 ， ， ， ， ， 的 ， ， 的 ， ， ， 的 的 ， ， ， ， 的 ， ， ， ， 的 ， ， 的 ， ， ， ， ， ， 的 的 ， ， ， ， ， ， 的 ， 的 ， 的 ， ， 。 ， 的 ， ， ， ， ， ， ， ， ， ， ， 。 ， ， 。 。 ， ， ， 的 ， 的 的 。 ， 的 ， ， ， ， 的 。 ， 的 的 ， ， ， 。 。 ， ， ， ， ， ， ， 的 ， ， ， 的 的 ， 的 ， 的 ， ， ， ， ， 的 ， ， ， ， 的 ， ， ， ， ， 的 。 ， ， ， ， ， ， ， 的 ， ， ， ， ， ， ， ， 的 ， ， ， ， ， 。 。 ， ， ， ， ， ， 的 ， 的 的 ， ， [UNK] 的 。 ， ， ， ， 的 ， ， ， ， ， ， 的 ， ， 一 ， ， ， 。 ， ， ， ， 的 。 ， ， ， ， ， ， 的 ， ， ， ， ， 。 的 ， ， ， ， ， ， ， ， ， ， 的 ， 的 ， 的 ， ， ， 的 ， ， ， ， 的 ， ， ， ， ， 。 ， ， ， ， 的 。 的 的 ， ， ， ， ， ， 的 的 ， 。 ， ， 。 ， ， ， ， ， 的 的 ， ， ， 的 的 的 ， ， ， ， ， ， ， 的 ， 的 ， ， ， 。 ， ， 的 ， ， ， 的 ， ， [UNK] ， ， ， ， 。 ， ， ， 的 的 ， ， ， 。 ， ， ， ， ， ， ， ， ， ， ， 的 ， ， ， ， ， ， ， ， 的 ， ， 的 。 。 ， ， ， 的 ， ， ， ， ， ， ， 。 ， ， ， 的 ， ， 。 ， ， ， ， ， ， ， ， 的 ， ， ， ， ， ， ， ， ， ， ， ， ， ， ， ， ， ， ， ， ， 的 ， ， ， ， ， 的 的 ， 的 ， ， 。 ， ， ， ， ， ， ， ， ， ， ， 的 ， 的 ， ， 的 ， ， ， ， ， ， ， ， ， ， ， ， 。 ， ， ， ， ， ， ， ， 的 ， ， ， ， 的 ， ， [UNK] 。 ， ， ， ， ， ， ， ， ， ， ， ， 的 ， ， ， ， ， ， ， ， ， ， ， ， ， ， 的 的 ， ， ， 的 ， ， ， 的 ， 的 ， ， ， ， ， ， ， ， ， ， ， ， ， 。 ， ， ， 。 ， ， ， ， 的 ， ， ， 。 的 。 ， ， ， ， ， ， ， 的 ， ， ， ， ， ， ， ， ， 的 ， 的 ， ， 的 ， 的 ， 的 ， ， ， ， ， ， ， ， ， 。 ， ， ， 的 ， ， ， 的 。 ， ， ， 。 ， 的 ， ， 的 。 的 ， ， ， ， ， ， 的 ， ， ， ， ， ， ， ， ， ， 。 ， ， ， ， ， ， ， ， ， ， ， ， ， ， 的 ， ， 的 的 ， ， 的 ， 的 ， 。 ， ， ， ， ， ， ， ， ， 的 一 ， ， ， ， 的 ， ， ， ， ， 的 ， 的 ， ， 的 ， ， ， ， 的 ， ， 。 ， ， ， ， ， ， 。 ， ， 的 ， 的 ， ， ， ， ， 的 ， 的 ， ， 的 ， ， ， ， ， 的 ， ， 。 ， 。 的 ， ， ， ， ， 。 ， 的 ， ， ， ， 的 的 。 ， ， ， ， 的 ， 的 。 ， ， 。 。 ， ， ， ， ， ， ， ， ， ， ， 的 ， ， ， ， ， 的 的 ， ， ， ， ， ， 的 ， 的 。 ， 的 ， ， ， 的 ， ， 一 ， 的 ， ， ， 的 ， ， ， 的 。 ， 。 ， ， ， ， ， ， ， ， ， 的 的 ， ， 了 ， 的 ， ， 的 ， 。 ， 一 ， ， ， 。 ， ， ， 的 ， 的 ， ， 的 ， ， ， ， 。 ， ， 的 ， 的 ， ， ， ， ， ， ， ， ， ， ， ， 的 ， ， ， ， ， ， ， ， 的 的 的 ， ， ， ， ， ， 的 ， ， ， 一 ， ， ， ， ， ， 一 。 。 ， ， ， 的 ， ， ， ， ， ， 的 ， ， ， ， 。 的 ， ， ， ， ， 的 ， ， ， ， ， ， ， ， ， [UNK] ， 的 ， 的 ， ， ， ， ， ， ， ， ， ， 的 ， 的 ， ， ， ， 的 的 [UNK] ， ， ， ， ， ， 。 ， ， ， ， ， 的 ， ， ， ， ， ， ， ， 的 。 ， 。 [UNK] ， ， 的 的 ， ， ， ， 的 ， ， ， ， 的 ， ， ， 的 ， 的 ， ， 一 的 的 ， ， ， ， 。 。 ， ， ， 。 。 的 ， ， ， ， ， ， 的 ， ， ， ， ， ， ， ， 的 ， ， ， 的 ， ， ， ， ， 的 ， ， 。 ， 的 ， 的 ， ， ， ， 的 ， ， ， 一 的 ， ， ， ， ， ， ， ， ， ， 的 的 ， ， ， ， ， ， 的 ， ， ， 的 ， 的 ， ， ， ， ， 。 ， ， ， ， ， ， 。 。 ， ， ， ， ， ， ， ， 的 ， ， ， 的 ， 的 ， ， 。 。 ， ， ， 的 ， ， ， ， 的 ， ， ， ， ， ， ， 一 的 ， ， ， ， ， ， ， ， ， 。 ， ， 的 ， ， ， 。 ， ， ， 。 的 ， ， ， ， ， ， ， ， ， ， ， ， ， ， 的 ， ， ， ， ， 的 ， 的 ， ， ， ， ， ， ， 。 ， ， 的 ， ， ， ， 的 。 ， 的 ， ， 。 ， ， ， ， 的 ， ， ， ， ， ， ， ， ， ， ， ， ， ， ， 。 ， 的 ， ， ， ， ， ， 。 [UNK] ， 的 ， ， ， 一 ， ， ， 的 ， ， 。 ， ， ， ， ， ， 的 ， ， ， ， 的 ， ， ， ， ， 的 ， ， ， ， ， ， ， ， ， ， ， ， ， 的 ， ， 的 ， 的 。 ， 的 ， ， 的 ， 。 ， ， 的 ， ， ， ， ， ， ， ， ， 的 一 ， ， 的 ， 。 ， ， ， ， ， ， ， ， 。 ， 的 ， ， ， 的 ， ， ， ， 的 ， ， ， ， ， ， ， ， ， ， ， 一 ， ， ， ， ， 的 的 ， ， ， ， 。 ， ， ， ， [UNK] ， ， ， ， ， 的 。 ， ， ， ， ， ， 的 ， ， ， ， ， 。 ， ， ， ， ， ， 。 ， ， ， 的 。 [UNK] ， ， ， ， ， ， ， ， ， ， ， ， ， 了 ， ， ， ， ， ， ， ， ， ， ， ， ， ， 。 ， ， ， ， 的 ， ， ， ， ， 的 ， 的 ， ， 的 ， ， ， ， ， ， ， ， ， 一 。 ， 。 ， ， ， 的 ， ， ， ， ， ， ， 的 ， ， ， ， 的 ， ， ， ， 。 ， 的 ， ， ， ， 的 的 的 ， ， 的 ， 的 ， 。 的 ， ， 。 的 ， ， ， ， ， 。 ， ， ， ， ， ， ， ， 的 ， ， ， ， ， 。 ， 的 ， 的 一 ， ， ， ， ， ， ， ， ， 的 ， 的 的 ， 的 ， ， ， ， ， ， ， 的 ， ， ， ， 的 ， ， ， 的 ， ， ， ， ， 的 的 ， ， ， ， ， ， 的 的 ， ， ， ， ， ， 。 ， ， ， 的 ， ， 的 ， 的 ， ， ， ， ， ， ， 。 的 ， ， 一 ， ， ， ， ， ， 。 ， ， ， ， ， ， 的 ， ， ， 。 ， ， ， ， ， ， 的 ， ， ， ， 。 ， ， 的 ， ， 的 ， ， ， ， ， ， ， ， 的 ， ， ， ， ， 的 ， ， ， ， ， 的 的 ， ， 的 ， ， ， ， ， 的 ， ， ， ， ， ， ， ， 的 。 的 ， ， ， ， ， ， ， ， 的 ， ， ， ， ， ， ， 的 ， ， ， ， ， ， 的 ， ， ， ， ， ， ， ， ， ， ， ， ， ， 。 ， ， ， ， ， ， ， ， ， ， ， ， ， ， ， ， ， ， 的 ， 的 ， ， ， ， ， ， 的 的 。 ， 的 ， ， ， ， ， ， 的 ， ， ， 。 ， ， ， ， ， ， ， ， ， ， ， ， ， 的 ， ， ， ， 。 ， ， ， 。 ， ， ， ， ， ， ， ， ， ， ， ， ， ， ， ， ， 的 ， ， 的 ， 的 ， ， ， ， ， ， 一 ， ， ， ， ， ， ， ， 的 ， 。 ， ， ， ， ， ， 的 ， 的 ， ， ， ， ， ， ， 的 ， ， ， ， ， ， ， ， ， 的 ， ， ， ， ， 一 ， 的 ， 的 。 ， ， ， ， ， 的 ， ， 的 ， ， 的 ， 。 ， ， ， ， ， 的 ， ， ， 的 ， 。 一 ， ， ， 的 ， 的 ， ， ， ， 的 的 ， ， ， ， ， ， ， ， ， ， ， ， 的 ， ， ， 的 ， ， ， ， ， 的 ， ， ， 一 ， ， 。 ， 的 ， ， 。 ， ， ， ， ， ， ， ， ， 的 的 ， 的 ， ， ， ， ， ， ， ， ， ， ， ， ， ， ， ， ， ， ， ， 的 ， ， ， ， ， ， ， 的 的 ， ， ， ， ， ， ， ， ， ， ， ， ， ， ， 的 ， ， ， ， ， ， ， ， ， ， ， ， ， 的 的 ， ， ， 的 ， ， ， ， ， ， ， ， ， ， 的 的 ， ， ， ， 的 ， ， ， 的 ， ， ， ， ， ， ， 的 ， 的 ， 的 ， ， ， ， ， ， ， ， 的 ， ， ， ， ， ， ， 的 ， ， ， ， ， ， ， ， 的 ， ， ， 的 ， ， ， ， ， ， ， ， ， ， ， ， ， ， ， ， ， ， ， ， ， ， ， ， ， ， ， ， ， ， ， ， ， ， ， ， ， ， ， 的 ， 的 ， ， ， ， ， ， ， ， ， ， ， 的 ， ， 的 ， ， ， ， ， ， ， ， ， ， ， ， ， ， ， ， ， ， ， ， ， ， ， ， ， 的 ， ， ， ， 的 的 ， ， 的 ， ， ， ， ， ， ， ， ， ， ， ， ， ， ， ， ， 的 ， ， ， ， ， ， 的 的 ， ， ， ， ， ， ， ， ， ， ， ， 的 ， ， ， ， ， 的 ， ， ， ， 的 ， ， ， ， ， ， ， 的 ， ， ， ， ， ， ， ， ， ， ， ， ， ， ， 的 ， ， ， ， ， ， ， ， ， ， ， ， ， ， ， ， ， ， ， ， ， ， ， ， ， 的 的 ， ， ， ， ， ， ， ， 的 ， ， 的 ， ， ， ， ， ， ， ， ， ， ， ， ， ， ，\n",
            "Solutions: [PAD] [PAD] [PAD] [PAD] [PAD] [PAD] [PAD] [PAD] 表示 [PAD] [PAD] [PAD] [PAD] [PAD] 健康 [PAD] 影响 [PAD] 不断 [PAD] [PAD] [PAD] [PAD] [PAD] [PAD] [PAD] [PAD] [PAD] [PAD] [PAD] [PAD] [PAD] [PAD] [PAD] [PAD] [PAD] [PAD] [PAD] [PAD] [PAD] [PAD] [PAD] [PAD] [PAD] [PAD] [PAD] [PAD] [PAD] [PAD] [PAD] 发现 [PAD] [PAD] [PAD] [PAD] [PAD] 可 [PAD] 一定 [PAD] [PAD] [PAD] [PAD] [PAD] [PAD] [PAD] [PAD] [PAD] [PAD] [PAD] 完全 [PAD] [PAD] [PAD] [PAD] 饮食 [PAD] [PAD] 对 [PAD] [PAD] [PAD] [PAD] [PAD] [PAD] [PAD] [PAD] [PAD] [PAD] [PAD] [PAD] [PAD] [PAD] [PAD] [PAD] [PAD] [PAD] [PAD] [PAD] [PAD] [PAD] 会 [PAD] [PAD] [PAD] [PAD] 。 [PAD] [PAD] [PAD] [PAD] [PAD] [PAD] [PAD] [PAD] [PAD] [PAD] [PAD] [PAD] [PAD] [PAD] [PAD] [PAD] [PAD] [PAD] [PAD] [PAD] [PAD] [PAD] [PAD] 但 现在 [PAD] [PAD] 的 [PAD] [PAD] [PAD] [PAD] [PAD] [PAD] [PAD] [PAD] [PAD] 的 [PAD] [PAD] [PAD] [PAD] [PAD] [PAD] [PAD] [PAD] [PAD] [PAD] [PAD] [PAD] [PAD] [PAD] [PAD] 和 [PAD] [PAD] [PAD] [PAD] [PAD] [PAD] [PAD] 知道 [PAD] [PAD] [PAD] [PAD] [PAD] [PAD] [PAD] [PAD] [PAD] [PAD]? 自古以来 [PAD] [PAD] [PAD] [PAD] [PAD] [PAD] [PAD] [PAD] [PAD] [PAD] [PAD] [PAD] [PAD] [PAD] 有 许多 [PAD] [PAD] [PAD] [PAD] 它 [PAD] [PAD] [PAD] [PAD] [PAD] 这个 [PAD] [PAD] [PAD] [PAD] [PAD] [PAD] [PAD] [PAD] [PAD] [PAD] [PAD] [PAD] [PAD] [PAD] [PAD] [PAD] [PAD] 。 [PAD] [PAD] 的 [PAD] [PAD] [PAD] [PAD] [PAD] [PAD] [PAD] [PAD] [PAD] [PAD] [PAD] [PAD] 书 [PAD] [PAD] [PAD] [PAD] [PAD] [PAD] [PAD] [PAD] [PAD] [PAD] [PAD] [PAD] [PAD] [PAD] [PAD] [PAD] [PAD] [PAD] [PAD] [PAD] [PAD] [PAD] [PAD] [PAD] [PAD] [PAD] [PAD] [PAD] [PAD] [PAD] [PAD] [PAD] [PAD] [PAD] [PAD] [PAD] [PAD] [PAD] [PAD] [PAD] [PAD] [PAD] [PAD] [PAD] [PAD] 下来 [PAD] [PAD] [PAD] 看到 [PAD] [PAD] [PAD] [PAD] [PAD] [PAD] 的 [PAD] [PAD] 大 [PAD] [PAD] [PAD] [PAD] [PAD] [PAD] [PAD] [PAD] [PAD] [PAD] [PAD] [PAD] [PAD] [PAD] [PAD] [PAD] [PAD] [PAD] [PAD] [PAD] [PAD] [PAD] [PAD] 东西 都 [PAD] [PAD] [PAD] [PAD] 的 [PAD] 其实 [PAD] [PAD] [PAD] [PAD] [PAD] [PAD] [PAD] [PAD] [PAD] [PAD] [PAD] [PAD] [PAD] [PAD] [PAD] [PAD] 的 [PAD] [PAD] [PAD] [PAD] [PAD] [PAD] [PAD] [PAD] 价值 [PAD] [PAD] [PAD] [PAD] 没有 [PAD] [PAD] [PAD] [PAD] [PAD] [PAD] [PAD] [PAD] [PAD] [PAD] 时间 [PAD] [PAD] [PAD] [PAD] [PAD] [PAD] [PAD] [PAD] [PAD] [PAD] 我们 [PAD] [PAD] [PAD] [PAD] [PAD] [PAD] [PAD] [PAD] [PAD] [PAD] [PAD] [PAD] [PAD] [PAD] [PAD] [PAD] [PAD] [PAD] [PAD] [PAD] [PAD] [PAD] [PAD] [PAD] [PAD] [PAD] [PAD] [PAD] [PAD] [PAD] [PAD] [PAD] [PAD] [PAD] [PAD] [PAD] 当然 [PAD] [PAD] [PAD] [PAD] [PAD] 的 [PAD] [PAD] [PAD] [PAD] [PAD] [PAD] 发展 [PAD] [PAD] [PAD] [PAD] [PAD] [PAD] [PAD] [PAD] [PAD] [PAD] [PAD] [PAD] [PAD] [PAD] [PAD] [PAD] [PAD] [PAD] [PAD] 现在 [PAD] [PAD] [PAD] 它们 都 [PAD] [PAD] [PAD] [PAD] [PAD] [PAD] [PAD] [PAD] [PAD] [PAD] [PAD] [PAD] [PAD] [PAD] [PAD] [PAD] [PAD] [PAD] [PAD] [PAD] [PAD] [PAD] [PAD] [PAD] 135 年 [PAD] [PAD] [PAD] [PAD] [PAD] [PAD] [PAD] [PAD] [PAD] [PAD] ， [PAD] [PAD] [PAD] 最 [PAD] [PAD] 温 [PAD] [PAD] [PAD] [PAD] [PAD] [PAD] [PAD] [PAD] [PAD] [PAD] [PAD] [PAD] [PAD] [PAD] [PAD] [PAD] [PAD] [PAD] [PAD] [PAD] [PAD] 天 气 [PAD] [PAD] [PAD] [PAD] [PAD] [PAD] [PAD] [PAD] [PAD] [PAD] [PAD] [PAD] [PAD] [PAD] [PAD] 中 [PAD] [PAD] 象 [PAD] 发 [PAD] [PAD] [PAD] [PAD] [PAD] [PAD] [PAD] [PAD] [PAD] [PAD] [PAD] [PAD] 担 [PAD] [PAD] [PAD] [PAD] 天 [PAD] [PAD] 温 度 [PAD] [PAD] 会 [PAD] [PAD] [PAD] [PAD] [PAD] [PAD] [PAD] 市 [PAD] [PAD] [PAD] 首 席 服 务 [PAD] [PAD] [PAD] 萍 [PAD] [PAD] [PAD] [PAD] 日 [PAD] 高 温 [PAD] [PAD] 可 [PAD] [PAD] [PAD] [PAD] [PAD] [PAD] 预 [PAD] [PAD] [PAD] [PAD] [PAD] [PAD] 天 [PAD] [PAD] [PAD] [PAD] [PAD] [PAD] [PAD] 时 33 分 [PAD] [PAD] 区 实 [PAD] [PAD] 度 [PAD] [PAD] [PAD] [PAD] [PAD] ， 比 [PAD] 天 [PAD] [PAD] [PAD] [PAD] [PAD] [PAD] [PAD] [PAD] [PAD] [PAD] [PAD] ， 明 [PAD] [PAD] [PAD] [PAD] [PAD] [PAD] [PAD] [PAD] [PAD] 度 [PAD] [PAD] [PAD] [PAD] 天 [PAD] [PAD] [PAD] 热 [PAD] [PAD] [PAD] [PAD] [PAD] 减 [PAD] [PAD] [PAD] [PAD] 可 能 [PAD] [PAD] [PAD] [PAD] [PAD] [PAD] [PAD] [PAD] [PAD] [PAD] [PAD] [PAD] [PAD] [PAD] [PAD] [PAD] [PAD] [PAD] [PAD] [PAD] [PAD] [PAD] [PAD] [PAD] [PAD] [PAD] [PAD] [PAD] [PAD] 也 [PAD] [PAD] 扩 大 [PAD] [PAD] [PAD] [PAD] [PAD] [PAD] [PAD] [PAD] [PAD] [PAD] [PAD] [PAD] [PAD] [PAD] [PAD] [PAD] [PAD] [PAD] [PAD] [PAD] [PAD] [PAD] [PAD] [PAD] [PAD] [PAD] [PAD] [PAD] [PAD] [PAD] [PAD] [PAD] [PAD] [PAD] [PAD] [PAD] [PAD] [PAD] [PAD] [PAD] [PAD] [PAD] [PAD] 候 [PAD] [PAD] [PAD] 很 [PAD] [PAD] [PAD] [PAD] [PAD] [PAD] 数 [PAD] [PAD] [PAD] [PAD] [PAD] [PAD] [PAD] [PAD] [PAD] [PAD] [PAD] 持 [PAD] [PAD] [PAD] [PAD] [PAD] [PAD] [PAD] [PAD] [PAD] [PAD] [PAD] [PAD] [PAD] [PAD] [PAD] [PAD] [PAD] 压 [PAD] [PAD] 了 [PAD] [PAD] [PAD] 部 [PAD] [PAD] [PAD] [PAD] [PAD] [PAD] [PAD] [PAD] [PAD] [PAD] [PAD] 台 风 [PAD] 常 [PAD] [PAD] [PAD] [PAD] [PAD] [PAD] [PAD] [PAD] [PAD] [PAD] [PAD] [PAD] [PAD] [PAD] [PAD] [PAD] [PAD] [PAD] [PAD] [PAD] [PAD] 种 象 [PAD] [PAD] [PAD] [PAD] [PAD] [PAD] 会 发 [PAD] [PAD] [PAD] [PAD] [PAD] [PAD] [PAD] [PAD] 。 即 [PAD] [PAD] [PAD] [PAD] [PAD] [PAD] [PAD] [PAD] [PAD] [PAD] [PAD] [PAD] [PAD] [PAD] [PAD] [PAD] [PAD] [PAD] [PAD] 来 [PAD] [PAD] [PAD] [PAD] [PAD] 受 [PAD] [PAD] [PAD] 关 地 [PAD] [PAD] [PAD] [PAD] [PAD] [PAD] [PAD] [PAD] [PAD] [PAD] [PAD] [PAD] 地 [PAD] [PAD] [PAD] [PAD] [PAD] [PAD] [PAD] [PAD] [PAD] [PAD] [PAD] [PAD] [PAD] [PAD] [PAD] 情 [PAD] [PAD] [PAD] [PAD] [PAD] [PAD] [PAD] 爸 [PAD] 欢 京 [PAD] [PAD] [PAD] 30 [PAD] [PAD] [PAD] [PAD] [PAD] [PAD] [PAD] [PAD] [PAD] [PAD] [PAD] [PAD] [PAD] 时 [PAD] [PAD] [PAD] [PAD] [PAD] [PAD] 现 [PAD] [PAD] [PAD] [PAD] [PAD] 要 [PAD] [PAD] [PAD] [PAD] 电 [PAD] [PAD] [PAD] 京 [PAD] [PAD] [PAD] [PAD] [PAD] [PAD] 师 [PAD] [PAD] [PAD] [PAD] [PAD] [PAD] [PAD] [PAD] [PAD] [PAD] 生 [PAD] [PAD] [PAD] [PAD] [PAD] [PAD] [PAD] [PAD] [PAD] [PAD] [PAD] [PAD] [PAD] [PAD] [PAD] [PAD] 我 [PAD] [PAD] [PAD] [PAD] [PAD] [PAD] [PAD] [PAD] [PAD] [PAD] [PAD] [PAD] [PAD] 一 [PAD] [PAD] [PAD] [PAD] [PAD] [PAD] [PAD] [PAD] [PAD] [PAD] 到 [PAD] [PAD] [PAD] [PAD] [PAD] [PAD] [PAD] [PAD] [PAD] ， [PAD] [PAD] [PAD] [PAD] [PAD] [PAD] 家 [PAD] [PAD] 馆 时 [PAD] [PAD] [PAD] [PAD] [PAD] [PAD] 停 [PAD] [PAD] 店 [PAD] [PAD] [PAD] [PAD] [PAD] [PAD] [PAD] [PAD] [PAD] [PAD] [PAD] [PAD] [PAD] [PAD] 很 [PAD] 怪 。 [PAD] [PAD] [PAD] [PAD] [PAD] [PAD] [PAD] [PAD] [PAD] [PAD] [PAD] [PAD] 下 [PAD] [PAD] [PAD] [PAD] [PAD] [PAD] [PAD] [PAD] [PAD] [PAD] [PAD] [PAD] [PAD] [PAD] [PAD] [PAD] [PAD] [PAD] [PAD] [PAD] [PAD] [PAD] [PAD] [PAD] [PAD] 进 来 [PAD] [PAD] [PAD] [PAD] 对 [PAD] [PAD] ， [PAD] [PAD] [PAD] [PAD] [PAD] 看 [PAD] [PAD] [PAD] [PAD] [PAD] [PAD] [PAD] [PAD] [PAD] [PAD] [PAD] [PAD] [PAD] [PAD] [PAD] [PAD] [PAD] 得 [PAD] [PAD] [PAD] [PAD] [PAD] [PAD] [PAD] 在 [PAD] [PAD] 岁 [PAD] [PAD] [PAD] [PAD] [PAD] 时 [PAD] [PAD] [PAD] [PAD] [PAD] [PAD] [PAD] [PAD] [PAD] [PAD] [PAD] [PAD] [PAD] [PAD] [PAD] [PAD] [PAD] [PAD] [PAD] [PAD] [PAD] [PAD] [PAD] [PAD] [PAD] [PAD] [PAD] [PAD] [PAD] [PAD] [PAD] [PAD] [PAD] [PAD] 生 [PAD] [PAD] [PAD] [PAD] [PAD] [PAD] [PAD] [PAD] [PAD] [PAD] [PAD] [PAD] [PAD] 了 [PAD] [PAD] [PAD] [PAD] [PAD] [PAD] [PAD] [PAD] 觉 [PAD] [PAD] [PAD] [PAD] [PAD] [PAD] [PAD] [PAD] [PAD] 的 [PAD] [PAD] [PAD] [PAD] [PAD] [PAD] [PAD] [PAD] 置 [PAD] [PAD] [PAD] 样 子 [PAD] [PAD] 饭 [PAD] 房 [PAD] [PAD] 厨 房 [PAD] [PAD] [PAD] [PAD] [PAD] [PAD] [PAD] [PAD] [PAD] [PAD] [PAD] [PAD] [PAD] [PAD] [PAD] [PAD] [PAD] [PAD] 很 [PAD] [PAD] [PAD] [PAD] [PAD] 的 欢 [PAD] [PAD] [PAD] [PAD] [PAD] [PAD] [PAD] [PAD] [PAD] [PAD] [PAD] [PAD] [PAD] 看 我 [PAD] [PAD] [PAD] [PAD] [PAD] [PAD] [PAD] [PAD] [PAD] [PAD] 两 [PAD] ， 但 [PAD] 今 [PAD] [PAD] [PAD] [PAD] [PAD] [PAD] [PAD] 床 了 [PAD] [PAD] [PAD] 牙 [PAD] [PAD] 者 [PAD] [PAD] 去 [PAD] [PAD] [PAD] [PAD] [PAD] 牙 [PAD] [PAD] [PAD] 说 [PAD] [PAD] [PAD] [PAD] [PAD] [PAD] [PAD] [PAD] [PAD] 就 [PAD] 了 [PAD] [PAD] [PAD] [PAD] [PAD] [PAD] [PAD] [PAD] 都 [PAD] [PAD] [PAD] [PAD] [PAD] [PAD] [PAD] ！ [PAD] [PAD] 生 [PAD] [PAD] [PAD] [PAD] [PAD] 回 [PAD] ： [PAD] [PAD] 果 [PAD] 愿 [PAD] [PAD] [PAD] [PAD] [PAD] [PAD] [PAD] 地 给 您 [PAD] [PAD] [PAD] [PAD] [PAD] 古 [PAD] [PAD] [PAD] [PAD] 著 [PAD] [PAD] [PAD] [PAD] [PAD] [PAD] 一 [PAD] [PAD] [PAD] [PAD] [PAD] [PAD] [PAD] [PAD] [PAD] [PAD] [PAD] [PAD] [PAD] [PAD] [PAD] [PAD] [PAD] [PAD] [PAD] [PAD] 。 他 画 [PAD] [PAD] 条 [PAD] [PAD] [PAD] [PAD] 条 [PAD] [PAD] [PAD] [PAD] [PAD] [PAD] [PAD] 样 ， [PAD] [PAD] [PAD] [PAD] [PAD] [PAD] [PAD] [PAD] [PAD] [PAD] [PAD] [PAD] [PAD] [PAD] [PAD] [PAD] [PAD] [PAD] [PAD] [PAD] [PAD] [PAD] [PAD] [PAD] [PAD] [PAD] [PAD] [PAD] [PAD] [PAD] [PAD] [PAD] [PAD] [PAD] [PAD] [PAD] 的 [PAD] [PAD] [PAD] [PAD] [PAD] [PAD] 都 缺 [PAD] 眼 [PAD] [PAD] 于 是 [PAD] [PAD] [PAD] [PAD] 要 [PAD] [PAD] 把 [PAD] [PAD] [PAD] [PAD] [PAD] [PAD] [PAD] [PAD] [PAD] [PAD] ： [PAD] 不 [PAD] [PAD] [PAD] [PAD] 把 [PAD] [PAD] 加 [PAD] [PAD] [PAD] [PAD] [PAD] [PAD] [PAD] [PAD] [PAD] 画 [PAD] [PAD] [PAD] [PAD] [PAD] [PAD] [PAD] [PAD] [PAD] 飞 [PAD] [PAD] [PAD] [PAD] [PAD] [PAD] [PAD] [PAD] [PAD] ， [PAD] [PAD] [PAD] 在 [PAD] [PAD] [PAD] [PAD] [PAD] [PAD] [PAD] [PAD] [PAD] [PAD] 的 [PAD] [PAD] [PAD] [PAD] [PAD] [PAD] [PAD] [PAD] [PAD] [PAD] [PAD] [PAD] [PAD] 眼 [PAD] [PAD] [PAD] [PAD] [PAD] [PAD] [PAD] [PAD] [PAD] [PAD] [PAD] [PAD] [PAD] ， [PAD] [PAD] [PAD] [PAD] [PAD] [PAD] [PAD] [PAD] [PAD] [PAD] [PAD] [PAD] [PAD] [PAD] [PAD] [PAD] 条 [PAD] [PAD] 睛 [PAD] [PAD] [PAD] [PAD] [PAD] [PAD] [PAD] ， 飞 [PAD] [PAD] [PAD] 而 没 [PAD] 点 [PAD] [PAD] [PAD] [PAD] [PAD] [PAD] [PAD] [PAD] [PAD] [PAD] [PAD] [PAD] [PAD] [PAD] [PAD] [PAD] [PAD] [PAD] [PAD] [PAD] [PAD] [PAD] 一 个 [PAD] [PAD] [PAD] [PAD] 、 闹 [PAD] [PAD] [PAD] 的 [PAD] [PAD] [PAD] [PAD] [PAD] [PAD] [PAD] [PAD] [PAD] [PAD] [PAD] [PAD] [PAD] 却 [PAD] [PAD] [PAD] [PAD] [PAD] [PAD] [PAD] 站 [PAD] [PAD] [PAD] 地 改 [PAD] [PAD] [PAD] [PAD] 形 [PAD] [PAD] [PAD] [PAD] [PAD] [PAD] [PAD] 画 [PAD] [PAD] [PAD] [PAD] [PAD] [PAD] [PAD] [PAD] [PAD] [PAD] [PAD] 不 [PAD] [PAD] [PAD] [PAD] [PAD] [PAD] [PAD] [PAD] [PAD] [PAD] 看 [PAD] 也 [PAD] [PAD] [PAD] [PAD] [PAD] 念 变 [PAD] [PAD] [PAD] [PAD] [PAD] 鲜 [PAD] [PAD] [PAD] [PAD] [PAD] [PAD] [PAD] [PAD] [PAD] 世 界 [PAD] [PAD] [PAD] [PAD] [PAD] [PAD] [PAD] [PAD] [PAD] [PAD] [PAD] [PAD] [PAD] [PAD] [PAD] [PAD] [PAD] 的 [PAD] 个 小 [PAD] [PAD] [PAD] [PAD] [PAD] [PAD] [PAD] [PAD] [PAD] ， [PAD] 绩 [PAD] [PAD] 秀 [PAD] [PAD] [PAD] [PAD] [PAD] [PAD] [PAD] [PAD] [PAD] 对 [PAD] [PAD] [PAD] 觉 [PAD] [PAD] [PAD] [PAD] [PAD] [PAD] 错 [PAD] [PAD] [PAD] [PAD] 他 [PAD] [PAD] [PAD] [PAD] [PAD] 工 作 [PAD] [PAD] [PAD] [PAD] [PAD] 常 [PAD] 出 [PAD] [PAD] 样 [PAD] [PAD] [PAD] [PAD] [PAD] [PAD] [PAD] [PAD] [PAD] [PAD] [PAD] [PAD] [PAD] [PAD] [PAD] [PAD] [PAD] [PAD] [PAD] [PAD] [PAD] [PAD] [PAD] [PAD] 遥 [PAD] [PAD] ； 或 [PAD] [PAD] [PAD] [PAD] [PAD] [PAD] [PAD] [PAD] [PAD] [PAD] [PAD] [PAD] [PAD] 到 [PAD] [PAD] [PAD] [PAD] 盒 的 遥 [PAD] [PAD] [PAD] [PAD] 可 能 这 两 [PAD] [PAD] [PAD] [PAD] [PAD] [PAD] [PAD] 找 [PAD] 到 [PAD] [PAD] [PAD] [PAD] 器 [PAD] [PAD] [PAD] 遥 [PAD] 器 [PAD] [PAD] [PAD] [PAD] [PAD] [PAD] 用 [PAD] [PAD] [PAD] [PAD] [PAD] [PAD] [PAD] [PAD] [PAD] [PAD] [PAD] [PAD] [PAD] [PAD] 这 [PAD] 的 [PAD] [PAD] [PAD] [PAD] [PAD] [PAD] 定 去 [PAD] 个 [PAD] [PAD] [PAD] [PAD] [PAD] [PAD] [PAD] 。 [PAD] [PAD] [PAD] [PAD] [PAD] [PAD] [PAD] [PAD] [PAD] [PAD] [PAD] [PAD] [PAD] [PAD] [PAD] [PAD] [PAD] 有 [PAD] [PAD] [PAD] [PAD] [PAD] [PAD] [PAD] [PAD] [PAD] [PAD] [PAD] [PAD] 遥 [PAD] [PAD] 的 [PAD] 但 [PAD] 没 [PAD] [PAD] [PAD] [PAD] [PAD] [PAD] 遥 [PAD] [PAD] [PAD] [PAD] [PAD] [PAD] [PAD] 盒 [PAD] [PAD] [PAD] [PAD] [PAD] [PAD] [PAD] [PAD] [PAD] [PAD] [PAD] [PAD] [PAD] [PAD] [PAD] [PAD] [PAD] [PAD] 两 [PAD] [PAD] [PAD] [PAD] [PAD] 去 [PAD] [PAD] [PAD] [PAD] [PAD] [PAD] 积 。 [PAD] [PAD] [PAD] [PAD] [PAD] [PAD] [PAD] [PAD] 种 [PAD] [PAD] [PAD] [PAD] [PAD] [PAD] [PAD] [PAD] [PAD] [PAD] [PAD] [PAD] [PAD] 子 [PAD] [PAD] [PAD] [PAD] [PAD] [PAD] [PAD] [PAD] [PAD] [PAD] [PAD] [PAD] 上 [PAD] [PAD] [PAD] [PAD] [PAD] [PAD] [PAD] [PAD] [PAD] [PAD] [PAD] [PAD] [PAD] [PAD] [PAD] [PAD] [PAD] [PAD] [PAD] [PAD] [PAD] [PAD] [PAD] [PAD] [PAD] [PAD] [PAD] [PAD] [PAD] [PAD] [PAD] [PAD] [PAD] [PAD] [PAD] [PAD] [PAD] [PAD] [PAD] [PAD] [PAD] [PAD] [PAD] [PAD] [PAD] [PAD] [PAD] [PAD] [PAD] [PAD] [PAD] [PAD] [PAD] [PAD] [PAD] [PAD] [PAD] [PAD] [PAD] [PAD] [PAD] [PAD] [PAD] [PAD] [PAD] [PAD] [PAD] [PAD] [PAD] [PAD] [PAD] [PAD] [PAD] [PAD] [PAD] [PAD] [PAD] [PAD] [PAD] [PAD] [PAD] [PAD] [PAD] [PAD] [PAD] [PAD] [PAD] [PAD] [PAD] [PAD] [PAD] [PAD] [PAD] [PAD] [PAD] [PAD] [PAD] [PAD] [PAD] [PAD] [PAD] [PAD] [PAD] [PAD] [PAD] [PAD] [PAD] [PAD] [PAD] [PAD] [PAD] [PAD] [PAD] [PAD] [PAD] [PAD] [PAD] [PAD] [PAD] [PAD] [PAD] [PAD] [PAD] [PAD] [PAD] [PAD] [PAD] [PAD] [PAD] [PAD] [PAD] [PAD] [PAD] [PAD] [PAD] [PAD] [PAD] [PAD] [PAD] [PAD] [PAD] [PAD] [PAD] [PAD] [PAD] [PAD] [PAD] [PAD] [PAD] [PAD] [PAD] [PAD] [PAD] [PAD] [PAD] [PAD] [PAD] [PAD] [PAD] [PAD] [PAD] [PAD] [PAD] [PAD] [PAD] [PAD] [PAD] [PAD] [PAD] [PAD] [PAD] [PAD] [PAD] [PAD] [PAD] [PAD] [PAD] [PAD] [PAD] [PAD] [PAD] [PAD] [PAD] [PAD] [PAD] [PAD] [PAD] [PAD] [PAD] [PAD] [PAD] [PAD] [PAD] [PAD] [PAD] [PAD] [PAD] [PAD] [PAD] [PAD] [PAD] [PAD] [PAD] [PAD] [PAD] [PAD] [PAD] [PAD] [PAD] [PAD] [PAD] [PAD] [PAD] [PAD] [PAD] [PAD] [PAD] [PAD] [PAD] [PAD] [PAD] [PAD] [PAD] [PAD] [PAD] [PAD] [PAD] [PAD] [PAD] [PAD] [PAD] [PAD] [PAD] [PAD] [PAD] [PAD] [PAD] [PAD] [PAD] [PAD] [PAD] [PAD] [PAD] [PAD] [PAD] [PAD] [PAD] [PAD] [PAD] [PAD] [PAD] [PAD] [PAD] [PAD] [PAD] [PAD] [PAD] [PAD] [PAD] [PAD] [PAD] [PAD] [PAD] [PAD] [PAD] [PAD] [PAD] [PAD] [PAD] [PAD] [PAD] [PAD] [PAD] [PAD] [PAD] [PAD] [PAD] [PAD] [PAD] [PAD] [PAD] [PAD] [PAD] [PAD] [PAD] [PAD] [PAD] [PAD] [PAD] [PAD] [PAD] [PAD] [PAD] [PAD] [PAD] [PAD] [PAD] [PAD] [PAD] [PAD] [PAD] [PAD] [PAD] [PAD] [PAD] [PAD] [PAD] [PAD] [PAD] [PAD] [PAD] [PAD] [PAD] [PAD] [PAD] [PAD] [PAD] [PAD] [PAD] [PAD] [PAD] [PAD] [PAD] [PAD] [PAD] [PAD] [PAD] [PAD] [PAD] [PAD] [PAD] [PAD] [PAD] [PAD] [PAD] [PAD] [PAD] [PAD] [PAD] [PAD] [PAD] [PAD] [PAD] [PAD] [PAD] [PAD] [PAD] [PAD] [PAD] [PAD] [PAD] [PAD] [PAD] [PAD] [PAD] [PAD] [PAD] [PAD] [PAD] [PAD] [PAD] [PAD] [PAD] [PAD] [PAD] [PAD] [PAD] [PAD]\n"
          ],
          "name": "stdout"
        }
      ]
    },
    {
      "cell_type": "code",
      "metadata": {
        "id": "CcCOwFNRB36z"
      },
      "source": [
        ""
      ],
      "execution_count": null,
      "outputs": []
    }
  ]
}